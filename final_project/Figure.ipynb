{
 "cells": [
  {
   "cell_type": "markdown",
   "id": "274d08e8",
   "metadata": {},
   "source": [
    "# 피규어 출력"
   ]
  },
  {
   "cell_type": "code",
   "execution_count": 2,
   "id": "63d44ea3",
   "metadata": {},
   "outputs": [],
   "source": [
    "import matplotlib.pyplot as plt\n",
    "import numpy as np\n",
    "import pandas as pd\n",
    "import os\n",
    "from glob import glob\n",
    "import sys"
   ]
  },
  {
   "cell_type": "code",
   "execution_count": 3,
   "id": "b9bd21fa",
   "metadata": {},
   "outputs": [],
   "source": [
    "#시각화 패키지들\n",
    "import seaborn as sns\n",
    "import matplotlib.pyplot as plt\n",
    "%matplotlib inline\n",
    "from matplotlib import font_manager, rc\n",
    "font_path = \"C:/Windows/Fonts/NGULIM.TTF\"\n",
    "font = font_manager.FontProperties(fname=font_path).get_name()\n",
    "rc('font', family=font)\n",
    "from statsmodels.graphics.mosaicplot import mosaic\n",
    "\n",
    "plt.style.use(\"ggplot\")\n"
   ]
  },
  {
   "cell_type": "code",
   "execution_count": 4,
   "id": "0cf7fd08",
   "metadata": {},
   "outputs": [],
   "source": [
    "#분석 관련\n",
    "from scipy.stats import chi2_contingency\n",
    "from scipy.stats import kstest\n",
    "from statsmodels.formula.api import ols\n",
    "from factor_analyzer import FactorAnalyzer"
   ]
  },
  {
   "cell_type": "code",
   "execution_count": 6,
   "id": "abf446e8",
   "metadata": {},
   "outputs": [],
   "source": [
    "#기초 전처리 데이터 출력\n",
    "x_train = pd.read_excel(\"../data/cip_preprocess.xlsx\")\n",
    "y_train = pd.read_excel(\"../data/cip_preprocess_y.xlsx\")\n"
   ]
  },
  {
   "cell_type": "code",
   "execution_count": 23,
   "id": "4acfcd86",
   "metadata": {},
   "outputs": [],
   "source": [
    "sensibility = x_train[y_train['CIP']==0] # \n",
    "tolerance = x_train[y_train['CIP']==1] #"
   ]
  },
  {
   "cell_type": "code",
   "execution_count": 26,
   "id": "f4d37da5",
   "metadata": {},
   "outputs": [
    {
     "data": {
      "text/plain": [
       "0      65\n",
       "5      81\n",
       "7      84\n",
       "10     64\n",
       "11     50\n",
       "       ..\n",
       "366    78\n",
       "369    69\n",
       "370    62\n",
       "371    62\n",
       "372    62\n",
       "Name: iDBP, Length: 188, dtype: int64"
      ]
     },
     "execution_count": 26,
     "metadata": {},
     "output_type": "execute_result"
    }
   ],
   "source": [
    "tolerance['iDBP']"
   ]
  },
  {
   "cell_type": "code",
   "execution_count": 27,
   "id": "e08bf240",
   "metadata": {},
   "outputs": [
    {
     "data": {
      "text/plain": [
       "1      59\n",
       "2      95\n",
       "3      77\n",
       "4      79\n",
       "6      40\n",
       "       ..\n",
       "360    47\n",
       "362    56\n",
       "367    64\n",
       "368    82\n",
       "373    63\n",
       "Name: iDBP, Length: 186, dtype: int64"
      ]
     },
     "execution_count": 27,
     "metadata": {},
     "output_type": "execute_result"
    }
   ],
   "source": [
    "sensibility['iDBP']"
   ]
  },
  {
   "cell_type": "code",
   "execution_count": 31,
   "id": "088259a0",
   "metadata": {},
   "outputs": [
    {
     "data": {
      "text/plain": [
       "KstestResult(statistic=0.15122397620681766, pvalue=0.023705872959253194)"
      ]
     },
     "execution_count": 31,
     "metadata": {},
     "output_type": "execute_result"
    }
   ],
   "source": [
    "ks_res=kstest(tolerance['iDBP'], sensibility['iDBP'])\n",
    "ks_res"
   ]
  },
  {
   "cell_type": "code",
   "execution_count": 135,
   "id": "9074af85",
   "metadata": {},
   "outputs": [
    {
     "name": "stdout",
     "output_type": "stream",
     "text": [
      "iminus 지점:  74 0.1512239762068176\n"
     ]
    },
    {
     "data": {
      "image/png": "[encoded data removed]",
      "text/plain": [
       "<Figure size 432x288 with 1 Axes>"
      ]
     },
     "metadata": {},
     "output_type": "display_data"
    }
   ],
   "source": [
    "\n",
    "# fit an empirical cdf to a bimodal dataset\n",
    "from numpy import hstack\n",
    "from statsmodels.distributions.empirical_distribution import ECDF\n",
    "\n",
    "# fit a cdf\n",
    "ecdf = ECDF(tolerance['iDBP'])\n",
    "ecdf2 = ECDF(sensibility['iDBP'])\n",
    "# plot the cdf\n",
    "gaps=np.abs(ecdf2(ecdf.x[1:]) - ecdf(ecdf.x[1:]))\n",
    "iminus= np.argmax(gaps)\n",
    "\n",
    "print(\"iminus 지점: \",iminus,gaps[iminus])\n",
    "\n",
    "# plot the cdf\n",
    "plt.plot(ecdf.x, ecdf.y,label='resistant')\n",
    "plt.plot(ecdf2.x, ecdf2.y,label='susceptible')\n",
    "plt.vlines([ecdf.x[1:][iminus]], ecdf2(ecdf.x[1:][iminus]),ecdf(ecdf.x[1:][iminus]), color='k', linestyle='solid', lw=2)\n",
    "plt.text(ecdf.x[1:][iminus]+3,(ecdf2(ecdf.x[1:][iminus])+ecdf(ecdf.x[1:][iminus]))/2 , \n",
    "         'D',\n",
    "         fontdict={'family': 'Arial',\n",
    "          'color':  'black',\n",
    "          'style': 'italic',\n",
    "          'size': 20}\n",
    "        )\n",
    "plt.legend()\n",
    "plt.savefig('./iDBP.png')\n",
    "plt.show()"
   ]
  },
  {
   "cell_type": "code",
   "execution_count": 42,
   "id": "3d8b429d",
   "metadata": {},
   "outputs": [
    {
     "data": {
      "text/plain": [
       "1      7.455\n",
       "2      7.433\n",
       "3      7.541\n",
       "4      7.526\n",
       "6      7.430\n",
       "       ...  \n",
       "360    7.343\n",
       "362    7.472\n",
       "367    7.445\n",
       "368    7.445\n",
       "373    7.411\n",
       "Name: pH, Length: 186, dtype: float64"
      ]
     },
     "execution_count": 42,
     "metadata": {},
     "output_type": "execute_result"
    }
   ],
   "source": [
    "sensibility['pH']"
   ]
  },
  {
   "cell_type": "code",
   "execution_count": 44,
   "id": "17b290b2",
   "metadata": {},
   "outputs": [
    {
     "data": {
      "text/plain": [
       "KstestResult(statistic=0.1206817661862274, pvalue=0.1168686835528796)"
      ]
     },
     "execution_count": 44,
     "metadata": {},
     "output_type": "execute_result"
    }
   ],
   "source": [
    "ks_res=kstest(tolerance['pO2'], sensibility['pO2'])\n",
    "ks_res"
   ]
  },
  {
   "cell_type": "code",
   "execution_count": 45,
   "id": "8eed43f6",
   "metadata": {},
   "outputs": [
    {
     "data": {
      "text/plain": [
       "KstestResult(statistic=0.09408602150537634, pvalue=0.3467087914829531)"
      ]
     },
     "execution_count": 45,
     "metadata": {},
     "output_type": "execute_result"
    }
   ],
   "source": [
    "ks_res=kstest(tolerance['pH'], sensibility['pH'])\n",
    "ks_res"
   ]
  },
  {
   "cell_type": "code",
   "execution_count": 134,
   "id": "d23baafc",
   "metadata": {},
   "outputs": [
    {
     "name": "stdout",
     "output_type": "stream",
     "text": [
      "iminus 지점:  51 0.12068176618622736\n"
     ]
    },
    {
     "data": {
      "image/png": "[encoded data removed]",
      "text/plain": [
       "<Figure size 432x288 with 1 Axes>"
      ]
     },
     "metadata": {},
     "output_type": "display_data"
    }
   ],
   "source": [
    "\n",
    "# fit an empirical cdf to a bimodal dataset\n",
    "from numpy import hstack\n",
    "from statsmodels.distributions.empirical_distribution import ECDF\n",
    "# generate a sample\n",
    "sample = hstack((tolerance['pO2'], sensibility['pO2']))\n",
    "# fit a cdf\n",
    "ecdf = ECDF(tolerance['pO2'])\n",
    "ecdf2 = ECDF(sensibility['pO2'])\n",
    "\n",
    "gaps=np.abs(ecdf2(ecdf.x[1:]) - ecdf(ecdf.x[1:]))\n",
    "iminus= np.argmax(gaps)\n",
    "\n",
    "print(\"iminus 지점: \",iminus,gaps[iminus])\n",
    "\n",
    "# plot the cdf\n",
    "plt.plot(ecdf.x, ecdf.y,label='resistant')\n",
    "plt.plot(ecdf2.x, ecdf2.y,label='susceptible')\n",
    "plt.vlines([ecdf.x[1:][iminus]], ecdf2(ecdf.x[1:][iminus]),ecdf(ecdf.x[1:][iminus]), color='k', linestyle='solid', lw=2)\n",
    "plt.text(ecdf.x[1:][iminus]+3,(ecdf2(ecdf.x[1:][iminus])+ecdf(ecdf.x[1:][iminus]))/2 , \n",
    "         'D',\n",
    "         fontdict={'family': 'Arial',\n",
    "          'color':  'black',\n",
    "          'style': 'italic',\n",
    "          'size': 20}\n",
    "        )\n",
    "plt.legend()\n",
    "plt.savefig('./pO2.png')\n",
    "plt.show()"
   ]
  },
  {
   "cell_type": "code",
   "execution_count": 118,
   "id": "e8be51aa",
   "metadata": {},
   "outputs": [
    {
     "data": {
      "text/plain": [
       "0.07978723404255318"
      ]
     },
     "execution_count": 118,
     "metadata": {},
     "output_type": "execute_result"
    }
   ],
   "source": [
    "ecdf(iminus)"
   ]
  },
  {
   "cell_type": "code",
   "execution_count": 112,
   "id": "7d0fe0c4",
   "metadata": {},
   "outputs": [
    {
     "name": "stdout",
     "output_type": "stream",
     "text": [
      "iminus 지점:  62.4 0.12068176618622736\n"
     ]
    }
   ],
   "source": [
    "gaps=np.abs(ecdf2(ecdf.x[1:]) - ecdf(ecdf.x[1:]))\n",
    "iminus= np.argmax(gaps)\n",
    "\n",
    "print(\"iminus 지점: \",ecdf.x[1:][iminus],gaps[iminus])"
   ]
  },
  {
   "cell_type": "code",
   "execution_count": 114,
   "id": "5f6e8370",
   "metadata": {},
   "outputs": [
    {
     "data": {
      "text/plain": [
       "0.12068176618622736"
      ]
     },
     "execution_count": 114,
     "metadata": {},
     "output_type": "execute_result"
    }
   ],
   "source": [
    "gaps[iminus]"
   ]
  },
  {
   "cell_type": "code",
   "execution_count": 58,
   "id": "fb05e9bd",
   "metadata": {},
   "outputs": [
    {
     "data": {
      "text/plain": [
       "array([0.        , 0.0026738 , 0.00534759, 0.00802139, 0.01069519,\n",
       "       0.01336898, 0.01604278, 0.01871658, 0.02139037, 0.02406417,\n",
       "       0.02673797, 0.02941176, 0.03208556, 0.03475936, 0.03743316,\n",
       "       0.04010695, 0.04278075, 0.04545455, 0.04812834, 0.05080214,\n",
       "       0.05347594, 0.05614973, 0.05882353, 0.06149733, 0.06417112,\n",
       "       0.06684492, 0.06951872, 0.07219251, 0.07486631, 0.07754011,\n",
       "       0.0802139 , 0.0828877 , 0.0855615 , 0.08823529, 0.09090909,\n",
       "       0.09358289, 0.09625668, 0.09893048, 0.10160428, 0.10427807,\n",
       "       0.10695187, 0.10962567, 0.11229947, 0.11497326, 0.11764706,\n",
       "       0.12032086, 0.12299465, 0.12566845, 0.12834225, 0.13101604,\n",
       "       0.13368984, 0.13636364, 0.13903743, 0.14171123, 0.14438503,\n",
       "       0.14705882, 0.14973262, 0.15240642, 0.15508021, 0.15775401,\n",
       "       0.16042781, 0.1631016 , 0.1657754 , 0.1684492 , 0.17112299,\n",
       "       0.17379679, 0.17647059, 0.17914439, 0.18181818, 0.18449198,\n",
       "       0.18716578, 0.18983957, 0.19251337, 0.19518717, 0.19786096,\n",
       "       0.20053476, 0.20320856, 0.20588235, 0.20855615, 0.21122995,\n",
       "       0.21390374, 0.21657754, 0.21925134, 0.22192513, 0.22459893,\n",
       "       0.22727273, 0.22994652, 0.23262032, 0.23529412, 0.23796791,\n",
       "       0.24064171, 0.24331551, 0.2459893 , 0.2486631 , 0.2513369 ,\n",
       "       0.2540107 , 0.25668449, 0.25935829, 0.26203209, 0.26470588,\n",
       "       0.26737968, 0.27005348, 0.27272727, 0.27540107, 0.27807487,\n",
       "       0.28074866, 0.28342246, 0.28609626, 0.28877005, 0.29144385,\n",
       "       0.29411765, 0.29679144, 0.29946524, 0.30213904, 0.30481283,\n",
       "       0.30748663, 0.31016043, 0.31283422, 0.31550802, 0.31818182,\n",
       "       0.32085561, 0.32352941, 0.32620321, 0.32887701, 0.3315508 ,\n",
       "       0.3342246 , 0.3368984 , 0.33957219, 0.34224599, 0.34491979,\n",
       "       0.34759358, 0.35026738, 0.35294118, 0.35561497, 0.35828877,\n",
       "       0.36096257, 0.36363636, 0.36631016, 0.36898396, 0.37165775,\n",
       "       0.37433155, 0.37700535, 0.37967914, 0.38235294, 0.38502674,\n",
       "       0.38770053, 0.39037433, 0.39304813, 0.39572193, 0.39839572,\n",
       "       0.40106952, 0.40374332, 0.40641711, 0.40909091, 0.41176471,\n",
       "       0.4144385 , 0.4171123 , 0.4197861 , 0.42245989, 0.42513369,\n",
       "       0.42780749, 0.43048128, 0.43315508, 0.43582888, 0.43850267,\n",
       "       0.44117647, 0.44385027, 0.44652406, 0.44919786, 0.45187166,\n",
       "       0.45454545, 0.45721925, 0.45989305, 0.46256684, 0.46524064,\n",
       "       0.46791444, 0.47058824, 0.47326203, 0.47593583, 0.47860963,\n",
       "       0.48128342, 0.48395722, 0.48663102, 0.48930481, 0.49197861,\n",
       "       0.49465241, 0.4973262 , 0.5       , 0.5026738 , 0.50534759,\n",
       "       0.50802139, 0.51069519, 0.51336898, 0.51604278, 0.51871658,\n",
       "       0.52139037, 0.52406417, 0.52673797, 0.52941176, 0.53208556,\n",
       "       0.53475936, 0.53743316, 0.54010695, 0.54278075, 0.54545455,\n",
       "       0.54812834, 0.55080214, 0.55347594, 0.55614973, 0.55882353,\n",
       "       0.56149733, 0.56417112, 0.56684492, 0.56951872, 0.57219251,\n",
       "       0.57486631, 0.57754011, 0.5802139 , 0.5828877 , 0.5855615 ,\n",
       "       0.58823529, 0.59090909, 0.59358289, 0.59625668, 0.59893048,\n",
       "       0.60160428, 0.60427807, 0.60695187, 0.60962567, 0.61229947,\n",
       "       0.61497326, 0.61764706, 0.62032086, 0.62299465, 0.62566845,\n",
       "       0.62834225, 0.63101604, 0.63368984, 0.63636364, 0.63903743,\n",
       "       0.64171123, 0.64438503, 0.64705882, 0.64973262, 0.65240642,\n",
       "       0.65508021, 0.65775401, 0.66042781, 0.6631016 , 0.6657754 ,\n",
       "       0.6684492 , 0.67112299, 0.67379679, 0.67647059, 0.67914439,\n",
       "       0.68181818, 0.68449198, 0.68716578, 0.68983957, 0.69251337,\n",
       "       0.69518717, 0.69786096, 0.70053476, 0.70320856, 0.70588235,\n",
       "       0.70855615, 0.71122995, 0.71390374, 0.71657754, 0.71925134,\n",
       "       0.72192513, 0.72459893, 0.72727273, 0.72994652, 0.73262032,\n",
       "       0.73529412, 0.73796791, 0.74064171, 0.74331551, 0.7459893 ,\n",
       "       0.7486631 , 0.7513369 , 0.7540107 , 0.75668449, 0.75935829,\n",
       "       0.76203209, 0.76470588, 0.76737968, 0.77005348, 0.77272727,\n",
       "       0.77540107, 0.77807487, 0.78074866, 0.78342246, 0.78609626,\n",
       "       0.78877005, 0.79144385, 0.79411765, 0.79679144, 0.79946524,\n",
       "       0.80213904, 0.80481283, 0.80748663, 0.81016043, 0.81283422,\n",
       "       0.81550802, 0.81818182, 0.82085561, 0.82352941, 0.82620321,\n",
       "       0.82887701, 0.8315508 , 0.8342246 , 0.8368984 , 0.83957219,\n",
       "       0.84224599, 0.84491979, 0.84759358, 0.85026738, 0.85294118,\n",
       "       0.85561497, 0.85828877, 0.86096257, 0.86363636, 0.86631016,\n",
       "       0.86898396, 0.87165775, 0.87433155, 0.87700535, 0.87967914,\n",
       "       0.88235294, 0.88502674, 0.88770053, 0.89037433, 0.89304813,\n",
       "       0.89572193, 0.89839572, 0.90106952, 0.90374332, 0.90641711,\n",
       "       0.90909091, 0.91176471, 0.9144385 , 0.9171123 , 0.9197861 ,\n",
       "       0.92245989, 0.92513369, 0.92780749, 0.93048128, 0.93315508,\n",
       "       0.93582888, 0.93850267, 0.94117647, 0.94385027, 0.94652406,\n",
       "       0.94919786, 0.95187166, 0.95454545, 0.95721925, 0.95989305,\n",
       "       0.96256684, 0.96524064, 0.96791444, 0.97058824, 0.97326203,\n",
       "       0.97593583, 0.97860963, 0.98128342, 0.98395722, 0.98663102,\n",
       "       0.98930481, 0.99197861, 0.99465241, 0.9973262 , 1.        ])"
      ]
     },
     "execution_count": 58,
     "metadata": {},
     "output_type": "execute_result"
    }
   ],
   "source": [
    "ecd=ECDF(sample)\n",
    "ecd.y"
   ]
  },
  {
   "cell_type": "code",
   "execution_count": 49,
   "id": "fe4b12ec",
   "metadata": {},
   "outputs": [
    {
     "data": {
      "text/plain": [
       "[<matplotlib.lines.Line2D at 0x1b577c35688>]"
      ]
     },
     "execution_count": 49,
     "metadata": {},
     "output_type": "execute_result"
    },
    {
     "data": {
      "image/png": "[encoded data removed]",
      "text/plain": [
       "<Figure size 432x288 with 1 Axes>"
      ]
     },
     "metadata": {},
     "output_type": "display_data"
    }
   ],
   "source": [
    "ecdf = ECDF(tolerance['pO2'])\n",
    "ecdf2 = ECDF(sensibility['pO2'])\n",
    "# plot the cdf\n",
    "plt.plot(ecdf.x, ecdf.y,label='resistant')"
   ]
  },
  {
   "cell_type": "code",
   "execution_count": 50,
   "id": "ccb04af7",
   "metadata": {},
   "outputs": [
    {
     "data": {
      "text/plain": [
       "<matplotlib.legend.Legend at 0x1b577c7ebc8>"
      ]
     },
     "execution_count": 50,
     "metadata": {},
     "output_type": "execute_result"
    },
    {
     "data": {
      "image/png": "[encoded data removed]",
      "text/plain": [
       "<Figure size 432x288 with 1 Axes>"
      ]
     },
     "metadata": {},
     "output_type": "display_data"
    }
   ],
   "source": [
    "plt.plot(ecdf2.x, ecdf2.y,label='susceptible')\n",
    "plt.legend()"
   ]
  }
 ],
 "metadata": {
  "kernelspec": {
   "display_name": "Python 3 (ipykernel)",
   "language": "python",
   "name": "python3"
  },
  "language_info": {
   "codemirror_mode": {
    "name": "ipython",
    "version": 3
   },
   "file_extension": ".py",
   "mimetype": "text/x-python",
   "name": "python",
   "nbconvert_exporter": "python",
   "pygments_lexer": "ipython3",
   "version": "3.7.10"
  },
  "toc": {
   "base_numbering": 1,
   "nav_menu": {},
   "number_sections": true,
   "sideBar": true,
   "skip_h1_title": false,
   "title_cell": "Table of Contents",
   "title_sidebar": "Contents",
   "toc_cell": false,
   "toc_position": {},
   "toc_section_display": true,
   "toc_window_display": false
  }
 },
 "nbformat": 4,
 "nbformat_minor": 5
}
