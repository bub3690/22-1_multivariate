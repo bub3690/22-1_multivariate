{
 "cells": [
  {
   "cell_type": "markdown",
   "id": "35b041ce",
   "metadata": {},
   "source": [
    "# 통계적 방법에 따른 변수 선택 및 분류\n",
    "\n",
    "- 결측치 제거 및 통계적 방법으로 선정된 컬럼을 가진 데이터를 활용\n",
    "- random forest, logistic , svm classifier를 통해 분류"
   ]
  },
  {
   "cell_type": "code",
   "execution_count": 1,
   "id": "e15a1fd0",
   "metadata": {},
   "outputs": [],
   "source": [
    "import matplotlib.pyplot as plt\n",
    "import numpy as np\n",
    "import pandas as pd\n",
    "import os\n",
    "from glob import glob\n",
    "import sys"
   ]
  },
  {
   "cell_type": "code",
   "execution_count": 2,
   "id": "9ad657b2",
   "metadata": {},
   "outputs": [],
   "source": [
    "#시각화 패키지들\n",
    "import seaborn as sns\n",
    "import matplotlib.pyplot as plt\n",
    "%matplotlib inline\n",
    "from matplotlib import font_manager, rc\n",
    "font_path = \"C:/Windows/Fonts/NGULIM.TTF\"\n",
    "font = font_manager.FontProperties(fname=font_path).get_name()\n",
    "rc('font', family=font)\n",
    "from statsmodels.graphics.mosaicplot import mosaic\n",
    "plt.style.use(\"ggplot\")\n"
   ]
  },
  {
   "cell_type": "code",
   "execution_count": 11,
   "id": "e21fdd9f",
   "metadata": {},
   "outputs": [],
   "source": [
    "from sklearn.ensemble import RandomForestClassifier\n",
    "from sklearn.model_selection import RandomizedSearchCV\n",
    "\n",
    "from sklearn.metrics import accuracy_score\n",
    "from sklearn.metrics import recall_score\n",
    "from sklearn.metrics import confusion_matrix\n",
    "from sklearn.metrics import classification_report\n",
    "\n",
    "from sklearn.linear_model import LogisticRegression\n",
    "from sklearn.preprocessing import StandardScaler\n"
   ]
  },
  {
   "cell_type": "markdown",
   "id": "4c361c05",
   "metadata": {},
   "source": [
    "# 통계적 방법에 따른 변수 로드"
   ]
  },
  {
   "cell_type": "code",
   "execution_count": 12,
   "id": "50adff77",
   "metadata": {},
   "outputs": [],
   "source": [
    "#기초 전처리 데이터 출력\n",
    "x_train = pd.read_excel(\"../data/cip_clean.xlsx\")\n",
    "x_test = pd.read_excel(\"../data/cip_clean_test.xlsx\")\n",
    "\n",
    "y_train = pd.read_excel(\"../data/cip_clean_y.xlsx\")\n",
    "y_test = pd.read_excel(\"../data/cip_clean_test_y.xlsx\")"
   ]
  },
  {
   "cell_type": "code",
   "execution_count": 13,
   "id": "8c0b1ebf",
   "metadata": {},
   "outputs": [],
   "source": [
    "x_train.drop(['factor1','factor2','factor3'],axis=1,inplace=True)\n",
    "x_test.drop(['factor1','factor2','factor3'],axis=1,inplace=True)"
   ]
  },
  {
   "cell_type": "code",
   "execution_count": 14,
   "id": "bfe14b16",
   "metadata": {},
   "outputs": [],
   "source": [
    "x_train[['sex','bed','Foley','Nursing','Hsp-acq','3m-Ab','3m-Adm','NR','1y-UTI','PPIantacid',\n",
    "   'CV']] =x_train[['sex','bed','Foley','Nursing','Hsp-acq','3m-Ab','3m-Adm','NR','1y-UTI','PPIantacid',\n",
    "   'CV']].astype('category') "
   ]
  },
  {
   "cell_type": "code",
   "execution_count": 15,
   "id": "ca57e927",
   "metadata": {},
   "outputs": [],
   "source": [
    "x_test[['sex','bed','Foley','Nursing','Hsp-acq','3m-Ab','3m-Adm','NR','1y-UTI','PPIantacid',\n",
    "   'CV']] =x_test[['sex','bed','Foley','Nursing','Hsp-acq','3m-Ab','3m-Adm','NR','1y-UTI','PPIantacid',\n",
    "   'CV']].astype('category') "
   ]
  },
  {
   "cell_type": "code",
   "execution_count": 16,
   "id": "4447eb65",
   "metadata": {},
   "outputs": [
    {
     "name": "stdout",
     "output_type": "stream",
     "text": [
      "<class 'pandas.core.frame.DataFrame'>\n",
      "RangeIndex: 374 entries, 0 to 373\n",
      "Data columns (total 17 columns):\n",
      " #   Column      Non-Null Count  Dtype   \n",
      "---  ------      --------------  -----   \n",
      " 0   iDBP        374 non-null    int64   \n",
      " 1   iBT         374 non-null    float64 \n",
      " 2   pCO2        374 non-null    float64 \n",
      " 3   SaO2        374 non-null    float64 \n",
      " 4   Hb          374 non-null    float64 \n",
      " 5   Plt         374 non-null    int64   \n",
      " 6   sex         374 non-null    category\n",
      " 7   bed         374 non-null    category\n",
      " 8   Foley       374 non-null    category\n",
      " 9   Nursing     374 non-null    category\n",
      " 10  Hsp-acq     374 non-null    category\n",
      " 11  3m-Ab       374 non-null    category\n",
      " 12  3m-Adm      374 non-null    category\n",
      " 13  NR          374 non-null    category\n",
      " 14  1y-UTI      374 non-null    category\n",
      " 15  PPIantacid  374 non-null    category\n",
      " 16  CV          374 non-null    category\n",
      "dtypes: category(11), float64(4), int64(2)\n",
      "memory usage: 23.0 KB\n"
     ]
    }
   ],
   "source": [
    "x_train.info()"
   ]
  },
  {
   "cell_type": "code",
   "execution_count": 17,
   "id": "f23ef277",
   "metadata": {},
   "outputs": [
    {
     "name": "stdout",
     "output_type": "stream",
     "text": [
      "<class 'pandas.core.frame.DataFrame'>\n",
      "RangeIndex: 94 entries, 0 to 93\n",
      "Data columns (total 17 columns):\n",
      " #   Column      Non-Null Count  Dtype   \n",
      "---  ------      --------------  -----   \n",
      " 0   iDBP        94 non-null     int64   \n",
      " 1   iBT         94 non-null     float64 \n",
      " 2   pCO2        94 non-null     float64 \n",
      " 3   SaO2        94 non-null     float64 \n",
      " 4   Hb          94 non-null     float64 \n",
      " 5   Plt         94 non-null     int64   \n",
      " 6   sex         94 non-null     category\n",
      " 7   bed         94 non-null     category\n",
      " 8   Foley       94 non-null     category\n",
      " 9   Nursing     94 non-null     category\n",
      " 10  Hsp-acq     94 non-null     category\n",
      " 11  3m-Ab       94 non-null     category\n",
      " 12  3m-Adm      94 non-null     category\n",
      " 13  NR          94 non-null     category\n",
      " 14  1y-UTI      94 non-null     category\n",
      " 15  PPIantacid  94 non-null     category\n",
      " 16  CV          94 non-null     category\n",
      "dtypes: category(11), float64(4), int64(2)\n",
      "memory usage: 6.9 KB\n"
     ]
    }
   ],
   "source": [
    "x_test.info()"
   ]
  },
  {
   "attachments": {},
   "cell_type": "markdown",
   "id": "1c7afd67",
   "metadata": {},
   "source": [
    "# 분류"
   ]
  },
  {
   "cell_type": "markdown",
   "id": "21d6d2ae",
   "metadata": {},
   "source": [
    "## Logistic regression"
   ]
  },
  {
   "cell_type": "code",
   "execution_count": 23,
   "id": "e8506f36",
   "metadata": {},
   "outputs": [],
   "source": [
    "import statsmodels.api as sm\n",
    "\n",
    "numeric_cols=[]\n",
    "for idx,col in enumerate(x_train.columns):\n",
    "    col_type = x_train[col].dtype\n",
    "    if col_type.name !='category':\n",
    "        numeric_cols.append(col)"
   ]
  },
  {
   "cell_type": "code",
   "execution_count": 25,
   "id": "b223c7ed",
   "metadata": {},
   "outputs": [],
   "source": [
    "#표준화\n",
    "\n",
    "\n",
    "scaler = StandardScaler()\n",
    "\n",
    "x_train_stat_logistic = x_train.copy()\n",
    "x_test_stat_logistic = x_test.copy()\n",
    "\n",
    "\n",
    "x_train_stat_logistic[numeric_cols] = scaler.fit_transform(x_train_stat_logistic[numeric_cols])\n",
    "x_test_stat_logistic[numeric_cols] = scaler.transform(x_test_stat_logistic[numeric_cols])\n",
    "\n",
    "\n"
   ]
  },
  {
   "cell_type": "code",
   "execution_count": 26,
   "id": "1df7b416",
   "metadata": {},
   "outputs": [
    {
     "name": "stdout",
     "output_type": "stream",
     "text": [
      "Optimization terminated successfully.\n",
      "         Current function value: 0.597524\n",
      "         Iterations 8\n",
      "Baseline accuracy :  0.6063829787234043\n",
      "Baseline recall :  0.7446808510638298\n"
     ]
    }
   ],
   "source": [
    "\n",
    "\n",
    "logit_mod = sm.Logit(y_train['CIP'], x_train_base_logistic)\n",
    "results = logit_mod.fit()\n",
    "\n",
    "#model_logistic = LogisticRegression( )\n",
    "#model_logistic.fit( x_train_base_logistic, y_train['CIP'] )\n",
    "#model_logistic.predict( x_test_base_logistic )\n",
    "\n",
    "predicted = results.predict(x_test_base_logistic)\n",
    "predicted = (predicted>0.5).astype(int)\n",
    "\n",
    "\n",
    "print('Baseline accuracy : ' ,accuracy_score(y_pred = predicted, y_true = y_test['CIP']))\n",
    "print('Baseline recall : ' ,recall_score(y_pred = predicted, y_true = y_test['CIP'],average=None)[1] )\n"
   ]
  },
  {
   "cell_type": "code",
   "execution_count": 27,
   "id": "186962d2",
   "metadata": {},
   "outputs": [
    {
     "name": "stdout",
     "output_type": "stream",
     "text": [
      "              precision    recall  f1-score   support\n",
      "\n",
      "           0       0.65      0.47      0.54        47\n",
      "           1       0.58      0.74      0.65        47\n",
      "\n",
      "    accuracy                           0.61        94\n",
      "   macro avg       0.62      0.61      0.60        94\n",
      "weighted avg       0.62      0.61      0.60        94\n",
      "\n"
     ]
    }
   ],
   "source": [
    "print(classification_report(y_true=y_test['CIP'],y_pred=predicted) )"
   ]
  },
  {
   "cell_type": "code",
   "execution_count": 28,
   "id": "76e8a8ec",
   "metadata": {},
   "outputs": [
    {
     "data": {
      "text/plain": [
       "Hsp-acq    0.002054\n",
       "NR         0.018909\n",
       "1y-UTI     0.019396\n",
       "dtype: float64"
      ]
     },
     "execution_count": 28,
     "metadata": {},
     "output_type": "execute_result"
    }
   ],
   "source": [
    "results.pvalues[results.pvalues<0.05]"
   ]
  },
  {
   "cell_type": "code",
   "execution_count": 29,
   "id": "46307191",
   "metadata": {},
   "outputs": [
    {
     "data": {
      "text/plain": [
       "iDBP          0.902361\n",
       "iBT           0.873226\n",
       "pCO2          1.122513\n",
       "SaO2          0.205043\n",
       "Hb            0.384057\n",
       "Plt           1.109126\n",
       "sex           0.817348\n",
       "bed           1.742164\n",
       "Foley         0.931423\n",
       "Nursing       1.387405\n",
       "Hsp-acq       3.855968\n",
       "3m-Ab         1.554247\n",
       "3m-Adm        0.890774\n",
       "NR            0.508904\n",
       "1y-UTI        2.048734\n",
       "PPIantacid    0.673485\n",
       "CV            0.918232\n",
       "dtype: float64"
      ]
     },
     "execution_count": 29,
     "metadata": {},
     "output_type": "execute_result"
    }
   ],
   "source": [
    "np.exp(results.params)"
   ]
  },
  {
   "cell_type": "markdown",
   "id": "363c82ce",
   "metadata": {},
   "source": [
    "## SVM"
   ]
  },
  {
   "cell_type": "code",
   "execution_count": 30,
   "id": "b8780b11",
   "metadata": {},
   "outputs": [],
   "source": [
    "#표준화\n",
    "\n",
    "\n",
    "scaler = StandardScaler()\n",
    "\n",
    "x_train_stat_svm = x_train.copy()\n",
    "x_test_stat_svm = x_test.copy()\n",
    "\n",
    "\n",
    "x_train_stat_svm[numeric_cols] = scaler.fit_transform(x_train_stat_svm[numeric_cols])\n",
    "x_test_stat_svm[numeric_cols] = scaler.transform(x_test_stat_svm[numeric_cols])\n",
    "\n",
    "\n"
   ]
  },
  {
   "cell_type": "code",
   "execution_count": 41,
   "id": "7c3768fa",
   "metadata": {
    "scrolled": true
   },
   "outputs": [
    {
     "data": {
      "text/html": [
       "<div>\n",
       "<style scoped>\n",
       "    .dataframe tbody tr th:only-of-type {\n",
       "        vertical-align: middle;\n",
       "    }\n",
       "\n",
       "    .dataframe tbody tr th {\n",
       "        vertical-align: top;\n",
       "    }\n",
       "\n",
       "    .dataframe thead th {\n",
       "        text-align: right;\n",
       "    }\n",
       "</style>\n",
       "<table border=\"1\" class=\"dataframe\">\n",
       "  <thead>\n",
       "    <tr style=\"text-align: right;\">\n",
       "      <th></th>\n",
       "      <th>C</th>\n",
       "      <th>mean_test_score</th>\n",
       "    </tr>\n",
       "  </thead>\n",
       "  <tbody>\n",
       "    <tr>\n",
       "      <th>2</th>\n",
       "      <td>0.100</td>\n",
       "      <td>0.716216</td>\n",
       "    </tr>\n",
       "    <tr>\n",
       "      <th>4</th>\n",
       "      <td>10.000</td>\n",
       "      <td>0.708324</td>\n",
       "    </tr>\n",
       "    <tr>\n",
       "      <th>5</th>\n",
       "      <td>25.000</td>\n",
       "      <td>0.708288</td>\n",
       "    </tr>\n",
       "    <tr>\n",
       "      <th>1</th>\n",
       "      <td>0.010</td>\n",
       "      <td>0.702991</td>\n",
       "    </tr>\n",
       "    <tr>\n",
       "      <th>6</th>\n",
       "      <td>50.000</td>\n",
       "      <td>0.702955</td>\n",
       "    </tr>\n",
       "    <tr>\n",
       "      <th>7</th>\n",
       "      <td>100.000</td>\n",
       "      <td>0.702955</td>\n",
       "    </tr>\n",
       "    <tr>\n",
       "      <th>3</th>\n",
       "      <td>1.000</td>\n",
       "      <td>0.697550</td>\n",
       "    </tr>\n",
       "    <tr>\n",
       "      <th>0</th>\n",
       "      <td>0.001</td>\n",
       "      <td>0.502667</td>\n",
       "    </tr>\n",
       "  </tbody>\n",
       "</table>\n",
       "</div>"
      ],
      "text/plain": [
       "         C  mean_test_score\n",
       "2    0.100         0.716216\n",
       "4   10.000         0.708324\n",
       "5   25.000         0.708288\n",
       "1    0.010         0.702991\n",
       "6   50.000         0.702955\n",
       "7  100.000         0.702955\n",
       "3    1.000         0.697550\n",
       "0    0.001         0.502667"
      ]
     },
     "execution_count": 41,
     "metadata": {},
     "output_type": "execute_result"
    }
   ],
   "source": [
    "import sklearn.svm as svm\n",
    "import sklearn.metrics as mt\n",
    "from sklearn.model_selection import GridSearchCV\n",
    "# 테스트하고자 하는 파라미터 값들을 사전타입으로 정의\n",
    "\n",
    "svm_clf = svm.SVC(kernel = 'linear',random_state=1234)\n",
    "parameters = {'C': [0.001, 0.01, 0.1, 1, 10, 25, 50, 100]}\n",
    "\n",
    "grid_svm = GridSearchCV(svm_clf,\n",
    "                      param_grid = parameters, cv = 5)\n",
    "\n",
    "grid_svm.fit(x_train_stat_svm, y_train['CIP'])\n",
    "\n",
    "result = pd.DataFrame(grid_svm.cv_results_['params'])\n",
    "result['mean_test_score'] = grid_svm.cv_results_['mean_test_score']\n",
    "result.sort_values(by='mean_test_score', ascending=False)\n"
   ]
  },
  {
   "cell_type": "code",
   "execution_count": 44,
   "id": "5c3a919f",
   "metadata": {},
   "outputs": [
    {
     "name": "stdout",
     "output_type": "stream",
     "text": [
      "best params :  {'C': 0.1}\n"
     ]
    }
   ],
   "source": [
    "\n",
    "print('best params : ' ,grid_svm.best_params_)\n",
    "model_best_svm = grid_svm.best_estimator_"
   ]
  },
  {
   "cell_type": "code",
   "execution_count": 47,
   "id": "de0788f4",
   "metadata": {},
   "outputs": [
    {
     "name": "stdout",
     "output_type": "stream",
     "text": [
      "accuracy score: 0.702\n",
      "recall score: 0.596\n"
     ]
    }
   ],
   "source": [
    "    from sklearn.metrics import accuracy_score\n",
    "\n",
    "predicted = model_best_svm.predict(x_test_stat_svm)\n",
    "accuracy = accuracy_score(y_true=y_test,y_pred=predicted)\n",
    "recall = recall_score(y_true=y_test, y_pred=predicted, average=None)\n",
    "\n",
    "print(f'accuracy score: {accuracy:.3}')\n",
    "print(f'recall score: {recall[1]:.3}')"
   ]
  },
  {
   "cell_type": "markdown",
   "id": "7032d4a0",
   "metadata": {},
   "source": [
    "## random forest"
   ]
  },
  {
   "cell_type": "code",
   "execution_count": 20,
   "id": "18e2d27d",
   "metadata": {},
   "outputs": [
    {
     "data": {
      "text/plain": [
       "RandomizedSearchCV(cv=5, estimator=RandomForestClassifier(random_state=1234),\n",
       "                   n_iter=50,\n",
       "                   param_distributions={'max_depth': [1, 2, 3, 4, 5],\n",
       "                                        'n_estimators': [10, 20, 30, 40, 50, 60,\n",
       "                                                         70, 80, 90, 100, 110,\n",
       "                                                         120, 130, 140, 150,\n",
       "                                                         160, 170, 180, 190,\n",
       "                                                         200, 210, 220, 230,\n",
       "                                                         240, 250, 260, 270,\n",
       "                                                         280, 290, 300, ...]},\n",
       "                   scoring='accuracy')"
      ]
     },
     "execution_count": 20,
     "metadata": {},
     "output_type": "execute_result"
    }
   ],
   "source": [
    "\n",
    "param_list = {\"n_estimators\": list(range(10, 500, 10)),\n",
    "              \"max_depth\": [1,2,3,4,5],}\n",
    "\n",
    "rf = RandomForestClassifier(random_state=1234)\n",
    "\n",
    "rf_random_search = RandomizedSearchCV(\n",
    "        estimator=rf,\n",
    "        param_distributions = param_list,\n",
    "        n_iter = 50,\n",
    "        cv = 5,\n",
    "        scoring = 'accuracy')\n",
    "\n",
    "rf_random_search.fit(x_train, y_train['CIP'])\n"
   ]
  },
  {
   "cell_type": "code",
   "execution_count": 21,
   "id": "7d72f954",
   "metadata": {},
   "outputs": [
    {
     "name": "stdout",
     "output_type": "stream",
     "text": [
      "best params :  {'n_estimators': 180, 'max_depth': 3}\n"
     ]
    }
   ],
   "source": [
    "print('best params : ' ,rf_random_search.best_params_)\n",
    "model_best=rf_random_search.best_estimator_"
   ]
  },
  {
   "cell_type": "code",
   "execution_count": null,
   "id": "485d15d1",
   "metadata": {},
   "outputs": [],
   "source": [
    "#model_best = RandomForestClassifier(n_estimators=180, max_depth=3,random_state=1234)"
   ]
  },
  {
   "cell_type": "code",
   "execution_count": 22,
   "id": "66f8a9d0",
   "metadata": {},
   "outputs": [
    {
     "name": "stdout",
     "output_type": "stream",
     "text": [
      "accuracy score: 0.681\n",
      "recall score: 0.617\n"
     ]
    }
   ],
   "source": [
    "from sklearn.metrics import accuracy_score\n",
    "\n",
    "predicted = model_best.predict(x_test)\n",
    "accuracy = accuracy_score(y_true=y_test,y_pred=predicted)\n",
    "recall = recall_score(y_true=y_test, y_pred=predicted, average=None)\n",
    "\n",
    "print(f'accuracy score: {accuracy:.3}')\n",
    "print(f'recall score: {recall[1]:.3}')\n"
   ]
  },
  {
   "cell_type": "code",
   "execution_count": 27,
   "id": "f26bc7c7",
   "metadata": {},
   "outputs": [
    {
     "data": {
      "text/plain": [
       "<AxesSubplot:>"
      ]
     },
     "execution_count": 27,
     "metadata": {},
     "output_type": "execute_result"
    },
    {
     "data": {
      "image/png": "[encoded data removed]",
      "text/plain": [
       "<Figure size 432x288 with 2 Axes>"
      ]
     },
     "metadata": {},
     "output_type": "display_data"
    }
   ],
   "source": [
    "\n",
    "cm = pd.DataFrame(confusion_matrix(y_true=y_test,y_pred = predicted), columns=['감수성','내성'], index=['감수성','내성'])\n",
    "sns.heatmap(cm, annot=True)"
   ]
  },
  {
   "cell_type": "markdown",
   "id": "de897cc2",
   "metadata": {},
   "source": [
    "결과적으로, \n",
    "\n",
    "모든 변수를 포함한 BASELINE이 0.69 었는데, 통계적 방법에 따른 선택시 0.68이 되었다.\n",
    "\n",
    "17개의 변수를 사용했을때, shap을 이용했을 때 보다 accuracy는 떨어진다. 하지만, 더 높은 recall을 달성했다."
   ]
  }
 ],
 "metadata": {
  "kernelspec": {
   "display_name": "Python 3 (ipykernel)",
   "language": "python",
   "name": "python3"
  },
  "language_info": {
   "codemirror_mode": {
    "name": "ipython",
    "version": 3
   },
   "file_extension": ".py",
   "mimetype": "text/x-python",
   "name": "python",
   "nbconvert_exporter": "python",
   "pygments_lexer": "ipython3",
   "version": "3.7.10"
  },
  "toc": {
   "base_numbering": 1,
   "nav_menu": {},
   "number_sections": true,
   "sideBar": true,
   "skip_h1_title": false,
   "title_cell": "Table of Contents",
   "title_sidebar": "Contents",
   "toc_cell": false,
   "toc_position": {},
   "toc_section_display": true,
   "toc_window_display": false
  }
 },
 "nbformat": 4,
 "nbformat_minor": 5
}
