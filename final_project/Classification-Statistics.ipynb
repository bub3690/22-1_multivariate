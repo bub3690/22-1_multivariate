{
 "cells": [
  {
   "cell_type": "markdown",
   "id": "35b041ce",
   "metadata": {},
   "source": [
    "# 통계적 방법에 따른 변수 선택 및 분류\n",
    "\n",
    "- 결측치 제거 및 통계적 방법으로 선정된 컬럼을 가진 데이터를 활용\n",
    "- random forest, logistic , svm classifier를 통해 분류"
   ]
  },
  {
   "cell_type": "code",
   "execution_count": 2,
   "id": "e15a1fd0",
   "metadata": {},
   "outputs": [],
   "source": [
    "import matplotlib.pyplot as plt\n",
    "import numpy as np\n",
    "import pandas as pd\n",
    "import os\n",
    "from glob import glob\n",
    "import sys"
   ]
  },
  {
   "cell_type": "code",
   "execution_count": 3,
   "id": "9ad657b2",
   "metadata": {},
   "outputs": [],
   "source": [
    "#시각화 패키지들\n",
    "import seaborn as sns\n",
    "import matplotlib.pyplot as plt\n",
    "%matplotlib inline\n",
    "from matplotlib import font_manager, rc\n",
    "font_path = \"C:/Windows/Fonts/NGULIM.TTF\"\n",
    "font = font_manager.FontProperties(fname=font_path).get_name()\n",
    "rc('font', family=font)\n",
    "from statsmodels.graphics.mosaicplot import mosaic\n",
    "plt.style.use(\"ggplot\")\n"
   ]
  },
  {
   "cell_type": "code",
   "execution_count": 38,
   "id": "e21fdd9f",
   "metadata": {},
   "outputs": [],
   "source": [
    "from sklearn.ensemble import RandomForestClassifier\n",
    "from sklearn.model_selection import RandomizedSearchCV\n",
    "\n",
    "from sklearn.metrics import accuracy_score\n",
    "from sklearn.metrics import recall_score\n",
    "from sklearn.metrics import confusion_matrix\n",
    "from sklearn.metrics import classification_report\n",
    "\n",
    "from sklearn.linear_model import LogisticRegression\n",
    "from sklearn.preprocessing import StandardScaler\n",
    "\n",
    "\n",
    "import statsmodels.api as sm"
   ]
  },
  {
   "cell_type": "markdown",
   "id": "4c361c05",
   "metadata": {},
   "source": [
    "# 통계적 방법에 따른 변수 로드"
   ]
  },
  {
   "cell_type": "code",
   "execution_count": 5,
   "id": "50adff77",
   "metadata": {},
   "outputs": [],
   "source": [
    "#기초 전처리 데이터 출력\n",
    "x_train = pd.read_excel(\"../data/cip_clean.xlsx\")\n",
    "x_test = pd.read_excel(\"../data/cip_clean_test.xlsx\")\n",
    "\n",
    "y_train = pd.read_excel(\"../data/cip_clean_y.xlsx\")\n",
    "y_test = pd.read_excel(\"../data/cip_clean_test_y.xlsx\")"
   ]
  },
  {
   "cell_type": "code",
   "execution_count": 6,
   "id": "8c0b1ebf",
   "metadata": {},
   "outputs": [],
   "source": [
    "x_train.drop(['factor1','factor2','factor3'],axis=1,inplace=True)\n",
    "x_test.drop(['factor1','factor2','factor3'],axis=1,inplace=True)"
   ]
  },
  {
   "cell_type": "code",
   "execution_count": 7,
   "id": "bfe14b16",
   "metadata": {},
   "outputs": [],
   "source": [
    "x_train[['sex','bed','Foley','Nursing','Hsp-acq','3m-Ab','3m-Adm','NR','1y-UTI','PPIantacid',\n",
    "   'CV']] = x_train[['sex','bed','Foley','Nursing','Hsp-acq','3m-Ab','3m-Adm','NR','1y-UTI','PPIantacid',\n",
    "   'CV']].astype('category') "
   ]
  },
  {
   "cell_type": "code",
   "execution_count": 8,
   "id": "ca57e927",
   "metadata": {},
   "outputs": [],
   "source": [
    "x_test[['sex','bed','Foley','Nursing','Hsp-acq','3m-Ab','3m-Adm','NR','1y-UTI','PPIantacid',\n",
    "   'CV']] =x_test[['sex','bed','Foley','Nursing','Hsp-acq','3m-Ab','3m-Adm','NR','1y-UTI','PPIantacid',\n",
    "   'CV']].astype('category') "
   ]
  },
  {
   "cell_type": "code",
   "execution_count": 9,
   "id": "37093e54",
   "metadata": {},
   "outputs": [
    {
     "data": {
      "text/plain": [
       "Index(['iDBP', 'iBT', 'pCO2', 'SaO2', 'Hb', 'Plt', 'sex', 'bed', 'Foley',\n",
       "       'Nursing', 'Hsp-acq', '3m-Ab', '3m-Adm', 'NR', '1y-UTI', 'PPIantacid',\n",
       "       'CV'],\n",
       "      dtype='object')"
      ]
     },
     "execution_count": 9,
     "metadata": {},
     "output_type": "execute_result"
    }
   ],
   "source": [
    "x_train.columns"
   ]
  },
  {
   "cell_type": "code",
   "execution_count": 10,
   "id": "4447eb65",
   "metadata": {},
   "outputs": [
    {
     "name": "stdout",
     "output_type": "stream",
     "text": [
      "<class 'pandas.core.frame.DataFrame'>\n",
      "RangeIndex: 374 entries, 0 to 373\n",
      "Data columns (total 17 columns):\n",
      " #   Column      Non-Null Count  Dtype   \n",
      "---  ------      --------------  -----   \n",
      " 0   iDBP        374 non-null    int64   \n",
      " 1   iBT         374 non-null    float64 \n",
      " 2   pCO2        374 non-null    float64 \n",
      " 3   SaO2        374 non-null    float64 \n",
      " 4   Hb          374 non-null    float64 \n",
      " 5   Plt         374 non-null    int64   \n",
      " 6   sex         374 non-null    category\n",
      " 7   bed         374 non-null    category\n",
      " 8   Foley       374 non-null    category\n",
      " 9   Nursing     374 non-null    category\n",
      " 10  Hsp-acq     374 non-null    category\n",
      " 11  3m-Ab       374 non-null    category\n",
      " 12  3m-Adm      374 non-null    category\n",
      " 13  NR          374 non-null    category\n",
      " 14  1y-UTI      374 non-null    category\n",
      " 15  PPIantacid  374 non-null    category\n",
      " 16  CV          374 non-null    category\n",
      "dtypes: category(11), float64(4), int64(2)\n",
      "memory usage: 23.0 KB\n"
     ]
    }
   ],
   "source": [
    "x_train.info()"
   ]
  },
  {
   "cell_type": "code",
   "execution_count": 11,
   "id": "f23ef277",
   "metadata": {},
   "outputs": [
    {
     "name": "stdout",
     "output_type": "stream",
     "text": [
      "<class 'pandas.core.frame.DataFrame'>\n",
      "RangeIndex: 94 entries, 0 to 93\n",
      "Data columns (total 17 columns):\n",
      " #   Column      Non-Null Count  Dtype   \n",
      "---  ------      --------------  -----   \n",
      " 0   iDBP        94 non-null     int64   \n",
      " 1   iBT         94 non-null     float64 \n",
      " 2   pCO2        94 non-null     float64 \n",
      " 3   SaO2        94 non-null     float64 \n",
      " 4   Hb          94 non-null     float64 \n",
      " 5   Plt         94 non-null     int64   \n",
      " 6   sex         94 non-null     category\n",
      " 7   bed         94 non-null     category\n",
      " 8   Foley       94 non-null     category\n",
      " 9   Nursing     94 non-null     category\n",
      " 10  Hsp-acq     94 non-null     category\n",
      " 11  3m-Ab       94 non-null     category\n",
      " 12  3m-Adm      94 non-null     category\n",
      " 13  NR          94 non-null     category\n",
      " 14  1y-UTI      94 non-null     category\n",
      " 15  PPIantacid  94 non-null     category\n",
      " 16  CV          94 non-null     category\n",
      "dtypes: category(11), float64(4), int64(2)\n",
      "memory usage: 6.9 KB\n"
     ]
    }
   ],
   "source": [
    "x_test.info()"
   ]
  },
  {
   "cell_type": "markdown",
   "id": "1c7afd67",
   "metadata": {},
   "source": [
    "# 분류"
   ]
  },
  {
   "cell_type": "markdown",
   "id": "21d6d2ae",
   "metadata": {},
   "source": [
    "## Logistic regression"
   ]
  },
  {
   "cell_type": "code",
   "execution_count": 11,
   "id": "e8506f36",
   "metadata": {},
   "outputs": [],
   "source": [
    "import statsmodels.api as sm\n",
    "\n",
    "numeric_cols=[]\n",
    "for idx,col in enumerate(x_train.columns):\n",
    "    col_type = x_train[col].dtype\n",
    "    if col_type.name !='category':\n",
    "        numeric_cols.append(col)"
   ]
  },
  {
   "cell_type": "code",
   "execution_count": 12,
   "id": "b223c7ed",
   "metadata": {},
   "outputs": [],
   "source": [
    "#표준화\n",
    "\n",
    "\n",
    "scaler = StandardScaler()\n",
    "\n",
    "x_train_stat_logistic = x_train.copy()\n",
    "x_test_stat_logistic = x_test.copy()\n",
    "\n",
    "\n",
    "x_train_stat_logistic[numeric_cols] = scaler.fit_transform(x_train_stat_logistic[numeric_cols])\n",
    "x_test_stat_logistic[numeric_cols] = scaler.transform(x_test_stat_logistic[numeric_cols])\n",
    "\n",
    "\n"
   ]
  },
  {
   "cell_type": "code",
   "execution_count": 13,
   "id": "857d99e1",
   "metadata": {},
   "outputs": [],
   "source": [
    "col_all = ['bed','Hsp-acq','3m-Ab','3m-Adm','1y-UTI','Hb',\n",
    "           'Foley','NR','iBT','sex','SaO2','Nursing','iDBP','pCO2',\n",
    "           'Plt','CV','PPIantacid']\n",
    "col5 = col_all[:5]\n",
    "col10 = col_all[:10]\n",
    "col15 = col_all[:15]"
   ]
  },
  {
   "cell_type": "code",
   "execution_count": 14,
   "id": "94c5667b",
   "metadata": {},
   "outputs": [],
   "source": [
    "x_train_stat5_logistic = x_train_stat_logistic.copy()\n",
    "x_train_stat5_logistic = x_train_stat_logistic[col5]\n",
    "\n",
    "x_test_stat5_logistic = x_test_stat_logistic.copy()\n",
    "x_test_stat5_logistic = x_test_stat_logistic[col5]\n",
    "\n",
    "\n",
    "x_train_stat10_logistic = x_train_stat_logistic.copy()\n",
    "x_train_stat10_logistic = x_train_stat_logistic[col10]\n",
    "\n",
    "x_test_stat10_logistic = x_test_stat_logistic.copy()\n",
    "x_test_stat10_logistic = x_test_stat_logistic[col10]\n",
    "\n",
    "\n",
    "x_train_stat15_logistic = x_train_stat_logistic.copy()\n",
    "x_train_stat15_logistic = x_train_stat_logistic[col15]\n",
    "\n",
    "x_test_stat15_logistic = x_test_stat_logistic.copy()\n",
    "x_test_stat15_logistic = x_test_stat_logistic[col15]\n"
   ]
  },
  {
   "cell_type": "markdown",
   "id": "eb7652df",
   "metadata": {},
   "source": [
    "### reduced"
   ]
  },
  {
   "cell_type": "code",
   "execution_count": 15,
   "id": "1df7b416",
   "metadata": {},
   "outputs": [
    {
     "name": "stdout",
     "output_type": "stream",
     "text": [
      "Optimization terminated successfully.\n",
      "         Current function value: 0.597524\n",
      "         Iterations 8\n",
      "0     0.442883\n",
      "1     0.477561\n",
      "2     0.429049\n",
      "3     0.554577\n",
      "4     0.456329\n",
      "        ...   \n",
      "89    0.297300\n",
      "90    0.781534\n",
      "91    0.816833\n",
      "92    0.403711\n",
      "93    0.357622\n",
      "Length: 94, dtype: float64\n",
      "Baseline accuracy :  0.6063829787234043\n",
      "Baseline recall :  0.7446808510638298\n"
     ]
    }
   ],
   "source": [
    "\n",
    "\n",
    "logit_mod = sm.Logit(y_train['CIP'], x_train_stat_logistic)\n",
    "results = logit_mod.fit()\n",
    "\n",
    "#model_logistic = LogisticRegression( )\n",
    "#model_logistic.fit( x_train_base_logistic, y_train['CIP'] )\n",
    "#model_logistic.predict( x_test_base_logistic )\n",
    "\n",
    "predicted = results.predict(x_test_stat_logistic)\n",
    "predicted1 = predicted \n",
    "print(predicted)\n",
    "predicted = (predicted>0.5).astype(int)\n",
    "\n",
    "\n",
    "print('Baseline accuracy : ' ,accuracy_score(y_pred = predicted, y_true = y_test['CIP']))\n",
    "print('Baseline recall : ' ,recall_score(y_pred = predicted, y_true = y_test['CIP'],average=None)[1] )\n"
   ]
  },
  {
   "cell_type": "code",
   "execution_count": 16,
   "id": "c08a85c4",
   "metadata": {},
   "outputs": [
    {
     "name": "stdout",
     "output_type": "stream",
     "text": [
      "                           Logit Regression Results                           \n",
      "==============================================================================\n",
      "Dep. Variable:                    CIP   No. Observations:                  374\n",
      "Model:                          Logit   Df Residuals:                      357\n",
      "Method:                           MLE   Df Model:                           16\n",
      "Date:                Tue, 26 Jul 2022   Pseudo R-squ.:                  0.1379\n",
      "Time:                        03:04:07   Log-Likelihood:                -223.47\n",
      "converged:                       True   LL-Null:                       -259.23\n",
      "Covariance Type:            nonrobust   LLR p-value:                 5.408e-09\n",
      "==============================================================================\n",
      "                 coef    std err          z      P>|z|      [0.025      0.975]\n",
      "------------------------------------------------------------------------------\n",
      "iDBP          -0.1027      0.123     -0.836      0.403      -0.344       0.138\n",
      "iBT           -0.1356      0.275     -0.493      0.622      -0.674       0.403\n",
      "pCO2           0.1156      0.121      0.956      0.339      -0.121       0.353\n",
      "SaO2          -1.5845      1.313     -1.207      0.228      -4.158       0.989\n",
      "Hb            -0.9570      0.694     -1.379      0.168      -2.317       0.403\n",
      "Plt            0.1036      0.129      0.800      0.424      -0.150       0.357\n",
      "sex           -0.2017      0.261     -0.774      0.439      -0.712       0.309\n",
      "bed            0.5551      0.361      1.537      0.124      -0.153       1.263\n",
      "Foley         -0.0710      0.382     -0.186      0.852      -0.820       0.678\n",
      "Nursing        0.3274      0.381      0.859      0.390      -0.420       1.075\n",
      "Hsp-acq        1.3496      0.438      3.082      0.002       0.491       2.208\n",
      "3m-Ab          0.4410      0.360      1.224      0.221      -0.265       1.147\n",
      "3m-Adm        -0.1157      0.337     -0.343      0.731      -0.776       0.545\n",
      "NR            -0.6755      0.288     -2.347      0.019      -1.240      -0.111\n",
      "1y-UTI         0.7172      0.307      2.338      0.019       0.116       1.319\n",
      "PPIantacid    -0.3953      0.225     -1.754      0.079      -0.837       0.046\n",
      "CV            -0.0853      0.253     -0.337      0.736      -0.582       0.412\n",
      "==============================================================================\n"
     ]
    }
   ],
   "source": [
    "print(results.summary())"
   ]
  },
  {
   "cell_type": "code",
   "execution_count": 17,
   "id": "186962d2",
   "metadata": {},
   "outputs": [
    {
     "name": "stdout",
     "output_type": "stream",
     "text": [
      "              precision    recall  f1-score   support\n",
      "\n",
      "           0       0.65      0.47      0.54        47\n",
      "           1       0.58      0.74      0.65        47\n",
      "\n",
      "    accuracy                           0.61        94\n",
      "   macro avg       0.62      0.61      0.60        94\n",
      "weighted avg       0.62      0.61      0.60        94\n",
      "\n"
     ]
    }
   ],
   "source": [
    "print(classification_report(y_true=y_test['CIP'],y_pred=predicted) )"
   ]
  },
  {
   "cell_type": "code",
   "execution_count": 18,
   "id": "76e8a8ec",
   "metadata": {},
   "outputs": [
    {
     "data": {
      "text/plain": [
       "Hsp-acq    0.002054\n",
       "NR         0.018909\n",
       "1y-UTI     0.019396\n",
       "dtype: float64"
      ]
     },
     "execution_count": 18,
     "metadata": {},
     "output_type": "execute_result"
    }
   ],
   "source": [
    "results.pvalues[results.pvalues<0.05]"
   ]
  },
  {
   "cell_type": "code",
   "execution_count": 19,
   "id": "46307191",
   "metadata": {},
   "outputs": [
    {
     "data": {
      "text/plain": [
       "iDBP          0.902361\n",
       "iBT           0.873226\n",
       "pCO2          1.122513\n",
       "SaO2          0.205043\n",
       "Hb            0.384057\n",
       "Plt           1.109126\n",
       "sex           0.817348\n",
       "bed           1.742164\n",
       "Foley         0.931423\n",
       "Nursing       1.387405\n",
       "Hsp-acq       3.855968\n",
       "3m-Ab         1.554247\n",
       "3m-Adm        0.890774\n",
       "NR            0.508904\n",
       "1y-UTI        2.048734\n",
       "PPIantacid    0.673485\n",
       "CV            0.918232\n",
       "dtype: float64"
      ]
     },
     "execution_count": 19,
     "metadata": {},
     "output_type": "execute_result"
    }
   ],
   "source": [
    "np.exp(results.params)"
   ]
  },
  {
   "cell_type": "code",
   "execution_count": 20,
   "id": "391135c2",
   "metadata": {},
   "outputs": [
    {
     "data": {
      "image/png": "[encoded data removed]",
      "text/plain": [
       "<Figure size 1080x360 with 1 Axes>"
      ]
     },
     "metadata": {},
     "output_type": "display_data"
    }
   ],
   "source": [
    "from sklearn.metrics import roc_curve\n",
    "#레이블 1일때 예측 확률\n",
    "pred_positive_label=results.predict(x_test_stat_logistic)\n",
    "fprs,tprs,thresholds = roc_curve(y_test,pred_positive_label)\n",
    "precisions,recalls,thresholds = roc_curve(y_test,pred_positive_label)\n",
    "\n",
    "\n",
    "plt.figure(figsize=(15,5))\n",
    "\n",
    "#diagonal\n",
    "plt.plot([0,1],[0,1],label='STR')\n",
    "\n",
    "#ROC\n",
    "\n",
    "plt.plot(fprs,tprs,label='ROC')\n",
    "plt.xlabel('FPR')\n",
    "plt.ylabel('TPR')\n",
    "plt.legend()\n",
    "plt.grid()\n",
    "plt.show()\n"
   ]
  },
  {
   "cell_type": "code",
   "execution_count": 22,
   "id": "13d7cf87",
   "metadata": {},
   "outputs": [
    {
     "name": "stdout",
     "output_type": "stream",
     "text": [
      "roc auc value 0.6889995473064736\n"
     ]
    }
   ],
   "source": [
    "    #baseline - rf tree / auc score\n",
    "from sklearn.metrics import roc_auc_score\n",
    "\n",
    "print('roc auc value {}'.format(roc_auc_score(y_test,pred_positive_label) ))"
   ]
  },
  {
   "cell_type": "markdown",
   "id": "32547ff4",
   "metadata": {},
   "source": [
    "### 10 변수"
   ]
  },
  {
   "cell_type": "code",
   "execution_count": 23,
   "id": "23f17606",
   "metadata": {},
   "outputs": [
    {
     "name": "stdout",
     "output_type": "stream",
     "text": [
      "Optimization terminated successfully.\n",
      "         Current function value: 0.610995\n",
      "         Iterations 7\n",
      "0     0.424077\n",
      "1     0.475484\n",
      "2     0.419106\n",
      "3     0.493712\n",
      "4     0.458999\n",
      "        ...   \n",
      "89    0.394280\n",
      "90    0.747522\n",
      "91    0.804411\n",
      "92    0.395505\n",
      "93    0.511658\n",
      "Length: 94, dtype: float64\n",
      "Baseline accuracy :  0.6063829787234043\n",
      "Baseline recall :  0.7021276595744681\n"
     ]
    }
   ],
   "source": [
    "\n",
    "\n",
    "logit_mod = sm.Logit(y_train['CIP'], x_train_stat10_logistic)\n",
    "results = logit_mod.fit()\n",
    "\n",
    "predicted = results.predict(x_test_stat10_logistic)\n",
    "predicted1 = predicted \n",
    "print(predicted)\n",
    "predicted = (predicted>0.5).astype(int)\n",
    "\n",
    "\n",
    "print('Baseline accuracy : ' ,accuracy_score(y_pred = predicted, y_true = y_test['CIP']))\n",
    "print('Baseline recall : ' ,recall_score(y_pred = predicted, y_true = y_test['CIP'],average=None)[1] )\n"
   ]
  },
  {
   "cell_type": "code",
   "execution_count": 25,
   "id": "834c9e2a",
   "metadata": {},
   "outputs": [
    {
     "data": {
      "image/png": "[encoded data removed]",
      "text/plain": [
       "<Figure size 1080x360 with 1 Axes>"
      ]
     },
     "metadata": {},
     "output_type": "display_data"
    }
   ],
   "source": [
    "# roc curve\n",
    "from sklearn.metrics import roc_curve\n",
    "#레이블 1일때 예측 확률\n",
    "pred_positive_label=results.predict(x_test_stat10_logistic)\n",
    "fprs,tprs,thresholds = roc_curve(y_test,pred_positive_label)\n",
    "precisions,recalls,thresholds = roc_curve(y_test,pred_positive_label)\n",
    "\n",
    "\n",
    "plt.figure(figsize=(15,5))\n",
    "\n",
    "#diagonal\n",
    "plt.plot([0,1],[0,1],label='STR')\n",
    "\n",
    "#ROC\n",
    "\n",
    "plt.plot(fprs,tprs,label='ROC')\n",
    "plt.xlabel('FPR')\n",
    "plt.ylabel('TPR')\n",
    "plt.legend()\n",
    "plt.grid()\n",
    "plt.show()\n",
    "\n"
   ]
  },
  {
   "cell_type": "code",
   "execution_count": 26,
   "id": "5920dc15",
   "metadata": {},
   "outputs": [
    {
     "name": "stdout",
     "output_type": "stream",
     "text": [
      "roc auc value 0.7247623358985966\n"
     ]
    }
   ],
   "source": [
    "# auc score\n",
    "\n",
    "from sklearn.metrics import roc_auc_score\n",
    "\n",
    "print('roc auc value {}'.format(roc_auc_score(y_test,pred_positive_label) ))\n",
    "\n"
   ]
  },
  {
   "cell_type": "markdown",
   "id": "b525d6b9",
   "metadata": {},
   "source": [
    "### 15 변수"
   ]
  },
  {
   "cell_type": "code",
   "execution_count": 27,
   "id": "80e9760c",
   "metadata": {},
   "outputs": [
    {
     "name": "stdout",
     "output_type": "stream",
     "text": [
      "Optimization terminated successfully.\n",
      "         Current function value: 0.602200\n",
      "         Iterations 8\n",
      "0     0.434443\n",
      "1     0.536482\n",
      "2     0.446296\n",
      "3     0.545979\n",
      "4     0.443138\n",
      "        ...   \n",
      "89    0.309651\n",
      "90    0.759265\n",
      "91    0.789437\n",
      "92    0.392944\n",
      "93    0.303517\n",
      "Length: 94, dtype: float64\n",
      "Baseline accuracy :  0.6382978723404256\n",
      "Baseline recall :  0.8297872340425532\n"
     ]
    }
   ],
   "source": [
    "\n",
    "\n",
    "logit_mod = sm.Logit(y_train['CIP'], x_train_stat15_logistic)\n",
    "results = logit_mod.fit()\n",
    "\n",
    "predicted = results.predict(x_test_stat15_logistic)\n",
    "predicted1 = predicted \n",
    "print(predicted)\n",
    "predicted = (predicted>0.5).astype(int)\n",
    "\n",
    "\n",
    "print('Baseline accuracy : ' ,accuracy_score(y_pred = predicted, y_true = y_test['CIP']))\n",
    "print('Baseline recall : ' ,recall_score(y_pred = predicted, y_true = y_test['CIP'],average=None)[1] )\n"
   ]
  },
  {
   "cell_type": "code",
   "execution_count": 28,
   "id": "bfbf0e76",
   "metadata": {},
   "outputs": [
    {
     "data": {
      "image/png": "[encoded data removed]",
      "text/plain": [
       "<Figure size 1080x360 with 1 Axes>"
      ]
     },
     "metadata": {},
     "output_type": "display_data"
    }
   ],
   "source": [
    "# roc curve\n",
    "from sklearn.metrics import roc_curve\n",
    "#레이블 1일때 예측 확률\n",
    "pred_positive_label=results.predict(x_test_stat15_logistic)\n",
    "fprs,tprs,thresholds = roc_curve(y_test,pred_positive_label)\n",
    "precisions,recalls,thresholds = roc_curve(y_test,pred_positive_label)\n",
    "\n",
    "\n",
    "plt.figure(figsize=(15,5))\n",
    "\n",
    "#diagonal\n",
    "plt.plot([0,1],[0,1],label='STR')\n",
    "\n",
    "#ROC\n",
    "\n",
    "plt.plot(fprs,tprs,label='ROC')\n",
    "plt.xlabel('FPR')\n",
    "plt.ylabel('TPR')\n",
    "plt.legend()\n",
    "plt.grid()\n",
    "plt.show()\n",
    "\n"
   ]
  },
  {
   "cell_type": "code",
   "execution_count": 29,
   "id": "dc84521c",
   "metadata": {},
   "outputs": [
    {
     "name": "stdout",
     "output_type": "stream",
     "text": [
      "roc auc value 0.7052965142598461\n"
     ]
    }
   ],
   "source": [
    "# auc score\n",
    "\n",
    "from sklearn.metrics import roc_auc_score\n",
    "\n",
    "print('roc auc value {}'.format(roc_auc_score(y_test,pred_positive_label) ))\n",
    "\n"
   ]
  },
  {
   "cell_type": "markdown",
   "id": "363c82ce",
   "metadata": {},
   "source": [
    "## SVM"
   ]
  },
  {
   "cell_type": "code",
   "execution_count": 30,
   "id": "b8780b11",
   "metadata": {},
   "outputs": [],
   "source": [
    "#표준화\n",
    "\n",
    "\n",
    "scaler = StandardScaler()\n",
    "\n",
    "x_train_stat_svm = x_train.copy()\n",
    "x_test_stat_svm = x_test.copy()\n",
    "\n",
    "\n",
    "x_train_stat_svm[numeric_cols] = scaler.fit_transform(x_train_stat_svm[numeric_cols])\n",
    "x_test_stat_svm[numeric_cols] = scaler.transform(x_test_stat_svm[numeric_cols])\n",
    "\n",
    "\n"
   ]
  },
  {
   "cell_type": "code",
   "execution_count": 31,
   "id": "cc985f34",
   "metadata": {},
   "outputs": [],
   "source": [
    "x_train_stat5_svm = x_train_stat_svm.copy()\n",
    "x_train_stat5_svm = x_test_stat_svm[col5]\n",
    "\n",
    "x_test_stat5_svm = x_test_stat_svm.copy()\n",
    "x_test_stat5_svm = x_test_stat_svm[col5]\n",
    "\n",
    "\n",
    "x_train_stat10_svm = x_train_stat_svm.copy()\n",
    "x_train_stat10_svm = x_train_stat_svm[col10]\n",
    "\n",
    "x_test_stat10_svm = x_test_stat_svm.copy()\n",
    "x_test_stat10_svm = x_test_stat_svm[col10]\n",
    "\n",
    "\n",
    "x_train_stat15_svm = x_train_stat_svm.copy()\n",
    "x_train_stat15_svm = x_train_stat_svm[col15]\n",
    "\n",
    "x_test_stat15_svm = x_test_stat_svm.copy()\n",
    "x_test_stat15_svm = x_test_stat_svm[col15]\n"
   ]
  },
  {
   "cell_type": "markdown",
   "id": "6af681cf",
   "metadata": {},
   "source": [
    "### reduced"
   ]
  },
  {
   "cell_type": "code",
   "execution_count": 41,
   "id": "7c3768fa",
   "metadata": {
    "scrolled": true
   },
   "outputs": [
    {
     "data": {
      "text/html": [
       "<div>\n",
       "<style scoped>\n",
       "    .dataframe tbody tr th:only-of-type {\n",
       "        vertical-align: middle;\n",
       "    }\n",
       "\n",
       "    .dataframe tbody tr th {\n",
       "        vertical-align: top;\n",
       "    }\n",
       "\n",
       "    .dataframe thead th {\n",
       "        text-align: right;\n",
       "    }\n",
       "</style>\n",
       "<table border=\"1\" class=\"dataframe\">\n",
       "  <thead>\n",
       "    <tr style=\"text-align: right;\">\n",
       "      <th></th>\n",
       "      <th>C</th>\n",
       "      <th>mean_test_score</th>\n",
       "    </tr>\n",
       "  </thead>\n",
       "  <tbody>\n",
       "    <tr>\n",
       "      <th>2</th>\n",
       "      <td>0.100</td>\n",
       "      <td>0.716216</td>\n",
       "    </tr>\n",
       "    <tr>\n",
       "      <th>4</th>\n",
       "      <td>10.000</td>\n",
       "      <td>0.708324</td>\n",
       "    </tr>\n",
       "    <tr>\n",
       "      <th>5</th>\n",
       "      <td>25.000</td>\n",
       "      <td>0.708288</td>\n",
       "    </tr>\n",
       "    <tr>\n",
       "      <th>1</th>\n",
       "      <td>0.010</td>\n",
       "      <td>0.702991</td>\n",
       "    </tr>\n",
       "    <tr>\n",
       "      <th>6</th>\n",
       "      <td>50.000</td>\n",
       "      <td>0.702955</td>\n",
       "    </tr>\n",
       "    <tr>\n",
       "      <th>7</th>\n",
       "      <td>100.000</td>\n",
       "      <td>0.702955</td>\n",
       "    </tr>\n",
       "    <tr>\n",
       "      <th>3</th>\n",
       "      <td>1.000</td>\n",
       "      <td>0.697550</td>\n",
       "    </tr>\n",
       "    <tr>\n",
       "      <th>0</th>\n",
       "      <td>0.001</td>\n",
       "      <td>0.502667</td>\n",
       "    </tr>\n",
       "  </tbody>\n",
       "</table>\n",
       "</div>"
      ],
      "text/plain": [
       "         C  mean_test_score\n",
       "2    0.100         0.716216\n",
       "4   10.000         0.708324\n",
       "5   25.000         0.708288\n",
       "1    0.010         0.702991\n",
       "6   50.000         0.702955\n",
       "7  100.000         0.702955\n",
       "3    1.000         0.697550\n",
       "0    0.001         0.502667"
      ]
     },
     "execution_count": 41,
     "metadata": {},
     "output_type": "execute_result"
    }
   ],
   "source": [
    "import sklearn.svm as svm\n",
    "import sklearn.metrics as mt\n",
    "from sklearn.model_selection import GridSearchCV\n",
    "# 테스트하고자 하는 파라미터 값들을 사전타입으로 정의\n",
    "\n",
    "svm_clf = svm.SVC(kernel = 'linear',random_state=1234)\n",
    "parameters = {'C': [0.001, 0.01, 0.1, 1, 10, 25, 50, 100]}\n",
    "\n",
    "grid_svm = GridSearchCV(svm_clf,param_grid = parameters, cv = 5)\n",
    "\n",
    "grid_svm.fit(x_train_stat_svm, y_train['CIP'])\n",
    "\n",
    "result = pd.DataFrame(grid_svm.cv_results_['params'])\n",
    "result['mean_test_score'] = grid_svm.cv_results_['mean_test_score']\n",
    "result.sort_values(by='mean_test_score', ascending=False)\n"
   ]
  },
  {
   "cell_type": "code",
   "execution_count": 44,
   "id": "5c3a919f",
   "metadata": {},
   "outputs": [
    {
     "name": "stdout",
     "output_type": "stream",
     "text": [
      "best params :  {'C': 0.1}\n"
     ]
    }
   ],
   "source": [
    "\n",
    "print('best params : ' ,grid_svm.best_params_)\n",
    "model_best_svm = grid_svm.best_estimator_"
   ]
  },
  {
   "cell_type": "code",
   "execution_count": 33,
   "id": "7bbb9e90",
   "metadata": {},
   "outputs": [
    {
     "data": {
      "text/plain": [
       "SVC(C=0.1, kernel='linear', probability=True, random_state=1234)"
      ]
     },
     "execution_count": 33,
     "metadata": {},
     "output_type": "execute_result"
    }
   ],
   "source": [
    "model_best_svm = svm.SVC(C=0.1,kernel = 'linear',random_state=1234,probability=True)\n",
    "model_best_svm.fit(x_train_stat_svm, y_train['CIP'])"
   ]
  },
  {
   "cell_type": "code",
   "execution_count": 34,
   "id": "de0788f4",
   "metadata": {},
   "outputs": [
    {
     "name": "stdout",
     "output_type": "stream",
     "text": [
      "accuracy score: 0.702\n",
      "recall score: 0.596\n"
     ]
    }
   ],
   "source": [
    "from sklearn.metrics import accuracy_score\n",
    "\n",
    "predicted = model_best_svm.predict(x_test_stat_svm)\n",
    "accuracy = accuracy_score(y_true=y_test,y_pred=predicted)\n",
    "recall = recall_score(y_true=y_test, y_pred=predicted, average=None)\n",
    "\n",
    "print(f'accuracy score: {accuracy:.3}')\n",
    "print(f'recall score: {recall[1]:.3}')"
   ]
  },
  {
   "cell_type": "code",
   "execution_count": 44,
   "id": "859e138f",
   "metadata": {},
   "outputs": [
    {
     "data": {
      "text/html": [
       "<div>\n",
       "<style scoped>\n",
       "    .dataframe tbody tr th:only-of-type {\n",
       "        vertical-align: middle;\n",
       "    }\n",
       "\n",
       "    .dataframe tbody tr th {\n",
       "        vertical-align: top;\n",
       "    }\n",
       "\n",
       "    .dataframe thead th {\n",
       "        text-align: right;\n",
       "    }\n",
       "</style>\n",
       "<table border=\"1\" class=\"dataframe\">\n",
       "  <thead>\n",
       "    <tr style=\"text-align: right;\">\n",
       "      <th></th>\n",
       "      <th>CIP</th>\n",
       "    </tr>\n",
       "  </thead>\n",
       "  <tbody>\n",
       "    <tr>\n",
       "      <th>0</th>\n",
       "      <td>0</td>\n",
       "    </tr>\n",
       "    <tr>\n",
       "      <th>1</th>\n",
       "      <td>1</td>\n",
       "    </tr>\n",
       "    <tr>\n",
       "      <th>2</th>\n",
       "      <td>1</td>\n",
       "    </tr>\n",
       "    <tr>\n",
       "      <th>3</th>\n",
       "      <td>0</td>\n",
       "    </tr>\n",
       "    <tr>\n",
       "      <th>4</th>\n",
       "      <td>0</td>\n",
       "    </tr>\n",
       "    <tr>\n",
       "      <th>...</th>\n",
       "      <td>...</td>\n",
       "    </tr>\n",
       "    <tr>\n",
       "      <th>89</th>\n",
       "      <td>0</td>\n",
       "    </tr>\n",
       "    <tr>\n",
       "      <th>90</th>\n",
       "      <td>0</td>\n",
       "    </tr>\n",
       "    <tr>\n",
       "      <th>91</th>\n",
       "      <td>1</td>\n",
       "    </tr>\n",
       "    <tr>\n",
       "      <th>92</th>\n",
       "      <td>0</td>\n",
       "    </tr>\n",
       "    <tr>\n",
       "      <th>93</th>\n",
       "      <td>0</td>\n",
       "    </tr>\n",
       "  </tbody>\n",
       "</table>\n",
       "<p>94 rows × 1 columns</p>\n",
       "</div>"
      ],
      "text/plain": [
       "    CIP\n",
       "0     0\n",
       "1     1\n",
       "2     1\n",
       "3     0\n",
       "4     0\n",
       "..  ...\n",
       "89    0\n",
       "90    0\n",
       "91    1\n",
       "92    0\n",
       "93    0\n",
       "\n",
       "[94 rows x 1 columns]"
      ]
     },
     "execution_count": 44,
     "metadata": {},
     "output_type": "execute_result"
    }
   ],
   "source": [
    "y_test"
   ]
  },
  {
   "cell_type": "code",
   "execution_count": 46,
   "id": "f1e6b842",
   "metadata": {},
   "outputs": [
    {
     "data": {
      "image/png": "[encoded data removed]",
      "text/plain": [
       "<Figure size 1080x360 with 1 Axes>"
      ]
     },
     "metadata": {},
     "output_type": "display_data"
    }
   ],
   "source": [
    "# roc curve\n",
    "from sklearn.metrics import roc_curve\n",
    "#레이블 1일때 예측 확률\n",
    "pred_positive_label=model_best_svm.predict(x_test_stat_svm)\n",
    "fprs,tprs,thresholds = roc_curve(y_test,pred_positive_label)\n",
    "precisions,recalls,thresholds = roc_curve(y_test,pred_positive_label)\n",
    "\n",
    "\n",
    "plt.figure(figsize=(15,5))\n",
    "\n",
    "#diagonal\n",
    "plt.plot([0,1],[0,1],label='STR')\n",
    "\n",
    "#ROC\n",
    "\n",
    "plt.plot(fprs,tprs,label='ROC')\n",
    "plt.xlabel('FPR')\n",
    "plt.ylabel('TPR')\n",
    "plt.legend()\n",
    "plt.grid()\n",
    "plt.show()\n",
    "\n"
   ]
  },
  {
   "cell_type": "code",
   "execution_count": 47,
   "id": "b04baeaa",
   "metadata": {},
   "outputs": [
    {
     "name": "stdout",
     "output_type": "stream",
     "text": [
      "roc auc value 0.7021276595744681\n"
     ]
    }
   ],
   "source": [
    "# auc score\n",
    "\n",
    "from sklearn.metrics import roc_auc_score\n",
    "\n",
    "print('roc auc value {}'.format(roc_auc_score(y_test,pred_positive_label) ))\n",
    "\n"
   ]
  },
  {
   "cell_type": "markdown",
   "id": "e875c25b",
   "metadata": {},
   "source": [
    "### 10 변수"
   ]
  },
  {
   "cell_type": "code",
   "execution_count": 48,
   "id": "36cdbef7",
   "metadata": {},
   "outputs": [
    {
     "data": {
      "text/html": [
       "<div>\n",
       "<style scoped>\n",
       "    .dataframe tbody tr th:only-of-type {\n",
       "        vertical-align: middle;\n",
       "    }\n",
       "\n",
       "    .dataframe tbody tr th {\n",
       "        vertical-align: top;\n",
       "    }\n",
       "\n",
       "    .dataframe thead th {\n",
       "        text-align: right;\n",
       "    }\n",
       "</style>\n",
       "<table border=\"1\" class=\"dataframe\">\n",
       "  <thead>\n",
       "    <tr style=\"text-align: right;\">\n",
       "      <th></th>\n",
       "      <th>C</th>\n",
       "      <th>mean_test_score</th>\n",
       "    </tr>\n",
       "  </thead>\n",
       "  <tbody>\n",
       "    <tr>\n",
       "      <th>5</th>\n",
       "      <td>25.000</td>\n",
       "      <td>0.721838</td>\n",
       "    </tr>\n",
       "    <tr>\n",
       "      <th>2</th>\n",
       "      <td>0.100</td>\n",
       "      <td>0.716252</td>\n",
       "    </tr>\n",
       "    <tr>\n",
       "      <th>6</th>\n",
       "      <td>50.000</td>\n",
       "      <td>0.708324</td>\n",
       "    </tr>\n",
       "    <tr>\n",
       "      <th>7</th>\n",
       "      <td>100.000</td>\n",
       "      <td>0.708324</td>\n",
       "    </tr>\n",
       "    <tr>\n",
       "      <th>3</th>\n",
       "      <td>1.000</td>\n",
       "      <td>0.700324</td>\n",
       "    </tr>\n",
       "    <tr>\n",
       "      <th>4</th>\n",
       "      <td>10.000</td>\n",
       "      <td>0.700252</td>\n",
       "    </tr>\n",
       "    <tr>\n",
       "      <th>1</th>\n",
       "      <td>0.010</td>\n",
       "      <td>0.686919</td>\n",
       "    </tr>\n",
       "    <tr>\n",
       "      <th>0</th>\n",
       "      <td>0.001</td>\n",
       "      <td>0.502667</td>\n",
       "    </tr>\n",
       "  </tbody>\n",
       "</table>\n",
       "</div>"
      ],
      "text/plain": [
       "         C  mean_test_score\n",
       "5   25.000         0.721838\n",
       "2    0.100         0.716252\n",
       "6   50.000         0.708324\n",
       "7  100.000         0.708324\n",
       "3    1.000         0.700324\n",
       "4   10.000         0.700252\n",
       "1    0.010         0.686919\n",
       "0    0.001         0.502667"
      ]
     },
     "execution_count": 48,
     "metadata": {},
     "output_type": "execute_result"
    }
   ],
   "source": [
    "import sklearn.svm as svm\n",
    "import sklearn.metrics as mt\n",
    "from sklearn.model_selection import GridSearchCV\n",
    "# 테스트하고자 하는 파라미터 값들을 사전타입으로 정의\n",
    "\n",
    "svm_clf = svm.SVC(kernel = 'linear',random_state=1234)\n",
    "parameters = {'C': [0.001, 0.01, 0.1, 1, 10, 25, 50, 100]}\n",
    "\n",
    "grid_svm = GridSearchCV(svm_clf,param_grid = parameters, cv = 5)\n",
    "\n",
    "grid_svm.fit(x_train_stat10_svm, y_train['CIP'])\n",
    "\n",
    "result = pd.DataFrame(grid_svm.cv_results_['params'])\n",
    "result['mean_test_score'] = grid_svm.cv_results_['mean_test_score']\n",
    "result.sort_values(by='mean_test_score', ascending=False)\n"
   ]
  },
  {
   "cell_type": "code",
   "execution_count": 50,
   "id": "f7826073",
   "metadata": {},
   "outputs": [
    {
     "name": "stdout",
     "output_type": "stream",
     "text": [
      "best params :  {'C': 25}\n"
     ]
    }
   ],
   "source": [
    "\n",
    "print('best params : ' ,grid_svm.best_params_)\n",
    "model_best_svm = grid_svm.best_estimator_"
   ]
  },
  {
   "cell_type": "code",
   "execution_count": 51,
   "id": "2671799c",
   "metadata": {},
   "outputs": [
    {
     "data": {
      "text/plain": [
       "SVC(C=25, kernel='linear', probability=True, random_state=1234)"
      ]
     },
     "execution_count": 51,
     "metadata": {},
     "output_type": "execute_result"
    }
   ],
   "source": [
    "model_best_svm = svm.SVC(C=25,kernel = 'linear',random_state=1234,probability=True)\n",
    "model_best_svm.fit(x_train_stat10_svm, y_train['CIP'])"
   ]
  },
  {
   "cell_type": "code",
   "execution_count": 52,
   "id": "7ca9d405",
   "metadata": {},
   "outputs": [
    {
     "name": "stdout",
     "output_type": "stream",
     "text": [
      "accuracy score: 0.745\n",
      "recall score: 0.617\n"
     ]
    }
   ],
   "source": [
    "from sklearn.metrics import accuracy_score\n",
    "\n",
    "predicted = model_best_svm.predict(x_test_stat10_svm)\n",
    "accuracy = accuracy_score(y_true=y_test,y_pred=predicted)\n",
    "recall = recall_score(y_true=y_test, y_pred=predicted, average=None)\n",
    "\n",
    "print(f'accuracy score: {accuracy:.3}')\n",
    "print(f'recall score: {recall[1]:.3}')"
   ]
  },
  {
   "cell_type": "code",
   "execution_count": 54,
   "id": "ff30b8e8",
   "metadata": {},
   "outputs": [
    {
     "data": {
      "image/png": "[encoded data removed]",
      "text/plain": [
       "<Figure size 1080x360 with 1 Axes>"
      ]
     },
     "metadata": {},
     "output_type": "display_data"
    }
   ],
   "source": [
    "# roc curve\n",
    "from sklearn.metrics import roc_curve\n",
    "#레이블 1일때 예측 확률\n",
    "pred_positive_label=model_best_svm.predict(x_test_stat10_svm)\n",
    "fprs,tprs,thresholds = roc_curve(y_test,pred_positive_label)\n",
    "precisions,recalls,thresholds = roc_curve(y_test,pred_positive_label)\n",
    "\n",
    "\n",
    "plt.figure(figsize=(15,5))\n",
    "\n",
    "#diagonal\n",
    "plt.plot([0,1],[0,1],label='STR')\n",
    "\n",
    "#ROC\n",
    "\n",
    "plt.plot(fprs,tprs,label='ROC')\n",
    "plt.xlabel('FPR')\n",
    "plt.ylabel('TPR')\n",
    "plt.legend()\n",
    "plt.grid()\n",
    "plt.show()\n",
    "\n"
   ]
  },
  {
   "cell_type": "code",
   "execution_count": 55,
   "id": "39eb0724",
   "metadata": {},
   "outputs": [
    {
     "name": "stdout",
     "output_type": "stream",
     "text": [
      "roc auc value 0.7446808510638299\n"
     ]
    }
   ],
   "source": [
    "# auc score\n",
    "\n",
    "from sklearn.metrics import roc_auc_score\n",
    "\n",
    "print('roc auc value {}'.format(roc_auc_score(y_test,pred_positive_label) ))\n",
    "\n"
   ]
  },
  {
   "cell_type": "markdown",
   "id": "d57d3407",
   "metadata": {},
   "source": [
    "### 15 변수"
   ]
  },
  {
   "cell_type": "code",
   "execution_count": 56,
   "id": "8e684ee0",
   "metadata": {},
   "outputs": [
    {
     "data": {
      "text/html": [
       "<div>\n",
       "<style scoped>\n",
       "    .dataframe tbody tr th:only-of-type {\n",
       "        vertical-align: middle;\n",
       "    }\n",
       "\n",
       "    .dataframe tbody tr th {\n",
       "        vertical-align: top;\n",
       "    }\n",
       "\n",
       "    .dataframe thead th {\n",
       "        text-align: right;\n",
       "    }\n",
       "</style>\n",
       "<table border=\"1\" class=\"dataframe\">\n",
       "  <thead>\n",
       "    <tr style=\"text-align: right;\">\n",
       "      <th></th>\n",
       "      <th>C</th>\n",
       "      <th>mean_test_score</th>\n",
       "    </tr>\n",
       "  </thead>\n",
       "  <tbody>\n",
       "    <tr>\n",
       "      <th>2</th>\n",
       "      <td>0.100</td>\n",
       "      <td>0.721550</td>\n",
       "    </tr>\n",
       "    <tr>\n",
       "      <th>4</th>\n",
       "      <td>10.000</td>\n",
       "      <td>0.705658</td>\n",
       "    </tr>\n",
       "    <tr>\n",
       "      <th>5</th>\n",
       "      <td>25.000</td>\n",
       "      <td>0.705658</td>\n",
       "    </tr>\n",
       "    <tr>\n",
       "      <th>6</th>\n",
       "      <td>50.000</td>\n",
       "      <td>0.705622</td>\n",
       "    </tr>\n",
       "    <tr>\n",
       "      <th>7</th>\n",
       "      <td>100.000</td>\n",
       "      <td>0.705622</td>\n",
       "    </tr>\n",
       "    <tr>\n",
       "      <th>3</th>\n",
       "      <td>1.000</td>\n",
       "      <td>0.700252</td>\n",
       "    </tr>\n",
       "    <tr>\n",
       "      <th>1</th>\n",
       "      <td>0.010</td>\n",
       "      <td>0.684288</td>\n",
       "    </tr>\n",
       "    <tr>\n",
       "      <th>0</th>\n",
       "      <td>0.001</td>\n",
       "      <td>0.502667</td>\n",
       "    </tr>\n",
       "  </tbody>\n",
       "</table>\n",
       "</div>"
      ],
      "text/plain": [
       "         C  mean_test_score\n",
       "2    0.100         0.721550\n",
       "4   10.000         0.705658\n",
       "5   25.000         0.705658\n",
       "6   50.000         0.705622\n",
       "7  100.000         0.705622\n",
       "3    1.000         0.700252\n",
       "1    0.010         0.684288\n",
       "0    0.001         0.502667"
      ]
     },
     "execution_count": 56,
     "metadata": {},
     "output_type": "execute_result"
    }
   ],
   "source": [
    "import sklearn.svm as svm\n",
    "import sklearn.metrics as mt\n",
    "from sklearn.model_selection import GridSearchCV\n",
    "# 테스트하고자 하는 파라미터 값들을 사전타입으로 정의\n",
    "\n",
    "svm_clf = svm.SVC(kernel = 'linear',random_state=1234)\n",
    "parameters = {'C': [0.001, 0.01, 0.1, 1, 10, 25, 50, 100]}\n",
    "\n",
    "grid_svm = GridSearchCV(svm_clf,param_grid = parameters, cv = 5)\n",
    "\n",
    "grid_svm.fit(x_train_stat15_svm, y_train['CIP'])\n",
    "\n",
    "result = pd.DataFrame(grid_svm.cv_results_['params'])\n",
    "result['mean_test_score'] = grid_svm.cv_results_['mean_test_score']\n",
    "result.sort_values(by='mean_test_score', ascending=False)\n"
   ]
  },
  {
   "cell_type": "code",
   "execution_count": 53,
   "id": "257d1d2b",
   "metadata": {},
   "outputs": [
    {
     "name": "stdout",
     "output_type": "stream",
     "text": [
      "best params :  {'C': 0.1}\n"
     ]
    }
   ],
   "source": [
    "\n",
    "print('best params : ' ,grid_svm.best_params_)\n",
    "model_best_svm = grid_svm.best_estimator_"
   ]
  },
  {
   "cell_type": "code",
   "execution_count": 57,
   "id": "647d6b91",
   "metadata": {},
   "outputs": [
    {
     "data": {
      "text/plain": [
       "SVC(C=0.1, kernel='linear', probability=True, random_state=1234)"
      ]
     },
     "execution_count": 57,
     "metadata": {},
     "output_type": "execute_result"
    }
   ],
   "source": [
    "model_best_svm = svm.SVC(C=0.1,kernel = 'linear',random_state=1234,probability=True)\n",
    "model_best_svm.fit(x_train_stat10_svm, y_train['CIP'])"
   ]
  },
  {
   "cell_type": "code",
   "execution_count": 54,
   "id": "706ce5fb",
   "metadata": {},
   "outputs": [
    {
     "name": "stdout",
     "output_type": "stream",
     "text": [
      "accuracy score: 0.702\n",
      "recall score: 0.596\n"
     ]
    }
   ],
   "source": [
    "from sklearn.metrics import accuracy_score\n",
    "\n",
    "predicted = model_best_svm.predict(x_test_stat15_svm)\n",
    "accuracy = accuracy_score(y_true=y_test,y_pred=predicted)\n",
    "recall = recall_score(y_true=y_test, y_pred=predicted, average=None)\n",
    "\n",
    "print(f'accuracy score: {accuracy:.3}')\n",
    "print(f'recall score: {recall[1]:.3}')"
   ]
  },
  {
   "cell_type": "code",
   "execution_count": 58,
   "id": "b07b1b06",
   "metadata": {},
   "outputs": [
    {
     "data": {
      "image/png": "[encoded data removed]",
      "text/plain": [
       "<Figure size 1080x360 with 1 Axes>"
      ]
     },
     "metadata": {},
     "output_type": "display_data"
    }
   ],
   "source": [
    "# roc curve\n",
    "from sklearn.metrics import roc_curve\n",
    "#레이블 1일때 예측 확률\n",
    "pred_positive_label=model_best_svm.predict(x_test_stat10_svm)\n",
    "fprs,tprs,thresholds = roc_curve(y_test,pred_positive_label)\n",
    "precisions,recalls,thresholds = roc_curve(y_test,pred_positive_label)\n",
    "\n",
    "\n",
    "plt.figure(figsize=(15,5))\n",
    "\n",
    "#diagonal\n",
    "plt.plot([0,1],[0,1],label='STR')\n",
    "\n",
    "#ROC\n",
    "\n",
    "plt.plot(fprs,tprs,label='ROC')\n",
    "plt.xlabel('FPR')\n",
    "plt.ylabel('TPR')\n",
    "plt.legend()\n",
    "plt.grid()\n",
    "plt.show()\n",
    "\n"
   ]
  },
  {
   "cell_type": "code",
   "execution_count": 59,
   "id": "63487002",
   "metadata": {},
   "outputs": [
    {
     "name": "stdout",
     "output_type": "stream",
     "text": [
      "roc auc value 0.7127659574468086\n"
     ]
    }
   ],
   "source": [
    "# auc score\n",
    "\n",
    "from sklearn.metrics import roc_auc_score\n",
    "\n",
    "print('roc auc value {}'.format(roc_auc_score(y_test,pred_positive_label) ))\n",
    "\n"
   ]
  },
  {
   "cell_type": "markdown",
   "id": "7032d4a0",
   "metadata": {},
   "source": [
    "## random forest"
   ]
  },
  {
   "cell_type": "code",
   "execution_count": 60,
   "id": "8910019e",
   "metadata": {},
   "outputs": [],
   "source": [
    "x_train_stat10_rf = x_train.copy()\n",
    "x_train_stat10_rf = x_train_stat10_rf[col10]\n",
    "\n",
    "x_test_stat10_rf = x_test.copy()\n",
    "x_test_stat10_rf = x_test_stat10_rf[col10]\n",
    "\n",
    "\n",
    "x_train_stat15_rf = x_train.copy()\n",
    "x_train_stat15_rf = x_train_stat15_rf[col15]\n",
    "\n",
    "x_test_stat15_rf = x_test.copy()\n",
    "x_test_stat15_rf = x_test_stat15_rf[col15]\n"
   ]
  },
  {
   "cell_type": "markdown",
   "id": "8d84c529",
   "metadata": {},
   "source": [
    "### reduced"
   ]
  },
  {
   "cell_type": "code",
   "execution_count": 61,
   "id": "18e2d27d",
   "metadata": {},
   "outputs": [
    {
     "data": {
      "text/plain": [
       "RandomizedSearchCV(cv=5, estimator=RandomForestClassifier(random_state=1234),\n",
       "                   n_iter=50,\n",
       "                   param_distributions={'max_depth': [1, 2, 3, 4, 5],\n",
       "                                        'n_estimators': [10, 20, 30, 40, 50, 60,\n",
       "                                                         70, 80, 90, 100, 110,\n",
       "                                                         120, 130, 140, 150,\n",
       "                                                         160, 170, 180, 190,\n",
       "                                                         200, 210, 220, 230,\n",
       "                                                         240, 250, 260, 270,\n",
       "                                                         280, 290, 300, ...]},\n",
       "                   scoring='accuracy')"
      ]
     },
     "execution_count": 61,
     "metadata": {},
     "output_type": "execute_result"
    }
   ],
   "source": [
    "\n",
    "param_list = {\"n_estimators\": list(range(10, 500, 10)),\n",
    "              \"max_depth\": [1,2,3,4,5],}\n",
    "\n",
    "rf = RandomForestClassifier(random_state=1234)\n",
    "\n",
    "rf_random_search = RandomizedSearchCV(\n",
    "        estimator=rf,\n",
    "        param_distributions = param_list,\n",
    "        n_iter = 50,\n",
    "        cv = 5,\n",
    "        scoring = 'accuracy')\n",
    "\n",
    "rf_random_search.fit(x_train, y_train['CIP'])\n"
   ]
  },
  {
   "cell_type": "code",
   "execution_count": 62,
   "id": "7d72f954",
   "metadata": {},
   "outputs": [
    {
     "name": "stdout",
     "output_type": "stream",
     "text": [
      "best params :  {'n_estimators': 180, 'max_depth': 3}\n"
     ]
    }
   ],
   "source": [
    "print('best params : ' ,rf_random_search.best_params_)\n",
    "model_best=rf_random_search.best_estimator_"
   ]
  },
  {
   "cell_type": "code",
   "execution_count": 63,
   "id": "485d15d1",
   "metadata": {},
   "outputs": [
    {
     "data": {
      "text/plain": [
       "RandomForestClassifier(max_depth=3, n_estimators=180, random_state=1234)"
      ]
     },
     "execution_count": 63,
     "metadata": {},
     "output_type": "execute_result"
    }
   ],
   "source": [
    "model_best = RandomForestClassifier(n_estimators=180, max_depth=3,random_state=1234)\n",
    "model_best.fit(x_train, y_train['CIP'])"
   ]
  },
  {
   "cell_type": "code",
   "execution_count": 64,
   "id": "66f8a9d0",
   "metadata": {},
   "outputs": [
    {
     "name": "stdout",
     "output_type": "stream",
     "text": [
      "accuracy score: 0.681\n",
      "recall score: 0.617\n"
     ]
    }
   ],
   "source": [
    "from sklearn.metrics import accuracy_score\n",
    "\n",
    "predicted = model_best.predict(x_test)\n",
    "accuracy = accuracy_score(y_true=y_test,y_pred=predicted)\n",
    "recall = recall_score(y_true=y_test, y_pred=predicted, average=None)\n",
    "\n",
    "print(f'accuracy score: {accuracy:.3}')\n",
    "print(f'recall score: {recall[1]:.3}')\n"
   ]
  },
  {
   "cell_type": "code",
   "execution_count": 65,
   "id": "f26bc7c7",
   "metadata": {},
   "outputs": [
    {
     "data": {
      "text/plain": [
       "<AxesSubplot:>"
      ]
     },
     "execution_count": 65,
     "metadata": {},
     "output_type": "execute_result"
    },
    {
     "data": {
      "image/png": "[encoded data removed]",
      "text/plain": [
       "<Figure size 432x288 with 2 Axes>"
      ]
     },
     "metadata": {},
     "output_type": "display_data"
    }
   ],
   "source": [
    "\n",
    "cm = pd.DataFrame(confusion_matrix(y_true=y_test,y_pred = predicted), columns=['감수성','내성'], index=['감수성','내성'])\n",
    "sns.heatmap(cm, annot=True)"
   ]
  },
  {
   "cell_type": "code",
   "execution_count": 66,
   "id": "30523b76",
   "metadata": {},
   "outputs": [
    {
     "data": {
      "image/png": "[encoded data removed]",
      "text/plain": [
       "<Figure size 1080x360 with 1 Axes>"
      ]
     },
     "metadata": {},
     "output_type": "display_data"
    }
   ],
   "source": [
    "# roc curve\n",
    "from sklearn.metrics import roc_curve\n",
    "#레이블 1일때 예측 확률\n",
    "pred_positive_label=model_best.predict(x_test)\n",
    "fprs,tprs,thresholds = roc_curve(y_test,pred_positive_label)\n",
    "precisions,recalls,thresholds = roc_curve(y_test,pred_positive_label)\n",
    "\n",
    "\n",
    "plt.figure(figsize=(15,5))\n",
    "\n",
    "#diagonal\n",
    "plt.plot([0,1],[0,1],label='STR')\n",
    "\n",
    "#ROC\n",
    "\n",
    "plt.plot(fprs,tprs,label='ROC')\n",
    "plt.xlabel('FPR')\n",
    "plt.ylabel('TPR')\n",
    "plt.legend()\n",
    "plt.grid()\n",
    "plt.show()\n",
    "\n"
   ]
  },
  {
   "cell_type": "code",
   "execution_count": 67,
   "id": "3bf7409e",
   "metadata": {},
   "outputs": [
    {
     "name": "stdout",
     "output_type": "stream",
     "text": [
      "roc auc value 0.6808510638297873\n"
     ]
    }
   ],
   "source": [
    "# auc score\n",
    "\n",
    "from sklearn.metrics import roc_auc_score\n",
    "\n",
    "print('roc auc value {}'.format(roc_auc_score(y_test,pred_positive_label) ))\n",
    "\n"
   ]
  },
  {
   "cell_type": "markdown",
   "id": "de897cc2",
   "metadata": {},
   "source": [
    "결과적으로, \n",
    "\n",
    "모든 변수를 포함한 BASELINE이 0.69 었는데, 통계적 방법에 따른 선택시 0.68이 되었다.\n",
    "\n",
    "17개의 변수를 사용했을때, shap을 이용했을 때 보다 accuracy는 떨어진다. 하지만, 더 높은 recall을 달성했다."
   ]
  },
  {
   "cell_type": "markdown",
   "id": "f4fcf097",
   "metadata": {},
   "source": [
    "### 10 변수"
   ]
  },
  {
   "cell_type": "code",
   "execution_count": 60,
   "id": "3f1c66b4",
   "metadata": {},
   "outputs": [
    {
     "data": {
      "text/plain": [
       "RandomizedSearchCV(cv=5, estimator=RandomForestClassifier(random_state=1234),\n",
       "                   n_iter=50,\n",
       "                   param_distributions={'max_depth': [1, 2, 3, 4, 5],\n",
       "                                        'n_estimators': [10, 20, 30, 40, 50, 60,\n",
       "                                                         70, 80, 90, 100, 110,\n",
       "                                                         120, 130, 140, 150,\n",
       "                                                         160, 170, 180, 190,\n",
       "                                                         200, 210, 220, 230,\n",
       "                                                         240, 250, 260, 270,\n",
       "                                                         280, 290, 300, ...]},\n",
       "                   scoring='accuracy')"
      ]
     },
     "execution_count": 60,
     "metadata": {},
     "output_type": "execute_result"
    }
   ],
   "source": [
    "\n",
    "param_list = {\"n_estimators\": list(range(10, 500, 10)),\n",
    "              \"max_depth\": [1,2,3,4,5],}\n",
    "\n",
    "rf = RandomForestClassifier(random_state=1234)\n",
    "\n",
    "rf_random_search = RandomizedSearchCV(\n",
    "        estimator=rf,\n",
    "        param_distributions = param_list,\n",
    "        n_iter = 50,\n",
    "        cv = 5,\n",
    "        scoring = 'accuracy')\n",
    "\n",
    "rf_random_search.fit(x_train_stat10_rf, y_train['CIP'])\n"
   ]
  },
  {
   "cell_type": "code",
   "execution_count": 61,
   "id": "9cc33fa8",
   "metadata": {},
   "outputs": [
    {
     "name": "stdout",
     "output_type": "stream",
     "text": [
      "best params :  {'n_estimators': 170, 'max_depth': 1}\n"
     ]
    }
   ],
   "source": [
    "print('best params : ' ,rf_random_search.best_params_)\n",
    "model_best=rf_random_search.best_estimator_"
   ]
  },
  {
   "cell_type": "code",
   "execution_count": 70,
   "id": "5a2f8833",
   "metadata": {},
   "outputs": [
    {
     "data": {
      "text/plain": [
       "RandomForestClassifier(max_depth=1, n_estimators=170, random_state=1234)"
      ]
     },
     "execution_count": 70,
     "metadata": {},
     "output_type": "execute_result"
    }
   ],
   "source": [
    "model_best = RandomForestClassifier(n_estimators=170, max_depth=1,random_state=1234)\n",
    "model_best.fit(x_train_stat10_rf, y_train['CIP'])"
   ]
  },
  {
   "cell_type": "code",
   "execution_count": 71,
   "id": "638920b9",
   "metadata": {},
   "outputs": [
    {
     "name": "stdout",
     "output_type": "stream",
     "text": [
      "accuracy score: 0.67\n",
      "recall score: 0.553\n"
     ]
    }
   ],
   "source": [
    "from sklearn.metrics import accuracy_score\n",
    "\n",
    "predicted = model_best.predict(x_test_stat10_rf)\n",
    "accuracy = accuracy_score(y_true=y_test,y_pred=predicted)\n",
    "recall = recall_score(y_true=y_test, y_pred=predicted, average=None)\n",
    "\n",
    "print(f'accuracy score: {accuracy:.3}')\n",
    "print(f'recall score: {recall[1]:.3}')\n"
   ]
  },
  {
   "cell_type": "code",
   "execution_count": 72,
   "id": "a4f2b999",
   "metadata": {},
   "outputs": [
    {
     "data": {
      "image/png": "[encoded data removed]",
      "text/plain": [
       "<Figure size 1080x360 with 1 Axes>"
      ]
     },
     "metadata": {},
     "output_type": "display_data"
    }
   ],
   "source": [
    "# roc curve\n",
    "from sklearn.metrics import roc_curve\n",
    "#레이블 1일때 예측 확률\n",
    "pred_positive_label=model_best.predict(x_test_stat10_rf)\n",
    "fprs,tprs,thresholds = roc_curve(y_test,pred_positive_label)\n",
    "precisions,recalls,thresholds = roc_curve(y_test,pred_positive_label)\n",
    "\n",
    "\n",
    "plt.figure(figsize=(15,5))\n",
    "\n",
    "#diagonal\n",
    "plt.plot([0,1],[0,1],label='STR')\n",
    "\n",
    "#ROC\n",
    "\n",
    "plt.plot(fprs,tprs,label='ROC')\n",
    "plt.xlabel('FPR')\n",
    "plt.ylabel('TPR')\n",
    "plt.legend()\n",
    "plt.grid()\n",
    "plt.show()\n",
    "\n"
   ]
  },
  {
   "cell_type": "code",
   "execution_count": 73,
   "id": "ceef38d7",
   "metadata": {},
   "outputs": [
    {
     "name": "stdout",
     "output_type": "stream",
     "text": [
      "roc auc value 0.6702127659574468\n"
     ]
    }
   ],
   "source": [
    "# auc score\n",
    "\n",
    "from sklearn.metrics import roc_auc_score\n",
    "\n",
    "print('roc auc value {}'.format(roc_auc_score(y_test,pred_positive_label) ))\n",
    "\n"
   ]
  },
  {
   "cell_type": "markdown",
   "id": "697a5b95",
   "metadata": {},
   "source": [
    "### 15 변수"
   ]
  },
  {
   "cell_type": "code",
   "execution_count": 63,
   "id": "145799d0",
   "metadata": {},
   "outputs": [
    {
     "data": {
      "text/plain": [
       "RandomizedSearchCV(cv=5, estimator=RandomForestClassifier(random_state=1234),\n",
       "                   n_iter=50,\n",
       "                   param_distributions={'max_depth': [1, 2, 3, 4, 5],\n",
       "                                        'n_estimators': [10, 20, 30, 40, 50, 60,\n",
       "                                                         70, 80, 90, 100, 110,\n",
       "                                                         120, 130, 140, 150,\n",
       "                                                         160, 170, 180, 190,\n",
       "                                                         200, 210, 220, 230,\n",
       "                                                         240, 250, 260, 270,\n",
       "                                                         280, 290, 300, ...]},\n",
       "                   scoring='accuracy')"
      ]
     },
     "execution_count": 63,
     "metadata": {},
     "output_type": "execute_result"
    }
   ],
   "source": [
    "param_list = {\"n_estimators\": list(range(10, 500, 10)),\n",
    "              \"max_depth\": [1,2,3,4,5],}\n",
    "\n",
    "rf = RandomForestClassifier(random_state=1234)\n",
    "\n",
    "rf_random_search = RandomizedSearchCV(\n",
    "        estimator=rf,\n",
    "        param_distributions = param_list,\n",
    "        n_iter = 50,\n",
    "        cv = 5,\n",
    "        scoring = 'accuracy')\n",
    "\n",
    "rf_random_search.fit(x_train_stat15_rf, y_train['CIP'])\n"
   ]
  },
  {
   "cell_type": "code",
   "execution_count": 64,
   "id": "73573f09",
   "metadata": {},
   "outputs": [
    {
     "name": "stdout",
     "output_type": "stream",
     "text": [
      "best params :  {'n_estimators': 250, 'max_depth': 3}\n"
     ]
    }
   ],
   "source": [
    "print('best params : ' ,rf_random_search.best_params_)\n",
    "model_best=rf_random_search.best_estimator_"
   ]
  },
  {
   "cell_type": "code",
   "execution_count": 76,
   "id": "f71395d1",
   "metadata": {},
   "outputs": [
    {
     "data": {
      "text/plain": [
       "RandomForestClassifier(max_depth=3, n_estimators=250, random_state=1234)"
      ]
     },
     "execution_count": 76,
     "metadata": {},
     "output_type": "execute_result"
    }
   ],
   "source": [
    "model_best = RandomForestClassifier(n_estimators=250, max_depth=3,random_state=1234)\n",
    "model_best.fit(x_train_stat15_rf, y_train['CIP'])"
   ]
  },
  {
   "cell_type": "code",
   "execution_count": 77,
   "id": "a75c6ed6",
   "metadata": {},
   "outputs": [
    {
     "name": "stdout",
     "output_type": "stream",
     "text": [
      "accuracy score: 0.66\n",
      "recall score: 0.596\n"
     ]
    }
   ],
   "source": [
    "from sklearn.metrics import accuracy_score\n",
    "\n",
    "predicted = model_best.predict(x_test_stat15_rf)\n",
    "accuracy = accuracy_score(y_true=y_test,y_pred=predicted)\n",
    "recall = recall_score(y_true=y_test, y_pred=predicted, average=None)\n",
    "\n",
    "print(f'accuracy score: {accuracy:.3}')\n",
    "print(f'recall score: {recall[1]:.3}')\n"
   ]
  },
  {
   "cell_type": "code",
   "execution_count": 78,
   "id": "8b341e95",
   "metadata": {},
   "outputs": [
    {
     "data": {
      "image/png": "[encoded data removed]",
      "text/plain": [
       "<Figure size 1080x360 with 1 Axes>"
      ]
     },
     "metadata": {},
     "output_type": "display_data"
    }
   ],
   "source": [
    "# roc curve\n",
    "from sklearn.metrics import roc_curve\n",
    "#레이블 1일때 예측 확률\n",
    "pred_positive_label=model_best.predict(x_test_stat15_rf)\n",
    "fprs,tprs,thresholds = roc_curve(y_test,pred_positive_label)\n",
    "precisions,recalls,thresholds = roc_curve(y_test,pred_positive_label)\n",
    "\n",
    "\n",
    "plt.figure(figsize=(15,5))\n",
    "\n",
    "#diagonal\n",
    "plt.plot([0,1],[0,1],label='STR')\n",
    "\n",
    "#ROC\n",
    "\n",
    "plt.plot(fprs,tprs,label='ROC')\n",
    "plt.xlabel('FPR')\n",
    "plt.ylabel('TPR')\n",
    "plt.legend()\n",
    "plt.grid()\n",
    "plt.show()\n",
    "\n"
   ]
  },
  {
   "cell_type": "code",
   "execution_count": 79,
   "id": "d15e76b1",
   "metadata": {},
   "outputs": [
    {
     "name": "stdout",
     "output_type": "stream",
     "text": [
      "roc auc value 0.6595744680851063\n"
     ]
    }
   ],
   "source": [
    "# auc score\n",
    "\n",
    "from sklearn.metrics import roc_auc_score\n",
    "\n",
    "print('roc auc value {}'.format(roc_auc_score(y_test,pred_positive_label) ))\n",
    "\n"
   ]
  },
  {
   "cell_type": "markdown",
   "id": "68f32f79",
   "metadata": {},
   "source": [
    "# metric"
   ]
  },
  {
   "cell_type": "code",
   "execution_count": 45,
   "id": "1a7880e6",
   "metadata": {},
   "outputs": [],
   "source": [
    "def my_specificity(recall,acc):\n",
    "    d = recall*47\n",
    "    a = 94*acc-d\n",
    "    spec = a/47\n",
    "    return spec"
   ]
  },
  {
   "cell_type": "code",
   "execution_count": 9,
   "id": "2943d055",
   "metadata": {},
   "outputs": [
    {
     "name": "stdout",
     "output_type": "stream",
     "text": [
      "0.745\n",
      "0.8079999999999999\n",
      "0.8079999999999999\n",
      "0.25999999999999995\n",
      "0.8730000000000001\n",
      "0.851\n",
      "0.476\n",
      "0.8729999999999998\n",
      "0.8079999999999999\n",
      "0.5378000000000001\n",
      "0.8729999999999998\n",
      "0.8044000000000002\n"
     ]
    }
   ],
   "source": [
    "rf_recalls=[0.574,0.574,0.574,0.78,0.617,0.553,0.8,0.553,0.596,0.76,0.553,0.596]\n",
    "rf_accs=[0.6595,0.691,0.691,0.52,0.745,0.702,0.638,0.713,0.702,0.6489,0.713,0.7002]\n",
    "rf_specificty = []\n",
    "\n",
    "for i,recall in enumerate(rf_recalls):\n",
    "    rf_specificty.append(my_specificity(recall,rf_accs[i]))\n",
    "    print(my_specificity(recall,rf_accs[i]))"
   ]
  },
  {
   "cell_type": "code",
   "execution_count": 10,
   "id": "a33d29a0",
   "metadata": {},
   "outputs": [
    {
     "name": "stdout",
     "output_type": "stream",
     "text": [
      "0.745\n",
      "0.8079999999999999\n",
      "0.8079999999999999\n",
      "0.512\n",
      "0.8730000000000001\n",
      "0.7870000000000001\n",
      "0.44600000000000006\n",
      "0.8140000000000001\n",
      "0.7240000000000001\n",
      "0.4719999999999999\n",
      "0.8079999999999999\n",
      "0.7450000000000003\n"
     ]
    }
   ],
   "source": [
    "stat_recalls=[0.574,0.574,0.574,0.7,0.617,0.553,0.83,0.59,0.596,0.74,0.596,0.617]\n",
    "stat_accs=[0.6595,0.691,0.691,0.606,0.745,0.67,0.638,0.702,0.66,0.606,0.702,0.681]\n",
    "stat_specificty=[]\n",
    "for i,recall in enumerate(stat_recalls):\n",
    "    stat_specificty.append(my_specificity(recall,stat_accs[i]))\n",
    "    print(my_specificity(recall,stat_accs[i]))"
   ]
  },
  {
   "cell_type": "code",
   "execution_count": 12,
   "id": "4cc620d3",
   "metadata": {},
   "outputs": [
    {
     "data": {
      "text/plain": [
       "[0.745,\n",
       " 0.8079999999999999,\n",
       " 0.8079999999999999,\n",
       " 0.25999999999999995,\n",
       " 0.8730000000000001,\n",
       " 0.851,\n",
       " 0.476,\n",
       " 0.8729999999999998,\n",
       " 0.8079999999999999,\n",
       " 0.5378000000000001,\n",
       " 0.8729999999999998,\n",
       " 0.8044000000000002]"
      ]
     },
     "execution_count": 12,
     "metadata": {},
     "output_type": "execute_result"
    }
   ],
   "source": [
    "rf_specificty"
   ]
  },
  {
   "cell_type": "code",
   "execution_count": 11,
   "id": "86bfe681",
   "metadata": {},
   "outputs": [
    {
     "data": {
      "text/plain": [
       "[0.745,\n",
       " 0.8079999999999999,\n",
       " 0.8079999999999999,\n",
       " 0.512,\n",
       " 0.8730000000000001,\n",
       " 0.7870000000000001,\n",
       " 0.44600000000000006,\n",
       " 0.8140000000000001,\n",
       " 0.7240000000000001,\n",
       " 0.4719999999999999,\n",
       " 0.8079999999999999,\n",
       " 0.7450000000000003]"
      ]
     },
     "execution_count": 11,
     "metadata": {},
     "output_type": "execute_result"
    }
   ],
   "source": [
    "stat_specificty"
   ]
  },
  {
   "cell_type": "code",
   "execution_count": 47,
   "id": "7ca92d50",
   "metadata": {},
   "outputs": [
    {
     "name": "stdout",
     "output_type": "stream",
     "text": [
      "0.488\n",
      "0.8729999999999998\n",
      "0.8079999999999999\n"
     ]
    }
   ],
   "source": [
    "common_recalls=[0.766,0.553,0.596]\n",
    "common_accs=[0.627,0.713,0.702]\n",
    "\n",
    "for i,recall in enumerate(common_recalls):\n",
    "    print(my_specificity(recall,common_accs[i]))"
   ]
  },
  {
   "cell_type": "markdown",
   "id": "35b04dfe",
   "metadata": {},
   "source": [
    "# 머신러닝, 통계적 공통 변수"
   ]
  },
  {
   "cell_type": "code",
   "execution_count": 12,
   "id": "b04c62da",
   "metadata": {},
   "outputs": [
    {
     "data": {
      "text/html": [
       "<div>\n",
       "<style scoped>\n",
       "    .dataframe tbody tr th:only-of-type {\n",
       "        vertical-align: middle;\n",
       "    }\n",
       "\n",
       "    .dataframe tbody tr th {\n",
       "        vertical-align: top;\n",
       "    }\n",
       "\n",
       "    .dataframe thead th {\n",
       "        text-align: right;\n",
       "    }\n",
       "</style>\n",
       "<table border=\"1\" class=\"dataframe\">\n",
       "  <thead>\n",
       "    <tr style=\"text-align: right;\">\n",
       "      <th></th>\n",
       "      <th>iDBP</th>\n",
       "      <th>iBT</th>\n",
       "      <th>pCO2</th>\n",
       "      <th>SaO2</th>\n",
       "      <th>Hb</th>\n",
       "      <th>Plt</th>\n",
       "      <th>sex</th>\n",
       "      <th>bed</th>\n",
       "      <th>Foley</th>\n",
       "      <th>Nursing</th>\n",
       "      <th>Hsp-acq</th>\n",
       "      <th>3m-Ab</th>\n",
       "      <th>3m-Adm</th>\n",
       "      <th>NR</th>\n",
       "      <th>1y-UTI</th>\n",
       "      <th>PPIantacid</th>\n",
       "      <th>CV</th>\n",
       "    </tr>\n",
       "  </thead>\n",
       "  <tbody>\n",
       "    <tr>\n",
       "      <th>0</th>\n",
       "      <td>65</td>\n",
       "      <td>35.3</td>\n",
       "      <td>36.7</td>\n",
       "      <td>93.8</td>\n",
       "      <td>10.4</td>\n",
       "      <td>164</td>\n",
       "      <td>1</td>\n",
       "      <td>1</td>\n",
       "      <td>1</td>\n",
       "      <td>1</td>\n",
       "      <td>0</td>\n",
       "      <td>0</td>\n",
       "      <td>0</td>\n",
       "      <td>1</td>\n",
       "      <td>1</td>\n",
       "      <td>0</td>\n",
       "      <td>0</td>\n",
       "    </tr>\n",
       "    <tr>\n",
       "      <th>1</th>\n",
       "      <td>59</td>\n",
       "      <td>36.6</td>\n",
       "      <td>45.0</td>\n",
       "      <td>96.6</td>\n",
       "      <td>7.7</td>\n",
       "      <td>285</td>\n",
       "      <td>1</td>\n",
       "      <td>1</td>\n",
       "      <td>0</td>\n",
       "      <td>1</td>\n",
       "      <td>0</td>\n",
       "      <td>0</td>\n",
       "      <td>0</td>\n",
       "      <td>1</td>\n",
       "      <td>1</td>\n",
       "      <td>0</td>\n",
       "      <td>0</td>\n",
       "    </tr>\n",
       "    <tr>\n",
       "      <th>2</th>\n",
       "      <td>95</td>\n",
       "      <td>39.6</td>\n",
       "      <td>28.1</td>\n",
       "      <td>96.0</td>\n",
       "      <td>12.2</td>\n",
       "      <td>254</td>\n",
       "      <td>0</td>\n",
       "      <td>0</td>\n",
       "      <td>0</td>\n",
       "      <td>0</td>\n",
       "      <td>0</td>\n",
       "      <td>0</td>\n",
       "      <td>0</td>\n",
       "      <td>1</td>\n",
       "      <td>0</td>\n",
       "      <td>0</td>\n",
       "      <td>0</td>\n",
       "    </tr>\n",
       "    <tr>\n",
       "      <th>3</th>\n",
       "      <td>77</td>\n",
       "      <td>36.9</td>\n",
       "      <td>29.0</td>\n",
       "      <td>97.3</td>\n",
       "      <td>10.5</td>\n",
       "      <td>90</td>\n",
       "      <td>1</td>\n",
       "      <td>0</td>\n",
       "      <td>0</td>\n",
       "      <td>0</td>\n",
       "      <td>0</td>\n",
       "      <td>1</td>\n",
       "      <td>1</td>\n",
       "      <td>0</td>\n",
       "      <td>0</td>\n",
       "      <td>1</td>\n",
       "      <td>0</td>\n",
       "    </tr>\n",
       "    <tr>\n",
       "      <th>4</th>\n",
       "      <td>79</td>\n",
       "      <td>39.1</td>\n",
       "      <td>31.3</td>\n",
       "      <td>92.8</td>\n",
       "      <td>11.5</td>\n",
       "      <td>298</td>\n",
       "      <td>0</td>\n",
       "      <td>0</td>\n",
       "      <td>0</td>\n",
       "      <td>0</td>\n",
       "      <td>0</td>\n",
       "      <td>0</td>\n",
       "      <td>0</td>\n",
       "      <td>0</td>\n",
       "      <td>0</td>\n",
       "      <td>0</td>\n",
       "      <td>0</td>\n",
       "    </tr>\n",
       "    <tr>\n",
       "      <th>...</th>\n",
       "      <td>...</td>\n",
       "      <td>...</td>\n",
       "      <td>...</td>\n",
       "      <td>...</td>\n",
       "      <td>...</td>\n",
       "      <td>...</td>\n",
       "      <td>...</td>\n",
       "      <td>...</td>\n",
       "      <td>...</td>\n",
       "      <td>...</td>\n",
       "      <td>...</td>\n",
       "      <td>...</td>\n",
       "      <td>...</td>\n",
       "      <td>...</td>\n",
       "      <td>...</td>\n",
       "      <td>...</td>\n",
       "      <td>...</td>\n",
       "    </tr>\n",
       "    <tr>\n",
       "      <th>369</th>\n",
       "      <td>69</td>\n",
       "      <td>39.0</td>\n",
       "      <td>34.8</td>\n",
       "      <td>96.8</td>\n",
       "      <td>12.9</td>\n",
       "      <td>238</td>\n",
       "      <td>0</td>\n",
       "      <td>0</td>\n",
       "      <td>0</td>\n",
       "      <td>0</td>\n",
       "      <td>0</td>\n",
       "      <td>0</td>\n",
       "      <td>0</td>\n",
       "      <td>0</td>\n",
       "      <td>0</td>\n",
       "      <td>1</td>\n",
       "      <td>0</td>\n",
       "    </tr>\n",
       "    <tr>\n",
       "      <th>370</th>\n",
       "      <td>62</td>\n",
       "      <td>38.6</td>\n",
       "      <td>30.6</td>\n",
       "      <td>91.7</td>\n",
       "      <td>12.0</td>\n",
       "      <td>337</td>\n",
       "      <td>1</td>\n",
       "      <td>1</td>\n",
       "      <td>0</td>\n",
       "      <td>0</td>\n",
       "      <td>1</td>\n",
       "      <td>0</td>\n",
       "      <td>1</td>\n",
       "      <td>1</td>\n",
       "      <td>0</td>\n",
       "      <td>1</td>\n",
       "      <td>0</td>\n",
       "    </tr>\n",
       "    <tr>\n",
       "      <th>371</th>\n",
       "      <td>62</td>\n",
       "      <td>36.7</td>\n",
       "      <td>38.6</td>\n",
       "      <td>85.1</td>\n",
       "      <td>9.8</td>\n",
       "      <td>386</td>\n",
       "      <td>1</td>\n",
       "      <td>0</td>\n",
       "      <td>0</td>\n",
       "      <td>0</td>\n",
       "      <td>1</td>\n",
       "      <td>1</td>\n",
       "      <td>1</td>\n",
       "      <td>0</td>\n",
       "      <td>1</td>\n",
       "      <td>1</td>\n",
       "      <td>0</td>\n",
       "    </tr>\n",
       "    <tr>\n",
       "      <th>372</th>\n",
       "      <td>62</td>\n",
       "      <td>37.8</td>\n",
       "      <td>26.7</td>\n",
       "      <td>99.6</td>\n",
       "      <td>8.0</td>\n",
       "      <td>533</td>\n",
       "      <td>0</td>\n",
       "      <td>1</td>\n",
       "      <td>0</td>\n",
       "      <td>0</td>\n",
       "      <td>1</td>\n",
       "      <td>1</td>\n",
       "      <td>1</td>\n",
       "      <td>1</td>\n",
       "      <td>1</td>\n",
       "      <td>1</td>\n",
       "      <td>0</td>\n",
       "    </tr>\n",
       "    <tr>\n",
       "      <th>373</th>\n",
       "      <td>63</td>\n",
       "      <td>36.1</td>\n",
       "      <td>29.4</td>\n",
       "      <td>98.2</td>\n",
       "      <td>10.1</td>\n",
       "      <td>94</td>\n",
       "      <td>0</td>\n",
       "      <td>1</td>\n",
       "      <td>0</td>\n",
       "      <td>0</td>\n",
       "      <td>1</td>\n",
       "      <td>0</td>\n",
       "      <td>1</td>\n",
       "      <td>1</td>\n",
       "      <td>1</td>\n",
       "      <td>1</td>\n",
       "      <td>0</td>\n",
       "    </tr>\n",
       "  </tbody>\n",
       "</table>\n",
       "<p>374 rows × 17 columns</p>\n",
       "</div>"
      ],
      "text/plain": [
       "     iDBP   iBT  pCO2  SaO2    Hb  Plt sex bed Foley Nursing Hsp-acq 3m-Ab  \\\n",
       "0      65  35.3  36.7  93.8  10.4  164   1   1     1       1       0     0   \n",
       "1      59  36.6  45.0  96.6   7.7  285   1   1     0       1       0     0   \n",
       "2      95  39.6  28.1  96.0  12.2  254   0   0     0       0       0     0   \n",
       "3      77  36.9  29.0  97.3  10.5   90   1   0     0       0       0     1   \n",
       "4      79  39.1  31.3  92.8  11.5  298   0   0     0       0       0     0   \n",
       "..    ...   ...   ...   ...   ...  ...  ..  ..   ...     ...     ...   ...   \n",
       "369    69  39.0  34.8  96.8  12.9  238   0   0     0       0       0     0   \n",
       "370    62  38.6  30.6  91.7  12.0  337   1   1     0       0       1     0   \n",
       "371    62  36.7  38.6  85.1   9.8  386   1   0     0       0       1     1   \n",
       "372    62  37.8  26.7  99.6   8.0  533   0   1     0       0       1     1   \n",
       "373    63  36.1  29.4  98.2  10.1   94   0   1     0       0       1     0   \n",
       "\n",
       "    3m-Adm NR 1y-UTI PPIantacid CV  \n",
       "0        0  1      1          0  0  \n",
       "1        0  1      1          0  0  \n",
       "2        0  1      0          0  0  \n",
       "3        1  0      0          1  0  \n",
       "4        0  0      0          0  0  \n",
       "..     ... ..    ...        ... ..  \n",
       "369      0  0      0          1  0  \n",
       "370      1  1      0          1  0  \n",
       "371      1  0      1          1  0  \n",
       "372      1  1      1          1  0  \n",
       "373      1  1      1          1  0  \n",
       "\n",
       "[374 rows x 17 columns]"
      ]
     },
     "execution_count": 12,
     "metadata": {},
     "output_type": "execute_result"
    }
   ],
   "source": [
    "x_train"
   ]
  },
  {
   "cell_type": "code",
   "execution_count": 18,
   "id": "b0568aa3",
   "metadata": {},
   "outputs": [
    {
     "data": {
      "text/html": [
       "<div>\n",
       "<style scoped>\n",
       "    .dataframe tbody tr th:only-of-type {\n",
       "        vertical-align: middle;\n",
       "    }\n",
       "\n",
       "    .dataframe tbody tr th {\n",
       "        vertical-align: top;\n",
       "    }\n",
       "\n",
       "    .dataframe thead th {\n",
       "        text-align: right;\n",
       "    }\n",
       "</style>\n",
       "<table border=\"1\" class=\"dataframe\">\n",
       "  <thead>\n",
       "    <tr style=\"text-align: right;\">\n",
       "      <th></th>\n",
       "      <th>iDBP</th>\n",
       "      <th>iBT</th>\n",
       "      <th>pCO2</th>\n",
       "      <th>SaO2</th>\n",
       "      <th>Hb</th>\n",
       "      <th>Plt</th>\n",
       "      <th>sex</th>\n",
       "      <th>bed</th>\n",
       "      <th>Foley</th>\n",
       "      <th>Nursing</th>\n",
       "      <th>Hsp-acq</th>\n",
       "      <th>3m-Ab</th>\n",
       "      <th>3m-Adm</th>\n",
       "      <th>NR</th>\n",
       "      <th>1y-UTI</th>\n",
       "      <th>PPIantacid</th>\n",
       "      <th>CV</th>\n",
       "    </tr>\n",
       "  </thead>\n",
       "  <tbody>\n",
       "    <tr>\n",
       "      <th>0</th>\n",
       "      <td>58</td>\n",
       "      <td>39.1</td>\n",
       "      <td>30.8</td>\n",
       "      <td>94.7</td>\n",
       "      <td>13.1</td>\n",
       "      <td>191</td>\n",
       "      <td>1</td>\n",
       "      <td>0</td>\n",
       "      <td>0</td>\n",
       "      <td>0</td>\n",
       "      <td>0</td>\n",
       "      <td>0</td>\n",
       "      <td>0</td>\n",
       "      <td>0</td>\n",
       "      <td>0</td>\n",
       "      <td>0</td>\n",
       "      <td>0</td>\n",
       "    </tr>\n",
       "    <tr>\n",
       "      <th>1</th>\n",
       "      <td>82</td>\n",
       "      <td>39.4</td>\n",
       "      <td>40.4</td>\n",
       "      <td>93.2</td>\n",
       "      <td>14.0</td>\n",
       "      <td>194</td>\n",
       "      <td>0</td>\n",
       "      <td>0</td>\n",
       "      <td>0</td>\n",
       "      <td>0</td>\n",
       "      <td>0</td>\n",
       "      <td>1</td>\n",
       "      <td>1</td>\n",
       "      <td>0</td>\n",
       "      <td>0</td>\n",
       "      <td>1</td>\n",
       "      <td>0</td>\n",
       "    </tr>\n",
       "    <tr>\n",
       "      <th>2</th>\n",
       "      <td>69</td>\n",
       "      <td>38.2</td>\n",
       "      <td>34.2</td>\n",
       "      <td>94.5</td>\n",
       "      <td>13.4</td>\n",
       "      <td>236</td>\n",
       "      <td>1</td>\n",
       "      <td>0</td>\n",
       "      <td>0</td>\n",
       "      <td>0</td>\n",
       "      <td>0</td>\n",
       "      <td>0</td>\n",
       "      <td>0</td>\n",
       "      <td>0</td>\n",
       "      <td>0</td>\n",
       "      <td>0</td>\n",
       "      <td>1</td>\n",
       "    </tr>\n",
       "    <tr>\n",
       "      <th>3</th>\n",
       "      <td>50</td>\n",
       "      <td>38.6</td>\n",
       "      <td>33.5</td>\n",
       "      <td>91.9</td>\n",
       "      <td>12.1</td>\n",
       "      <td>152</td>\n",
       "      <td>0</td>\n",
       "      <td>0</td>\n",
       "      <td>0</td>\n",
       "      <td>0</td>\n",
       "      <td>0</td>\n",
       "      <td>0</td>\n",
       "      <td>0</td>\n",
       "      <td>0</td>\n",
       "      <td>0</td>\n",
       "      <td>0</td>\n",
       "      <td>0</td>\n",
       "    </tr>\n",
       "    <tr>\n",
       "      <th>4</th>\n",
       "      <td>68</td>\n",
       "      <td>39.4</td>\n",
       "      <td>32.6</td>\n",
       "      <td>94.7</td>\n",
       "      <td>11.5</td>\n",
       "      <td>129</td>\n",
       "      <td>1</td>\n",
       "      <td>0</td>\n",
       "      <td>0</td>\n",
       "      <td>0</td>\n",
       "      <td>0</td>\n",
       "      <td>0</td>\n",
       "      <td>0</td>\n",
       "      <td>0</td>\n",
       "      <td>0</td>\n",
       "      <td>0</td>\n",
       "      <td>0</td>\n",
       "    </tr>\n",
       "    <tr>\n",
       "      <th>...</th>\n",
       "      <td>...</td>\n",
       "      <td>...</td>\n",
       "      <td>...</td>\n",
       "      <td>...</td>\n",
       "      <td>...</td>\n",
       "      <td>...</td>\n",
       "      <td>...</td>\n",
       "      <td>...</td>\n",
       "      <td>...</td>\n",
       "      <td>...</td>\n",
       "      <td>...</td>\n",
       "      <td>...</td>\n",
       "      <td>...</td>\n",
       "      <td>...</td>\n",
       "      <td>...</td>\n",
       "      <td>...</td>\n",
       "      <td>...</td>\n",
       "    </tr>\n",
       "    <tr>\n",
       "      <th>89</th>\n",
       "      <td>67</td>\n",
       "      <td>39.3</td>\n",
       "      <td>26.6</td>\n",
       "      <td>97.0</td>\n",
       "      <td>9.9</td>\n",
       "      <td>25</td>\n",
       "      <td>0</td>\n",
       "      <td>0</td>\n",
       "      <td>0</td>\n",
       "      <td>0</td>\n",
       "      <td>0</td>\n",
       "      <td>1</td>\n",
       "      <td>1</td>\n",
       "      <td>1</td>\n",
       "      <td>0</td>\n",
       "      <td>1</td>\n",
       "      <td>0</td>\n",
       "    </tr>\n",
       "    <tr>\n",
       "      <th>90</th>\n",
       "      <td>90</td>\n",
       "      <td>38.1</td>\n",
       "      <td>36.6</td>\n",
       "      <td>95.8</td>\n",
       "      <td>11.0</td>\n",
       "      <td>183</td>\n",
       "      <td>0</td>\n",
       "      <td>0</td>\n",
       "      <td>0</td>\n",
       "      <td>0</td>\n",
       "      <td>1</td>\n",
       "      <td>0</td>\n",
       "      <td>1</td>\n",
       "      <td>0</td>\n",
       "      <td>0</td>\n",
       "      <td>0</td>\n",
       "      <td>0</td>\n",
       "    </tr>\n",
       "    <tr>\n",
       "      <th>91</th>\n",
       "      <td>82</td>\n",
       "      <td>37.1</td>\n",
       "      <td>37.5</td>\n",
       "      <td>94.9</td>\n",
       "      <td>7.8</td>\n",
       "      <td>297</td>\n",
       "      <td>0</td>\n",
       "      <td>1</td>\n",
       "      <td>1</td>\n",
       "      <td>0</td>\n",
       "      <td>1</td>\n",
       "      <td>0</td>\n",
       "      <td>1</td>\n",
       "      <td>1</td>\n",
       "      <td>0</td>\n",
       "      <td>0</td>\n",
       "      <td>1</td>\n",
       "    </tr>\n",
       "    <tr>\n",
       "      <th>92</th>\n",
       "      <td>89</td>\n",
       "      <td>40.5</td>\n",
       "      <td>30.2</td>\n",
       "      <td>91.2</td>\n",
       "      <td>14.3</td>\n",
       "      <td>214</td>\n",
       "      <td>1</td>\n",
       "      <td>0</td>\n",
       "      <td>0</td>\n",
       "      <td>0</td>\n",
       "      <td>0</td>\n",
       "      <td>0</td>\n",
       "      <td>0</td>\n",
       "      <td>0</td>\n",
       "      <td>0</td>\n",
       "      <td>0</td>\n",
       "      <td>0</td>\n",
       "    </tr>\n",
       "    <tr>\n",
       "      <th>93</th>\n",
       "      <td>75</td>\n",
       "      <td>38.5</td>\n",
       "      <td>17.1</td>\n",
       "      <td>94.9</td>\n",
       "      <td>9.6</td>\n",
       "      <td>58</td>\n",
       "      <td>1</td>\n",
       "      <td>1</td>\n",
       "      <td>1</td>\n",
       "      <td>0</td>\n",
       "      <td>0</td>\n",
       "      <td>0</td>\n",
       "      <td>0</td>\n",
       "      <td>1</td>\n",
       "      <td>0</td>\n",
       "      <td>0</td>\n",
       "      <td>0</td>\n",
       "    </tr>\n",
       "  </tbody>\n",
       "</table>\n",
       "<p>94 rows × 17 columns</p>\n",
       "</div>"
      ],
      "text/plain": [
       "    iDBP   iBT  pCO2  SaO2    Hb  Plt sex bed Foley Nursing Hsp-acq 3m-Ab  \\\n",
       "0     58  39.1  30.8  94.7  13.1  191   1   0     0       0       0     0   \n",
       "1     82  39.4  40.4  93.2  14.0  194   0   0     0       0       0     1   \n",
       "2     69  38.2  34.2  94.5  13.4  236   1   0     0       0       0     0   \n",
       "3     50  38.6  33.5  91.9  12.1  152   0   0     0       0       0     0   \n",
       "4     68  39.4  32.6  94.7  11.5  129   1   0     0       0       0     0   \n",
       "..   ...   ...   ...   ...   ...  ...  ..  ..   ...     ...     ...   ...   \n",
       "89    67  39.3  26.6  97.0   9.9   25   0   0     0       0       0     1   \n",
       "90    90  38.1  36.6  95.8  11.0  183   0   0     0       0       1     0   \n",
       "91    82  37.1  37.5  94.9   7.8  297   0   1     1       0       1     0   \n",
       "92    89  40.5  30.2  91.2  14.3  214   1   0     0       0       0     0   \n",
       "93    75  38.5  17.1  94.9   9.6   58   1   1     1       0       0     0   \n",
       "\n",
       "   3m-Adm NR 1y-UTI PPIantacid CV  \n",
       "0       0  0      0          0  0  \n",
       "1       1  0      0          1  0  \n",
       "2       0  0      0          0  1  \n",
       "3       0  0      0          0  0  \n",
       "4       0  0      0          0  0  \n",
       "..    ... ..    ...        ... ..  \n",
       "89      1  1      0          1  0  \n",
       "90      1  0      0          0  0  \n",
       "91      1  1      0          0  1  \n",
       "92      0  0      0          0  0  \n",
       "93      0  1      0          0  0  \n",
       "\n",
       "[94 rows x 17 columns]"
      ]
     },
     "execution_count": 18,
     "metadata": {},
     "output_type": "execute_result"
    }
   ],
   "source": [
    "x_test"
   ]
  },
  {
   "cell_type": "code",
   "execution_count": 14,
   "id": "384811eb",
   "metadata": {},
   "outputs": [],
   "source": [
    "common_col = ['bed','Hsp-acq','3m-Ab','3m-Adm','1y-UTI','Hb','Foley','NR','sex','iDBP','pCO2','Plt','PPIantacid']\n",
    "x_train_common = x_train.copy()\n",
    "x_train_common = x_train_common[common_col]"
   ]
  },
  {
   "cell_type": "code",
   "execution_count": 19,
   "id": "4aab5341",
   "metadata": {},
   "outputs": [],
   "source": [
    "x_test_common = x_test.copy()\n",
    "x_test_common = x_test_common[common_col]"
   ]
  },
  {
   "cell_type": "code",
   "execution_count": 17,
   "id": "e0078e98",
   "metadata": {},
   "outputs": [
    {
     "data": {
      "text/html": [
       "<div>\n",
       "<style scoped>\n",
       "    .dataframe tbody tr th:only-of-type {\n",
       "        vertical-align: middle;\n",
       "    }\n",
       "\n",
       "    .dataframe tbody tr th {\n",
       "        vertical-align: top;\n",
       "    }\n",
       "\n",
       "    .dataframe thead th {\n",
       "        text-align: right;\n",
       "    }\n",
       "</style>\n",
       "<table border=\"1\" class=\"dataframe\">\n",
       "  <thead>\n",
       "    <tr style=\"text-align: right;\">\n",
       "      <th></th>\n",
       "      <th>bed</th>\n",
       "      <th>Hsp-acq</th>\n",
       "      <th>3m-Ab</th>\n",
       "      <th>3m-Adm</th>\n",
       "      <th>1y-UTI</th>\n",
       "      <th>Hb</th>\n",
       "      <th>Foley</th>\n",
       "      <th>NR</th>\n",
       "      <th>sex</th>\n",
       "      <th>iDBP</th>\n",
       "      <th>pCO2</th>\n",
       "      <th>Plt</th>\n",
       "      <th>PPIantacid</th>\n",
       "    </tr>\n",
       "  </thead>\n",
       "  <tbody>\n",
       "    <tr>\n",
       "      <th>0</th>\n",
       "      <td>1</td>\n",
       "      <td>0</td>\n",
       "      <td>0</td>\n",
       "      <td>0</td>\n",
       "      <td>1</td>\n",
       "      <td>10.4</td>\n",
       "      <td>1</td>\n",
       "      <td>1</td>\n",
       "      <td>1</td>\n",
       "      <td>65</td>\n",
       "      <td>36.7</td>\n",
       "      <td>164</td>\n",
       "      <td>0</td>\n",
       "    </tr>\n",
       "    <tr>\n",
       "      <th>1</th>\n",
       "      <td>1</td>\n",
       "      <td>0</td>\n",
       "      <td>0</td>\n",
       "      <td>0</td>\n",
       "      <td>1</td>\n",
       "      <td>7.7</td>\n",
       "      <td>0</td>\n",
       "      <td>1</td>\n",
       "      <td>1</td>\n",
       "      <td>59</td>\n",
       "      <td>45.0</td>\n",
       "      <td>285</td>\n",
       "      <td>0</td>\n",
       "    </tr>\n",
       "    <tr>\n",
       "      <th>2</th>\n",
       "      <td>0</td>\n",
       "      <td>0</td>\n",
       "      <td>0</td>\n",
       "      <td>0</td>\n",
       "      <td>0</td>\n",
       "      <td>12.2</td>\n",
       "      <td>0</td>\n",
       "      <td>1</td>\n",
       "      <td>0</td>\n",
       "      <td>95</td>\n",
       "      <td>28.1</td>\n",
       "      <td>254</td>\n",
       "      <td>0</td>\n",
       "    </tr>\n",
       "    <tr>\n",
       "      <th>3</th>\n",
       "      <td>0</td>\n",
       "      <td>0</td>\n",
       "      <td>1</td>\n",
       "      <td>1</td>\n",
       "      <td>0</td>\n",
       "      <td>10.5</td>\n",
       "      <td>0</td>\n",
       "      <td>0</td>\n",
       "      <td>1</td>\n",
       "      <td>77</td>\n",
       "      <td>29.0</td>\n",
       "      <td>90</td>\n",
       "      <td>1</td>\n",
       "    </tr>\n",
       "    <tr>\n",
       "      <th>4</th>\n",
       "      <td>0</td>\n",
       "      <td>0</td>\n",
       "      <td>0</td>\n",
       "      <td>0</td>\n",
       "      <td>0</td>\n",
       "      <td>11.5</td>\n",
       "      <td>0</td>\n",
       "      <td>0</td>\n",
       "      <td>0</td>\n",
       "      <td>79</td>\n",
       "      <td>31.3</td>\n",
       "      <td>298</td>\n",
       "      <td>0</td>\n",
       "    </tr>\n",
       "    <tr>\n",
       "      <th>...</th>\n",
       "      <td>...</td>\n",
       "      <td>...</td>\n",
       "      <td>...</td>\n",
       "      <td>...</td>\n",
       "      <td>...</td>\n",
       "      <td>...</td>\n",
       "      <td>...</td>\n",
       "      <td>...</td>\n",
       "      <td>...</td>\n",
       "      <td>...</td>\n",
       "      <td>...</td>\n",
       "      <td>...</td>\n",
       "      <td>...</td>\n",
       "    </tr>\n",
       "    <tr>\n",
       "      <th>369</th>\n",
       "      <td>0</td>\n",
       "      <td>0</td>\n",
       "      <td>0</td>\n",
       "      <td>0</td>\n",
       "      <td>0</td>\n",
       "      <td>12.9</td>\n",
       "      <td>0</td>\n",
       "      <td>0</td>\n",
       "      <td>0</td>\n",
       "      <td>69</td>\n",
       "      <td>34.8</td>\n",
       "      <td>238</td>\n",
       "      <td>1</td>\n",
       "    </tr>\n",
       "    <tr>\n",
       "      <th>370</th>\n",
       "      <td>1</td>\n",
       "      <td>1</td>\n",
       "      <td>0</td>\n",
       "      <td>1</td>\n",
       "      <td>0</td>\n",
       "      <td>12.0</td>\n",
       "      <td>0</td>\n",
       "      <td>1</td>\n",
       "      <td>1</td>\n",
       "      <td>62</td>\n",
       "      <td>30.6</td>\n",
       "      <td>337</td>\n",
       "      <td>1</td>\n",
       "    </tr>\n",
       "    <tr>\n",
       "      <th>371</th>\n",
       "      <td>0</td>\n",
       "      <td>1</td>\n",
       "      <td>1</td>\n",
       "      <td>1</td>\n",
       "      <td>1</td>\n",
       "      <td>9.8</td>\n",
       "      <td>0</td>\n",
       "      <td>0</td>\n",
       "      <td>1</td>\n",
       "      <td>62</td>\n",
       "      <td>38.6</td>\n",
       "      <td>386</td>\n",
       "      <td>1</td>\n",
       "    </tr>\n",
       "    <tr>\n",
       "      <th>372</th>\n",
       "      <td>1</td>\n",
       "      <td>1</td>\n",
       "      <td>1</td>\n",
       "      <td>1</td>\n",
       "      <td>1</td>\n",
       "      <td>8.0</td>\n",
       "      <td>0</td>\n",
       "      <td>1</td>\n",
       "      <td>0</td>\n",
       "      <td>62</td>\n",
       "      <td>26.7</td>\n",
       "      <td>533</td>\n",
       "      <td>1</td>\n",
       "    </tr>\n",
       "    <tr>\n",
       "      <th>373</th>\n",
       "      <td>1</td>\n",
       "      <td>1</td>\n",
       "      <td>0</td>\n",
       "      <td>1</td>\n",
       "      <td>1</td>\n",
       "      <td>10.1</td>\n",
       "      <td>0</td>\n",
       "      <td>1</td>\n",
       "      <td>0</td>\n",
       "      <td>63</td>\n",
       "      <td>29.4</td>\n",
       "      <td>94</td>\n",
       "      <td>1</td>\n",
       "    </tr>\n",
       "  </tbody>\n",
       "</table>\n",
       "<p>374 rows × 13 columns</p>\n",
       "</div>"
      ],
      "text/plain": [
       "    bed Hsp-acq 3m-Ab 3m-Adm 1y-UTI    Hb Foley NR sex  iDBP  pCO2  Plt  \\\n",
       "0     1       0     0      0      1  10.4     1  1   1    65  36.7  164   \n",
       "1     1       0     0      0      1   7.7     0  1   1    59  45.0  285   \n",
       "2     0       0     0      0      0  12.2     0  1   0    95  28.1  254   \n",
       "3     0       0     1      1      0  10.5     0  0   1    77  29.0   90   \n",
       "4     0       0     0      0      0  11.5     0  0   0    79  31.3  298   \n",
       "..   ..     ...   ...    ...    ...   ...   ... ..  ..   ...   ...  ...   \n",
       "369   0       0     0      0      0  12.9     0  0   0    69  34.8  238   \n",
       "370   1       1     0      1      0  12.0     0  1   1    62  30.6  337   \n",
       "371   0       1     1      1      1   9.8     0  0   1    62  38.6  386   \n",
       "372   1       1     1      1      1   8.0     0  1   0    62  26.7  533   \n",
       "373   1       1     0      1      1  10.1     0  1   0    63  29.4   94   \n",
       "\n",
       "    PPIantacid  \n",
       "0            0  \n",
       "1            0  \n",
       "2            0  \n",
       "3            1  \n",
       "4            0  \n",
       "..         ...  \n",
       "369          1  \n",
       "370          1  \n",
       "371          1  \n",
       "372          1  \n",
       "373          1  \n",
       "\n",
       "[374 rows x 13 columns]"
      ]
     },
     "execution_count": 17,
     "metadata": {},
     "output_type": "execute_result"
    }
   ],
   "source": [
    "x_train_common"
   ]
  },
  {
   "cell_type": "markdown",
   "id": "20356c3a",
   "metadata": {},
   "source": [
    "## random forest"
   ]
  },
  {
   "cell_type": "code",
   "execution_count": 27,
   "id": "640f495f",
   "metadata": {},
   "outputs": [
    {
     "data": {
      "text/plain": [
       "RandomizedSearchCV(cv=5, estimator=RandomForestClassifier(random_state=1234),\n",
       "                   n_iter=50, n_jobs=4,\n",
       "                   param_distributions={'max_depth': [1, 2, 3, 4, 5],\n",
       "                                        'n_estimators': [10, 20, 30, 40, 50, 60,\n",
       "                                                         70, 80, 90, 100, 110,\n",
       "                                                         120, 130, 140, 150,\n",
       "                                                         160, 170, 180, 190,\n",
       "                                                         200, 210, 220, 230,\n",
       "                                                         240, 250, 260, 270,\n",
       "                                                         280, 290, 300, ...]},\n",
       "                   scoring='accuracy')"
      ]
     },
     "execution_count": 27,
     "metadata": {},
     "output_type": "execute_result"
    }
   ],
   "source": [
    "\n",
    "param_list = {\"n_estimators\": list(range(10, 500, 10)),\n",
    "              \"max_depth\": [1,2,3,4,5],}\n",
    "\n",
    "rf = RandomForestClassifier(random_state=1234,)\n",
    "\n",
    "rf_random_search = RandomizedSearchCV(\n",
    "        estimator=rf,\n",
    "        param_distributions = param_list,\n",
    "        n_iter = 50,\n",
    "        cv = 5,\n",
    "        scoring = 'accuracy',\n",
    "        n_jobs=4,)\n",
    "\n",
    "rf_random_search.fit(x_train_common, y_train['CIP'])\n"
   ]
  },
  {
   "cell_type": "code",
   "execution_count": 28,
   "id": "d5796283",
   "metadata": {},
   "outputs": [
    {
     "name": "stdout",
     "output_type": "stream",
     "text": [
      "best params :  {'n_estimators': 160, 'max_depth': 1}\n"
     ]
    }
   ],
   "source": [
    "print('best params : ' ,rf_random_search.best_params_)\n",
    "model_best=rf_random_search.best_estimator_"
   ]
  },
  {
   "cell_type": "code",
   "execution_count": 29,
   "id": "ede09cfa",
   "metadata": {},
   "outputs": [
    {
     "data": {
      "text/plain": [
       "RandomForestClassifier(max_depth=1, n_estimators=160, random_state=1234)"
      ]
     },
     "execution_count": 29,
     "metadata": {},
     "output_type": "execute_result"
    }
   ],
   "source": [
    "model_best = RandomForestClassifier(n_estimators=160, max_depth=1,random_state=1234)\n",
    "model_best.fit(x_train_common, y_train['CIP'])"
   ]
  },
  {
   "cell_type": "code",
   "execution_count": 31,
   "id": "e929f981",
   "metadata": {},
   "outputs": [
    {
     "name": "stdout",
     "output_type": "stream",
     "text": [
      "accuracy score: 0.702\n",
      "recall score: 0.596\n"
     ]
    }
   ],
   "source": [
    "from sklearn.metrics import accuracy_score\n",
    "\n",
    "predicted = model_best.predict(x_test_common)\n",
    "accuracy = accuracy_score(y_true=y_test,y_pred=predicted)\n",
    "recall = recall_score(y_true=y_test, y_pred=predicted, average=None)\n",
    "\n",
    "print(f'accuracy score: {accuracy:.3}')\n",
    "print(f'recall score: {recall[1]:.3}')\n"
   ]
  },
  {
   "cell_type": "code",
   "execution_count": 32,
   "id": "b0b61b6c",
   "metadata": {},
   "outputs": [
    {
     "data": {
      "image/png": "[encoded data removed]",
      "text/plain": [
       "<Figure size 1080x360 with 1 Axes>"
      ]
     },
     "metadata": {},
     "output_type": "display_data"
    }
   ],
   "source": [
    "# roc curve\n",
    "from sklearn.metrics import roc_curve\n",
    "#레이블 1일때 예측 확률\n",
    "pred_positive_label=model_best.predict(x_test_common)\n",
    "fprs,tprs,thresholds = roc_curve(y_test,pred_positive_label)\n",
    "precisions,recalls,thresholds = roc_curve(y_test,pred_positive_label)\n",
    "\n",
    "\n",
    "plt.figure(figsize=(15,5))\n",
    "\n",
    "#diagonal\n",
    "plt.plot([0,1],[0,1],label='STR')\n",
    "\n",
    "#ROC\n",
    "\n",
    "plt.plot(fprs,tprs,label='ROC')\n",
    "plt.xlabel('FPR')\n",
    "plt.ylabel('TPR')\n",
    "plt.legend()\n",
    "plt.grid()\n",
    "plt.show()\n",
    "\n"
   ]
  },
  {
   "cell_type": "code",
   "execution_count": 33,
   "id": "21759250",
   "metadata": {},
   "outputs": [
    {
     "name": "stdout",
     "output_type": "stream",
     "text": [
      "roc auc value 0.7021276595744681\n"
     ]
    }
   ],
   "source": [
    "# auc score\n",
    "\n",
    "from sklearn.metrics import roc_auc_score\n",
    "\n",
    "print('roc auc value {}'.format(roc_auc_score(y_test,pred_positive_label) ))\n",
    "\n"
   ]
  },
  {
   "cell_type": "markdown",
   "id": "f100de54",
   "metadata": {},
   "source": [
    "## svm"
   ]
  },
  {
   "cell_type": "code",
   "execution_count": 20,
   "id": "7aae6dfd",
   "metadata": {},
   "outputs": [
    {
     "data": {
      "text/html": [
       "<div>\n",
       "<style scoped>\n",
       "    .dataframe tbody tr th:only-of-type {\n",
       "        vertical-align: middle;\n",
       "    }\n",
       "\n",
       "    .dataframe tbody tr th {\n",
       "        vertical-align: top;\n",
       "    }\n",
       "\n",
       "    .dataframe thead th {\n",
       "        text-align: right;\n",
       "    }\n",
       "</style>\n",
       "<table border=\"1\" class=\"dataframe\">\n",
       "  <thead>\n",
       "    <tr style=\"text-align: right;\">\n",
       "      <th></th>\n",
       "      <th>C</th>\n",
       "      <th>mean_test_score</th>\n",
       "    </tr>\n",
       "  </thead>\n",
       "  <tbody>\n",
       "    <tr>\n",
       "      <th>2</th>\n",
       "      <td>0.100</td>\n",
       "      <td>0.716252</td>\n",
       "    </tr>\n",
       "    <tr>\n",
       "      <th>5</th>\n",
       "      <td>25.000</td>\n",
       "      <td>0.702991</td>\n",
       "    </tr>\n",
       "    <tr>\n",
       "      <th>4</th>\n",
       "      <td>10.000</td>\n",
       "      <td>0.697730</td>\n",
       "    </tr>\n",
       "    <tr>\n",
       "      <th>3</th>\n",
       "      <td>1.000</td>\n",
       "      <td>0.694991</td>\n",
       "    </tr>\n",
       "    <tr>\n",
       "      <th>6</th>\n",
       "      <td>50.000</td>\n",
       "      <td>0.694919</td>\n",
       "    </tr>\n",
       "    <tr>\n",
       "      <th>7</th>\n",
       "      <td>100.000</td>\n",
       "      <td>0.689622</td>\n",
       "    </tr>\n",
       "    <tr>\n",
       "      <th>1</th>\n",
       "      <td>0.010</td>\n",
       "      <td>0.679099</td>\n",
       "    </tr>\n",
       "    <tr>\n",
       "      <th>0</th>\n",
       "      <td>0.001</td>\n",
       "      <td>0.609730</td>\n",
       "    </tr>\n",
       "  </tbody>\n",
       "</table>\n",
       "</div>"
      ],
      "text/plain": [
       "         C  mean_test_score\n",
       "2    0.100         0.716252\n",
       "5   25.000         0.702991\n",
       "4   10.000         0.697730\n",
       "3    1.000         0.694991\n",
       "6   50.000         0.694919\n",
       "7  100.000         0.689622\n",
       "1    0.010         0.679099\n",
       "0    0.001         0.609730"
      ]
     },
     "execution_count": 20,
     "metadata": {},
     "output_type": "execute_result"
    }
   ],
   "source": [
    "import sklearn.svm as svm\n",
    "import sklearn.metrics as mt\n",
    "from sklearn.model_selection import GridSearchCV\n",
    "# 테스트하고자 하는 파라미터 값들을 사전타입으로 정의\n",
    "\n",
    "svm_clf = svm.SVC(kernel = 'linear',random_state=1234)\n",
    "parameters = {'C': [0.001, 0.01, 0.1, 1, 10, 25, 50, 100]}\n",
    "\n",
    "grid_svm = GridSearchCV(svm_clf,param_grid = parameters, cv = 5)\n",
    "\n",
    "grid_svm.fit(x_train_common, y_train['CIP'])\n",
    "\n",
    "result = pd.DataFrame(grid_svm.cv_results_['params'])\n",
    "result['mean_test_score'] = grid_svm.cv_results_['mean_test_score']\n",
    "result.sort_values(by='mean_test_score', ascending=False)\n"
   ]
  },
  {
   "cell_type": "code",
   "execution_count": 21,
   "id": "d68fab10",
   "metadata": {},
   "outputs": [
    {
     "name": "stdout",
     "output_type": "stream",
     "text": [
      "best params :  {'C': 0.1}\n"
     ]
    }
   ],
   "source": [
    "\n",
    "print('best params : ' ,grid_svm.best_params_)\n",
    "model_best_svm = grid_svm.best_estimator_"
   ]
  },
  {
   "cell_type": "code",
   "execution_count": 22,
   "id": "39418400",
   "metadata": {},
   "outputs": [
    {
     "data": {
      "text/plain": [
       "SVC(C=0.1, kernel='linear', probability=True, random_state=1234)"
      ]
     },
     "execution_count": 22,
     "metadata": {},
     "output_type": "execute_result"
    }
   ],
   "source": [
    "model_best_svm = svm.SVC(C=0.1,kernel = 'linear',random_state=1234,probability=True)\n",
    "model_best_svm.fit(x_train_common, y_train['CIP'])"
   ]
  },
  {
   "cell_type": "code",
   "execution_count": 24,
   "id": "14d3f7fa",
   "metadata": {},
   "outputs": [
    {
     "name": "stdout",
     "output_type": "stream",
     "text": [
      "accuracy score: 0.713\n",
      "recall score: 0.553\n"
     ]
    }
   ],
   "source": [
    "from sklearn.metrics import accuracy_score\n",
    "\n",
    "predicted = model_best_svm.predict(x_test_common)\n",
    "accuracy = accuracy_score(y_true=y_test,y_pred=predicted)\n",
    "recall = recall_score(y_true=y_test, y_pred=predicted, average=None)\n",
    "\n",
    "print(f'accuracy score: {accuracy:.3}')\n",
    "print(f'recall score: {recall[1]:.3}')"
   ]
  },
  {
   "cell_type": "code",
   "execution_count": 25,
   "id": "7287948e",
   "metadata": {},
   "outputs": [
    {
     "data": {
      "image/png": "[encoded data removed]",
      "text/plain": [
       "<Figure size 1080x360 with 1 Axes>"
      ]
     },
     "metadata": {},
     "output_type": "display_data"
    }
   ],
   "source": [
    "# roc curve\n",
    "from sklearn.metrics import roc_curve\n",
    "#레이블 1일때 예측 확률\n",
    "pred_positive_label=model_best_svm.predict(x_test_common)\n",
    "fprs,tprs,thresholds = roc_curve(y_test,pred_positive_label)\n",
    "precisions,recalls,thresholds = roc_curve(y_test,pred_positive_label)\n",
    "\n",
    "\n",
    "plt.figure(figsize=(15,5))\n",
    "\n",
    "#diagonal\n",
    "plt.plot([0,1],[0,1],label='STR')\n",
    "\n",
    "#ROC\n",
    "\n",
    "plt.plot(fprs,tprs,label='ROC')\n",
    "plt.xlabel('FPR')\n",
    "plt.ylabel('TPR')\n",
    "plt.legend()\n",
    "plt.grid()\n",
    "plt.show()\n",
    "\n"
   ]
  },
  {
   "cell_type": "code",
   "execution_count": 26,
   "id": "c27f3330",
   "metadata": {},
   "outputs": [
    {
     "name": "stdout",
     "output_type": "stream",
     "text": [
      "roc auc value 0.7127659574468086\n"
     ]
    }
   ],
   "source": [
    "# auc score\n",
    "\n",
    "from sklearn.metrics import roc_auc_score\n",
    "\n",
    "print('roc auc value {}'.format(roc_auc_score(y_test,pred_positive_label) ))\n",
    "\n"
   ]
  },
  {
   "cell_type": "markdown",
   "id": "6ff338d3",
   "metadata": {},
   "source": [
    "## logistic regression"
   ]
  },
  {
   "cell_type": "code",
   "execution_count": 36,
   "id": "a315bcf3",
   "metadata": {},
   "outputs": [],
   "source": [
    "#표준화\n",
    "\n",
    "common_numeric_cols = ['Hb','iDBP','pCO2','Plt']\n",
    "\n",
    "scaler = StandardScaler()\n",
    "\n",
    "x_train_common_logistic = x_train_common.copy()\n",
    "x_test_common_logistic = x_test_common.copy()\n",
    "\n",
    "\n",
    "x_train_common_logistic[common_numeric_cols] = scaler.fit_transform(x_train_common_logistic[common_numeric_cols])\n",
    "x_test_common_logistic[common_numeric_cols] = scaler.transform(x_test_common_logistic[common_numeric_cols])\n",
    "\n",
    "\n"
   ]
  },
  {
   "cell_type": "code",
   "execution_count": 39,
   "id": "b97919bb",
   "metadata": {},
   "outputs": [
    {
     "name": "stdout",
     "output_type": "stream",
     "text": [
      "Optimization terminated successfully.\n",
      "         Current function value: 0.603672\n",
      "         Iterations 7\n",
      "0     0.440090\n",
      "1     0.464178\n",
      "2     0.443258\n",
      "3     0.520686\n",
      "4     0.451146\n",
      "        ...   \n",
      "89    0.317229\n",
      "90    0.751333\n",
      "91    0.833572\n",
      "92    0.365597\n",
      "93    0.393449\n",
      "Length: 94, dtype: float64\n",
      "Baseline accuracy :  0.6276595744680851\n",
      "Baseline recall :  0.7659574468085106\n"
     ]
    }
   ],
   "source": [
    "\n",
    "\n",
    "logit_mod = sm.Logit(y_train['CIP'], x_train_common_logistic)\n",
    "results = logit_mod.fit()\n",
    "\n",
    "#model_logistic = LogisticRegression( )\n",
    "#model_logistic.fit( x_train_base_logistic, y_train['CIP'] )\n",
    "#model_logistic.predict( x_test_base_logistic )\n",
    "\n",
    "predicted = results.predict(x_test_common_logistic)\n",
    "predicted1 = predicted \n",
    "print(predicted)\n",
    "predicted = (predicted>0.5).astype(int)\n",
    "\n",
    "\n",
    "print('common feature accuracy : ' ,accuracy_score(y_pred = predicted, y_true = y_test['CIP']))\n",
    "print('common feature recall : ' ,recall_score(y_pred = predicted, y_true = y_test['CIP'],average=None)[1] )\n"
   ]
  },
  {
   "cell_type": "code",
   "execution_count": 40,
   "id": "e160eec3",
   "metadata": {},
   "outputs": [
    {
     "name": "stdout",
     "output_type": "stream",
     "text": [
      "                           Logit Regression Results                           \n",
      "==============================================================================\n",
      "Dep. Variable:                    CIP   No. Observations:                  374\n",
      "Model:                          Logit   Df Residuals:                      361\n",
      "Method:                           MLE   Df Model:                           12\n",
      "Date:                Tue, 26 Jul 2022   Pseudo R-squ.:                  0.1291\n",
      "Time:                        15:35:45   Log-Likelihood:                -225.77\n",
      "converged:                       True   LL-Null:                       -259.23\n",
      "Covariance Type:            nonrobust   LLR p-value:                 1.203e-09\n",
      "==============================================================================\n",
      "                 coef    std err          z      P>|z|      [0.025      0.975]\n",
      "------------------------------------------------------------------------------\n",
      "bed            0.7251      0.321      2.256      0.024       0.095       1.355\n",
      "Hsp-acq        1.2483      0.402      3.108      0.002       0.461       2.035\n",
      "3m-Ab          0.4681      0.358      1.307      0.191      -0.234       1.170\n",
      "3m-Adm        -0.1333      0.334     -0.398      0.690      -0.789       0.522\n",
      "1y-UTI         0.6970      0.304      2.293      0.022       0.101       1.293\n",
      "Hb            -0.9112      0.684     -1.331      0.183      -2.253       0.430\n",
      "Foley         -0.0549      0.378     -0.145      0.885      -0.795       0.686\n",
      "NR            -0.6196      0.278     -2.232      0.026      -1.164      -0.076\n",
      "sex           -0.1620      0.257     -0.630      0.529      -0.666       0.342\n",
      "iDBP          -0.1259      0.122     -1.031      0.302      -0.365       0.113\n",
      "pCO2           0.1377      0.120      1.147      0.251      -0.098       0.373\n",
      "Plt            0.1007      0.127      0.794      0.427      -0.148       0.349\n",
      "PPIantacid    -0.3630      0.221     -1.646      0.100      -0.795       0.069\n",
      "==============================================================================\n"
     ]
    }
   ],
   "source": [
    "print(results.summary())"
   ]
  },
  {
   "cell_type": "code",
   "execution_count": 41,
   "id": "b60b27ca",
   "metadata": {},
   "outputs": [
    {
     "name": "stdout",
     "output_type": "stream",
     "text": [
      "              precision    recall  f1-score   support\n",
      "\n",
      "           0       0.68      0.49      0.57        47\n",
      "           1       0.60      0.77      0.67        47\n",
      "\n",
      "    accuracy                           0.63        94\n",
      "   macro avg       0.64      0.63      0.62        94\n",
      "weighted avg       0.64      0.63      0.62        94\n",
      "\n"
     ]
    }
   ],
   "source": [
    "print(classification_report(y_true=y_test['CIP'],y_pred=predicted) )"
   ]
  },
  {
   "cell_type": "code",
   "execution_count": 43,
   "id": "95dcbfa8",
   "metadata": {},
   "outputs": [
    {
     "data": {
      "image/png": "[encoded data removed]",
      "text/plain": [
       "<Figure size 1080x360 with 1 Axes>"
      ]
     },
     "metadata": {},
     "output_type": "display_data"
    }
   ],
   "source": [
    "from sklearn.metrics import roc_curve\n",
    "#레이블 1일때 예측 확률\n",
    "pred_positive_label=results.predict(x_test_common_logistic)\n",
    "fprs,tprs,thresholds = roc_curve(y_test,pred_positive_label)\n",
    "precisions,recalls,thresholds = roc_curve(y_test,pred_positive_label)\n",
    "\n",
    "\n",
    "plt.figure(figsize=(15,5))\n",
    "\n",
    "#diagonal\n",
    "plt.plot([0,1],[0,1],label='STR')\n",
    "\n",
    "#ROC\n",
    "\n",
    "plt.plot(fprs,tprs,label='ROC')\n",
    "plt.xlabel('FPR')\n",
    "plt.ylabel('TPR')\n",
    "plt.legend()\n",
    "plt.grid()\n",
    "plt.show()\n"
   ]
  },
  {
   "cell_type": "code",
   "execution_count": 44,
   "id": "8ebc45af",
   "metadata": {},
   "outputs": [
    {
     "name": "stdout",
     "output_type": "stream",
     "text": [
      "roc auc value 0.705296514259846\n"
     ]
    }
   ],
   "source": [
    "    #baseline - rf tree / auc score\n",
    "from sklearn.metrics import roc_auc_score\n",
    "\n",
    "print('roc auc value {}'.format(roc_auc_score(y_test,pred_positive_label) ))"
   ]
  }
 ],
 "metadata": {
  "kernelspec": {
   "display_name": "Python 3 (ipykernel)",
   "language": "python",
   "name": "python3"
  },
  "language_info": {
   "codemirror_mode": {
    "name": "ipython",
    "version": 3
   },
   "file_extension": ".py",
   "mimetype": "text/x-python",
   "name": "python",
   "nbconvert_exporter": "python",
   "pygments_lexer": "ipython3",
   "version": "3.7.10"
  },
  "toc": {
   "base_numbering": 1,
   "nav_menu": {},
   "number_sections": true,
   "sideBar": true,
   "skip_h1_title": false,
   "title_cell": "Table of Contents",
   "title_sidebar": "Contents",
   "toc_cell": false,
   "toc_position": {
    "height": "calc(100% - 180px)",
    "left": "10px",
    "top": "150px",
    "width": "379.388px"
   },
   "toc_section_display": true,
   "toc_window_display": true
  }
 },
 "nbformat": 4,
 "nbformat_minor": 5
}
