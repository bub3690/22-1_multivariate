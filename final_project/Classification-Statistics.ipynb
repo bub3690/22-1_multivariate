{
 "cells": [
  {
   "cell_type": "markdown",
   "id": "35b041ce",
   "metadata": {},
   "source": [
    "# 통계적 방법에 따른 변수 선택 및 분류\n",
    "\n",
    "- 결측치 제거 및 통계적 방법으로 선정된 컬럼을 가진 데이터를 활용\n",
    "- random forest, logistic , svm classifier를 통해 분류"
   ]
  },
  {
   "cell_type": "code",
   "execution_count": 2,
   "id": "e15a1fd0",
   "metadata": {},
   "outputs": [],
   "source": [
    "import matplotlib.pyplot as plt\n",
    "import numpy as np\n",
    "import pandas as pd\n",
    "import os\n",
    "from glob import glob\n",
    "import sys"
   ]
  },
  {
   "cell_type": "code",
   "execution_count": 3,
   "id": "9ad657b2",
   "metadata": {},
   "outputs": [],
   "source": [
    "#시각화 패키지들\n",
    "import seaborn as sns\n",
    "import matplotlib.pyplot as plt\n",
    "%matplotlib inline\n",
    "from matplotlib import font_manager, rc\n",
    "font_path = \"C:/Windows/Fonts/NGULIM.TTF\"\n",
    "font = font_manager.FontProperties(fname=font_path).get_name()\n",
    "rc('font', family=font)\n",
    "from statsmodels.graphics.mosaicplot import mosaic\n",
    "plt.style.use(\"ggplot\")\n"
   ]
  },
  {
   "cell_type": "code",
   "execution_count": 4,
   "id": "e21fdd9f",
   "metadata": {},
   "outputs": [],
   "source": [
    "from sklearn.ensemble import RandomForestClassifier\n",
    "from sklearn.model_selection import RandomizedSearchCV\n",
    "\n",
    "from sklearn.metrics import accuracy_score\n",
    "from sklearn.metrics import recall_score\n",
    "from sklearn.metrics import confusion_matrix\n",
    "from sklearn.metrics import classification_report\n",
    "from sklearn.metrics import roc_auc_score\n",
    "\n",
    "\n",
    "from sklearn.linear_model import LogisticRegression\n",
    "from sklearn.preprocessing import StandardScaler\n",
    "import statsmodels.api as sm\n",
    "\n",
    "\n",
    "from sklearn.ensemble import GradientBoostingClassifier\n",
    "\n",
    "\n",
    "import sklearn.svm as svm\n",
    "import sklearn.metrics as mt\n",
    "from sklearn.model_selection import GridSearchCV\n",
    "\n",
    "\n",
    "from sklearn.linear_model import LogisticRegressionCV\n",
    "from sklearn.neural_network import MLPClassifier\n",
    "from sklearn.model_selection import train_test_split\n",
    "\n",
    "# VotingClassifier\n",
    "from sklearn.ensemble import VotingClassifier\n",
    "\n"
   ]
  },
  {
   "cell_type": "code",
   "execution_count": 5,
   "id": "d1275067",
   "metadata": {},
   "outputs": [],
   "source": [
    "from sklearn.metrics import accuracy_score\n",
    "from sklearn.metrics import f1_score\n",
    "from sklearn.metrics import auc\n",
    "from sklearn.metrics import precision_score\n"
   ]
  },
  {
   "cell_type": "code",
   "execution_count": 6,
   "id": "ba33a292",
   "metadata": {},
   "outputs": [],
   "source": [
    "\n",
    "import optuna\n",
    "from optuna import Trial\n",
    "from optuna.samplers import TPESampler\n"
   ]
  },
  {
   "cell_type": "markdown",
   "id": "4c361c05",
   "metadata": {},
   "source": [
    "# 통계적 방법에 따른 변수 로드"
   ]
  },
  {
   "cell_type": "code",
   "execution_count": 7,
   "id": "50adff77",
   "metadata": {},
   "outputs": [],
   "source": [
    "#기초 전처리 데이터 출력\n",
    "x_train = pd.read_excel(\"../data/cip_clean.xlsx\")\n",
    "x_test = pd.read_excel(\"../data/cip_clean_test.xlsx\")\n",
    "\n",
    "y_train = pd.read_excel(\"../data/cip_clean_y.xlsx\")\n",
    "y_test = pd.read_excel(\"../data/cip_clean_test_y.xlsx\")"
   ]
  },
  {
   "cell_type": "code",
   "execution_count": 8,
   "id": "8c0b1ebf",
   "metadata": {},
   "outputs": [],
   "source": [
    "x_train.drop(['factor1','factor2','factor3'],axis=1,inplace=True)\n",
    "x_test.drop(['factor1','factor2','factor3'],axis=1,inplace=True)"
   ]
  },
  {
   "cell_type": "code",
   "execution_count": 9,
   "id": "bfe14b16",
   "metadata": {},
   "outputs": [],
   "source": [
    "x_train[['sex','bed','Foley','Nursing','Hsp-acq','3m-Ab','3m-Adm','NR','1y-UTI','PPIantacid',\n",
    "   'CV']] = x_train[['sex','bed','Foley','Nursing','Hsp-acq','3m-Ab','3m-Adm','NR','1y-UTI','PPIantacid',\n",
    "   'CV']].astype('category') "
   ]
  },
  {
   "cell_type": "code",
   "execution_count": 10,
   "id": "ca57e927",
   "metadata": {},
   "outputs": [],
   "source": [
    "x_test[['sex','bed','Foley','Nursing','Hsp-acq','3m-Ab','3m-Adm','NR','1y-UTI','PPIantacid',\n",
    "   'CV']] =x_test[['sex','bed','Foley','Nursing','Hsp-acq','3m-Ab','3m-Adm','NR','1y-UTI','PPIantacid',\n",
    "   'CV']].astype('category') "
   ]
  },
  {
   "cell_type": "code",
   "execution_count": 11,
   "id": "37093e54",
   "metadata": {},
   "outputs": [
    {
     "data": {
      "text/plain": [
       "Index(['iDBP', 'iBT', 'pCO2', 'SaO2', 'Hb', 'Plt', 'sex', 'bed', 'Foley',\n",
       "       'Nursing', 'Hsp-acq', '3m-Ab', '3m-Adm', 'NR', '1y-UTI', 'PPIantacid',\n",
       "       'CV'],\n",
       "      dtype='object')"
      ]
     },
     "execution_count": 11,
     "metadata": {},
     "output_type": "execute_result"
    }
   ],
   "source": [
    "x_train.columns"
   ]
  },
  {
   "cell_type": "code",
   "execution_count": 12,
   "id": "4447eb65",
   "metadata": {},
   "outputs": [
    {
     "name": "stdout",
     "output_type": "stream",
     "text": [
      "<class 'pandas.core.frame.DataFrame'>\n",
      "RangeIndex: 374 entries, 0 to 373\n",
      "Data columns (total 17 columns):\n",
      " #   Column      Non-Null Count  Dtype   \n",
      "---  ------      --------------  -----   \n",
      " 0   iDBP        374 non-null    int64   \n",
      " 1   iBT         374 non-null    float64 \n",
      " 2   pCO2        374 non-null    float64 \n",
      " 3   SaO2        374 non-null    float64 \n",
      " 4   Hb          374 non-null    float64 \n",
      " 5   Plt         374 non-null    int64   \n",
      " 6   sex         374 non-null    category\n",
      " 7   bed         374 non-null    category\n",
      " 8   Foley       374 non-null    category\n",
      " 9   Nursing     374 non-null    category\n",
      " 10  Hsp-acq     374 non-null    category\n",
      " 11  3m-Ab       374 non-null    category\n",
      " 12  3m-Adm      374 non-null    category\n",
      " 13  NR          374 non-null    category\n",
      " 14  1y-UTI      374 non-null    category\n",
      " 15  PPIantacid  374 non-null    category\n",
      " 16  CV          374 non-null    category\n",
      "dtypes: category(11), float64(4), int64(2)\n",
      "memory usage: 23.0 KB\n"
     ]
    }
   ],
   "source": [
    "x_train.info()"
   ]
  },
  {
   "cell_type": "code",
   "execution_count": 13,
   "id": "f23ef277",
   "metadata": {},
   "outputs": [
    {
     "name": "stdout",
     "output_type": "stream",
     "text": [
      "<class 'pandas.core.frame.DataFrame'>\n",
      "RangeIndex: 94 entries, 0 to 93\n",
      "Data columns (total 17 columns):\n",
      " #   Column      Non-Null Count  Dtype   \n",
      "---  ------      --------------  -----   \n",
      " 0   iDBP        94 non-null     int64   \n",
      " 1   iBT         94 non-null     float64 \n",
      " 2   pCO2        94 non-null     float64 \n",
      " 3   SaO2        94 non-null     float64 \n",
      " 4   Hb          94 non-null     float64 \n",
      " 5   Plt         94 non-null     int64   \n",
      " 6   sex         94 non-null     category\n",
      " 7   bed         94 non-null     category\n",
      " 8   Foley       94 non-null     category\n",
      " 9   Nursing     94 non-null     category\n",
      " 10  Hsp-acq     94 non-null     category\n",
      " 11  3m-Ab       94 non-null     category\n",
      " 12  3m-Adm      94 non-null     category\n",
      " 13  NR          94 non-null     category\n",
      " 14  1y-UTI      94 non-null     category\n",
      " 15  PPIantacid  94 non-null     category\n",
      " 16  CV          94 non-null     category\n",
      "dtypes: category(11), float64(4), int64(2)\n",
      "memory usage: 6.9 KB\n"
     ]
    }
   ],
   "source": [
    "x_test.info()"
   ]
  },
  {
   "cell_type": "markdown",
   "id": "1c7afd67",
   "metadata": {},
   "source": [
    "# 분류"
   ]
  },
  {
   "cell_type": "markdown",
   "id": "21d6d2ae",
   "metadata": {},
   "source": [
    "## Logistic regression"
   ]
  },
  {
   "cell_type": "code",
   "execution_count": 14,
   "id": "e8506f36",
   "metadata": {},
   "outputs": [],
   "source": [
    "import statsmodels.api as sm\n",
    "\n",
    "numeric_cols=[]\n",
    "for idx,col in enumerate(x_train.columns):\n",
    "    col_type = x_train[col].dtype\n",
    "    if col_type.name !='category':\n",
    "        numeric_cols.append(col)"
   ]
  },
  {
   "cell_type": "code",
   "execution_count": 15,
   "id": "b223c7ed",
   "metadata": {},
   "outputs": [],
   "source": [
    "#표준화\n",
    "\n",
    "\n",
    "scaler = StandardScaler()\n",
    "\n",
    "x_train_stat_logistic = x_train.copy()\n",
    "x_test_stat_logistic = x_test.copy()\n",
    "\n",
    "\n",
    "x_train_stat_logistic[numeric_cols] = scaler.fit_transform(x_train_stat_logistic[numeric_cols])\n",
    "x_test_stat_logistic[numeric_cols] = scaler.transform(x_test_stat_logistic[numeric_cols])\n",
    "\n",
    "\n"
   ]
  },
  {
   "cell_type": "code",
   "execution_count": 16,
   "id": "857d99e1",
   "metadata": {},
   "outputs": [],
   "source": [
    "col_all = ['bed','Hsp-acq','3m-Ab','3m-Adm','1y-UTI','Hb',\n",
    "           'Foley','NR','iBT','sex','SaO2','Nursing','iDBP','pCO2',\n",
    "           'Plt','CV','PPIantacid']\n",
    "col5 = col_all[:5]\n",
    "col10 = col_all[:10]\n",
    "col15 = col_all[:15]"
   ]
  },
  {
   "cell_type": "code",
   "execution_count": 17,
   "id": "94c5667b",
   "metadata": {},
   "outputs": [],
   "source": [
    "x_train_stat5_logistic = x_train_stat_logistic.copy()\n",
    "x_train_stat5_logistic = x_train_stat_logistic[col5]\n",
    "\n",
    "x_test_stat5_logistic = x_test_stat_logistic.copy()\n",
    "x_test_stat5_logistic = x_test_stat_logistic[col5]\n",
    "\n",
    "\n",
    "x_train_stat10_logistic = x_train_stat_logistic.copy()\n",
    "x_train_stat10_logistic = x_train_stat_logistic[col10]\n",
    "\n",
    "x_test_stat10_logistic = x_test_stat_logistic.copy()\n",
    "x_test_stat10_logistic = x_test_stat_logistic[col10]\n",
    "\n",
    "\n",
    "x_train_stat15_logistic = x_train_stat_logistic.copy()\n",
    "x_train_stat15_logistic = x_train_stat_logistic[col15]\n",
    "\n",
    "x_test_stat15_logistic = x_test_stat_logistic.copy()\n",
    "x_test_stat15_logistic = x_test_stat_logistic[col15]\n"
   ]
  },
  {
   "cell_type": "markdown",
   "id": "eb7652df",
   "metadata": {},
   "source": [
    "### reduced (17)"
   ]
  },
  {
   "cell_type": "code",
   "execution_count": 22,
   "id": "910a12ce",
   "metadata": {},
   "outputs": [
    {
     "data": {
      "text/html": [
       "<div>\n",
       "<style scoped>\n",
       "    .dataframe tbody tr th:only-of-type {\n",
       "        vertical-align: middle;\n",
       "    }\n",
       "\n",
       "    .dataframe tbody tr th {\n",
       "        vertical-align: top;\n",
       "    }\n",
       "\n",
       "    .dataframe thead th {\n",
       "        text-align: right;\n",
       "    }\n",
       "</style>\n",
       "<table border=\"1\" class=\"dataframe\">\n",
       "  <thead>\n",
       "    <tr style=\"text-align: right;\">\n",
       "      <th></th>\n",
       "      <th>name</th>\n",
       "      <th>AUC</th>\n",
       "      <th>ACC</th>\n",
       "      <th>RECALL</th>\n",
       "      <th>SPECIFICITY</th>\n",
       "      <th>F1</th>\n",
       "    </tr>\n",
       "  </thead>\n",
       "  <tbody>\n",
       "  </tbody>\n",
       "</table>\n",
       "</div>"
      ],
      "text/plain": [
       "Empty DataFrame\n",
       "Columns: [name, AUC, ACC, RECALL, SPECIFICITY, F1]\n",
       "Index: []"
      ]
     },
     "execution_count": 22,
     "metadata": {},
     "output_type": "execute_result"
    }
   ],
   "source": [
    "test_logistic = pd.DataFrame(columns=['name','AUC','ACC','RECALL','SPECIFICITY','F1'])\n",
    "test_logistic"
   ]
  },
  {
   "cell_type": "code",
   "execution_count": 23,
   "id": "1b29e864",
   "metadata": {},
   "outputs": [],
   "source": [
    "names=[]\n",
    "aucs=[]\n",
    "accs=[]\n",
    "recalls_list=[]\n",
    "specificitys=[]\n",
    "f1s=[]"
   ]
  },
  {
   "cell_type": "code",
   "execution_count": 18,
   "id": "1df7b416",
   "metadata": {},
   "outputs": [
    {
     "name": "stdout",
     "output_type": "stream",
     "text": [
      "Optimization terminated successfully.\n",
      "         Current function value: 0.597524\n",
      "         Iterations 8\n",
      "0     0.442883\n",
      "1     0.477561\n",
      "2     0.429049\n",
      "3     0.554577\n",
      "4     0.456329\n",
      "        ...   \n",
      "89    0.297300\n",
      "90    0.781534\n",
      "91    0.816833\n",
      "92    0.403711\n",
      "93    0.357622\n",
      "Length: 94, dtype: float64\n",
      "Baseline accuracy :  0.6063829787234043\n",
      "Baseline recall :  0.7446808510638298\n"
     ]
    }
   ],
   "source": [
    "\n",
    "\n",
    "logit_mod = sm.Logit(y_train['CIP'], x_train_stat_logistic)\n",
    "results = logit_mod.fit()\n",
    "\n",
    "#model_logistic = LogisticRegression( )\n",
    "#model_logistic.fit( x_train_base_logistic, y_train['CIP'] )\n",
    "#model_logistic.predict( x_test_base_logistic )\n",
    "\n",
    "predicted = results.predict(x_test_stat_logistic)\n",
    "predicted1 = predicted \n",
    "print(predicted)\n",
    "predicted = (predicted>0.5).astype(int)\n",
    "\n",
    "\n",
    "print('Baseline accuracy : ' ,accuracy_score(y_pred = predicted, y_true = y_test['CIP']))\n",
    "print('Baseline recall : ' ,recall_score(y_pred = predicted, y_true = y_test['CIP'],average=None)[1] )\n"
   ]
  },
  {
   "cell_type": "code",
   "execution_count": 19,
   "id": "c08a85c4",
   "metadata": {},
   "outputs": [
    {
     "name": "stdout",
     "output_type": "stream",
     "text": [
      "                           Logit Regression Results                           \n",
      "==============================================================================\n",
      "Dep. Variable:                    CIP   No. Observations:                  374\n",
      "Model:                          Logit   Df Residuals:                      357\n",
      "Method:                           MLE   Df Model:                           16\n",
      "Date:                Fri, 26 Aug 2022   Pseudo R-squ.:                  0.1379\n",
      "Time:                        15:49:27   Log-Likelihood:                -223.47\n",
      "converged:                       True   LL-Null:                       -259.23\n",
      "Covariance Type:            nonrobust   LLR p-value:                 5.408e-09\n",
      "==============================================================================\n",
      "                 coef    std err          z      P>|z|      [0.025      0.975]\n",
      "------------------------------------------------------------------------------\n",
      "iDBP          -0.1027      0.123     -0.836      0.403      -0.344       0.138\n",
      "iBT           -0.1356      0.275     -0.493      0.622      -0.674       0.403\n",
      "pCO2           0.1156      0.121      0.956      0.339      -0.121       0.353\n",
      "SaO2          -1.5845      1.313     -1.207      0.228      -4.158       0.989\n",
      "Hb            -0.9570      0.694     -1.379      0.168      -2.317       0.403\n",
      "Plt            0.1036      0.129      0.800      0.424      -0.150       0.357\n",
      "sex           -0.2017      0.261     -0.774      0.439      -0.712       0.309\n",
      "bed            0.5551      0.361      1.537      0.124      -0.153       1.263\n",
      "Foley         -0.0710      0.382     -0.186      0.852      -0.820       0.678\n",
      "Nursing        0.3274      0.381      0.859      0.390      -0.420       1.075\n",
      "Hsp-acq        1.3496      0.438      3.082      0.002       0.491       2.208\n",
      "3m-Ab          0.4410      0.360      1.224      0.221      -0.265       1.147\n",
      "3m-Adm        -0.1157      0.337     -0.343      0.731      -0.776       0.545\n",
      "NR            -0.6755      0.288     -2.347      0.019      -1.240      -0.111\n",
      "1y-UTI         0.7172      0.307      2.338      0.019       0.116       1.319\n",
      "PPIantacid    -0.3953      0.225     -1.754      0.079      -0.837       0.046\n",
      "CV            -0.0853      0.253     -0.337      0.736      -0.582       0.412\n",
      "==============================================================================\n"
     ]
    }
   ],
   "source": [
    "print(results.summary())"
   ]
  },
  {
   "cell_type": "code",
   "execution_count": 20,
   "id": "186962d2",
   "metadata": {},
   "outputs": [
    {
     "name": "stdout",
     "output_type": "stream",
     "text": [
      "              precision    recall  f1-score   support\n",
      "\n",
      "           0       0.65      0.47      0.54        47\n",
      "           1       0.58      0.74      0.65        47\n",
      "\n",
      "    accuracy                           0.61        94\n",
      "   macro avg       0.62      0.61      0.60        94\n",
      "weighted avg       0.62      0.61      0.60        94\n",
      "\n"
     ]
    }
   ],
   "source": [
    "print(classification_report(y_true=y_test['CIP'],y_pred=predicted) )"
   ]
  },
  {
   "cell_type": "code",
   "execution_count": 21,
   "id": "76e8a8ec",
   "metadata": {},
   "outputs": [
    {
     "data": {
      "text/plain": [
       "Hsp-acq    0.002054\n",
       "NR         0.018909\n",
       "1y-UTI     0.019396\n",
       "dtype: float64"
      ]
     },
     "execution_count": 21,
     "metadata": {},
     "output_type": "execute_result"
    }
   ],
   "source": [
    "results.pvalues[results.pvalues<0.05]"
   ]
  },
  {
   "cell_type": "code",
   "execution_count": 22,
   "id": "46307191",
   "metadata": {},
   "outputs": [
    {
     "data": {
      "text/plain": [
       "iDBP          0.902361\n",
       "iBT           0.873226\n",
       "pCO2          1.122513\n",
       "SaO2          0.205043\n",
       "Hb            0.384057\n",
       "Plt           1.109126\n",
       "sex           0.817348\n",
       "bed           1.742164\n",
       "Foley         0.931423\n",
       "Nursing       1.387405\n",
       "Hsp-acq       3.855968\n",
       "3m-Ab         1.554247\n",
       "3m-Adm        0.890774\n",
       "NR            0.508904\n",
       "1y-UTI        2.048734\n",
       "PPIantacid    0.673485\n",
       "CV            0.918232\n",
       "dtype: float64"
      ]
     },
     "execution_count": 22,
     "metadata": {},
     "output_type": "execute_result"
    }
   ],
   "source": [
    "np.exp(results.params)"
   ]
  },
  {
   "cell_type": "code",
   "execution_count": 23,
   "id": "391135c2",
   "metadata": {},
   "outputs": [
    {
     "data": {
      "image/png": "[encoded data removed]",
      "text/plain": [
       "<Figure size 1080x360 with 1 Axes>"
      ]
     },
     "metadata": {},
     "output_type": "display_data"
    }
   ],
   "source": [
    "from sklearn.metrics import roc_curve\n",
    "#레이블 1일때 예측 확률\n",
    "pred_positive_label=results.predict(x_test_stat_logistic)\n",
    "fprs,tprs,thresholds = roc_curve(y_test,pred_positive_label)\n",
    "precisions,recalls,thresholds = roc_curve(y_test,pred_positive_label)\n",
    "\n",
    "\n",
    "plt.figure(figsize=(15,5))\n",
    "\n",
    "#diagonal\n",
    "plt.plot([0,1],[0,1],label='STR')\n",
    "\n",
    "#ROC\n",
    "\n",
    "plt.plot(fprs,tprs,label='ROC')\n",
    "plt.xlabel('FPR')\n",
    "plt.ylabel('TPR')\n",
    "plt.legend()\n",
    "plt.grid()\n",
    "plt.show()\n"
   ]
  },
  {
   "cell_type": "code",
   "execution_count": 24,
   "id": "13d7cf87",
   "metadata": {},
   "outputs": [
    {
     "name": "stdout",
     "output_type": "stream",
     "text": [
      "roc auc value 0.6889995473064736\n"
     ]
    }
   ],
   "source": [
    "    #baseline - rf tree / auc score\n",
    "from sklearn.metrics import roc_auc_score\n",
    "\n",
    "print('roc auc value {}'.format(roc_auc_score(y_test,pred_positive_label) ))"
   ]
  },
  {
   "cell_type": "code",
   "execution_count": 25,
   "id": "20287e00",
   "metadata": {},
   "outputs": [],
   "source": [
    "auc=roc_auc_score(y_test,pred_positive_label)\n",
    "accuracy = accuracy_score(y_true=y_test,y_pred=predicted)\n",
    "recall = recall_score(y_true=y_test, y_pred=predicted, pos_label=1)\n",
    "specificity = recall_score(y_true=y_test, y_pred=predicted, pos_label=0)\n",
    "f1 = f1_score(y_true=y_test, y_pred=predicted)\n",
    "\n",
    "\n",
    "names.append('logistic_17')\n",
    "aucs.append(auc)\n",
    "accs.append(accuracy)\n",
    "recalls_list.append(recall)\n",
    "specificitys.append(specificity)\n",
    "f1s.append(f1)\n"
   ]
  },
  {
   "cell_type": "code",
   "execution_count": 26,
   "id": "68d61fcc",
   "metadata": {},
   "outputs": [],
   "source": [
    "test_logistic= pd.concat([pd.DataFrame(names),\n",
    "                     pd.DataFrame(aucs),\n",
    "                     pd.DataFrame(accs),\n",
    "                     pd.DataFrame(recalls_list),\n",
    "                     pd.DataFrame(specificitys),\n",
    "                     pd.DataFrame(f1s)\n",
    "                    ],axis=1)\n",
    "test_logistic.columns=['name','AUC','ACC','RECALL','SPECIFICITY','F1']"
   ]
  },
  {
   "cell_type": "code",
   "execution_count": 27,
   "id": "b6990995",
   "metadata": {},
   "outputs": [
    {
     "data": {
      "text/html": [
       "<div>\n",
       "<style scoped>\n",
       "    .dataframe tbody tr th:only-of-type {\n",
       "        vertical-align: middle;\n",
       "    }\n",
       "\n",
       "    .dataframe tbody tr th {\n",
       "        vertical-align: top;\n",
       "    }\n",
       "\n",
       "    .dataframe thead th {\n",
       "        text-align: right;\n",
       "    }\n",
       "</style>\n",
       "<table border=\"1\" class=\"dataframe\">\n",
       "  <thead>\n",
       "    <tr style=\"text-align: right;\">\n",
       "      <th></th>\n",
       "      <th>name</th>\n",
       "      <th>AUC</th>\n",
       "      <th>ACC</th>\n",
       "      <th>RECALL</th>\n",
       "      <th>SPECIFICITY</th>\n",
       "      <th>F1</th>\n",
       "    </tr>\n",
       "  </thead>\n",
       "  <tbody>\n",
       "    <tr>\n",
       "      <th>0</th>\n",
       "      <td>logistic_17</td>\n",
       "      <td>0.689</td>\n",
       "      <td>0.606383</td>\n",
       "      <td>0.744681</td>\n",
       "      <td>0.468085</td>\n",
       "      <td>0.654206</td>\n",
       "    </tr>\n",
       "  </tbody>\n",
       "</table>\n",
       "</div>"
      ],
      "text/plain": [
       "          name    AUC       ACC    RECALL  SPECIFICITY        F1\n",
       "0  logistic_17  0.689  0.606383  0.744681     0.468085  0.654206"
      ]
     },
     "execution_count": 27,
     "metadata": {},
     "output_type": "execute_result"
    }
   ],
   "source": [
    "test_logistic"
   ]
  },
  {
   "cell_type": "markdown",
   "id": "32547ff4",
   "metadata": {},
   "source": [
    "### 10 변수"
   ]
  },
  {
   "cell_type": "code",
   "execution_count": 18,
   "id": "23f17606",
   "metadata": {},
   "outputs": [
    {
     "name": "stdout",
     "output_type": "stream",
     "text": [
      "Optimization terminated successfully.\n",
      "         Current function value: 0.610995\n",
      "         Iterations 7\n",
      "0     0.424077\n",
      "1     0.475484\n",
      "2     0.419106\n",
      "3     0.493712\n",
      "4     0.458999\n",
      "        ...   \n",
      "89    0.394280\n",
      "90    0.747522\n",
      "91    0.804411\n",
      "92    0.395505\n",
      "93    0.511658\n",
      "Length: 94, dtype: float64\n",
      "Baseline accuracy :  0.6063829787234043\n",
      "Baseline recall :  0.7021276595744681\n"
     ]
    }
   ],
   "source": [
    "\n",
    "\n",
    "logit_mod = sm.Logit(y_train['CIP'], x_train_stat10_logistic)\n",
    "results = logit_mod.fit()\n",
    "\n",
    "predicted = results.predict(x_test_stat10_logistic)\n",
    "predicted1 = predicted \n",
    "print(predicted)\n",
    "predicted = (predicted>0.5).astype(int)\n",
    "\n",
    "\n",
    "print('Baseline accuracy : ' ,accuracy_score(y_pred = predicted, y_true = y_test['CIP']))\n",
    "print('Baseline recall : ' ,recall_score(y_pred = predicted, y_true = y_test['CIP'],average=None)[1] )\n"
   ]
  },
  {
   "cell_type": "code",
   "execution_count": 19,
   "id": "834c9e2a",
   "metadata": {},
   "outputs": [
    {
     "data": {
      "image/png": "[encoded data removed]",
      "text/plain": [
       "<Figure size 1080x360 with 1 Axes>"
      ]
     },
     "metadata": {},
     "output_type": "display_data"
    }
   ],
   "source": [
    "# roc curve\n",
    "from sklearn.metrics import roc_curve\n",
    "#레이블 1일때 예측 확률\n",
    "pred_positive_label=results.predict(x_test_stat10_logistic)\n",
    "fprs,tprs,thresholds = roc_curve(y_test,pred_positive_label)\n",
    "precisions,recalls,thresholds = roc_curve(y_test,pred_positive_label)\n",
    "\n",
    "\n",
    "plt.figure(figsize=(15,5))\n",
    "\n",
    "#diagonal\n",
    "plt.plot([0,1],[0,1],label='STR')\n",
    "\n",
    "#ROC\n",
    "\n",
    "plt.plot(fprs,tprs,label='ROC')\n",
    "plt.xlabel('FPR')\n",
    "plt.ylabel('TPR')\n",
    "plt.legend()\n",
    "plt.grid()\n",
    "plt.show()\n",
    "\n"
   ]
  },
  {
   "cell_type": "code",
   "execution_count": 29,
   "id": "b20def31",
   "metadata": {},
   "outputs": [
    {
     "data": {
      "text/plain": [
       "0     0.424077\n",
       "1     0.475484\n",
       "2     0.419106\n",
       "3     0.493712\n",
       "4     0.458999\n",
       "        ...   \n",
       "89    0.394280\n",
       "90    0.747522\n",
       "91    0.804411\n",
       "92    0.395505\n",
       "93    0.511658\n",
       "Length: 94, dtype: float64"
      ]
     },
     "execution_count": 29,
     "metadata": {},
     "output_type": "execute_result"
    }
   ],
   "source": [
    "results.predict(x_test_stat10_logistic)"
   ]
  },
  {
   "cell_type": "code",
   "execution_count": 20,
   "id": "5920dc15",
   "metadata": {},
   "outputs": [
    {
     "name": "stdout",
     "output_type": "stream",
     "text": [
      "roc auc value 0.7247623358985966\n"
     ]
    }
   ],
   "source": [
    "# auc score\n",
    "\n",
    "from sklearn.metrics import roc_auc_score\n",
    "\n",
    "print('roc auc value {}'.format(roc_auc_score(y_test,pred_positive_label) ))\n",
    "\n"
   ]
  },
  {
   "cell_type": "code",
   "execution_count": 24,
   "id": "0dbb4231",
   "metadata": {},
   "outputs": [],
   "source": [
    "auc=roc_auc_score(y_test,pred_positive_label)\n",
    "accuracy = accuracy_score(y_true=y_test,y_pred=predicted)\n",
    "recall = recall_score(y_true=y_test, y_pred=predicted, pos_label=1)\n",
    "specificity = recall_score(y_true=y_test, y_pred=predicted, pos_label=0)\n",
    "f1 = f1_score(y_true=y_test, y_pred=predicted)\n",
    "\n",
    "\n",
    "names.append('logistic_10')\n",
    "aucs.append(auc)\n",
    "accs.append(accuracy)\n",
    "recalls_list.append(recall)\n",
    "specificitys.append(specificity)\n",
    "f1s.append(f1)\n"
   ]
  },
  {
   "cell_type": "code",
   "execution_count": 25,
   "id": "961a3194",
   "metadata": {},
   "outputs": [],
   "source": [
    "test_logistic= pd.concat([pd.DataFrame(names),\n",
    "                     pd.DataFrame(aucs),\n",
    "                     pd.DataFrame(accs),\n",
    "                     pd.DataFrame(recalls_list),\n",
    "                     pd.DataFrame(specificitys),\n",
    "                     pd.DataFrame(f1s)\n",
    "                    ],axis=1)\n",
    "test_logistic.columns=['name','AUC','ACC','RECALL','SPECIFICITY','F1']"
   ]
  },
  {
   "cell_type": "code",
   "execution_count": 26,
   "id": "bb0f3cc1",
   "metadata": {
    "scrolled": true
   },
   "outputs": [
    {
     "data": {
      "text/html": [
       "<div>\n",
       "<style scoped>\n",
       "    .dataframe tbody tr th:only-of-type {\n",
       "        vertical-align: middle;\n",
       "    }\n",
       "\n",
       "    .dataframe tbody tr th {\n",
       "        vertical-align: top;\n",
       "    }\n",
       "\n",
       "    .dataframe thead th {\n",
       "        text-align: right;\n",
       "    }\n",
       "</style>\n",
       "<table border=\"1\" class=\"dataframe\">\n",
       "  <thead>\n",
       "    <tr style=\"text-align: right;\">\n",
       "      <th></th>\n",
       "      <th>name</th>\n",
       "      <th>AUC</th>\n",
       "      <th>ACC</th>\n",
       "      <th>RECALL</th>\n",
       "      <th>SPECIFICITY</th>\n",
       "      <th>F1</th>\n",
       "    </tr>\n",
       "  </thead>\n",
       "  <tbody>\n",
       "    <tr>\n",
       "      <th>0</th>\n",
       "      <td>logistic_10</td>\n",
       "      <td>0.724762</td>\n",
       "      <td>0.606383</td>\n",
       "      <td>0.702128</td>\n",
       "      <td>0.510638</td>\n",
       "      <td>0.640777</td>\n",
       "    </tr>\n",
       "  </tbody>\n",
       "</table>\n",
       "</div>"
      ],
      "text/plain": [
       "          name       AUC       ACC    RECALL  SPECIFICITY        F1\n",
       "0  logistic_10  0.724762  0.606383  0.702128     0.510638  0.640777"
      ]
     },
     "execution_count": 26,
     "metadata": {},
     "output_type": "execute_result"
    }
   ],
   "source": [
    "test_logistic"
   ]
  },
  {
   "cell_type": "markdown",
   "id": "4e27ddfd",
   "metadata": {},
   "source": [
    "#### recall threshold change"
   ]
  },
  {
   "cell_type": "code",
   "execution_count": 27,
   "id": "fca86e8a",
   "metadata": {},
   "outputs": [],
   "source": [
    "def plot_pr_curve(test_y, model_probs,clf_name):\n",
    "    # calculate the no skill line as the proportion of the positive class\n",
    "    no_skill = len(test_y[test_y==1]) / len(test_y)\n",
    "    # plot the no skill precision-recall curve\n",
    "    plt.plot([0, 1], [no_skill, no_skill], linestyle='--', label='No Skill')\n",
    "    # plot model precision-recall curve\n",
    "    precision, recall, _ = precision_recall_curve(test_y, model_probs)\n",
    "    plt.plot(recall, precision, marker='.', label=clf_name)\n",
    "    # axis labels\n",
    "    plt.xlabel('Recall')\n",
    "    plt.ylabel('Precision')\n",
    "    # show the legend\n",
    "    plt.legend()\n",
    "    # show the plot\n",
    "    plt.show()"
   ]
  },
  {
   "cell_type": "code",
   "execution_count": 31,
   "id": "cb3bbc89",
   "metadata": {},
   "outputs": [
    {
     "name": "stdout",
     "output_type": "stream",
     "text": [
      "70\n",
      "Best Threshold=0.469170, F-Score=0.710\n"
     ]
    },
    {
     "data": {
      "image/png": "[encoded data removed]",
      "text/plain": [
       "<Figure size 432x288 with 1 Axes>"
      ]
     },
     "metadata": {},
     "output_type": "display_data"
    }
   ],
   "source": [
    "\n",
    "# optimal threshold for precision-recall curve with logistic regression model\n",
    "\n",
    "from numpy import argmax\n",
    "from sklearn.metrics import precision_recall_curve\n",
    "# predict probabilities\n",
    "yhat = results.predict(x_train_stat10_logistic)\n",
    "\n",
    "precision, recall, thresholds = precision_recall_curve(y_train, yhat)\n",
    "# convert to f score\n",
    "fscore = (2 * precision * recall) / (precision + recall)\n",
    "# locate the index of the largest f score\n",
    "print(np.where(recall > 0.90)[0][-1])\n",
    "ix = np.where(recall > 0.90)[0][-1]\n",
    "#ix = argmax(np.nan_to_num(recall))\n",
    "print('Best Threshold=%f, F-Score=%.3f' % (thresholds[ix], fscore[ix]))\n",
    "# plot the roc curve for the model\n",
    "plot_pr_curve(y_train, yhat,'RandomForest')\n"
   ]
  },
  {
   "cell_type": "code",
   "execution_count": 32,
   "id": "ecfdaebf",
   "metadata": {},
   "outputs": [],
   "source": [
    "\n",
    "# optimal threshold for precision-recall curve with logistic regression model\n",
    "from sklearn.metrics import precision_recall_curve\n",
    "# predict probabilities\n",
    "yhat = results.predict(x_test_stat10_logistic)\n",
    "# keep probabilities for the positive outcome only\n",
    "yhat[yhat>0.469170]=1\n",
    "yhat[yhat !=1] = 0\n"
   ]
  },
  {
   "cell_type": "code",
   "execution_count": 33,
   "id": "45efa710",
   "metadata": {},
   "outputs": [
    {
     "data": {
      "text/html": [
       "<div>\n",
       "<style scoped>\n",
       "    .dataframe tbody tr th:only-of-type {\n",
       "        vertical-align: middle;\n",
       "    }\n",
       "\n",
       "    .dataframe tbody tr th {\n",
       "        vertical-align: top;\n",
       "    }\n",
       "\n",
       "    .dataframe thead th {\n",
       "        text-align: right;\n",
       "    }\n",
       "</style>\n",
       "<table border=\"1\" class=\"dataframe\">\n",
       "  <thead>\n",
       "    <tr style=\"text-align: right;\">\n",
       "      <th></th>\n",
       "      <th>0</th>\n",
       "    </tr>\n",
       "  </thead>\n",
       "  <tbody>\n",
       "    <tr>\n",
       "      <th>0</th>\n",
       "      <td>0.606383</td>\n",
       "    </tr>\n",
       "    <tr>\n",
       "      <th>1</th>\n",
       "      <td>0.872340</td>\n",
       "    </tr>\n",
       "    <tr>\n",
       "      <th>2</th>\n",
       "      <td>0.569444</td>\n",
       "    </tr>\n",
       "    <tr>\n",
       "      <th>3</th>\n",
       "      <td>0.340426</td>\n",
       "    </tr>\n",
       "    <tr>\n",
       "      <th>4</th>\n",
       "      <td>0.689076</td>\n",
       "    </tr>\n",
       "  </tbody>\n",
       "</table>\n",
       "</div>"
      ],
      "text/plain": [
       "          0\n",
       "0  0.606383\n",
       "1  0.872340\n",
       "2  0.569444\n",
       "3  0.340426\n",
       "4  0.689076"
      ]
     },
     "execution_count": 33,
     "metadata": {},
     "output_type": "execute_result"
    }
   ],
   "source": [
    "\n",
    "accuracy = [accuracy_score(y_true=y_test,y_pred=yhat),]\n",
    "recall = [recall_score(y_true=y_test, y_pred=yhat, pos_label=1),]\n",
    "precision = [precision_score(y_true=y_test, y_pred=yhat),]\n",
    "specificity = [recall_score(y_true=y_test, y_pred=yhat, pos_label=0),]\n",
    "f1 = [f1_score(y_true=y_test, y_pred=yhat),]\n",
    "pd.DataFrame([accuracy,recall,precision,specificity,f1])\n",
    "#print(accuracy, recall,precision,specificity, f1 )"
   ]
  },
  {
   "cell_type": "markdown",
   "id": "b525d6b9",
   "metadata": {},
   "source": [
    "### 15 변수"
   ]
  },
  {
   "cell_type": "code",
   "execution_count": 34,
   "id": "80e9760c",
   "metadata": {},
   "outputs": [
    {
     "name": "stdout",
     "output_type": "stream",
     "text": [
      "Optimization terminated successfully.\n",
      "         Current function value: 0.602200\n",
      "         Iterations 8\n",
      "0     0.434443\n",
      "1     0.536482\n",
      "2     0.446296\n",
      "3     0.545979\n",
      "4     0.443138\n",
      "        ...   \n",
      "89    0.309651\n",
      "90    0.759265\n",
      "91    0.789437\n",
      "92    0.392944\n",
      "93    0.303517\n",
      "Length: 94, dtype: float64\n",
      "Baseline accuracy :  0.6382978723404256\n",
      "Baseline recall :  0.8297872340425532\n"
     ]
    }
   ],
   "source": [
    "\n",
    "\n",
    "logit_mod = sm.Logit(y_train['CIP'], x_train_stat15_logistic)\n",
    "results = logit_mod.fit()\n",
    "\n",
    "predicted = results.predict(x_test_stat15_logistic)\n",
    "predicted1 = predicted \n",
    "print(predicted)\n",
    "predicted = (predicted>0.5).astype(int)\n",
    "\n",
    "\n",
    "print('Baseline accuracy : ' ,accuracy_score(y_pred = predicted, y_true = y_test['CIP']))\n",
    "print('Baseline recall : ' ,recall_score(y_pred = predicted, y_true = y_test['CIP'],average=None)[1] )\n"
   ]
  },
  {
   "cell_type": "code",
   "execution_count": 35,
   "id": "bfbf0e76",
   "metadata": {},
   "outputs": [
    {
     "data": {
      "image/png": "[encoded data removed]",
      "text/plain": [
       "<Figure size 1080x360 with 1 Axes>"
      ]
     },
     "metadata": {},
     "output_type": "display_data"
    }
   ],
   "source": [
    "# roc curve\n",
    "from sklearn.metrics import roc_curve\n",
    "#레이블 1일때 예측 확률\n",
    "pred_positive_label=results.predict(x_test_stat15_logistic)\n",
    "fprs,tprs,thresholds = roc_curve(y_test,pred_positive_label)\n",
    "precisions,recalls,thresholds = roc_curve(y_test,pred_positive_label)\n",
    "\n",
    "\n",
    "plt.figure(figsize=(15,5))\n",
    "\n",
    "#diagonal\n",
    "plt.plot([0,1],[0,1],label='STR')\n",
    "\n",
    "#ROC\n",
    "\n",
    "plt.plot(fprs,tprs,label='ROC')\n",
    "plt.xlabel('FPR')\n",
    "plt.ylabel('TPR')\n",
    "plt.legend()\n",
    "plt.grid()\n",
    "plt.show()\n",
    "\n"
   ]
  },
  {
   "cell_type": "code",
   "execution_count": 36,
   "id": "dc84521c",
   "metadata": {},
   "outputs": [
    {
     "name": "stdout",
     "output_type": "stream",
     "text": [
      "roc auc value 0.7052965142598461\n"
     ]
    }
   ],
   "source": [
    "# auc score\n",
    "\n",
    "from sklearn.metrics import roc_auc_score\n",
    "\n",
    "print('roc auc value {}'.format(roc_auc_score(y_test,pred_positive_label) ))\n",
    "\n"
   ]
  },
  {
   "cell_type": "code",
   "execution_count": 37,
   "id": "8c758ede",
   "metadata": {},
   "outputs": [],
   "source": [
    "auc=roc_auc_score(y_test,pred_positive_label)\n",
    "accuracy = accuracy_score(y_true=y_test,y_pred=predicted)\n",
    "recall = recall_score(y_true=y_test, y_pred=predicted, pos_label=1)\n",
    "specificity = recall_score(y_true=y_test, y_pred=predicted, pos_label=0)\n",
    "f1 = f1_score(y_true=y_test, y_pred=predicted)\n",
    "\n",
    "\n",
    "names.append('logistic_15')\n",
    "aucs.append(auc)\n",
    "accs.append(accuracy)\n",
    "recalls_list.append(recall)\n",
    "specificitys.append(specificity)\n",
    "f1s.append(f1)\n"
   ]
  },
  {
   "cell_type": "code",
   "execution_count": 38,
   "id": "d019274e",
   "metadata": {},
   "outputs": [],
   "source": [
    "test_logistic= pd.concat([pd.DataFrame(names),\n",
    "                     pd.DataFrame(aucs),\n",
    "                     pd.DataFrame(accs),\n",
    "                     pd.DataFrame(recalls_list),\n",
    "                     pd.DataFrame(specificitys),\n",
    "                     pd.DataFrame(f1s)\n",
    "                    ],axis=1)\n",
    "test_logistic.columns=['name','AUC','ACC','RECALL','SPECIFICITY','F1']"
   ]
  },
  {
   "cell_type": "code",
   "execution_count": 39,
   "id": "83149110",
   "metadata": {},
   "outputs": [
    {
     "data": {
      "text/html": [
       "<div>\n",
       "<style scoped>\n",
       "    .dataframe tbody tr th:only-of-type {\n",
       "        vertical-align: middle;\n",
       "    }\n",
       "\n",
       "    .dataframe tbody tr th {\n",
       "        vertical-align: top;\n",
       "    }\n",
       "\n",
       "    .dataframe thead th {\n",
       "        text-align: right;\n",
       "    }\n",
       "</style>\n",
       "<table border=\"1\" class=\"dataframe\">\n",
       "  <thead>\n",
       "    <tr style=\"text-align: right;\">\n",
       "      <th></th>\n",
       "      <th>name</th>\n",
       "      <th>AUC</th>\n",
       "      <th>ACC</th>\n",
       "      <th>RECALL</th>\n",
       "      <th>SPECIFICITY</th>\n",
       "      <th>F1</th>\n",
       "    </tr>\n",
       "  </thead>\n",
       "  <tbody>\n",
       "    <tr>\n",
       "      <th>0</th>\n",
       "      <td>logistic_17</td>\n",
       "      <td>0.689000</td>\n",
       "      <td>0.606383</td>\n",
       "      <td>0.744681</td>\n",
       "      <td>0.468085</td>\n",
       "      <td>0.654206</td>\n",
       "    </tr>\n",
       "    <tr>\n",
       "      <th>1</th>\n",
       "      <td>logistic_10</td>\n",
       "      <td>0.724762</td>\n",
       "      <td>0.606383</td>\n",
       "      <td>0.702128</td>\n",
       "      <td>0.510638</td>\n",
       "      <td>0.640777</td>\n",
       "    </tr>\n",
       "    <tr>\n",
       "      <th>2</th>\n",
       "      <td>logistic_15</td>\n",
       "      <td>0.705297</td>\n",
       "      <td>0.638298</td>\n",
       "      <td>0.829787</td>\n",
       "      <td>0.446809</td>\n",
       "      <td>0.696429</td>\n",
       "    </tr>\n",
       "  </tbody>\n",
       "</table>\n",
       "</div>"
      ],
      "text/plain": [
       "          name       AUC       ACC    RECALL  SPECIFICITY        F1\n",
       "0  logistic_17  0.689000  0.606383  0.744681     0.468085  0.654206\n",
       "1  logistic_10  0.724762  0.606383  0.702128     0.510638  0.640777\n",
       "2  logistic_15  0.705297  0.638298  0.829787     0.446809  0.696429"
      ]
     },
     "execution_count": 39,
     "metadata": {},
     "output_type": "execute_result"
    }
   ],
   "source": [
    "test_logistic"
   ]
  },
  {
   "cell_type": "code",
   "execution_count": 40,
   "id": "65cb463a",
   "metadata": {},
   "outputs": [
    {
     "data": {
      "text/html": [
       "<div>\n",
       "<style scoped>\n",
       "    .dataframe tbody tr th:only-of-type {\n",
       "        vertical-align: middle;\n",
       "    }\n",
       "\n",
       "    .dataframe tbody tr th {\n",
       "        vertical-align: top;\n",
       "    }\n",
       "\n",
       "    .dataframe thead th {\n",
       "        text-align: right;\n",
       "    }\n",
       "</style>\n",
       "<table border=\"1\" class=\"dataframe\">\n",
       "  <thead>\n",
       "    <tr style=\"text-align: right;\">\n",
       "      <th></th>\n",
       "      <th>name</th>\n",
       "      <th>AUC</th>\n",
       "      <th>ACC</th>\n",
       "      <th>RECALL</th>\n",
       "      <th>SPECIFICITY</th>\n",
       "      <th>F1</th>\n",
       "    </tr>\n",
       "  </thead>\n",
       "  <tbody>\n",
       "    <tr>\n",
       "      <th>1</th>\n",
       "      <td>logistic_10</td>\n",
       "      <td>0.724762</td>\n",
       "      <td>0.606383</td>\n",
       "      <td>0.702128</td>\n",
       "      <td>0.510638</td>\n",
       "      <td>0.640777</td>\n",
       "    </tr>\n",
       "    <tr>\n",
       "      <th>2</th>\n",
       "      <td>logistic_15</td>\n",
       "      <td>0.705297</td>\n",
       "      <td>0.638298</td>\n",
       "      <td>0.829787</td>\n",
       "      <td>0.446809</td>\n",
       "      <td>0.696429</td>\n",
       "    </tr>\n",
       "    <tr>\n",
       "      <th>0</th>\n",
       "      <td>logistic_17</td>\n",
       "      <td>0.689000</td>\n",
       "      <td>0.606383</td>\n",
       "      <td>0.744681</td>\n",
       "      <td>0.468085</td>\n",
       "      <td>0.654206</td>\n",
       "    </tr>\n",
       "  </tbody>\n",
       "</table>\n",
       "</div>"
      ],
      "text/plain": [
       "          name       AUC       ACC    RECALL  SPECIFICITY        F1\n",
       "1  logistic_10  0.724762  0.606383  0.702128     0.510638  0.640777\n",
       "2  logistic_15  0.705297  0.638298  0.829787     0.446809  0.696429\n",
       "0  logistic_17  0.689000  0.606383  0.744681     0.468085  0.654206"
      ]
     },
     "execution_count": 40,
     "metadata": {},
     "output_type": "execute_result"
    }
   ],
   "source": [
    "test_logistic.sort_values('name')"
   ]
  },
  {
   "cell_type": "markdown",
   "id": "363c82ce",
   "metadata": {},
   "source": [
    "## SVM"
   ]
  },
  {
   "cell_type": "code",
   "execution_count": 41,
   "id": "40e76d83",
   "metadata": {},
   "outputs": [
    {
     "data": {
      "text/html": [
       "<div>\n",
       "<style scoped>\n",
       "    .dataframe tbody tr th:only-of-type {\n",
       "        vertical-align: middle;\n",
       "    }\n",
       "\n",
       "    .dataframe tbody tr th {\n",
       "        vertical-align: top;\n",
       "    }\n",
       "\n",
       "    .dataframe thead th {\n",
       "        text-align: right;\n",
       "    }\n",
       "</style>\n",
       "<table border=\"1\" class=\"dataframe\">\n",
       "  <thead>\n",
       "    <tr style=\"text-align: right;\">\n",
       "      <th></th>\n",
       "      <th>name</th>\n",
       "      <th>AUC</th>\n",
       "      <th>ACC</th>\n",
       "      <th>RECALL</th>\n",
       "      <th>SPECIFICITY</th>\n",
       "      <th>F1</th>\n",
       "    </tr>\n",
       "  </thead>\n",
       "  <tbody>\n",
       "  </tbody>\n",
       "</table>\n",
       "</div>"
      ],
      "text/plain": [
       "Empty DataFrame\n",
       "Columns: [name, AUC, ACC, RECALL, SPECIFICITY, F1]\n",
       "Index: []"
      ]
     },
     "execution_count": 41,
     "metadata": {},
     "output_type": "execute_result"
    }
   ],
   "source": [
    "test_svm = pd.DataFrame(columns=['name','AUC','ACC','RECALL','SPECIFICITY','F1'])\n",
    "test_svm"
   ]
  },
  {
   "cell_type": "code",
   "execution_count": 42,
   "id": "b42a0caf",
   "metadata": {},
   "outputs": [],
   "source": [
    "names=[]\n",
    "aucs=[]\n",
    "accs=[]\n",
    "recalls_list=[]\n",
    "specificitys=[]\n",
    "f1s=[]"
   ]
  },
  {
   "cell_type": "code",
   "execution_count": 43,
   "id": "b8780b11",
   "metadata": {},
   "outputs": [],
   "source": [
    "#표준화\n",
    "\n",
    "\n",
    "scaler = StandardScaler()\n",
    "\n",
    "x_train_stat_svm = x_train.copy()\n",
    "x_test_stat_svm = x_test.copy()\n",
    "\n",
    "\n",
    "x_train_stat_svm[numeric_cols] = scaler.fit_transform(x_train_stat_svm[numeric_cols])\n",
    "x_test_stat_svm[numeric_cols] = scaler.transform(x_test_stat_svm[numeric_cols])\n",
    "\n",
    "\n"
   ]
  },
  {
   "cell_type": "code",
   "execution_count": 44,
   "id": "cc985f34",
   "metadata": {},
   "outputs": [],
   "source": [
    "x_train_stat5_svm = x_train_stat_svm.copy()\n",
    "x_train_stat5_svm = x_test_stat_svm[col5]\n",
    "\n",
    "x_test_stat5_svm = x_test_stat_svm.copy()\n",
    "x_test_stat5_svm = x_test_stat_svm[col5]\n",
    "\n",
    "\n",
    "x_train_stat10_svm = x_train_stat_svm.copy()\n",
    "x_train_stat10_svm = x_train_stat_svm[col10]\n",
    "\n",
    "x_test_stat10_svm = x_test_stat_svm.copy()\n",
    "x_test_stat10_svm = x_test_stat_svm[col10]\n",
    "\n",
    "\n",
    "x_train_stat15_svm = x_train_stat_svm.copy()\n",
    "x_train_stat15_svm = x_train_stat_svm[col15]\n",
    "\n",
    "x_test_stat15_svm = x_test_stat_svm.copy()\n",
    "x_test_stat15_svm = x_test_stat_svm[col15]\n"
   ]
  },
  {
   "cell_type": "markdown",
   "id": "6af681cf",
   "metadata": {},
   "source": [
    "### reduced (17)"
   ]
  },
  {
   "cell_type": "code",
   "execution_count": 45,
   "id": "7c3768fa",
   "metadata": {
    "scrolled": true
   },
   "outputs": [
    {
     "data": {
      "text/html": [
       "<div>\n",
       "<style scoped>\n",
       "    .dataframe tbody tr th:only-of-type {\n",
       "        vertical-align: middle;\n",
       "    }\n",
       "\n",
       "    .dataframe tbody tr th {\n",
       "        vertical-align: top;\n",
       "    }\n",
       "\n",
       "    .dataframe thead th {\n",
       "        text-align: right;\n",
       "    }\n",
       "</style>\n",
       "<table border=\"1\" class=\"dataframe\">\n",
       "  <thead>\n",
       "    <tr style=\"text-align: right;\">\n",
       "      <th></th>\n",
       "      <th>C</th>\n",
       "      <th>mean_test_score</th>\n",
       "    </tr>\n",
       "  </thead>\n",
       "  <tbody>\n",
       "    <tr>\n",
       "      <th>2</th>\n",
       "      <td>0.100</td>\n",
       "      <td>0.716216</td>\n",
       "    </tr>\n",
       "    <tr>\n",
       "      <th>4</th>\n",
       "      <td>10.000</td>\n",
       "      <td>0.708324</td>\n",
       "    </tr>\n",
       "    <tr>\n",
       "      <th>5</th>\n",
       "      <td>25.000</td>\n",
       "      <td>0.708288</td>\n",
       "    </tr>\n",
       "    <tr>\n",
       "      <th>1</th>\n",
       "      <td>0.010</td>\n",
       "      <td>0.702991</td>\n",
       "    </tr>\n",
       "    <tr>\n",
       "      <th>6</th>\n",
       "      <td>50.000</td>\n",
       "      <td>0.702955</td>\n",
       "    </tr>\n",
       "    <tr>\n",
       "      <th>7</th>\n",
       "      <td>100.000</td>\n",
       "      <td>0.702955</td>\n",
       "    </tr>\n",
       "    <tr>\n",
       "      <th>3</th>\n",
       "      <td>1.000</td>\n",
       "      <td>0.697550</td>\n",
       "    </tr>\n",
       "    <tr>\n",
       "      <th>0</th>\n",
       "      <td>0.001</td>\n",
       "      <td>0.502667</td>\n",
       "    </tr>\n",
       "  </tbody>\n",
       "</table>\n",
       "</div>"
      ],
      "text/plain": [
       "         C  mean_test_score\n",
       "2    0.100         0.716216\n",
       "4   10.000         0.708324\n",
       "5   25.000         0.708288\n",
       "1    0.010         0.702991\n",
       "6   50.000         0.702955\n",
       "7  100.000         0.702955\n",
       "3    1.000         0.697550\n",
       "0    0.001         0.502667"
      ]
     },
     "execution_count": 45,
     "metadata": {},
     "output_type": "execute_result"
    }
   ],
   "source": [
    "import sklearn.svm as svm\n",
    "import sklearn.metrics as mt\n",
    "from sklearn.model_selection import GridSearchCV\n",
    "# 테스트하고자 하는 파라미터 값들을 사전타입으로 정의\n",
    "\n",
    "svm_clf = svm.SVC(kernel = 'linear',random_state=1234)\n",
    "parameters = {'C': [0.001, 0.01, 0.1, 1, 10, 25, 50, 100]}\n",
    "\n",
    "grid_svm = GridSearchCV(svm_clf,param_grid = parameters, cv = 5)\n",
    "\n",
    "grid_svm.fit(x_train_stat_svm, y_train['CIP'])\n",
    "\n",
    "result = pd.DataFrame(grid_svm.cv_results_['params'])\n",
    "result['mean_test_score'] = grid_svm.cv_results_['mean_test_score']\n",
    "result.sort_values(by='mean_test_score', ascending=False)\n"
   ]
  },
  {
   "cell_type": "code",
   "execution_count": 46,
   "id": "5c3a919f",
   "metadata": {},
   "outputs": [
    {
     "name": "stdout",
     "output_type": "stream",
     "text": [
      "best params :  {'C': 0.1}\n"
     ]
    }
   ],
   "source": [
    "\n",
    "print('best params : ' ,grid_svm.best_params_)\n",
    "model_best_svm = grid_svm.best_estimator_"
   ]
  },
  {
   "cell_type": "code",
   "execution_count": 47,
   "id": "7bbb9e90",
   "metadata": {},
   "outputs": [
    {
     "data": {
      "text/plain": [
       "SVC(C=0.1, kernel='linear', probability=True, random_state=1234)"
      ]
     },
     "execution_count": 47,
     "metadata": {},
     "output_type": "execute_result"
    }
   ],
   "source": [
    "model_best_svm = svm.SVC(C=0.1,kernel = 'linear',random_state=1234,probability=True)\n",
    "model_best_svm.fit(x_train_stat_svm, y_train['CIP'])"
   ]
  },
  {
   "cell_type": "code",
   "execution_count": 48,
   "id": "de0788f4",
   "metadata": {},
   "outputs": [
    {
     "name": "stdout",
     "output_type": "stream",
     "text": [
      "accuracy score: 0.702\n",
      "recall score: 0.596\n"
     ]
    }
   ],
   "source": [
    "from sklearn.metrics import accuracy_score\n",
    "\n",
    "predicted = model_best_svm.predict(x_test_stat_svm)\n",
    "accuracy = accuracy_score(y_true=y_test,y_pred=predicted)\n",
    "recall = recall_score(y_true=y_test, y_pred=predicted, average=None)\n",
    "\n",
    "print(f'accuracy score: {accuracy:.3}')\n",
    "print(f'recall score: {recall[1]:.3}')"
   ]
  },
  {
   "cell_type": "code",
   "execution_count": 49,
   "id": "859e138f",
   "metadata": {},
   "outputs": [
    {
     "data": {
      "text/html": [
       "<div>\n",
       "<style scoped>\n",
       "    .dataframe tbody tr th:only-of-type {\n",
       "        vertical-align: middle;\n",
       "    }\n",
       "\n",
       "    .dataframe tbody tr th {\n",
       "        vertical-align: top;\n",
       "    }\n",
       "\n",
       "    .dataframe thead th {\n",
       "        text-align: right;\n",
       "    }\n",
       "</style>\n",
       "<table border=\"1\" class=\"dataframe\">\n",
       "  <thead>\n",
       "    <tr style=\"text-align: right;\">\n",
       "      <th></th>\n",
       "      <th>CIP</th>\n",
       "    </tr>\n",
       "  </thead>\n",
       "  <tbody>\n",
       "    <tr>\n",
       "      <th>0</th>\n",
       "      <td>0</td>\n",
       "    </tr>\n",
       "    <tr>\n",
       "      <th>1</th>\n",
       "      <td>1</td>\n",
       "    </tr>\n",
       "    <tr>\n",
       "      <th>2</th>\n",
       "      <td>1</td>\n",
       "    </tr>\n",
       "    <tr>\n",
       "      <th>3</th>\n",
       "      <td>0</td>\n",
       "    </tr>\n",
       "    <tr>\n",
       "      <th>4</th>\n",
       "      <td>0</td>\n",
       "    </tr>\n",
       "    <tr>\n",
       "      <th>...</th>\n",
       "      <td>...</td>\n",
       "    </tr>\n",
       "    <tr>\n",
       "      <th>89</th>\n",
       "      <td>0</td>\n",
       "    </tr>\n",
       "    <tr>\n",
       "      <th>90</th>\n",
       "      <td>0</td>\n",
       "    </tr>\n",
       "    <tr>\n",
       "      <th>91</th>\n",
       "      <td>1</td>\n",
       "    </tr>\n",
       "    <tr>\n",
       "      <th>92</th>\n",
       "      <td>0</td>\n",
       "    </tr>\n",
       "    <tr>\n",
       "      <th>93</th>\n",
       "      <td>0</td>\n",
       "    </tr>\n",
       "  </tbody>\n",
       "</table>\n",
       "<p>94 rows × 1 columns</p>\n",
       "</div>"
      ],
      "text/plain": [
       "    CIP\n",
       "0     0\n",
       "1     1\n",
       "2     1\n",
       "3     0\n",
       "4     0\n",
       "..  ...\n",
       "89    0\n",
       "90    0\n",
       "91    1\n",
       "92    0\n",
       "93    0\n",
       "\n",
       "[94 rows x 1 columns]"
      ]
     },
     "execution_count": 49,
     "metadata": {},
     "output_type": "execute_result"
    }
   ],
   "source": [
    "y_test"
   ]
  },
  {
   "cell_type": "code",
   "execution_count": 50,
   "id": "f1e6b842",
   "metadata": {},
   "outputs": [
    {
     "data": {
      "image/png": "[encoded data removed]",
      "text/plain": [
       "<Figure size 1080x360 with 1 Axes>"
      ]
     },
     "metadata": {},
     "output_type": "display_data"
    }
   ],
   "source": [
    "# roc curve\n",
    "from sklearn.metrics import roc_curve\n",
    "#레이블 1일때 예측 확률\n",
    "pred_positive_label=model_best_svm.predict(x_test_stat_svm)\n",
    "fprs,tprs,thresholds = roc_curve(y_test,pred_positive_label)\n",
    "precisions,recalls,thresholds = roc_curve(y_test,pred_positive_label)\n",
    "\n",
    "\n",
    "plt.figure(figsize=(15,5))\n",
    "\n",
    "#diagonal\n",
    "plt.plot([0,1],[0,1],label='STR')\n",
    "\n",
    "#ROC\n",
    "\n",
    "plt.plot(fprs,tprs,label='ROC')\n",
    "plt.xlabel('FPR')\n",
    "plt.ylabel('TPR')\n",
    "plt.legend()\n",
    "plt.grid()\n",
    "plt.show()\n",
    "\n"
   ]
  },
  {
   "cell_type": "code",
   "execution_count": 51,
   "id": "b04baeaa",
   "metadata": {},
   "outputs": [
    {
     "name": "stdout",
     "output_type": "stream",
     "text": [
      "roc auc value 0.7021276595744681\n"
     ]
    }
   ],
   "source": [
    "# auc score\n",
    "\n",
    "from sklearn.metrics import roc_auc_score\n",
    "\n",
    "print('roc auc value {}'.format(roc_auc_score(y_test,pred_positive_label) ))\n",
    "\n"
   ]
  },
  {
   "cell_type": "code",
   "execution_count": 52,
   "id": "19740bed",
   "metadata": {},
   "outputs": [],
   "source": [
    "auc=roc_auc_score(y_test,pred_positive_label)\n",
    "accuracy = accuracy_score(y_true=y_test,y_pred=predicted)\n",
    "recall = recall_score(y_true=y_test, y_pred=predicted, pos_label=1)\n",
    "specificity = recall_score(y_true=y_test, y_pred=predicted, pos_label=0)\n",
    "f1 = f1_score(y_true=y_test, y_pred=predicted)\n",
    "\n",
    "\n",
    "names.append('svm_17')\n",
    "aucs.append(auc)\n",
    "accs.append(accuracy)\n",
    "recalls_list.append(recall)\n",
    "specificitys.append(specificity)\n",
    "f1s.append(f1)\n"
   ]
  },
  {
   "cell_type": "code",
   "execution_count": 53,
   "id": "2147f392",
   "metadata": {},
   "outputs": [],
   "source": [
    "test_svm= pd.concat([pd.DataFrame(names),\n",
    "                     pd.DataFrame(aucs),\n",
    "                     pd.DataFrame(accs),\n",
    "                     pd.DataFrame(recalls_list),\n",
    "                     pd.DataFrame(specificitys),\n",
    "                     pd.DataFrame(f1s)\n",
    "                    ],axis=1)\n",
    "test_svm.columns=['name','AUC','ACC','RECALL','SPECIFICITY','F1']"
   ]
  },
  {
   "cell_type": "code",
   "execution_count": 54,
   "id": "40837424",
   "metadata": {},
   "outputs": [
    {
     "data": {
      "text/html": [
       "<div>\n",
       "<style scoped>\n",
       "    .dataframe tbody tr th:only-of-type {\n",
       "        vertical-align: middle;\n",
       "    }\n",
       "\n",
       "    .dataframe tbody tr th {\n",
       "        vertical-align: top;\n",
       "    }\n",
       "\n",
       "    .dataframe thead th {\n",
       "        text-align: right;\n",
       "    }\n",
       "</style>\n",
       "<table border=\"1\" class=\"dataframe\">\n",
       "  <thead>\n",
       "    <tr style=\"text-align: right;\">\n",
       "      <th></th>\n",
       "      <th>name</th>\n",
       "      <th>AUC</th>\n",
       "      <th>ACC</th>\n",
       "      <th>RECALL</th>\n",
       "      <th>SPECIFICITY</th>\n",
       "      <th>F1</th>\n",
       "    </tr>\n",
       "  </thead>\n",
       "  <tbody>\n",
       "    <tr>\n",
       "      <th>0</th>\n",
       "      <td>svm_17</td>\n",
       "      <td>0.702128</td>\n",
       "      <td>0.702128</td>\n",
       "      <td>0.595745</td>\n",
       "      <td>0.808511</td>\n",
       "      <td>0.666667</td>\n",
       "    </tr>\n",
       "  </tbody>\n",
       "</table>\n",
       "</div>"
      ],
      "text/plain": [
       "     name       AUC       ACC    RECALL  SPECIFICITY        F1\n",
       "0  svm_17  0.702128  0.702128  0.595745     0.808511  0.666667"
      ]
     },
     "execution_count": 54,
     "metadata": {},
     "output_type": "execute_result"
    }
   ],
   "source": [
    "test_svm"
   ]
  },
  {
   "cell_type": "markdown",
   "id": "e875c25b",
   "metadata": {},
   "source": [
    "### 10 변수"
   ]
  },
  {
   "cell_type": "code",
   "execution_count": 55,
   "id": "36cdbef7",
   "metadata": {},
   "outputs": [
    {
     "data": {
      "text/html": [
       "<div>\n",
       "<style scoped>\n",
       "    .dataframe tbody tr th:only-of-type {\n",
       "        vertical-align: middle;\n",
       "    }\n",
       "\n",
       "    .dataframe tbody tr th {\n",
       "        vertical-align: top;\n",
       "    }\n",
       "\n",
       "    .dataframe thead th {\n",
       "        text-align: right;\n",
       "    }\n",
       "</style>\n",
       "<table border=\"1\" class=\"dataframe\">\n",
       "  <thead>\n",
       "    <tr style=\"text-align: right;\">\n",
       "      <th></th>\n",
       "      <th>C</th>\n",
       "      <th>mean_test_score</th>\n",
       "    </tr>\n",
       "  </thead>\n",
       "  <tbody>\n",
       "    <tr>\n",
       "      <th>5</th>\n",
       "      <td>25.000</td>\n",
       "      <td>0.721838</td>\n",
       "    </tr>\n",
       "    <tr>\n",
       "      <th>2</th>\n",
       "      <td>0.100</td>\n",
       "      <td>0.716252</td>\n",
       "    </tr>\n",
       "    <tr>\n",
       "      <th>6</th>\n",
       "      <td>50.000</td>\n",
       "      <td>0.708324</td>\n",
       "    </tr>\n",
       "    <tr>\n",
       "      <th>7</th>\n",
       "      <td>100.000</td>\n",
       "      <td>0.708324</td>\n",
       "    </tr>\n",
       "    <tr>\n",
       "      <th>3</th>\n",
       "      <td>1.000</td>\n",
       "      <td>0.700324</td>\n",
       "    </tr>\n",
       "    <tr>\n",
       "      <th>4</th>\n",
       "      <td>10.000</td>\n",
       "      <td>0.700252</td>\n",
       "    </tr>\n",
       "    <tr>\n",
       "      <th>1</th>\n",
       "      <td>0.010</td>\n",
       "      <td>0.686919</td>\n",
       "    </tr>\n",
       "    <tr>\n",
       "      <th>0</th>\n",
       "      <td>0.001</td>\n",
       "      <td>0.502667</td>\n",
       "    </tr>\n",
       "  </tbody>\n",
       "</table>\n",
       "</div>"
      ],
      "text/plain": [
       "         C  mean_test_score\n",
       "5   25.000         0.721838\n",
       "2    0.100         0.716252\n",
       "6   50.000         0.708324\n",
       "7  100.000         0.708324\n",
       "3    1.000         0.700324\n",
       "4   10.000         0.700252\n",
       "1    0.010         0.686919\n",
       "0    0.001         0.502667"
      ]
     },
     "execution_count": 55,
     "metadata": {},
     "output_type": "execute_result"
    }
   ],
   "source": [
    "import sklearn.svm as svm\n",
    "import sklearn.metrics as mt\n",
    "from sklearn.model_selection import GridSearchCV\n",
    "# 테스트하고자 하는 파라미터 값들을 사전타입으로 정의\n",
    "\n",
    "svm_clf = svm.SVC(kernel = 'linear',random_state=1234)\n",
    "parameters = {'C': [0.001, 0.01, 0.1, 1, 10, 25, 50, 100]}\n",
    "\n",
    "grid_svm = GridSearchCV(svm_clf,param_grid = parameters, cv = 5)\n",
    "\n",
    "grid_svm.fit(x_train_stat10_svm, y_train['CIP'])\n",
    "\n",
    "result = pd.DataFrame(grid_svm.cv_results_['params'])\n",
    "result['mean_test_score'] = grid_svm.cv_results_['mean_test_score']\n",
    "result.sort_values(by='mean_test_score', ascending=False)\n"
   ]
  },
  {
   "cell_type": "code",
   "execution_count": 56,
   "id": "f7826073",
   "metadata": {},
   "outputs": [
    {
     "name": "stdout",
     "output_type": "stream",
     "text": [
      "best params :  {'C': 25}\n"
     ]
    }
   ],
   "source": [
    "\n",
    "print('best params : ' ,grid_svm.best_params_)\n",
    "model_best_svm = grid_svm.best_estimator_"
   ]
  },
  {
   "cell_type": "code",
   "execution_count": 57,
   "id": "2671799c",
   "metadata": {},
   "outputs": [
    {
     "data": {
      "text/plain": [
       "SVC(C=25, kernel='linear', probability=True, random_state=1234)"
      ]
     },
     "execution_count": 57,
     "metadata": {},
     "output_type": "execute_result"
    }
   ],
   "source": [
    "model_best_svm = svm.SVC(C=25,kernel = 'linear',random_state=1234,probability=True)\n",
    "model_best_svm.fit(x_train_stat10_svm, y_train['CIP'])"
   ]
  },
  {
   "cell_type": "code",
   "execution_count": 58,
   "id": "7ca9d405",
   "metadata": {},
   "outputs": [
    {
     "name": "stdout",
     "output_type": "stream",
     "text": [
      "accuracy score: 0.745\n",
      "recall score: 0.617\n"
     ]
    }
   ],
   "source": [
    "from sklearn.metrics import accuracy_score\n",
    "\n",
    "predicted = model_best_svm.predict(x_test_stat10_svm)\n",
    "accuracy = accuracy_score(y_true=y_test,y_pred=predicted)\n",
    "recall = recall_score(y_true=y_test, y_pred=predicted, average=None)\n",
    "\n",
    "print(f'accuracy score: {accuracy:.3}')\n",
    "print(f'recall score: {recall[1]:.3}')"
   ]
  },
  {
   "cell_type": "code",
   "execution_count": 59,
   "id": "ff30b8e8",
   "metadata": {},
   "outputs": [
    {
     "data": {
      "image/png": "[encoded data removed]",
      "text/plain": [
       "<Figure size 1080x360 with 1 Axes>"
      ]
     },
     "metadata": {},
     "output_type": "display_data"
    }
   ],
   "source": [
    "# roc curve\n",
    "from sklearn.metrics import roc_curve\n",
    "#레이블 1일때 예측 확률\n",
    "pred_positive_label=model_best_svm.predict(x_test_stat10_svm)\n",
    "fprs,tprs,thresholds = roc_curve(y_test,pred_positive_label)\n",
    "precisions,recalls,thresholds = roc_curve(y_test,pred_positive_label)\n",
    "\n",
    "\n",
    "plt.figure(figsize=(15,5))\n",
    "\n",
    "#diagonal\n",
    "plt.plot([0,1],[0,1],label='STR')\n",
    "\n",
    "#ROC\n",
    "\n",
    "plt.plot(fprs,tprs,label='ROC')\n",
    "plt.xlabel('FPR')\n",
    "plt.ylabel('TPR')\n",
    "plt.legend()\n",
    "plt.grid()\n",
    "plt.show()\n",
    "\n"
   ]
  },
  {
   "cell_type": "code",
   "execution_count": 60,
   "id": "39eb0724",
   "metadata": {},
   "outputs": [
    {
     "name": "stdout",
     "output_type": "stream",
     "text": [
      "roc auc value 0.7446808510638299\n"
     ]
    }
   ],
   "source": [
    "# auc score\n",
    "\n",
    "from sklearn.metrics import roc_auc_score\n",
    "\n",
    "print('roc auc value {}'.format(roc_auc_score(y_test,pred_positive_label) ))\n",
    "\n"
   ]
  },
  {
   "cell_type": "code",
   "execution_count": 61,
   "id": "1394339c",
   "metadata": {},
   "outputs": [],
   "source": [
    "auc=roc_auc_score(y_test,pred_positive_label)\n",
    "accuracy = accuracy_score(y_true=y_test,y_pred=predicted)\n",
    "recall = recall_score(y_true=y_test, y_pred=predicted, pos_label=1)\n",
    "specificity = recall_score(y_true=y_test, y_pred=predicted, pos_label=0)\n",
    "f1 = f1_score(y_true=y_test, y_pred=predicted)\n",
    "\n",
    "\n",
    "names.append('svm_10')\n",
    "aucs.append(auc)\n",
    "accs.append(accuracy)\n",
    "recalls_list.append(recall)\n",
    "specificitys.append(specificity)\n",
    "f1s.append(f1)\n"
   ]
  },
  {
   "cell_type": "code",
   "execution_count": 62,
   "id": "9820cc60",
   "metadata": {},
   "outputs": [],
   "source": [
    "test_svm= pd.concat([pd.DataFrame(names),\n",
    "                     pd.DataFrame(aucs),\n",
    "                     pd.DataFrame(accs),\n",
    "                     pd.DataFrame(recalls_list),\n",
    "                     pd.DataFrame(specificitys),\n",
    "                     pd.DataFrame(f1s)\n",
    "                    ],axis=1)\n",
    "test_svm.columns=['name','AUC','ACC','RECALL','SPECIFICITY','F1']"
   ]
  },
  {
   "cell_type": "code",
   "execution_count": 63,
   "id": "54fdb0d4",
   "metadata": {},
   "outputs": [
    {
     "data": {
      "text/html": [
       "<div>\n",
       "<style scoped>\n",
       "    .dataframe tbody tr th:only-of-type {\n",
       "        vertical-align: middle;\n",
       "    }\n",
       "\n",
       "    .dataframe tbody tr th {\n",
       "        vertical-align: top;\n",
       "    }\n",
       "\n",
       "    .dataframe thead th {\n",
       "        text-align: right;\n",
       "    }\n",
       "</style>\n",
       "<table border=\"1\" class=\"dataframe\">\n",
       "  <thead>\n",
       "    <tr style=\"text-align: right;\">\n",
       "      <th></th>\n",
       "      <th>name</th>\n",
       "      <th>AUC</th>\n",
       "      <th>ACC</th>\n",
       "      <th>RECALL</th>\n",
       "      <th>SPECIFICITY</th>\n",
       "      <th>F1</th>\n",
       "    </tr>\n",
       "  </thead>\n",
       "  <tbody>\n",
       "    <tr>\n",
       "      <th>0</th>\n",
       "      <td>svm_17</td>\n",
       "      <td>0.702128</td>\n",
       "      <td>0.702128</td>\n",
       "      <td>0.595745</td>\n",
       "      <td>0.808511</td>\n",
       "      <td>0.666667</td>\n",
       "    </tr>\n",
       "    <tr>\n",
       "      <th>1</th>\n",
       "      <td>svm_10</td>\n",
       "      <td>0.744681</td>\n",
       "      <td>0.744681</td>\n",
       "      <td>0.617021</td>\n",
       "      <td>0.872340</td>\n",
       "      <td>0.707317</td>\n",
       "    </tr>\n",
       "  </tbody>\n",
       "</table>\n",
       "</div>"
      ],
      "text/plain": [
       "     name       AUC       ACC    RECALL  SPECIFICITY        F1\n",
       "0  svm_17  0.702128  0.702128  0.595745     0.808511  0.666667\n",
       "1  svm_10  0.744681  0.744681  0.617021     0.872340  0.707317"
      ]
     },
     "execution_count": 63,
     "metadata": {},
     "output_type": "execute_result"
    }
   ],
   "source": [
    "test_svm"
   ]
  },
  {
   "cell_type": "markdown",
   "id": "d57d3407",
   "metadata": {},
   "source": [
    "### 15 변수"
   ]
  },
  {
   "cell_type": "code",
   "execution_count": 64,
   "id": "8e684ee0",
   "metadata": {},
   "outputs": [
    {
     "data": {
      "text/html": [
       "<div>\n",
       "<style scoped>\n",
       "    .dataframe tbody tr th:only-of-type {\n",
       "        vertical-align: middle;\n",
       "    }\n",
       "\n",
       "    .dataframe tbody tr th {\n",
       "        vertical-align: top;\n",
       "    }\n",
       "\n",
       "    .dataframe thead th {\n",
       "        text-align: right;\n",
       "    }\n",
       "</style>\n",
       "<table border=\"1\" class=\"dataframe\">\n",
       "  <thead>\n",
       "    <tr style=\"text-align: right;\">\n",
       "      <th></th>\n",
       "      <th>C</th>\n",
       "      <th>mean_test_score</th>\n",
       "    </tr>\n",
       "  </thead>\n",
       "  <tbody>\n",
       "    <tr>\n",
       "      <th>2</th>\n",
       "      <td>0.100</td>\n",
       "      <td>0.721550</td>\n",
       "    </tr>\n",
       "    <tr>\n",
       "      <th>4</th>\n",
       "      <td>10.000</td>\n",
       "      <td>0.705658</td>\n",
       "    </tr>\n",
       "    <tr>\n",
       "      <th>5</th>\n",
       "      <td>25.000</td>\n",
       "      <td>0.705658</td>\n",
       "    </tr>\n",
       "    <tr>\n",
       "      <th>6</th>\n",
       "      <td>50.000</td>\n",
       "      <td>0.705622</td>\n",
       "    </tr>\n",
       "    <tr>\n",
       "      <th>7</th>\n",
       "      <td>100.000</td>\n",
       "      <td>0.705622</td>\n",
       "    </tr>\n",
       "    <tr>\n",
       "      <th>3</th>\n",
       "      <td>1.000</td>\n",
       "      <td>0.700252</td>\n",
       "    </tr>\n",
       "    <tr>\n",
       "      <th>1</th>\n",
       "      <td>0.010</td>\n",
       "      <td>0.684288</td>\n",
       "    </tr>\n",
       "    <tr>\n",
       "      <th>0</th>\n",
       "      <td>0.001</td>\n",
       "      <td>0.502667</td>\n",
       "    </tr>\n",
       "  </tbody>\n",
       "</table>\n",
       "</div>"
      ],
      "text/plain": [
       "         C  mean_test_score\n",
       "2    0.100         0.721550\n",
       "4   10.000         0.705658\n",
       "5   25.000         0.705658\n",
       "6   50.000         0.705622\n",
       "7  100.000         0.705622\n",
       "3    1.000         0.700252\n",
       "1    0.010         0.684288\n",
       "0    0.001         0.502667"
      ]
     },
     "execution_count": 64,
     "metadata": {},
     "output_type": "execute_result"
    }
   ],
   "source": [
    "import sklearn.svm as svm\n",
    "import sklearn.metrics as mt\n",
    "from sklearn.model_selection import GridSearchCV\n",
    "# 테스트하고자 하는 파라미터 값들을 사전타입으로 정의\n",
    "\n",
    "svm_clf = svm.SVC(kernel = 'linear',random_state=1234)\n",
    "parameters = {'C': [0.001, 0.01, 0.1, 1, 10, 25, 50, 100]}\n",
    "\n",
    "grid_svm = GridSearchCV(svm_clf,param_grid = parameters, cv = 5)\n",
    "\n",
    "grid_svm.fit(x_train_stat15_svm, y_train['CIP'])\n",
    "\n",
    "result = pd.DataFrame(grid_svm.cv_results_['params'])\n",
    "result['mean_test_score'] = grid_svm.cv_results_['mean_test_score']\n",
    "result.sort_values(by='mean_test_score', ascending=False)\n"
   ]
  },
  {
   "cell_type": "code",
   "execution_count": 65,
   "id": "257d1d2b",
   "metadata": {},
   "outputs": [
    {
     "name": "stdout",
     "output_type": "stream",
     "text": [
      "best params :  {'C': 0.1}\n"
     ]
    }
   ],
   "source": [
    "\n",
    "print('best params : ' ,grid_svm.best_params_)\n",
    "model_best_svm = grid_svm.best_estimator_"
   ]
  },
  {
   "cell_type": "code",
   "execution_count": 66,
   "id": "647d6b91",
   "metadata": {},
   "outputs": [
    {
     "data": {
      "text/plain": [
       "SVC(C=0.1, kernel='linear', probability=True, random_state=1234)"
      ]
     },
     "execution_count": 66,
     "metadata": {},
     "output_type": "execute_result"
    }
   ],
   "source": [
    "model_best_svm = svm.SVC(C=0.1,kernel = 'linear',random_state=1234,probability=True)\n",
    "model_best_svm.fit(x_train_stat15_svm, y_train['CIP'])"
   ]
  },
  {
   "cell_type": "code",
   "execution_count": 67,
   "id": "706ce5fb",
   "metadata": {},
   "outputs": [
    {
     "name": "stdout",
     "output_type": "stream",
     "text": [
      "accuracy score: 0.702\n",
      "recall score: 0.596\n"
     ]
    }
   ],
   "source": [
    "from sklearn.metrics import accuracy_score\n",
    "\n",
    "predicted = model_best_svm.predict(x_test_stat15_svm)\n",
    "accuracy = accuracy_score(y_true=y_test,y_pred=predicted)\n",
    "recall = recall_score(y_true=y_test, y_pred=predicted, average=None)\n",
    "\n",
    "print(f'accuracy score: {accuracy:.3}')\n",
    "print(f'recall score: {recall[1]:.3}')"
   ]
  },
  {
   "cell_type": "code",
   "execution_count": 68,
   "id": "b07b1b06",
   "metadata": {},
   "outputs": [
    {
     "data": {
      "image/png": "[encoded data removed]",
      "text/plain": [
       "<Figure size 1080x360 with 1 Axes>"
      ]
     },
     "metadata": {},
     "output_type": "display_data"
    }
   ],
   "source": [
    "# roc curve\n",
    "from sklearn.metrics import roc_curve\n",
    "#레이블 1일때 예측 확률\n",
    "pred_positive_label=model_best_svm.predict(x_test_stat15_svm)\n",
    "fprs,tprs,thresholds = roc_curve(y_test,pred_positive_label)\n",
    "precisions,recalls,thresholds = roc_curve(y_test,pred_positive_label)\n",
    "\n",
    "\n",
    "plt.figure(figsize=(15,5))\n",
    "\n",
    "#diagonal\n",
    "plt.plot([0,1],[0,1],label='STR')\n",
    "\n",
    "#ROC\n",
    "\n",
    "plt.plot(fprs,tprs,label='ROC')\n",
    "plt.xlabel('FPR')\n",
    "plt.ylabel('TPR')\n",
    "plt.legend()\n",
    "plt.grid()\n",
    "plt.show()\n",
    "\n"
   ]
  },
  {
   "cell_type": "code",
   "execution_count": 69,
   "id": "63487002",
   "metadata": {},
   "outputs": [
    {
     "name": "stdout",
     "output_type": "stream",
     "text": [
      "roc auc value 0.7021276595744681\n"
     ]
    }
   ],
   "source": [
    "# auc score\n",
    "\n",
    "from sklearn.metrics import roc_auc_score\n",
    "\n",
    "print('roc auc value {}'.format(roc_auc_score(y_test,pred_positive_label) ))\n",
    "\n"
   ]
  },
  {
   "cell_type": "code",
   "execution_count": 70,
   "id": "e96112b7",
   "metadata": {},
   "outputs": [],
   "source": [
    "auc=roc_auc_score(y_test,pred_positive_label)\n",
    "accuracy = accuracy_score(y_true=y_test,y_pred=predicted)\n",
    "recall = recall_score(y_true=y_test, y_pred=predicted, pos_label=1)\n",
    "specificity = recall_score(y_true=y_test, y_pred=predicted, pos_label=0)\n",
    "f1 = f1_score(y_true=y_test, y_pred=predicted)\n",
    "\n",
    "\n",
    "names.append('svm_15')\n",
    "aucs.append(auc)\n",
    "accs.append(accuracy)\n",
    "recalls_list.append(recall)\n",
    "specificitys.append(specificity)\n",
    "f1s.append(f1)\n"
   ]
  },
  {
   "cell_type": "code",
   "execution_count": 71,
   "id": "41ee3270",
   "metadata": {},
   "outputs": [],
   "source": [
    "test_svm= pd.concat([pd.DataFrame(names),\n",
    "                     pd.DataFrame(aucs),\n",
    "                     pd.DataFrame(accs),\n",
    "                     pd.DataFrame(recalls_list),\n",
    "                     pd.DataFrame(specificitys),\n",
    "                     pd.DataFrame(f1s)\n",
    "                    ],axis=1)\n",
    "test_svm.columns=['name','AUC','ACC','RECALL','SPECIFICITY','F1']"
   ]
  },
  {
   "cell_type": "code",
   "execution_count": 73,
   "id": "fb55fadc",
   "metadata": {},
   "outputs": [
    {
     "data": {
      "text/html": [
       "<div>\n",
       "<style scoped>\n",
       "    .dataframe tbody tr th:only-of-type {\n",
       "        vertical-align: middle;\n",
       "    }\n",
       "\n",
       "    .dataframe tbody tr th {\n",
       "        vertical-align: top;\n",
       "    }\n",
       "\n",
       "    .dataframe thead th {\n",
       "        text-align: right;\n",
       "    }\n",
       "</style>\n",
       "<table border=\"1\" class=\"dataframe\">\n",
       "  <thead>\n",
       "    <tr style=\"text-align: right;\">\n",
       "      <th></th>\n",
       "      <th>name</th>\n",
       "      <th>AUC</th>\n",
       "      <th>ACC</th>\n",
       "      <th>RECALL</th>\n",
       "      <th>SPECIFICITY</th>\n",
       "      <th>F1</th>\n",
       "    </tr>\n",
       "  </thead>\n",
       "  <tbody>\n",
       "    <tr>\n",
       "      <th>1</th>\n",
       "      <td>svm_10</td>\n",
       "      <td>0.744681</td>\n",
       "      <td>0.744681</td>\n",
       "      <td>0.617021</td>\n",
       "      <td>0.872340</td>\n",
       "      <td>0.707317</td>\n",
       "    </tr>\n",
       "    <tr>\n",
       "      <th>2</th>\n",
       "      <td>svm_15</td>\n",
       "      <td>0.702128</td>\n",
       "      <td>0.702128</td>\n",
       "      <td>0.595745</td>\n",
       "      <td>0.808511</td>\n",
       "      <td>0.666667</td>\n",
       "    </tr>\n",
       "    <tr>\n",
       "      <th>0</th>\n",
       "      <td>svm_17</td>\n",
       "      <td>0.702128</td>\n",
       "      <td>0.702128</td>\n",
       "      <td>0.595745</td>\n",
       "      <td>0.808511</td>\n",
       "      <td>0.666667</td>\n",
       "    </tr>\n",
       "  </tbody>\n",
       "</table>\n",
       "</div>"
      ],
      "text/plain": [
       "     name       AUC       ACC    RECALL  SPECIFICITY        F1\n",
       "1  svm_10  0.744681  0.744681  0.617021     0.872340  0.707317\n",
       "2  svm_15  0.702128  0.702128  0.595745     0.808511  0.666667\n",
       "0  svm_17  0.702128  0.702128  0.595745     0.808511  0.666667"
      ]
     },
     "execution_count": 73,
     "metadata": {},
     "output_type": "execute_result"
    }
   ],
   "source": [
    "test_svm.sort_values('name')"
   ]
  },
  {
   "cell_type": "markdown",
   "id": "7032d4a0",
   "metadata": {},
   "source": [
    "## random forest"
   ]
  },
  {
   "cell_type": "code",
   "execution_count": 74,
   "id": "79e9b36b",
   "metadata": {},
   "outputs": [
    {
     "data": {
      "text/html": [
       "<div>\n",
       "<style scoped>\n",
       "    .dataframe tbody tr th:only-of-type {\n",
       "        vertical-align: middle;\n",
       "    }\n",
       "\n",
       "    .dataframe tbody tr th {\n",
       "        vertical-align: top;\n",
       "    }\n",
       "\n",
       "    .dataframe thead th {\n",
       "        text-align: right;\n",
       "    }\n",
       "</style>\n",
       "<table border=\"1\" class=\"dataframe\">\n",
       "  <thead>\n",
       "    <tr style=\"text-align: right;\">\n",
       "      <th></th>\n",
       "      <th>name</th>\n",
       "      <th>AUC</th>\n",
       "      <th>ACC</th>\n",
       "      <th>RECALL</th>\n",
       "      <th>SPECIFICITY</th>\n",
       "      <th>F1</th>\n",
       "    </tr>\n",
       "  </thead>\n",
       "  <tbody>\n",
       "  </tbody>\n",
       "</table>\n",
       "</div>"
      ],
      "text/plain": [
       "Empty DataFrame\n",
       "Columns: [name, AUC, ACC, RECALL, SPECIFICITY, F1]\n",
       "Index: []"
      ]
     },
     "execution_count": 74,
     "metadata": {},
     "output_type": "execute_result"
    }
   ],
   "source": [
    "test_rf = pd.DataFrame(columns=['name','AUC','ACC','RECALL','SPECIFICITY','F1'])\n",
    "test_rf"
   ]
  },
  {
   "cell_type": "code",
   "execution_count": 75,
   "id": "8aaa8644",
   "metadata": {},
   "outputs": [],
   "source": [
    "names=[]\n",
    "aucs=[]\n",
    "accs=[]\n",
    "recalls_list=[]\n",
    "specificitys=[]\n",
    "f1s=[]"
   ]
  },
  {
   "cell_type": "code",
   "execution_count": 76,
   "id": "8910019e",
   "metadata": {},
   "outputs": [],
   "source": [
    "x_train_stat10_rf = x_train.copy()\n",
    "x_train_stat10_rf = x_train_stat10_rf[col10]\n",
    "\n",
    "x_test_stat10_rf = x_test.copy()\n",
    "x_test_stat10_rf = x_test_stat10_rf[col10]\n",
    "\n",
    "\n",
    "x_train_stat15_rf = x_train.copy()\n",
    "x_train_stat15_rf = x_train_stat15_rf[col15]\n",
    "\n",
    "x_test_stat15_rf = x_test.copy()\n",
    "x_test_stat15_rf = x_test_stat15_rf[col15]\n"
   ]
  },
  {
   "cell_type": "markdown",
   "id": "8d84c529",
   "metadata": {},
   "source": [
    "### reduced (17)"
   ]
  },
  {
   "cell_type": "code",
   "execution_count": 77,
   "id": "18e2d27d",
   "metadata": {},
   "outputs": [
    {
     "data": {
      "text/plain": [
       "RandomizedSearchCV(cv=5, estimator=RandomForestClassifier(random_state=1234),\n",
       "                   n_iter=50,\n",
       "                   param_distributions={'max_depth': [1, 2, 3, 4, 5],\n",
       "                                        'n_estimators': [10, 20, 30, 40, 50, 60,\n",
       "                                                         70, 80, 90, 100, 110,\n",
       "                                                         120, 130, 140, 150,\n",
       "                                                         160, 170, 180, 190,\n",
       "                                                         200, 210, 220, 230,\n",
       "                                                         240, 250, 260, 270,\n",
       "                                                         280, 290, 300, ...]},\n",
       "                   scoring='accuracy')"
      ]
     },
     "execution_count": 77,
     "metadata": {},
     "output_type": "execute_result"
    }
   ],
   "source": [
    "\n",
    "param_list = {\"n_estimators\": list(range(10, 500, 10)),\n",
    "              \"max_depth\": [1,2,3,4,5],}\n",
    "\n",
    "rf = RandomForestClassifier(random_state=1234)\n",
    "\n",
    "rf_random_search = RandomizedSearchCV(\n",
    "        estimator=rf,\n",
    "        param_distributions = param_list,\n",
    "        n_iter = 50,\n",
    "        cv = 5,\n",
    "        scoring = 'accuracy')\n",
    "\n",
    "rf_random_search.fit(x_train, y_train['CIP'])\n"
   ]
  },
  {
   "cell_type": "code",
   "execution_count": 78,
   "id": "7d72f954",
   "metadata": {},
   "outputs": [
    {
     "name": "stdout",
     "output_type": "stream",
     "text": [
      "best params :  {'n_estimators': 100, 'max_depth': 3}\n"
     ]
    }
   ],
   "source": [
    "print('best params : ' ,rf_random_search.best_params_)\n",
    "model_best=rf_random_search.best_estimator_"
   ]
  },
  {
   "cell_type": "code",
   "execution_count": 79,
   "id": "485d15d1",
   "metadata": {},
   "outputs": [
    {
     "data": {
      "text/plain": [
       "RandomForestClassifier(max_depth=3, n_estimators=180, random_state=1234)"
      ]
     },
     "execution_count": 79,
     "metadata": {},
     "output_type": "execute_result"
    }
   ],
   "source": [
    "model_best = RandomForestClassifier(n_estimators=100, max_depth=3,random_state=1234)\n",
    "model_best.fit(x_train, y_train['CIP'])"
   ]
  },
  {
   "cell_type": "code",
   "execution_count": 80,
   "id": "66f8a9d0",
   "metadata": {},
   "outputs": [
    {
     "name": "stdout",
     "output_type": "stream",
     "text": [
      "accuracy score: 0.681\n",
      "recall score: 0.617\n"
     ]
    }
   ],
   "source": [
    "from sklearn.metrics import accuracy_score\n",
    "\n",
    "predicted = model_best.predict(x_test)\n",
    "accuracy = accuracy_score(y_true=y_test,y_pred=predicted)\n",
    "recall = recall_score(y_true=y_test, y_pred=predicted, average=None)\n",
    "\n",
    "print(f'accuracy score: {accuracy:.3}')\n",
    "print(f'recall score: {recall[1]:.3}')\n"
   ]
  },
  {
   "cell_type": "code",
   "execution_count": 81,
   "id": "f26bc7c7",
   "metadata": {},
   "outputs": [
    {
     "data": {
      "text/plain": [
       "<AxesSubplot:>"
      ]
     },
     "execution_count": 81,
     "metadata": {},
     "output_type": "execute_result"
    },
    {
     "data": {
      "image/png": "[encoded data removed]",
      "text/plain": [
       "<Figure size 432x288 with 2 Axes>"
      ]
     },
     "metadata": {},
     "output_type": "display_data"
    }
   ],
   "source": [
    "\n",
    "cm = pd.DataFrame(confusion_matrix(y_true=y_test,y_pred = predicted), columns=['감수성','내성'], index=['감수성','내성'])\n",
    "sns.heatmap(cm, annot=True)"
   ]
  },
  {
   "cell_type": "code",
   "execution_count": 82,
   "id": "30523b76",
   "metadata": {},
   "outputs": [
    {
     "data": {
      "image/png": "[encoded data removed]",
      "text/plain": [
       "<Figure size 1080x360 with 1 Axes>"
      ]
     },
     "metadata": {},
     "output_type": "display_data"
    }
   ],
   "source": [
    "# roc curve\n",
    "from sklearn.metrics import roc_curve\n",
    "#레이블 1일때 예측 확률\n",
    "pred_positive_label=model_best.predict(x_test)\n",
    "fprs,tprs,thresholds = roc_curve(y_test,pred_positive_label)\n",
    "precisions,recalls,thresholds = roc_curve(y_test,pred_positive_label)\n",
    "\n",
    "\n",
    "plt.figure(figsize=(15,5))\n",
    "\n",
    "#diagonal\n",
    "plt.plot([0,1],[0,1],label='STR')\n",
    "\n",
    "#ROC\n",
    "\n",
    "plt.plot(fprs,tprs,label='ROC')\n",
    "plt.xlabel('FPR')\n",
    "plt.ylabel('TPR')\n",
    "plt.legend()\n",
    "plt.grid()\n",
    "plt.show()\n",
    "\n"
   ]
  },
  {
   "cell_type": "code",
   "execution_count": 83,
   "id": "3bf7409e",
   "metadata": {},
   "outputs": [
    {
     "name": "stdout",
     "output_type": "stream",
     "text": [
      "roc auc value 0.6808510638297873\n"
     ]
    }
   ],
   "source": [
    "# auc score\n",
    "\n",
    "from sklearn.metrics import roc_auc_score\n",
    "\n",
    "print('roc auc value {}'.format(roc_auc_score(y_test,pred_positive_label) ))\n",
    "\n"
   ]
  },
  {
   "cell_type": "code",
   "execution_count": 84,
   "id": "db1e5dd9",
   "metadata": {},
   "outputs": [],
   "source": [
    "auc=roc_auc_score(y_test,pred_positive_label)\n",
    "accuracy = accuracy_score(y_true=y_test,y_pred=predicted)\n",
    "recall = recall_score(y_true=y_test, y_pred=predicted, pos_label=1)\n",
    "specificity = recall_score(y_true=y_test, y_pred=predicted, pos_label=0)\n",
    "f1 = f1_score(y_true=y_test, y_pred=predicted)\n",
    "\n",
    "\n",
    "names.append('rf_17')\n",
    "aucs.append(auc)\n",
    "accs.append(accuracy)\n",
    "recalls_list.append(recall)\n",
    "specificitys.append(specificity)\n",
    "f1s.append(f1)\n"
   ]
  },
  {
   "cell_type": "code",
   "execution_count": 85,
   "id": "1359098c",
   "metadata": {},
   "outputs": [],
   "source": [
    "test_rf= pd.concat([pd.DataFrame(names),\n",
    "                     pd.DataFrame(aucs),\n",
    "                     pd.DataFrame(accs),\n",
    "                     pd.DataFrame(recalls_list),\n",
    "                     pd.DataFrame(specificitys),\n",
    "                     pd.DataFrame(f1s)\n",
    "                    ],axis=1)\n",
    "test_rf.columns=['name','AUC','ACC','RECALL','SPECIFICITY','F1']"
   ]
  },
  {
   "cell_type": "markdown",
   "id": "de897cc2",
   "metadata": {},
   "source": [
    "결과적으로, \n",
    "\n",
    "모든 변수를 포함한 BASELINE이 0.69 었는데, 통계적 방법에 따른 선택시 0.68이 되었다.\n",
    "\n",
    "17개의 변수를 사용했을때, shap을 이용했을 때 보다 accuracy는 떨어진다. 하지만, 더 높은 recall을 달성했다."
   ]
  },
  {
   "cell_type": "markdown",
   "id": "f4fcf097",
   "metadata": {},
   "source": [
    "### 10 변수"
   ]
  },
  {
   "cell_type": "code",
   "execution_count": 86,
   "id": "3f1c66b4",
   "metadata": {},
   "outputs": [
    {
     "data": {
      "text/plain": [
       "RandomizedSearchCV(cv=5, estimator=RandomForestClassifier(random_state=1234),\n",
       "                   n_iter=50,\n",
       "                   param_distributions={'max_depth': [1, 2, 3, 4, 5],\n",
       "                                        'n_estimators': [10, 20, 30, 40, 50, 60,\n",
       "                                                         70, 80, 90, 100, 110,\n",
       "                                                         120, 130, 140, 150,\n",
       "                                                         160, 170, 180, 190,\n",
       "                                                         200, 210, 220, 230,\n",
       "                                                         240, 250, 260, 270,\n",
       "                                                         280, 290, 300, ...]},\n",
       "                   scoring='accuracy')"
      ]
     },
     "execution_count": 86,
     "metadata": {},
     "output_type": "execute_result"
    }
   ],
   "source": [
    "\n",
    "param_list = {\"n_estimators\": list(range(10, 500, 10)),\n",
    "              \"max_depth\": [1,2,3,4,5],}\n",
    "\n",
    "rf = RandomForestClassifier(random_state=1234)\n",
    "\n",
    "rf_random_search = RandomizedSearchCV(\n",
    "        estimator=rf,\n",
    "        param_distributions = param_list,\n",
    "        n_iter = 50,\n",
    "        cv = 5,\n",
    "        scoring = 'accuracy')\n",
    "\n",
    "rf_random_search.fit(x_train_stat10_rf, y_train['CIP'])\n"
   ]
  },
  {
   "cell_type": "code",
   "execution_count": 87,
   "id": "9cc33fa8",
   "metadata": {},
   "outputs": [
    {
     "name": "stdout",
     "output_type": "stream",
     "text": [
      "best params :  {'n_estimators': 170, 'max_depth': 1}\n"
     ]
    }
   ],
   "source": [
    "print('best params : ' ,rf_random_search.best_params_)\n",
    "model_best=rf_random_search.best_estimator_"
   ]
  },
  {
   "cell_type": "code",
   "execution_count": 88,
   "id": "5a2f8833",
   "metadata": {},
   "outputs": [
    {
     "data": {
      "text/plain": [
       "RandomForestClassifier(max_depth=1, n_estimators=170, random_state=1234)"
      ]
     },
     "execution_count": 88,
     "metadata": {},
     "output_type": "execute_result"
    }
   ],
   "source": [
    "model_best = RandomForestClassifier(n_estimators=170, max_depth=1,random_state=1234)\n",
    "model_best.fit(x_train_stat10_rf, y_train['CIP'])"
   ]
  },
  {
   "cell_type": "code",
   "execution_count": 89,
   "id": "638920b9",
   "metadata": {},
   "outputs": [
    {
     "name": "stdout",
     "output_type": "stream",
     "text": [
      "accuracy score: 0.67\n",
      "recall score: 0.553\n"
     ]
    }
   ],
   "source": [
    "from sklearn.metrics import accuracy_score\n",
    "\n",
    "predicted = model_best.predict(x_test_stat10_rf)\n",
    "accuracy = accuracy_score(y_true=y_test,y_pred=predicted)\n",
    "recall = recall_score(y_true=y_test, y_pred=predicted, average=None)\n",
    "\n",
    "print(f'accuracy score: {accuracy:.3}')\n",
    "print(f'recall score: {recall[1]:.3}')\n"
   ]
  },
  {
   "cell_type": "code",
   "execution_count": 90,
   "id": "a4f2b999",
   "metadata": {},
   "outputs": [
    {
     "data": {
      "image/png": "[encoded data removed]",
      "text/plain": [
       "<Figure size 1080x360 with 1 Axes>"
      ]
     },
     "metadata": {},
     "output_type": "display_data"
    }
   ],
   "source": [
    "# roc curve\n",
    "from sklearn.metrics import roc_curve\n",
    "#레이블 1일때 예측 확률\n",
    "pred_positive_label=model_best.predict(x_test_stat10_rf)\n",
    "fprs,tprs,thresholds = roc_curve(y_test,pred_positive_label)\n",
    "precisions,recalls,thresholds = roc_curve(y_test,pred_positive_label)\n",
    "\n",
    "\n",
    "plt.figure(figsize=(15,5))\n",
    "\n",
    "#diagonal\n",
    "plt.plot([0,1],[0,1],label='STR')\n",
    "\n",
    "#ROC\n",
    "\n",
    "plt.plot(fprs,tprs,label='ROC')\n",
    "plt.xlabel('FPR')\n",
    "plt.ylabel('TPR')\n",
    "plt.legend()\n",
    "plt.grid()\n",
    "plt.show()\n",
    "\n"
   ]
  },
  {
   "cell_type": "code",
   "execution_count": 91,
   "id": "ceef38d7",
   "metadata": {},
   "outputs": [
    {
     "name": "stdout",
     "output_type": "stream",
     "text": [
      "roc auc value 0.6702127659574468\n"
     ]
    }
   ],
   "source": [
    "# auc score\n",
    "\n",
    "from sklearn.metrics import roc_auc_score\n",
    "\n",
    "print('roc auc value {}'.format(roc_auc_score(y_test,pred_positive_label) ))\n",
    "\n"
   ]
  },
  {
   "cell_type": "code",
   "execution_count": 92,
   "id": "0cd9a658",
   "metadata": {},
   "outputs": [],
   "source": [
    "auc=roc_auc_score(y_test,pred_positive_label)\n",
    "accuracy = accuracy_score(y_true=y_test,y_pred=predicted)\n",
    "recall = recall_score(y_true=y_test, y_pred=predicted, pos_label=1)\n",
    "specificity = recall_score(y_true=y_test, y_pred=predicted, pos_label=0)\n",
    "f1 = f1_score(y_true=y_test, y_pred=predicted)\n",
    "\n",
    "\n",
    "names.append('rf_10')\n",
    "aucs.append(auc)\n",
    "accs.append(accuracy)\n",
    "recalls_list.append(recall)\n",
    "specificitys.append(specificity)\n",
    "f1s.append(f1)\n"
   ]
  },
  {
   "cell_type": "code",
   "execution_count": 93,
   "id": "121c5d9b",
   "metadata": {},
   "outputs": [],
   "source": [
    "test_rf= pd.concat([pd.DataFrame(names),\n",
    "                     pd.DataFrame(aucs),\n",
    "                     pd.DataFrame(accs),\n",
    "                     pd.DataFrame(recalls_list),\n",
    "                     pd.DataFrame(specificitys),\n",
    "                     pd.DataFrame(f1s)\n",
    "                    ],axis=1)\n",
    "test_rf.columns=['name','AUC','ACC','RECALL','SPECIFICITY','F1']"
   ]
  },
  {
   "cell_type": "markdown",
   "id": "697a5b95",
   "metadata": {},
   "source": [
    "### 15 변수"
   ]
  },
  {
   "cell_type": "code",
   "execution_count": 94,
   "id": "145799d0",
   "metadata": {},
   "outputs": [
    {
     "data": {
      "text/plain": [
       "RandomizedSearchCV(cv=5, estimator=RandomForestClassifier(random_state=1234),\n",
       "                   n_iter=50,\n",
       "                   param_distributions={'max_depth': [1, 2, 3, 4, 5],\n",
       "                                        'n_estimators': [10, 20, 30, 40, 50, 60,\n",
       "                                                         70, 80, 90, 100, 110,\n",
       "                                                         120, 130, 140, 150,\n",
       "                                                         160, 170, 180, 190,\n",
       "                                                         200, 210, 220, 230,\n",
       "                                                         240, 250, 260, 270,\n",
       "                                                         280, 290, 300, ...]},\n",
       "                   scoring='accuracy')"
      ]
     },
     "execution_count": 94,
     "metadata": {},
     "output_type": "execute_result"
    }
   ],
   "source": [
    "param_list = {\"n_estimators\": list(range(10, 500, 10)),\n",
    "              \"max_depth\": [1,2,3,4,5],}\n",
    "\n",
    "rf = RandomForestClassifier(random_state=1234)\n",
    "\n",
    "rf_random_search = RandomizedSearchCV(\n",
    "        estimator=rf,\n",
    "        param_distributions = param_list,\n",
    "        n_iter = 50,\n",
    "        cv = 5,\n",
    "        scoring = 'accuracy')\n",
    "\n",
    "rf_random_search.fit(x_train_stat15_rf, y_train['CIP'])\n"
   ]
  },
  {
   "cell_type": "code",
   "execution_count": 95,
   "id": "73573f09",
   "metadata": {},
   "outputs": [
    {
     "name": "stdout",
     "output_type": "stream",
     "text": [
      "best params :  {'n_estimators': 260, 'max_depth': 3}\n"
     ]
    }
   ],
   "source": [
    "print('best params : ' ,rf_random_search.best_params_)\n",
    "model_best=rf_random_search.best_estimator_"
   ]
  },
  {
   "cell_type": "code",
   "execution_count": 96,
   "id": "f71395d1",
   "metadata": {},
   "outputs": [
    {
     "data": {
      "text/plain": [
       "RandomForestClassifier(max_depth=3, n_estimators=250, random_state=1234)"
      ]
     },
     "execution_count": 96,
     "metadata": {},
     "output_type": "execute_result"
    }
   ],
   "source": [
    "model_best = RandomForestClassifier(n_estimators=250, max_depth=3,random_state=1234)\n",
    "model_best.fit(x_train_stat15_rf, y_train['CIP'])"
   ]
  },
  {
   "cell_type": "code",
   "execution_count": 97,
   "id": "a75c6ed6",
   "metadata": {},
   "outputs": [
    {
     "name": "stdout",
     "output_type": "stream",
     "text": [
      "accuracy score: 0.66\n",
      "recall score: 0.596\n"
     ]
    }
   ],
   "source": [
    "from sklearn.metrics import accuracy_score\n",
    "\n",
    "predicted = model_best.predict(x_test_stat15_rf)\n",
    "accuracy = accuracy_score(y_true=y_test,y_pred=predicted)\n",
    "recall = recall_score(y_true=y_test, y_pred=predicted, average=None)\n",
    "\n",
    "print(f'accuracy score: {accuracy:.3}')\n",
    "print(f'recall score: {recall[1]:.3}')\n"
   ]
  },
  {
   "cell_type": "code",
   "execution_count": 98,
   "id": "8b341e95",
   "metadata": {},
   "outputs": [
    {
     "data": {
      "image/png": "[encoded data removed]",
      "text/plain": [
       "<Figure size 1080x360 with 1 Axes>"
      ]
     },
     "metadata": {},
     "output_type": "display_data"
    }
   ],
   "source": [
    "# roc curve\n",
    "from sklearn.metrics import roc_curve\n",
    "#레이블 1일때 예측 확률\n",
    "pred_positive_label=model_best.predict(x_test_stat15_rf)\n",
    "fprs,tprs,thresholds = roc_curve(y_test,pred_positive_label)\n",
    "precisions,recalls,thresholds = roc_curve(y_test,pred_positive_label)\n",
    "\n",
    "\n",
    "plt.figure(figsize=(15,5))\n",
    "\n",
    "#diagonal\n",
    "plt.plot([0,1],[0,1],label='STR')\n",
    "\n",
    "#ROC\n",
    "\n",
    "plt.plot(fprs,tprs,label='ROC')\n",
    "plt.xlabel('FPR')\n",
    "plt.ylabel('TPR')\n",
    "plt.legend()\n",
    "plt.grid()\n",
    "plt.show()\n",
    "\n"
   ]
  },
  {
   "cell_type": "code",
   "execution_count": 99,
   "id": "d15e76b1",
   "metadata": {},
   "outputs": [
    {
     "name": "stdout",
     "output_type": "stream",
     "text": [
      "roc auc value 0.6595744680851063\n"
     ]
    }
   ],
   "source": [
    "# auc score\n",
    "\n",
    "from sklearn.metrics import roc_auc_score\n",
    "\n",
    "print('roc auc value {}'.format(roc_auc_score(y_test,pred_positive_label) ))\n",
    "\n"
   ]
  },
  {
   "cell_type": "code",
   "execution_count": 100,
   "id": "ac221ddc",
   "metadata": {},
   "outputs": [],
   "source": [
    "auc=roc_auc_score(y_test,pred_positive_label)\n",
    "accuracy = accuracy_score(y_true=y_test,y_pred=predicted)\n",
    "recall = recall_score(y_true=y_test, y_pred=predicted, pos_label=1)\n",
    "specificity = recall_score(y_true=y_test, y_pred=predicted, pos_label=0)\n",
    "f1 = f1_score(y_true=y_test, y_pred=predicted)\n",
    "\n",
    "\n",
    "names.append('rf_15')\n",
    "aucs.append(auc)\n",
    "accs.append(accuracy)\n",
    "recalls_list.append(recall)\n",
    "specificitys.append(specificity)\n",
    "f1s.append(f1)\n"
   ]
  },
  {
   "cell_type": "code",
   "execution_count": 101,
   "id": "48a6d977",
   "metadata": {},
   "outputs": [],
   "source": [
    "test_rf= pd.concat([pd.DataFrame(names),\n",
    "                     pd.DataFrame(aucs),\n",
    "                     pd.DataFrame(accs),\n",
    "                     pd.DataFrame(recalls_list),\n",
    "                     pd.DataFrame(specificitys),\n",
    "                     pd.DataFrame(f1s)\n",
    "                    ],axis=1)\n",
    "test_rf.columns=['name','AUC','ACC','RECALL','SPECIFICITY','F1']"
   ]
  },
  {
   "cell_type": "code",
   "execution_count": 103,
   "id": "00821947",
   "metadata": {},
   "outputs": [
    {
     "data": {
      "text/html": [
       "<div>\n",
       "<style scoped>\n",
       "    .dataframe tbody tr th:only-of-type {\n",
       "        vertical-align: middle;\n",
       "    }\n",
       "\n",
       "    .dataframe tbody tr th {\n",
       "        vertical-align: top;\n",
       "    }\n",
       "\n",
       "    .dataframe thead th {\n",
       "        text-align: right;\n",
       "    }\n",
       "</style>\n",
       "<table border=\"1\" class=\"dataframe\">\n",
       "  <thead>\n",
       "    <tr style=\"text-align: right;\">\n",
       "      <th></th>\n",
       "      <th>name</th>\n",
       "      <th>AUC</th>\n",
       "      <th>ACC</th>\n",
       "      <th>RECALL</th>\n",
       "      <th>SPECIFICITY</th>\n",
       "      <th>F1</th>\n",
       "    </tr>\n",
       "  </thead>\n",
       "  <tbody>\n",
       "    <tr>\n",
       "      <th>1</th>\n",
       "      <td>rf_10</td>\n",
       "      <td>0.670213</td>\n",
       "      <td>0.670213</td>\n",
       "      <td>0.553191</td>\n",
       "      <td>0.787234</td>\n",
       "      <td>0.626506</td>\n",
       "    </tr>\n",
       "    <tr>\n",
       "      <th>2</th>\n",
       "      <td>rf_15</td>\n",
       "      <td>0.659574</td>\n",
       "      <td>0.659574</td>\n",
       "      <td>0.595745</td>\n",
       "      <td>0.723404</td>\n",
       "      <td>0.636364</td>\n",
       "    </tr>\n",
       "    <tr>\n",
       "      <th>0</th>\n",
       "      <td>rf_17</td>\n",
       "      <td>0.680851</td>\n",
       "      <td>0.680851</td>\n",
       "      <td>0.617021</td>\n",
       "      <td>0.744681</td>\n",
       "      <td>0.659091</td>\n",
       "    </tr>\n",
       "  </tbody>\n",
       "</table>\n",
       "</div>"
      ],
      "text/plain": [
       "    name       AUC       ACC    RECALL  SPECIFICITY        F1\n",
       "1  rf_10  0.670213  0.670213  0.553191     0.787234  0.626506\n",
       "2  rf_15  0.659574  0.659574  0.595745     0.723404  0.636364\n",
       "0  rf_17  0.680851  0.680851  0.617021     0.744681  0.659091"
      ]
     },
     "execution_count": 103,
     "metadata": {},
     "output_type": "execute_result"
    }
   ],
   "source": [
    "test_rf.sort_values('name')"
   ]
  },
  {
   "cell_type": "code",
   "execution_count": null,
   "id": "df93fe47",
   "metadata": {},
   "outputs": [],
   "source": [
    "STOP..."
   ]
  },
  {
   "cell_type": "markdown",
   "id": "2a9b784f",
   "metadata": {},
   "source": [
    "## GBM"
   ]
  },
  {
   "cell_type": "code",
   "execution_count": 124,
   "id": "6706ea85",
   "metadata": {},
   "outputs": [
    {
     "data": {
      "text/html": [
       "<div>\n",
       "<style scoped>\n",
       "    .dataframe tbody tr th:only-of-type {\n",
       "        vertical-align: middle;\n",
       "    }\n",
       "\n",
       "    .dataframe tbody tr th {\n",
       "        vertical-align: top;\n",
       "    }\n",
       "\n",
       "    .dataframe thead th {\n",
       "        text-align: right;\n",
       "    }\n",
       "</style>\n",
       "<table border=\"1\" class=\"dataframe\">\n",
       "  <thead>\n",
       "    <tr style=\"text-align: right;\">\n",
       "      <th></th>\n",
       "      <th>name</th>\n",
       "      <th>AUC</th>\n",
       "      <th>ACC</th>\n",
       "      <th>RECALL</th>\n",
       "      <th>SPECIFICITY</th>\n",
       "      <th>F1</th>\n",
       "    </tr>\n",
       "  </thead>\n",
       "  <tbody>\n",
       "  </tbody>\n",
       "</table>\n",
       "</div>"
      ],
      "text/plain": [
       "Empty DataFrame\n",
       "Columns: [name, AUC, ACC, RECALL, SPECIFICITY, F1]\n",
       "Index: []"
      ]
     },
     "execution_count": 124,
     "metadata": {},
     "output_type": "execute_result"
    }
   ],
   "source": [
    "test_gbm = pd.DataFrame(columns=['name','AUC','ACC','RECALL','SPECIFICITY','F1'])\n",
    "test_gbm"
   ]
  },
  {
   "cell_type": "code",
   "execution_count": 125,
   "id": "f1b398d7",
   "metadata": {},
   "outputs": [],
   "source": [
    "names=[]\n",
    "aucs=[]\n",
    "accs=[]\n",
    "recalls_list=[]\n",
    "specificitys=[]\n",
    "f1s=[]"
   ]
  },
  {
   "cell_type": "code",
   "execution_count": 126,
   "id": "9b43b070",
   "metadata": {},
   "outputs": [],
   "source": [
    "\n",
    "x_train_stat_gbm = x_train.copy()\n",
    "x_test_stat_gbm = x_test.copy()\n",
    "\n",
    "col_all = ['bed','Hsp-acq','3m-Ab','3m-Adm','1y-UTI','Hb',\n",
    "           'Foley','NR','iBT','sex','SaO2','Nursing','iDBP','pCO2',\n",
    "           'Plt','CV','PPIantacid']\n",
    "col10 = col_all[:10]\n",
    "col15 = col_all[:15]\n",
    "\n"
   ]
  },
  {
   "cell_type": "code",
   "execution_count": 127,
   "id": "f8c057e7",
   "metadata": {},
   "outputs": [],
   "source": [
    "x_train_stat17_gbm = x_train_stat_gbm[col_all]\n",
    "x_test_stat17_gbm = x_test_stat_gbm[col_all]\n",
    "\n",
    "x_train_stat10_gbm = x_train_stat_gbm[col10]\n",
    "x_test_stat10_gbm = x_test_stat_gbm[col10]\n",
    "\n",
    "\n",
    "x_train_stat15_gbm = x_train_stat_gbm[col15]\n",
    "x_test_stat15_gbm = x_test_stat_gbm[col15]\n",
    "\n"
   ]
  },
  {
   "cell_type": "code",
   "execution_count": 128,
   "id": "f4be0015",
   "metadata": {},
   "outputs": [
    {
     "data": {
      "text/html": [
       "<div>\n",
       "<style scoped>\n",
       "    .dataframe tbody tr th:only-of-type {\n",
       "        vertical-align: middle;\n",
       "    }\n",
       "\n",
       "    .dataframe tbody tr th {\n",
       "        vertical-align: top;\n",
       "    }\n",
       "\n",
       "    .dataframe thead th {\n",
       "        text-align: right;\n",
       "    }\n",
       "</style>\n",
       "<table border=\"1\" class=\"dataframe\">\n",
       "  <thead>\n",
       "    <tr style=\"text-align: right;\">\n",
       "      <th></th>\n",
       "      <th>bed</th>\n",
       "      <th>Hsp-acq</th>\n",
       "      <th>3m-Ab</th>\n",
       "      <th>3m-Adm</th>\n",
       "      <th>1y-UTI</th>\n",
       "      <th>Hb</th>\n",
       "      <th>Foley</th>\n",
       "      <th>NR</th>\n",
       "      <th>iBT</th>\n",
       "      <th>sex</th>\n",
       "      <th>SaO2</th>\n",
       "      <th>Nursing</th>\n",
       "      <th>iDBP</th>\n",
       "      <th>pCO2</th>\n",
       "      <th>Plt</th>\n",
       "    </tr>\n",
       "  </thead>\n",
       "  <tbody>\n",
       "    <tr>\n",
       "      <th>0</th>\n",
       "      <td>1</td>\n",
       "      <td>0</td>\n",
       "      <td>0</td>\n",
       "      <td>0</td>\n",
       "      <td>1</td>\n",
       "      <td>10.4</td>\n",
       "      <td>1</td>\n",
       "      <td>1</td>\n",
       "      <td>35.3</td>\n",
       "      <td>1</td>\n",
       "      <td>93.8</td>\n",
       "      <td>1</td>\n",
       "      <td>65</td>\n",
       "      <td>36.7</td>\n",
       "      <td>164</td>\n",
       "    </tr>\n",
       "    <tr>\n",
       "      <th>1</th>\n",
       "      <td>1</td>\n",
       "      <td>0</td>\n",
       "      <td>0</td>\n",
       "      <td>0</td>\n",
       "      <td>1</td>\n",
       "      <td>7.7</td>\n",
       "      <td>0</td>\n",
       "      <td>1</td>\n",
       "      <td>36.6</td>\n",
       "      <td>1</td>\n",
       "      <td>96.6</td>\n",
       "      <td>1</td>\n",
       "      <td>59</td>\n",
       "      <td>45.0</td>\n",
       "      <td>285</td>\n",
       "    </tr>\n",
       "    <tr>\n",
       "      <th>2</th>\n",
       "      <td>0</td>\n",
       "      <td>0</td>\n",
       "      <td>0</td>\n",
       "      <td>0</td>\n",
       "      <td>0</td>\n",
       "      <td>12.2</td>\n",
       "      <td>0</td>\n",
       "      <td>1</td>\n",
       "      <td>39.6</td>\n",
       "      <td>0</td>\n",
       "      <td>96.0</td>\n",
       "      <td>0</td>\n",
       "      <td>95</td>\n",
       "      <td>28.1</td>\n",
       "      <td>254</td>\n",
       "    </tr>\n",
       "    <tr>\n",
       "      <th>3</th>\n",
       "      <td>0</td>\n",
       "      <td>0</td>\n",
       "      <td>1</td>\n",
       "      <td>1</td>\n",
       "      <td>0</td>\n",
       "      <td>10.5</td>\n",
       "      <td>0</td>\n",
       "      <td>0</td>\n",
       "      <td>36.9</td>\n",
       "      <td>1</td>\n",
       "      <td>97.3</td>\n",
       "      <td>0</td>\n",
       "      <td>77</td>\n",
       "      <td>29.0</td>\n",
       "      <td>90</td>\n",
       "    </tr>\n",
       "    <tr>\n",
       "      <th>4</th>\n",
       "      <td>0</td>\n",
       "      <td>0</td>\n",
       "      <td>0</td>\n",
       "      <td>0</td>\n",
       "      <td>0</td>\n",
       "      <td>11.5</td>\n",
       "      <td>0</td>\n",
       "      <td>0</td>\n",
       "      <td>39.1</td>\n",
       "      <td>0</td>\n",
       "      <td>92.8</td>\n",
       "      <td>0</td>\n",
       "      <td>79</td>\n",
       "      <td>31.3</td>\n",
       "      <td>298</td>\n",
       "    </tr>\n",
       "    <tr>\n",
       "      <th>...</th>\n",
       "      <td>...</td>\n",
       "      <td>...</td>\n",
       "      <td>...</td>\n",
       "      <td>...</td>\n",
       "      <td>...</td>\n",
       "      <td>...</td>\n",
       "      <td>...</td>\n",
       "      <td>...</td>\n",
       "      <td>...</td>\n",
       "      <td>...</td>\n",
       "      <td>...</td>\n",
       "      <td>...</td>\n",
       "      <td>...</td>\n",
       "      <td>...</td>\n",
       "      <td>...</td>\n",
       "    </tr>\n",
       "    <tr>\n",
       "      <th>369</th>\n",
       "      <td>0</td>\n",
       "      <td>0</td>\n",
       "      <td>0</td>\n",
       "      <td>0</td>\n",
       "      <td>0</td>\n",
       "      <td>12.9</td>\n",
       "      <td>0</td>\n",
       "      <td>0</td>\n",
       "      <td>39.0</td>\n",
       "      <td>0</td>\n",
       "      <td>96.8</td>\n",
       "      <td>0</td>\n",
       "      <td>69</td>\n",
       "      <td>34.8</td>\n",
       "      <td>238</td>\n",
       "    </tr>\n",
       "    <tr>\n",
       "      <th>370</th>\n",
       "      <td>1</td>\n",
       "      <td>1</td>\n",
       "      <td>0</td>\n",
       "      <td>1</td>\n",
       "      <td>0</td>\n",
       "      <td>12.0</td>\n",
       "      <td>0</td>\n",
       "      <td>1</td>\n",
       "      <td>38.6</td>\n",
       "      <td>1</td>\n",
       "      <td>91.7</td>\n",
       "      <td>0</td>\n",
       "      <td>62</td>\n",
       "      <td>30.6</td>\n",
       "      <td>337</td>\n",
       "    </tr>\n",
       "    <tr>\n",
       "      <th>371</th>\n",
       "      <td>0</td>\n",
       "      <td>1</td>\n",
       "      <td>1</td>\n",
       "      <td>1</td>\n",
       "      <td>1</td>\n",
       "      <td>9.8</td>\n",
       "      <td>0</td>\n",
       "      <td>0</td>\n",
       "      <td>36.7</td>\n",
       "      <td>1</td>\n",
       "      <td>85.1</td>\n",
       "      <td>0</td>\n",
       "      <td>62</td>\n",
       "      <td>38.6</td>\n",
       "      <td>386</td>\n",
       "    </tr>\n",
       "    <tr>\n",
       "      <th>372</th>\n",
       "      <td>1</td>\n",
       "      <td>1</td>\n",
       "      <td>1</td>\n",
       "      <td>1</td>\n",
       "      <td>1</td>\n",
       "      <td>8.0</td>\n",
       "      <td>0</td>\n",
       "      <td>1</td>\n",
       "      <td>37.8</td>\n",
       "      <td>0</td>\n",
       "      <td>99.6</td>\n",
       "      <td>0</td>\n",
       "      <td>62</td>\n",
       "      <td>26.7</td>\n",
       "      <td>533</td>\n",
       "    </tr>\n",
       "    <tr>\n",
       "      <th>373</th>\n",
       "      <td>1</td>\n",
       "      <td>1</td>\n",
       "      <td>0</td>\n",
       "      <td>1</td>\n",
       "      <td>1</td>\n",
       "      <td>10.1</td>\n",
       "      <td>0</td>\n",
       "      <td>1</td>\n",
       "      <td>36.1</td>\n",
       "      <td>0</td>\n",
       "      <td>98.2</td>\n",
       "      <td>0</td>\n",
       "      <td>63</td>\n",
       "      <td>29.4</td>\n",
       "      <td>94</td>\n",
       "    </tr>\n",
       "  </tbody>\n",
       "</table>\n",
       "<p>374 rows × 15 columns</p>\n",
       "</div>"
      ],
      "text/plain": [
       "    bed Hsp-acq 3m-Ab 3m-Adm 1y-UTI    Hb Foley NR   iBT sex  SaO2 Nursing  \\\n",
       "0     1       0     0      0      1  10.4     1  1  35.3   1  93.8       1   \n",
       "1     1       0     0      0      1   7.7     0  1  36.6   1  96.6       1   \n",
       "2     0       0     0      0      0  12.2     0  1  39.6   0  96.0       0   \n",
       "3     0       0     1      1      0  10.5     0  0  36.9   1  97.3       0   \n",
       "4     0       0     0      0      0  11.5     0  0  39.1   0  92.8       0   \n",
       "..   ..     ...   ...    ...    ...   ...   ... ..   ...  ..   ...     ...   \n",
       "369   0       0     0      0      0  12.9     0  0  39.0   0  96.8       0   \n",
       "370   1       1     0      1      0  12.0     0  1  38.6   1  91.7       0   \n",
       "371   0       1     1      1      1   9.8     0  0  36.7   1  85.1       0   \n",
       "372   1       1     1      1      1   8.0     0  1  37.8   0  99.6       0   \n",
       "373   1       1     0      1      1  10.1     0  1  36.1   0  98.2       0   \n",
       "\n",
       "     iDBP  pCO2  Plt  \n",
       "0      65  36.7  164  \n",
       "1      59  45.0  285  \n",
       "2      95  28.1  254  \n",
       "3      77  29.0   90  \n",
       "4      79  31.3  298  \n",
       "..    ...   ...  ...  \n",
       "369    69  34.8  238  \n",
       "370    62  30.6  337  \n",
       "371    62  38.6  386  \n",
       "372    62  26.7  533  \n",
       "373    63  29.4   94  \n",
       "\n",
       "[374 rows x 15 columns]"
      ]
     },
     "execution_count": 128,
     "metadata": {},
     "output_type": "execute_result"
    }
   ],
   "source": [
    "x_train_stat15_gbm"
   ]
  },
  {
   "cell_type": "markdown",
   "id": "39799ac7",
   "metadata": {},
   "source": [
    "### reduced(17)"
   ]
  },
  {
   "cell_type": "code",
   "execution_count": 129,
   "id": "5aa1212a",
   "metadata": {},
   "outputs": [
    {
     "name": "stdout",
     "output_type": "stream",
     "text": [
      "기본 모델 정확도 : 0.6809\n",
      "학습 시간 : 0.0783\n",
      "Fitting 5 folds for each of 441 candidates, totalling 2205 fits\n"
     ]
    },
    {
     "ename": "KeyboardInterrupt",
     "evalue": "",
     "output_type": "error",
     "traceback": [
      "\u001b[1;31m---------------------------------------------------------------------------\u001b[0m",
      "\u001b[1;31mKeyboardInterrupt\u001b[0m                         Traceback (most recent call last)",
      "\u001b[1;32m~\\AppData\\Roaming\\Python\\Python37\\site-packages\\joblib\\parallel.py\u001b[0m in \u001b[0;36mretrieve\u001b[1;34m(self)\u001b[0m\n\u001b[0;32m    934\u001b[0m                 \u001b[1;32mif\u001b[0m \u001b[0mgetattr\u001b[0m\u001b[1;33m(\u001b[0m\u001b[0mself\u001b[0m\u001b[1;33m.\u001b[0m\u001b[0m_backend\u001b[0m\u001b[1;33m,\u001b[0m \u001b[1;34m'supports_timeout'\u001b[0m\u001b[1;33m,\u001b[0m \u001b[1;32mFalse\u001b[0m\u001b[1;33m)\u001b[0m\u001b[1;33m:\u001b[0m\u001b[1;33m\u001b[0m\u001b[1;33m\u001b[0m\u001b[0m\n\u001b[1;32m--> 935\u001b[1;33m                     \u001b[0mself\u001b[0m\u001b[1;33m.\u001b[0m\u001b[0m_output\u001b[0m\u001b[1;33m.\u001b[0m\u001b[0mextend\u001b[0m\u001b[1;33m(\u001b[0m\u001b[0mjob\u001b[0m\u001b[1;33m.\u001b[0m\u001b[0mget\u001b[0m\u001b[1;33m(\u001b[0m\u001b[0mtimeout\u001b[0m\u001b[1;33m=\u001b[0m\u001b[0mself\u001b[0m\u001b[1;33m.\u001b[0m\u001b[0mtimeout\u001b[0m\u001b[1;33m)\u001b[0m\u001b[1;33m)\u001b[0m\u001b[1;33m\u001b[0m\u001b[1;33m\u001b[0m\u001b[0m\n\u001b[0m\u001b[0;32m    936\u001b[0m                 \u001b[1;32melse\u001b[0m\u001b[1;33m:\u001b[0m\u001b[1;33m\u001b[0m\u001b[1;33m\u001b[0m\u001b[0m\n",
      "\u001b[1;32m~\\AppData\\Roaming\\Python\\Python37\\site-packages\\joblib\\_parallel_backends.py\u001b[0m in \u001b[0;36mwrap_future_result\u001b[1;34m(future, timeout)\u001b[0m\n\u001b[0;32m    541\u001b[0m         \u001b[1;32mtry\u001b[0m\u001b[1;33m:\u001b[0m\u001b[1;33m\u001b[0m\u001b[1;33m\u001b[0m\u001b[0m\n\u001b[1;32m--> 542\u001b[1;33m             \u001b[1;32mreturn\u001b[0m \u001b[0mfuture\u001b[0m\u001b[1;33m.\u001b[0m\u001b[0mresult\u001b[0m\u001b[1;33m(\u001b[0m\u001b[0mtimeout\u001b[0m\u001b[1;33m=\u001b[0m\u001b[0mtimeout\u001b[0m\u001b[1;33m)\u001b[0m\u001b[1;33m\u001b[0m\u001b[1;33m\u001b[0m\u001b[0m\n\u001b[0m\u001b[0;32m    543\u001b[0m         \u001b[1;32mexcept\u001b[0m \u001b[0mCfTimeoutError\u001b[0m \u001b[1;32mas\u001b[0m \u001b[0me\u001b[0m\u001b[1;33m:\u001b[0m\u001b[1;33m\u001b[0m\u001b[1;33m\u001b[0m\u001b[0m\n",
      "\u001b[1;32m~\\miniconda3\\envs\\localtorch\\lib\\concurrent\\futures\\_base.py\u001b[0m in \u001b[0;36mresult\u001b[1;34m(self, timeout)\u001b[0m\n\u001b[0;32m    429\u001b[0m \u001b[1;33m\u001b[0m\u001b[0m\n\u001b[1;32m--> 430\u001b[1;33m             \u001b[0mself\u001b[0m\u001b[1;33m.\u001b[0m\u001b[0m_condition\u001b[0m\u001b[1;33m.\u001b[0m\u001b[0mwait\u001b[0m\u001b[1;33m(\u001b[0m\u001b[0mtimeout\u001b[0m\u001b[1;33m)\u001b[0m\u001b[1;33m\u001b[0m\u001b[1;33m\u001b[0m\u001b[0m\n\u001b[0m\u001b[0;32m    431\u001b[0m \u001b[1;33m\u001b[0m\u001b[0m\n",
      "\u001b[1;32m~\\miniconda3\\envs\\localtorch\\lib\\threading.py\u001b[0m in \u001b[0;36mwait\u001b[1;34m(self, timeout)\u001b[0m\n\u001b[0;32m    295\u001b[0m             \u001b[1;32mif\u001b[0m \u001b[0mtimeout\u001b[0m \u001b[1;32mis\u001b[0m \u001b[1;32mNone\u001b[0m\u001b[1;33m:\u001b[0m\u001b[1;33m\u001b[0m\u001b[1;33m\u001b[0m\u001b[0m\n\u001b[1;32m--> 296\u001b[1;33m                 \u001b[0mwaiter\u001b[0m\u001b[1;33m.\u001b[0m\u001b[0macquire\u001b[0m\u001b[1;33m(\u001b[0m\u001b[1;33m)\u001b[0m\u001b[1;33m\u001b[0m\u001b[1;33m\u001b[0m\u001b[0m\n\u001b[0m\u001b[0;32m    297\u001b[0m                 \u001b[0mgotit\u001b[0m \u001b[1;33m=\u001b[0m \u001b[1;32mTrue\u001b[0m\u001b[1;33m\u001b[0m\u001b[1;33m\u001b[0m\u001b[0m\n",
      "\u001b[1;31mKeyboardInterrupt\u001b[0m: ",
      "\nDuring handling of the above exception, another exception occurred:\n",
      "\u001b[1;31mKeyboardInterrupt\u001b[0m                         Traceback (most recent call last)",
      "\u001b[1;32m~\\AppData\\Local\\Temp/ipykernel_11768/2046106948.py\u001b[0m in \u001b[0;36m<module>\u001b[1;34m\u001b[0m\n\u001b[0;32m     28\u001b[0m grid_cv = GridSearchCV(gb_clf, param_grid=params,\n\u001b[0;32m     29\u001b[0m                       n_jobs=-1, cv=5, verbose=2)\n\u001b[1;32m---> 30\u001b[1;33m \u001b[0mgrid_cv\u001b[0m\u001b[1;33m.\u001b[0m\u001b[0mfit\u001b[0m\u001b[1;33m(\u001b[0m\u001b[0mx_train_stat17_gbm\u001b[0m\u001b[1;33m,\u001b[0m \u001b[0my_train\u001b[0m\u001b[1;33m)\u001b[0m\u001b[1;33m\u001b[0m\u001b[1;33m\u001b[0m\u001b[0m\n\u001b[0m\u001b[0;32m     31\u001b[0m \u001b[0mprint\u001b[0m\u001b[1;33m(\u001b[0m\u001b[1;34m\"최적의 파라미터:\"\u001b[0m\u001b[1;33m,\u001b[0m \u001b[0mgrid_cv\u001b[0m\u001b[1;33m.\u001b[0m\u001b[0mbest_params_\u001b[0m\u001b[1;33m)\u001b[0m\u001b[1;33m\u001b[0m\u001b[1;33m\u001b[0m\u001b[0m\n\u001b[0;32m     32\u001b[0m \u001b[0mprint\u001b[0m\u001b[1;33m(\u001b[0m\u001b[1;34m\"최고의 정확도 :\"\u001b[0m\u001b[1;33m,\u001b[0m \u001b[0mgrid_cv\u001b[0m\u001b[1;33m.\u001b[0m\u001b[0mbest_score_\u001b[0m\u001b[1;33m)\u001b[0m\u001b[1;33m\u001b[0m\u001b[1;33m\u001b[0m\u001b[0m\n",
      "\u001b[1;32m~\\AppData\\Roaming\\Python\\Python37\\site-packages\\sklearn\\model_selection\\_search.py\u001b[0m in \u001b[0;36mfit\u001b[1;34m(self, X, y, groups, **fit_params)\u001b[0m\n\u001b[0;32m    889\u001b[0m                 \u001b[1;32mreturn\u001b[0m \u001b[0mresults\u001b[0m\u001b[1;33m\u001b[0m\u001b[1;33m\u001b[0m\u001b[0m\n\u001b[0;32m    890\u001b[0m \u001b[1;33m\u001b[0m\u001b[0m\n\u001b[1;32m--> 891\u001b[1;33m             \u001b[0mself\u001b[0m\u001b[1;33m.\u001b[0m\u001b[0m_run_search\u001b[0m\u001b[1;33m(\u001b[0m\u001b[0mevaluate_candidates\u001b[0m\u001b[1;33m)\u001b[0m\u001b[1;33m\u001b[0m\u001b[1;33m\u001b[0m\u001b[0m\n\u001b[0m\u001b[0;32m    892\u001b[0m \u001b[1;33m\u001b[0m\u001b[0m\n\u001b[0;32m    893\u001b[0m             \u001b[1;31m# multimetric is determined here because in the case of a callable\u001b[0m\u001b[1;33m\u001b[0m\u001b[1;33m\u001b[0m\u001b[1;33m\u001b[0m\u001b[0m\n",
      "\u001b[1;32m~\\AppData\\Roaming\\Python\\Python37\\site-packages\\sklearn\\model_selection\\_search.py\u001b[0m in \u001b[0;36m_run_search\u001b[1;34m(self, evaluate_candidates)\u001b[0m\n\u001b[0;32m   1390\u001b[0m     \u001b[1;32mdef\u001b[0m \u001b[0m_run_search\u001b[0m\u001b[1;33m(\u001b[0m\u001b[0mself\u001b[0m\u001b[1;33m,\u001b[0m \u001b[0mevaluate_candidates\u001b[0m\u001b[1;33m)\u001b[0m\u001b[1;33m:\u001b[0m\u001b[1;33m\u001b[0m\u001b[1;33m\u001b[0m\u001b[0m\n\u001b[0;32m   1391\u001b[0m         \u001b[1;34m\"\"\"Search all candidates in param_grid\"\"\"\u001b[0m\u001b[1;33m\u001b[0m\u001b[1;33m\u001b[0m\u001b[0m\n\u001b[1;32m-> 1392\u001b[1;33m         \u001b[0mevaluate_candidates\u001b[0m\u001b[1;33m(\u001b[0m\u001b[0mParameterGrid\u001b[0m\u001b[1;33m(\u001b[0m\u001b[0mself\u001b[0m\u001b[1;33m.\u001b[0m\u001b[0mparam_grid\u001b[0m\u001b[1;33m)\u001b[0m\u001b[1;33m)\u001b[0m\u001b[1;33m\u001b[0m\u001b[1;33m\u001b[0m\u001b[0m\n\u001b[0m\u001b[0;32m   1393\u001b[0m \u001b[1;33m\u001b[0m\u001b[0m\n\u001b[0;32m   1394\u001b[0m \u001b[1;33m\u001b[0m\u001b[0m\n",
      "\u001b[1;32m~\\AppData\\Roaming\\Python\\Python37\\site-packages\\sklearn\\model_selection\\_search.py\u001b[0m in \u001b[0;36mevaluate_candidates\u001b[1;34m(candidate_params, cv, more_results)\u001b[0m\n\u001b[0;32m    849\u001b[0m                     )\n\u001b[0;32m    850\u001b[0m                     for (cand_idx, parameters), (split_idx, (train, test)) in product(\n\u001b[1;32m--> 851\u001b[1;33m                         \u001b[0menumerate\u001b[0m\u001b[1;33m(\u001b[0m\u001b[0mcandidate_params\u001b[0m\u001b[1;33m)\u001b[0m\u001b[1;33m,\u001b[0m \u001b[0menumerate\u001b[0m\u001b[1;33m(\u001b[0m\u001b[0mcv\u001b[0m\u001b[1;33m.\u001b[0m\u001b[0msplit\u001b[0m\u001b[1;33m(\u001b[0m\u001b[0mX\u001b[0m\u001b[1;33m,\u001b[0m \u001b[0my\u001b[0m\u001b[1;33m,\u001b[0m \u001b[0mgroups\u001b[0m\u001b[1;33m)\u001b[0m\u001b[1;33m)\u001b[0m\u001b[1;33m\u001b[0m\u001b[1;33m\u001b[0m\u001b[0m\n\u001b[0m\u001b[0;32m    852\u001b[0m                     )\n\u001b[0;32m    853\u001b[0m                 )\n",
      "\u001b[1;32m~\\AppData\\Roaming\\Python\\Python37\\site-packages\\joblib\\parallel.py\u001b[0m in \u001b[0;36m__call__\u001b[1;34m(self, iterable)\u001b[0m\n\u001b[0;32m   1054\u001b[0m \u001b[1;33m\u001b[0m\u001b[0m\n\u001b[0;32m   1055\u001b[0m             \u001b[1;32mwith\u001b[0m \u001b[0mself\u001b[0m\u001b[1;33m.\u001b[0m\u001b[0m_backend\u001b[0m\u001b[1;33m.\u001b[0m\u001b[0mretrieval_context\u001b[0m\u001b[1;33m(\u001b[0m\u001b[1;33m)\u001b[0m\u001b[1;33m:\u001b[0m\u001b[1;33m\u001b[0m\u001b[1;33m\u001b[0m\u001b[0m\n\u001b[1;32m-> 1056\u001b[1;33m                 \u001b[0mself\u001b[0m\u001b[1;33m.\u001b[0m\u001b[0mretrieve\u001b[0m\u001b[1;33m(\u001b[0m\u001b[1;33m)\u001b[0m\u001b[1;33m\u001b[0m\u001b[1;33m\u001b[0m\u001b[0m\n\u001b[0m\u001b[0;32m   1057\u001b[0m             \u001b[1;31m# Make sure that we get a last message telling us we are done\u001b[0m\u001b[1;33m\u001b[0m\u001b[1;33m\u001b[0m\u001b[1;33m\u001b[0m\u001b[0m\n\u001b[0;32m   1058\u001b[0m             \u001b[0melapsed_time\u001b[0m \u001b[1;33m=\u001b[0m \u001b[0mtime\u001b[0m\u001b[1;33m.\u001b[0m\u001b[0mtime\u001b[0m\u001b[1;33m(\u001b[0m\u001b[1;33m)\u001b[0m \u001b[1;33m-\u001b[0m \u001b[0mself\u001b[0m\u001b[1;33m.\u001b[0m\u001b[0m_start_time\u001b[0m\u001b[1;33m\u001b[0m\u001b[1;33m\u001b[0m\u001b[0m\n",
      "\u001b[1;32m~\\AppData\\Roaming\\Python\\Python37\\site-packages\\joblib\\parallel.py\u001b[0m in \u001b[0;36mretrieve\u001b[1;34m(self)\u001b[0m\n\u001b[0;32m    955\u001b[0m                     \u001b[1;31m# scheduling.\u001b[0m\u001b[1;33m\u001b[0m\u001b[1;33m\u001b[0m\u001b[1;33m\u001b[0m\u001b[0m\n\u001b[0;32m    956\u001b[0m                     \u001b[0mensure_ready\u001b[0m \u001b[1;33m=\u001b[0m \u001b[0mself\u001b[0m\u001b[1;33m.\u001b[0m\u001b[0m_managed_backend\u001b[0m\u001b[1;33m\u001b[0m\u001b[1;33m\u001b[0m\u001b[0m\n\u001b[1;32m--> 957\u001b[1;33m                     \u001b[0mbackend\u001b[0m\u001b[1;33m.\u001b[0m\u001b[0mabort_everything\u001b[0m\u001b[1;33m(\u001b[0m\u001b[0mensure_ready\u001b[0m\u001b[1;33m=\u001b[0m\u001b[0mensure_ready\u001b[0m\u001b[1;33m)\u001b[0m\u001b[1;33m\u001b[0m\u001b[1;33m\u001b[0m\u001b[0m\n\u001b[0m\u001b[0;32m    958\u001b[0m                 \u001b[1;32mraise\u001b[0m\u001b[1;33m\u001b[0m\u001b[1;33m\u001b[0m\u001b[0m\n\u001b[0;32m    959\u001b[0m \u001b[1;33m\u001b[0m\u001b[0m\n",
      "\u001b[1;32m~\\AppData\\Roaming\\Python\\Python37\\site-packages\\joblib\\_parallel_backends.py\u001b[0m in \u001b[0;36mabort_everything\u001b[1;34m(self, ensure_ready)\u001b[0m\n\u001b[0;32m    559\u001b[0m         \"\"\"Shutdown the workers and restart a new one with the same parameters\n\u001b[0;32m    560\u001b[0m         \"\"\"\n\u001b[1;32m--> 561\u001b[1;33m         \u001b[0mself\u001b[0m\u001b[1;33m.\u001b[0m\u001b[0m_workers\u001b[0m\u001b[1;33m.\u001b[0m\u001b[0mterminate\u001b[0m\u001b[1;33m(\u001b[0m\u001b[0mkill_workers\u001b[0m\u001b[1;33m=\u001b[0m\u001b[1;32mTrue\u001b[0m\u001b[1;33m)\u001b[0m\u001b[1;33m\u001b[0m\u001b[1;33m\u001b[0m\u001b[0m\n\u001b[0m\u001b[0;32m    562\u001b[0m         \u001b[0mself\u001b[0m\u001b[1;33m.\u001b[0m\u001b[0m_workers\u001b[0m \u001b[1;33m=\u001b[0m \u001b[1;32mNone\u001b[0m\u001b[1;33m\u001b[0m\u001b[1;33m\u001b[0m\u001b[0m\n\u001b[0;32m    563\u001b[0m \u001b[1;33m\u001b[0m\u001b[0m\n",
      "\u001b[1;32m~\\AppData\\Roaming\\Python\\Python37\\site-packages\\joblib\\executor.py\u001b[0m in \u001b[0;36mterminate\u001b[1;34m(self, kill_workers)\u001b[0m\n\u001b[0;32m     72\u001b[0m \u001b[1;33m\u001b[0m\u001b[0m\n\u001b[0;32m     73\u001b[0m     \u001b[1;32mdef\u001b[0m \u001b[0mterminate\u001b[0m\u001b[1;33m(\u001b[0m\u001b[0mself\u001b[0m\u001b[1;33m,\u001b[0m \u001b[0mkill_workers\u001b[0m\u001b[1;33m=\u001b[0m\u001b[1;32mFalse\u001b[0m\u001b[1;33m)\u001b[0m\u001b[1;33m:\u001b[0m\u001b[1;33m\u001b[0m\u001b[1;33m\u001b[0m\u001b[0m\n\u001b[1;32m---> 74\u001b[1;33m         \u001b[0mself\u001b[0m\u001b[1;33m.\u001b[0m\u001b[0mshutdown\u001b[0m\u001b[1;33m(\u001b[0m\u001b[0mkill_workers\u001b[0m\u001b[1;33m=\u001b[0m\u001b[0mkill_workers\u001b[0m\u001b[1;33m)\u001b[0m\u001b[1;33m\u001b[0m\u001b[1;33m\u001b[0m\u001b[0m\n\u001b[0m\u001b[0;32m     75\u001b[0m         \u001b[1;32mif\u001b[0m \u001b[0mkill_workers\u001b[0m\u001b[1;33m:\u001b[0m\u001b[1;33m\u001b[0m\u001b[1;33m\u001b[0m\u001b[0m\n\u001b[0;32m     76\u001b[0m             \u001b[1;31m# When workers are killed in such a brutal manner, they cannot\u001b[0m\u001b[1;33m\u001b[0m\u001b[1;33m\u001b[0m\u001b[1;33m\u001b[0m\u001b[0m\n",
      "\u001b[1;32m~\\AppData\\Roaming\\Python\\Python37\\site-packages\\joblib\\externals\\loky\\process_executor.py\u001b[0m in \u001b[0;36mshutdown\u001b[1;34m(self, wait, kill_workers)\u001b[0m\n\u001b[0;32m   1183\u001b[0m \u001b[1;33m\u001b[0m\u001b[0m\n\u001b[0;32m   1184\u001b[0m         \u001b[1;32mif\u001b[0m \u001b[0mexecutor_manager_thread\u001b[0m \u001b[1;32mis\u001b[0m \u001b[1;32mnot\u001b[0m \u001b[1;32mNone\u001b[0m \u001b[1;32mand\u001b[0m \u001b[0mwait\u001b[0m\u001b[1;33m:\u001b[0m\u001b[1;33m\u001b[0m\u001b[1;33m\u001b[0m\u001b[0m\n\u001b[1;32m-> 1185\u001b[1;33m             \u001b[0mexecutor_manager_thread\u001b[0m\u001b[1;33m.\u001b[0m\u001b[0mjoin\u001b[0m\u001b[1;33m(\u001b[0m\u001b[1;33m)\u001b[0m\u001b[1;33m\u001b[0m\u001b[1;33m\u001b[0m\u001b[0m\n\u001b[0m\u001b[0;32m   1186\u001b[0m \u001b[1;33m\u001b[0m\u001b[0m\n\u001b[0;32m   1187\u001b[0m         \u001b[1;31m# To reduce the risk of opening too many files, remove references to\u001b[0m\u001b[1;33m\u001b[0m\u001b[1;33m\u001b[0m\u001b[1;33m\u001b[0m\u001b[0m\n",
      "\u001b[1;32m~\\miniconda3\\envs\\localtorch\\lib\\threading.py\u001b[0m in \u001b[0;36mjoin\u001b[1;34m(self, timeout)\u001b[0m\n\u001b[0;32m   1042\u001b[0m \u001b[1;33m\u001b[0m\u001b[0m\n\u001b[0;32m   1043\u001b[0m         \u001b[1;32mif\u001b[0m \u001b[0mtimeout\u001b[0m \u001b[1;32mis\u001b[0m \u001b[1;32mNone\u001b[0m\u001b[1;33m:\u001b[0m\u001b[1;33m\u001b[0m\u001b[1;33m\u001b[0m\u001b[0m\n\u001b[1;32m-> 1044\u001b[1;33m             \u001b[0mself\u001b[0m\u001b[1;33m.\u001b[0m\u001b[0m_wait_for_tstate_lock\u001b[0m\u001b[1;33m(\u001b[0m\u001b[1;33m)\u001b[0m\u001b[1;33m\u001b[0m\u001b[1;33m\u001b[0m\u001b[0m\n\u001b[0m\u001b[0;32m   1045\u001b[0m         \u001b[1;32melse\u001b[0m\u001b[1;33m:\u001b[0m\u001b[1;33m\u001b[0m\u001b[1;33m\u001b[0m\u001b[0m\n\u001b[0;32m   1046\u001b[0m             \u001b[1;31m# the behavior of a negative timeout isn't documented, but\u001b[0m\u001b[1;33m\u001b[0m\u001b[1;33m\u001b[0m\u001b[1;33m\u001b[0m\u001b[0m\n",
      "\u001b[1;32m~\\miniconda3\\envs\\localtorch\\lib\\threading.py\u001b[0m in \u001b[0;36m_wait_for_tstate_lock\u001b[1;34m(self, block, timeout)\u001b[0m\n\u001b[0;32m   1058\u001b[0m         \u001b[1;32mif\u001b[0m \u001b[0mlock\u001b[0m \u001b[1;32mis\u001b[0m \u001b[1;32mNone\u001b[0m\u001b[1;33m:\u001b[0m  \u001b[1;31m# already determined that the C code is done\u001b[0m\u001b[1;33m\u001b[0m\u001b[1;33m\u001b[0m\u001b[0m\n\u001b[0;32m   1059\u001b[0m             \u001b[1;32massert\u001b[0m \u001b[0mself\u001b[0m\u001b[1;33m.\u001b[0m\u001b[0m_is_stopped\u001b[0m\u001b[1;33m\u001b[0m\u001b[1;33m\u001b[0m\u001b[0m\n\u001b[1;32m-> 1060\u001b[1;33m         \u001b[1;32melif\u001b[0m \u001b[0mlock\u001b[0m\u001b[1;33m.\u001b[0m\u001b[0macquire\u001b[0m\u001b[1;33m(\u001b[0m\u001b[0mblock\u001b[0m\u001b[1;33m,\u001b[0m \u001b[0mtimeout\u001b[0m\u001b[1;33m)\u001b[0m\u001b[1;33m:\u001b[0m\u001b[1;33m\u001b[0m\u001b[1;33m\u001b[0m\u001b[0m\n\u001b[0m\u001b[0;32m   1061\u001b[0m             \u001b[0mlock\u001b[0m\u001b[1;33m.\u001b[0m\u001b[0mrelease\u001b[0m\u001b[1;33m(\u001b[0m\u001b[1;33m)\u001b[0m\u001b[1;33m\u001b[0m\u001b[1;33m\u001b[0m\u001b[0m\n\u001b[0;32m   1062\u001b[0m             \u001b[0mself\u001b[0m\u001b[1;33m.\u001b[0m\u001b[0m_stop\u001b[0m\u001b[1;33m(\u001b[0m\u001b[1;33m)\u001b[0m\u001b[1;33m\u001b[0m\u001b[1;33m\u001b[0m\u001b[0m\n",
      "\u001b[1;31mKeyboardInterrupt\u001b[0m: "
     ]
    }
   ],
   "source": [
    "from sklearn.ensemble import GradientBoostingClassifier\n",
    "from sklearn.metrics import accuracy_score\n",
    "import time\n",
    "\n",
    "# GBM 수행 시간 측정해보기 - 시작하는 시간\n",
    "start_time = time.time()\n",
    "\n",
    "gb_clf = GradientBoostingClassifier()\n",
    "gb_clf.fit(x_train_stat17_gbm, y_train['CIP'])\n",
    "gb_pred = gb_clf.predict(x_test_stat17_gbm)\n",
    "gb_acc = accuracy_score(y_test, gb_pred)\n",
    "\n",
    "print(f\"기본 모델 정확도 : {gb_acc :.4f}\")\n",
    "print(f\"학습 시간 : {time.time()-start_time :.4f}\")\n",
    "\n",
    "## GridSearchCV 이용해서 교차검증&최적의 파라미터 찾기\n",
    "from sklearn.model_selection import GridSearchCV\n",
    "\n",
    "params = {\n",
    "    'n_estimators': list(range(10, 500, 10)),\n",
    "    'learning_rate':list(np.arange(0.01, 0.1, 0.01))\n",
    "}\n",
    "\n",
    "#param_list = {\"n_estimators\": list(range(10, 500, 10)),\n",
    "#              \"max_depth\": [1,2,3,4,5],}\n",
    "\n",
    "\n",
    "grid_cv = GridSearchCV(gb_clf, param_grid=params,\n",
    "                      n_jobs=-1, cv=5, verbose=2)\n",
    "grid_cv.fit(x_train_stat17_gbm, y_train)\n",
    "print(\"최적의 파라미터:\", grid_cv.best_params_)\n",
    "print(\"최고의 정확도 :\", grid_cv.best_score_)"
   ]
  },
  {
   "cell_type": "code",
   "execution_count": 130,
   "id": "3aa608a1",
   "metadata": {},
   "outputs": [
    {
     "name": "stdout",
     "output_type": "stream",
     "text": [
      "최적화 모델 정확도 : 0.7128\n"
     ]
    }
   ],
   "source": [
    "gb_clf = GradientBoostingClassifier(learning_rate = 0.02, n_estimators= 20,random_state=123)\n",
    "gb_clf.fit(x_train_stat17_gbm, y_train['CIP'])\n",
    "predicted = gb_clf.predict(x_test_stat17_gbm)\n",
    "gb_acc = accuracy_score(y_test, predicted)\n",
    "print(f\"최적화 모델 정확도 : {gb_acc :.4f}\")"
   ]
  },
  {
   "cell_type": "code",
   "execution_count": 131,
   "id": "6eeb63fe",
   "metadata": {},
   "outputs": [
    {
     "data": {
      "image/png": "[encoded data removed]",
      "text/plain": [
       "<Figure size 1080x360 with 1 Axes>"
      ]
     },
     "metadata": {},
     "output_type": "display_data"
    }
   ],
   "source": [
    "#baseline - rf tree / roc curve\n",
    "from sklearn.metrics import roc_curve\n",
    "#레이블 1일때 예측 확률\n",
    "pred_positive_label=gb_clf.predict_proba(x_test_stat17_gbm)[:,1]\n",
    "fprs,tprs,thresholds = roc_curve(y_test,pred_positive_label)\n",
    "precisions,recalls,thresholds = roc_curve(y_test,pred_positive_label)\n",
    "\n",
    "\n",
    "plt.figure(figsize=(15,5))\n",
    "\n",
    "#diagonal\n",
    "plt.plot([0,1],[0,1],label='STR')\n",
    "\n",
    "#ROC\n",
    "\n",
    "plt.plot(fprs,tprs,label='ROC')\n",
    "plt.xlabel('FPR')\n",
    "plt.ylabel('TPR')\n",
    "plt.legend()\n",
    "plt.grid()\n",
    "plt.show()\n"
   ]
  },
  {
   "cell_type": "code",
   "execution_count": 132,
   "id": "4b4a11ee",
   "metadata": {},
   "outputs": [
    {
     "name": "stdout",
     "output_type": "stream",
     "text": [
      "roc auc value 0.7566772295156179\n"
     ]
    }
   ],
   "source": [
    "#baseline - rf tree / auc score\n",
    "from sklearn.metrics import roc_auc_score\n",
    "\n",
    "print('roc auc value {}'.format(roc_auc_score(y_test,pred_positive_label) ))\n"
   ]
  },
  {
   "cell_type": "code",
   "execution_count": 133,
   "id": "db3a3699",
   "metadata": {},
   "outputs": [],
   "source": [
    "auc=roc_auc_score(y_test,pred_positive_label)\n",
    "accuracy = accuracy_score(y_true=y_test,y_pred=predicted)\n",
    "recall = recall_score(y_true=y_test, y_pred=predicted, pos_label=1)\n",
    "specificity = recall_score(y_true=y_test, y_pred=predicted, pos_label=0)\n",
    "f1 = f1_score(y_true=y_test, y_pred=predicted)\n",
    "\n",
    "\n",
    "names.append('gbm_17')\n",
    "aucs.append(auc)\n",
    "accs.append(accuracy)\n",
    "recalls_list.append(recall)\n",
    "specificitys.append(specificity)\n",
    "f1s.append(f1)\n"
   ]
  },
  {
   "cell_type": "markdown",
   "id": "741a934e",
   "metadata": {},
   "source": [
    "#### recall threshold change"
   ]
  },
  {
   "cell_type": "code",
   "execution_count": 45,
   "id": "648f36da",
   "metadata": {},
   "outputs": [],
   "source": [
    "def plot_pr_curve(test_y, model_probs,clf_name):\n",
    "    # calculate the no skill line as the proportion of the positive class\n",
    "    no_skill = len(test_y[test_y==1]) / len(test_y)\n",
    "    # plot the no skill precision-recall curve\n",
    "    plt.plot([0, 1], [no_skill, no_skill], linestyle='--', label='No Skill')\n",
    "    # plot model precision-recall curve\n",
    "    precision, recall, _ = precision_recall_curve(test_y, model_probs)\n",
    "    plt.plot(recall, precision, marker='.', label=clf_name)\n",
    "    # axis labels\n",
    "    plt.xlabel('Recall')\n",
    "    plt.ylabel('Precision')\n",
    "    # show the legend\n",
    "    plt.legend()\n",
    "    # show the plot\n",
    "    plt.show()"
   ]
  },
  {
   "cell_type": "code",
   "execution_count": 58,
   "id": "8451b55d",
   "metadata": {},
   "outputs": [
    {
     "name": "stdout",
     "output_type": "stream",
     "text": [
      "10\n",
      "Best Threshold=0.432424, F-Score=0.765\n"
     ]
    },
    {
     "data": {
      "image/png": "[encoded data removed]",
      "text/plain": [
       "<Figure size 432x288 with 1 Axes>"
      ]
     },
     "metadata": {},
     "output_type": "display_data"
    }
   ],
   "source": [
    "\n",
    "# optimal threshold for precision-recall curve with logistic regression model\n",
    "from numpy import argmax\n",
    "from sklearn.metrics import precision_recall_curve\n",
    "# predict probabilities\n",
    "yhat = gb_clf.predict_proba(x_train_stat17_gbm)\n",
    "# keep probabilities for the positive outcome only\n",
    "yhat = yhat[:, 1]\n",
    "# calculate roc curves\n",
    "precision, recall, thresholds = precision_recall_curve(y_train, yhat)\n",
    "# convert to f score\n",
    "fscore = (2 * precision * recall) / (precision + recall)\n",
    "# locate the index of the largest f score\n",
    "print(np.where(recall > 0.90)[0][-1])\n",
    "ix = np.where(recall > 0.90)[0][-1]\n",
    "#ix = argmax(np.nan_to_num(recall))\n",
    "print('Best Threshold=%f, F-Score=%.3f' % (thresholds[ix], fscore[ix]))\n",
    "# plot the roc curve for the model\n",
    "plot_pr_curve(y_train, yhat,'GBM')\n"
   ]
  },
  {
   "cell_type": "code",
   "execution_count": 61,
   "id": "b128ec3a",
   "metadata": {},
   "outputs": [],
   "source": [
    "\n",
    "# optimal threshold for precision-recall curve with logistic regression model\n",
    "from numpy import argmax\n",
    "from sklearn.metrics import precision_recall_curve\n",
    "# predict probabilities\n",
    "yhat = gb_clf.predict_proba(x_test_stat17_gbm)\n",
    "yhat = yhat[:, 1]\n",
    "# keep probabilities for the positive outcome only\n",
    "yhat[yhat>0.432424]=1\n",
    "yhat[yhat !=1] = 0\n"
   ]
  },
  {
   "cell_type": "code",
   "execution_count": 62,
   "id": "3a149e23",
   "metadata": {},
   "outputs": [
    {
     "data": {
      "text/html": [
       "<div>\n",
       "<style scoped>\n",
       "    .dataframe tbody tr th:only-of-type {\n",
       "        vertical-align: middle;\n",
       "    }\n",
       "\n",
       "    .dataframe tbody tr th {\n",
       "        vertical-align: top;\n",
       "    }\n",
       "\n",
       "    .dataframe thead th {\n",
       "        text-align: right;\n",
       "    }\n",
       "</style>\n",
       "<table border=\"1\" class=\"dataframe\">\n",
       "  <thead>\n",
       "    <tr style=\"text-align: right;\">\n",
       "      <th></th>\n",
       "      <th>0</th>\n",
       "    </tr>\n",
       "  </thead>\n",
       "  <tbody>\n",
       "    <tr>\n",
       "      <th>0</th>\n",
       "      <td>0.617021</td>\n",
       "    </tr>\n",
       "    <tr>\n",
       "      <th>1</th>\n",
       "      <td>0.851064</td>\n",
       "    </tr>\n",
       "    <tr>\n",
       "      <th>2</th>\n",
       "      <td>0.579710</td>\n",
       "    </tr>\n",
       "    <tr>\n",
       "      <th>3</th>\n",
       "      <td>0.382979</td>\n",
       "    </tr>\n",
       "    <tr>\n",
       "      <th>4</th>\n",
       "      <td>0.689655</td>\n",
       "    </tr>\n",
       "  </tbody>\n",
       "</table>\n",
       "</div>"
      ],
      "text/plain": [
       "          0\n",
       "0  0.617021\n",
       "1  0.851064\n",
       "2  0.579710\n",
       "3  0.382979\n",
       "4  0.689655"
      ]
     },
     "execution_count": 62,
     "metadata": {},
     "output_type": "execute_result"
    }
   ],
   "source": [
    "\n",
    "accuracy = [accuracy_score(y_true=y_test,y_pred=yhat),]\n",
    "recall = [recall_score(y_true=y_test, y_pred=yhat, pos_label=1),]\n",
    "precision = [precision_score(y_true=y_test, y_pred=yhat),]\n",
    "specificity = [recall_score(y_true=y_test, y_pred=yhat, pos_label=0),]\n",
    "f1 = [f1_score(y_true=y_test, y_pred=yhat),]\n",
    "pd.DataFrame([accuracy,recall,precision,specificity,f1])\n",
    "#print(accuracy, recall,precision,specificity, f1 )"
   ]
  },
  {
   "cell_type": "markdown",
   "id": "e7382323",
   "metadata": {},
   "source": [
    "### 10 변수"
   ]
  },
  {
   "cell_type": "code",
   "execution_count": 477,
   "id": "3a4333cc",
   "metadata": {},
   "outputs": [
    {
     "name": "stdout",
     "output_type": "stream",
     "text": [
      "기본 모델 정확도 : 0.6702\n",
      "학습 시간 : 0.0511\n",
      "Fitting 5 folds for each of 441 candidates, totalling 2205 fits\n",
      "최적의 파라미터: {'learning_rate': 0.04, 'n_estimators': 50}\n",
      "최고의 정확도 : 0.7058018018018017\n"
     ]
    },
    {
     "name": "stderr",
     "output_type": "stream",
     "text": [
      "C:\\Users\\dlwhd\\AppData\\Roaming\\Python\\Python37\\site-packages\\sklearn\\ensemble\\_gb.py:494: DataConversionWarning: A column-vector y was passed when a 1d array was expected. Please change the shape of y to (n_samples, ), for example using ravel().\n",
      "  y = column_or_1d(y, warn=True)\n"
     ]
    }
   ],
   "source": [
    "from sklearn.ensemble import GradientBoostingClassifier\n",
    "from sklearn.metrics import accuracy_score\n",
    "import time\n",
    "\n",
    "# GBM 수행 시간 측정해보기 - 시작하는 시간\n",
    "start_time = time.time()\n",
    "\n",
    "gb_clf = GradientBoostingClassifier()\n",
    "gb_clf.fit(x_train_stat10_gbm, y_train['CIP'])\n",
    "gb_pred = gb_clf.predict(x_test_stat10_gbm)\n",
    "gb_acc = accuracy_score(y_test, gb_pred)\n",
    "\n",
    "print(f\"기본 모델 정확도 : {gb_acc :.4f}\")\n",
    "print(f\"학습 시간 : {time.time()-start_time :.4f}\")\n",
    "\n",
    "## GridSearchCV 이용해서 교차검증&최적의 파라미터 찾기\n",
    "from sklearn.model_selection import GridSearchCV\n",
    "\n",
    "params = {\n",
    "    'n_estimators': list(range(10, 500, 10)),\n",
    "    'learning_rate':list(np.arange(0.01, 0.1, 0.01))\n",
    "}\n",
    "\n",
    "#param_list = {\"n_estimators\": list(range(10, 500, 10)),\n",
    "#              \"max_depth\": [1,2,3,4,5],}\n",
    "\n",
    "\n",
    "grid_cv = GridSearchCV(gb_clf, param_grid=params,\n",
    "                      n_jobs=-1, cv=5, verbose=2)\n",
    "grid_cv.fit(x_train_stat10_gbm, y_train)\n",
    "print(\"최적의 파라미터:\", grid_cv.best_params_)\n",
    "print(\"최고의 정확도 :\", grid_cv.best_score_)"
   ]
  },
  {
   "cell_type": "code",
   "execution_count": 134,
   "id": "9c7142aa",
   "metadata": {},
   "outputs": [
    {
     "name": "stdout",
     "output_type": "stream",
     "text": [
      "최적화 모델 정확도 : 0.7021\n"
     ]
    }
   ],
   "source": [
    "gb_clf = GradientBoostingClassifier(learning_rate = 0.04, n_estimators= 50,random_state=123)\n",
    "gb_clf.fit(x_train_stat10_gbm, y_train['CIP'])\n",
    "predicted = gb_clf.predict(x_test_stat10_gbm)\n",
    "gb_acc = accuracy_score(y_test, predicted)\n",
    "print(f\"최적화 모델 정확도 : {gb_acc :.4f}\")"
   ]
  },
  {
   "cell_type": "code",
   "execution_count": 135,
   "id": "eaa0212a",
   "metadata": {},
   "outputs": [
    {
     "data": {
      "image/png": "[encoded data removed]",
      "text/plain": [
       "<Figure size 1080x360 with 1 Axes>"
      ]
     },
     "metadata": {},
     "output_type": "display_data"
    }
   ],
   "source": [
    "#baseline - rf tree / roc curve\n",
    "from sklearn.metrics import roc_curve\n",
    "#레이블 1일때 예측 확률\n",
    "pred_positive_label=gb_clf.predict_proba(x_test_stat10_gbm)[:,1]\n",
    "fprs,tprs,thresholds = roc_curve(y_test,pred_positive_label)\n",
    "precisions,recalls,thresholds = roc_curve(y_test,pred_positive_label)\n",
    "\n",
    "\n",
    "plt.figure(figsize=(15,5))\n",
    "\n",
    "#diagonal\n",
    "plt.plot([0,1],[0,1],label='STR')\n",
    "\n",
    "#ROC\n",
    "\n",
    "plt.plot(fprs,tprs,label='ROC')\n",
    "plt.xlabel('FPR')\n",
    "plt.ylabel('TPR')\n",
    "plt.legend()\n",
    "plt.grid()\n",
    "plt.show()\n"
   ]
  },
  {
   "cell_type": "code",
   "execution_count": 136,
   "id": "41a14da7",
   "metadata": {},
   "outputs": [
    {
     "name": "stdout",
     "output_type": "stream",
     "text": [
      "roc auc value 0.7390221819827977\n"
     ]
    }
   ],
   "source": [
    "#baseline - rf tree / auc score\n",
    "from sklearn.metrics import roc_auc_score\n",
    "\n",
    "print('roc auc value {}'.format(roc_auc_score(y_test,pred_positive_label) ))\n"
   ]
  },
  {
   "cell_type": "code",
   "execution_count": 137,
   "id": "44ea947a",
   "metadata": {},
   "outputs": [],
   "source": [
    "auc=roc_auc_score(y_test,pred_positive_label)\n",
    "accuracy = accuracy_score(y_true=y_test,y_pred=predicted)\n",
    "recall = recall_score(y_true=y_test, y_pred=predicted, pos_label=1)\n",
    "specificity = recall_score(y_true=y_test, y_pred=predicted, pos_label=0)\n",
    "f1 = f1_score(y_true=y_test, y_pred=predicted)\n",
    "\n",
    "\n",
    "names.append('gbm_10')\n",
    "aucs.append(auc)\n",
    "accs.append(accuracy)\n",
    "recalls_list.append(recall)\n",
    "specificitys.append(specificity)\n",
    "f1s.append(f1)\n"
   ]
  },
  {
   "cell_type": "markdown",
   "id": "d066cddb",
   "metadata": {},
   "source": [
    "### 15변수"
   ]
  },
  {
   "cell_type": "code",
   "execution_count": 482,
   "id": "b5a3840d",
   "metadata": {},
   "outputs": [
    {
     "name": "stdout",
     "output_type": "stream",
     "text": [
      "기본 모델 정확도 : 0.6702\n",
      "학습 시간 : 0.0781\n",
      "Fitting 5 folds for each of 441 candidates, totalling 2205 fits\n",
      "최적의 파라미터: {'learning_rate': 0.08, 'n_estimators': 10}\n",
      "최고의 정확도 : 0.7057657657657658\n"
     ]
    },
    {
     "name": "stderr",
     "output_type": "stream",
     "text": [
      "C:\\Users\\dlwhd\\AppData\\Roaming\\Python\\Python37\\site-packages\\sklearn\\ensemble\\_gb.py:494: DataConversionWarning: A column-vector y was passed when a 1d array was expected. Please change the shape of y to (n_samples, ), for example using ravel().\n",
      "  y = column_or_1d(y, warn=True)\n"
     ]
    }
   ],
   "source": [
    "from sklearn.ensemble import GradientBoostingClassifier\n",
    "from sklearn.metrics import accuracy_score\n",
    "import time\n",
    "\n",
    "# GBM 수행 시간 측정해보기 - 시작하는 시간\n",
    "start_time = time.time()\n",
    "\n",
    "gb_clf = GradientBoostingClassifier()\n",
    "gb_clf.fit(x_train_stat15_gbm, y_train['CIP'])\n",
    "gb_pred = gb_clf.predict(x_test_stat15_gbm)\n",
    "gb_acc = accuracy_score(y_test, gb_pred)\n",
    "\n",
    "print(f\"기본 모델 정확도 : {gb_acc :.4f}\")\n",
    "print(f\"학습 시간 : {time.time()-start_time :.4f}\")\n",
    "\n",
    "## GridSearchCV 이용해서 교차검증&최적의 파라미터 찾기\n",
    "from sklearn.model_selection import GridSearchCV\n",
    "\n",
    "params = {\n",
    "    'n_estimators': list(range(10, 500, 10)),\n",
    "    'learning_rate':list(np.arange(0.01, 0.1, 0.01))\n",
    "}\n",
    "\n",
    "#param_list = {\"n_estimators\": list(range(10, 500, 10)),\n",
    "#              \"max_depth\": [1,2,3,4,5],}\n",
    "\n",
    "\n",
    "grid_cv = GridSearchCV(gb_clf, param_grid=params,\n",
    "                      n_jobs=-1, cv=5, verbose=2)\n",
    "grid_cv.fit(x_train_stat15_gbm, y_train)\n",
    "print(\"최적의 파라미터:\", grid_cv.best_params_)\n",
    "print(\"최고의 정확도 :\", grid_cv.best_score_)"
   ]
  },
  {
   "cell_type": "code",
   "execution_count": 138,
   "id": "08160d13",
   "metadata": {},
   "outputs": [
    {
     "name": "stdout",
     "output_type": "stream",
     "text": [
      "최적화 모델 정확도 : 0.6809\n"
     ]
    }
   ],
   "source": [
    "gb_clf = GradientBoostingClassifier(learning_rate = 0.08, n_estimators= 10,random_state=123)\n",
    "gb_clf.fit(x_train_stat15_gbm, y_train['CIP'])\n",
    "predicted = gb_clf.predict(x_test_stat15_gbm)\n",
    "gb_acc = accuracy_score(y_test, predicted)\n",
    "print(f\"최적화 모델 정확도 : {gb_acc :.4f}\")"
   ]
  },
  {
   "cell_type": "code",
   "execution_count": 139,
   "id": "a4506417",
   "metadata": {},
   "outputs": [
    {
     "data": {
      "image/png": "[encoded data removed]",
      "text/plain": [
       "<Figure size 1080x360 with 1 Axes>"
      ]
     },
     "metadata": {},
     "output_type": "display_data"
    }
   ],
   "source": [
    "#baseline - rf tree / roc curve\n",
    "from sklearn.metrics import roc_curve\n",
    "#레이블 1일때 예측 확률\n",
    "pred_positive_label=gb_clf.predict_proba(x_test_stat15_gbm)[:,1]\n",
    "fprs,tprs,thresholds = roc_curve(y_test,pred_positive_label)\n",
    "precisions,recalls,thresholds = roc_curve(y_test,pred_positive_label)\n",
    "\n",
    "\n",
    "plt.figure(figsize=(15,5))\n",
    "\n",
    "#diagonal\n",
    "plt.plot([0,1],[0,1],label='STR')\n",
    "\n",
    "#ROC\n",
    "\n",
    "plt.plot(fprs,tprs,label='ROC')\n",
    "plt.xlabel('FPR')\n",
    "plt.ylabel('TPR')\n",
    "plt.legend()\n",
    "plt.grid()\n",
    "plt.show()\n"
   ]
  },
  {
   "cell_type": "code",
   "execution_count": 140,
   "id": "fd494dfb",
   "metadata": {},
   "outputs": [
    {
     "name": "stdout",
     "output_type": "stream",
     "text": [
      "roc auc value 0.7537347215934812\n"
     ]
    }
   ],
   "source": [
    "#baseline - rf tree / auc score\n",
    "from sklearn.metrics import roc_auc_score\n",
    "\n",
    "print('roc auc value {}'.format(roc_auc_score(y_test,pred_positive_label) ))\n"
   ]
  },
  {
   "cell_type": "code",
   "execution_count": 141,
   "id": "347c2632",
   "metadata": {},
   "outputs": [],
   "source": [
    "auc=roc_auc_score(y_test,pred_positive_label)\n",
    "accuracy = accuracy_score(y_true=y_test,y_pred=predicted)\n",
    "recall = recall_score(y_true=y_test, y_pred=predicted, pos_label=1)\n",
    "specificity = recall_score(y_true=y_test, y_pred=predicted, pos_label=0)\n",
    "f1 = f1_score(y_true=y_test, y_pred=predicted)\n",
    "\n",
    "\n",
    "names.append('gbm_15')\n",
    "aucs.append(auc)\n",
    "accs.append(accuracy)\n",
    "recalls_list.append(recall)\n",
    "specificitys.append(specificity)\n",
    "f1s.append(f1)\n"
   ]
  },
  {
   "cell_type": "code",
   "execution_count": 142,
   "id": "5c5b7cb6",
   "metadata": {},
   "outputs": [],
   "source": [
    "test_gbm= pd.concat([pd.DataFrame(names),\n",
    "                     pd.DataFrame(aucs),\n",
    "                     pd.DataFrame(accs),\n",
    "                     pd.DataFrame(recalls_list),\n",
    "                     pd.DataFrame(specificitys),\n",
    "                     pd.DataFrame(f1s)\n",
    "                    ],axis=1)\n",
    "test_gbm.columns=['name','AUC','ACC','RECALL','SPECIFICITY','F1']"
   ]
  },
  {
   "cell_type": "code",
   "execution_count": 143,
   "id": "a3a44722",
   "metadata": {},
   "outputs": [
    {
     "data": {
      "text/html": [
       "<div>\n",
       "<style scoped>\n",
       "    .dataframe tbody tr th:only-of-type {\n",
       "        vertical-align: middle;\n",
       "    }\n",
       "\n",
       "    .dataframe tbody tr th {\n",
       "        vertical-align: top;\n",
       "    }\n",
       "\n",
       "    .dataframe thead th {\n",
       "        text-align: right;\n",
       "    }\n",
       "</style>\n",
       "<table border=\"1\" class=\"dataframe\">\n",
       "  <thead>\n",
       "    <tr style=\"text-align: right;\">\n",
       "      <th></th>\n",
       "      <th>name</th>\n",
       "      <th>AUC</th>\n",
       "      <th>ACC</th>\n",
       "      <th>RECALL</th>\n",
       "      <th>SPECIFICITY</th>\n",
       "      <th>F1</th>\n",
       "    </tr>\n",
       "  </thead>\n",
       "  <tbody>\n",
       "    <tr>\n",
       "      <th>1</th>\n",
       "      <td>gbm_10</td>\n",
       "      <td>0.739022</td>\n",
       "      <td>0.702128</td>\n",
       "      <td>0.638298</td>\n",
       "      <td>0.765957</td>\n",
       "      <td>0.681818</td>\n",
       "    </tr>\n",
       "    <tr>\n",
       "      <th>2</th>\n",
       "      <td>gbm_15</td>\n",
       "      <td>0.753735</td>\n",
       "      <td>0.680851</td>\n",
       "      <td>0.595745</td>\n",
       "      <td>0.765957</td>\n",
       "      <td>0.651163</td>\n",
       "    </tr>\n",
       "    <tr>\n",
       "      <th>0</th>\n",
       "      <td>gbm_17</td>\n",
       "      <td>0.756677</td>\n",
       "      <td>0.712766</td>\n",
       "      <td>0.680851</td>\n",
       "      <td>0.744681</td>\n",
       "      <td>0.703297</td>\n",
       "    </tr>\n",
       "  </tbody>\n",
       "</table>\n",
       "</div>"
      ],
      "text/plain": [
       "     name       AUC       ACC    RECALL  SPECIFICITY        F1\n",
       "1  gbm_10  0.739022  0.702128  0.638298     0.765957  0.681818\n",
       "2  gbm_15  0.753735  0.680851  0.595745     0.765957  0.651163\n",
       "0  gbm_17  0.756677  0.712766  0.680851     0.744681  0.703297"
      ]
     },
     "execution_count": 143,
     "metadata": {},
     "output_type": "execute_result"
    }
   ],
   "source": [
    "test_gbm.sort_values('name')"
   ]
  },
  {
   "cell_type": "code",
   "execution_count": null,
   "id": "5aa9ba31",
   "metadata": {},
   "outputs": [],
   "source": [
    "STOP..."
   ]
  },
  {
   "cell_type": "markdown",
   "id": "9e6afef7",
   "metadata": {},
   "source": [
    "## MLP"
   ]
  },
  {
   "cell_type": "code",
   "execution_count": 70,
   "id": "47138b96",
   "metadata": {},
   "outputs": [
    {
     "data": {
      "text/html": [
       "<div>\n",
       "<style scoped>\n",
       "    .dataframe tbody tr th:only-of-type {\n",
       "        vertical-align: middle;\n",
       "    }\n",
       "\n",
       "    .dataframe tbody tr th {\n",
       "        vertical-align: top;\n",
       "    }\n",
       "\n",
       "    .dataframe thead th {\n",
       "        text-align: right;\n",
       "    }\n",
       "</style>\n",
       "<table border=\"1\" class=\"dataframe\">\n",
       "  <thead>\n",
       "    <tr style=\"text-align: right;\">\n",
       "      <th></th>\n",
       "      <th>name</th>\n",
       "      <th>AUC</th>\n",
       "      <th>ACC</th>\n",
       "      <th>RECALL</th>\n",
       "      <th>SPECIFICITY</th>\n",
       "      <th>F1</th>\n",
       "    </tr>\n",
       "  </thead>\n",
       "  <tbody>\n",
       "  </tbody>\n",
       "</table>\n",
       "</div>"
      ],
      "text/plain": [
       "Empty DataFrame\n",
       "Columns: [name, AUC, ACC, RECALL, SPECIFICITY, F1]\n",
       "Index: []"
      ]
     },
     "execution_count": 70,
     "metadata": {},
     "output_type": "execute_result"
    }
   ],
   "source": [
    "test_mlp = pd.DataFrame(columns=['name','AUC','ACC','RECALL','SPECIFICITY','F1'])\n",
    "test_mlp"
   ]
  },
  {
   "cell_type": "code",
   "execution_count": 71,
   "id": "bcb04d2e",
   "metadata": {},
   "outputs": [],
   "source": [
    "names=[]\n",
    "aucs=[]\n",
    "accs=[]\n",
    "recalls_list=[]\n",
    "specificitys=[]\n",
    "f1s=[]"
   ]
  },
  {
   "cell_type": "code",
   "execution_count": 72,
   "id": "7db44ff4",
   "metadata": {},
   "outputs": [],
   "source": [
    "x_train_stat_mlp = x_train.copy()\n",
    "x_test_stat_mlp = x_test.copy()\n",
    "\n",
    "import statsmodels.api as sm\n",
    "\n",
    "numeric_cols=[]\n",
    "for idx,col in enumerate(x_train.columns):\n",
    "    col_type = x_train[col].dtype\n",
    "    if col_type.name !='category':\n",
    "        numeric_cols.append(col)\n",
    "\n",
    "scaler = StandardScaler()\n",
    "\n",
    "x_train_stat_mlp[numeric_cols] = scaler.fit_transform(x_train_stat_mlp[numeric_cols])\n",
    "x_test_stat_mlp[numeric_cols] = scaler.transform(x_test_stat_mlp[numeric_cols])\n",
    "\n",
    "\n"
   ]
  },
  {
   "cell_type": "code",
   "execution_count": 73,
   "id": "8be86115",
   "metadata": {},
   "outputs": [],
   "source": [
    "col_all = ['bed','Hsp-acq','3m-Ab','3m-Adm','1y-UTI','Hb',\n",
    "           'Foley','NR','iBT','sex','SaO2','Nursing','iDBP','pCO2',\n",
    "           'Plt','CV','PPIantacid']\n",
    "col10 = col_all[:10]\n",
    "col15 = col_all[:15]\n",
    "\n",
    "\n",
    "x_train_stat17_mlp = x_train_stat_mlp[col_all]\n",
    "x_test_stat17_mlp = x_test_stat_mlp[col_all]\n",
    "\n",
    "x_train_stat10_mlp = x_train_stat_mlp[col10]\n",
    "x_test_stat10_mlp = x_test_stat_mlp[col10]\n",
    "\n",
    "\n",
    "x_train_stat15_mlp = x_train_stat_mlp[col15]\n",
    "x_test_stat15_mlp = x_test_stat_mlp[col15]\n",
    "\n"
   ]
  },
  {
   "cell_type": "markdown",
   "id": "b1024796",
   "metadata": {},
   "source": [
    "### reduced(17)"
   ]
  },
  {
   "cell_type": "code",
   "execution_count": 74,
   "id": "afc2815e",
   "metadata": {},
   "outputs": [
    {
     "name": "stdout",
     "output_type": "stream",
     "text": [
      "train :299 / valid : 75 \n"
     ]
    }
   ],
   "source": [
    "# train,valid 나누기\n",
    "# exp : 학습 중이란 뜻\n",
    "x_train_stat17_mlp_exp, x_val_stat17_mlp_exp,\\\n",
    "y_train_stat17_mlp_exp, y_val_stat17_mlp_exp = train_test_split(x_train_stat17_mlp,y_train,stratify=y_train,\\\n",
    "                                                  test_size=0.2,random_state=42)  # 훈련 데이터와 검증 데이터 분류\n",
    "print(\"train :{} / valid : {} \".format(y_train_stat17_mlp_exp.shape[0],y_val_stat17_mlp_exp.shape[0] ))"
   ]
  },
  {
   "cell_type": "code",
   "execution_count": 427,
   "id": "4fda4afe",
   "metadata": {},
   "outputs": [],
   "source": [
    "optuna.logging.set_verbosity(optuna.logging.WARNING)\n",
    "def objective(trial):\n",
    "    n_layers = trial.suggest_int('n_layers', 1, 4,log=False)\n",
    "    layers = []\n",
    "    for i in range(n_layers):\n",
    "        layers.append(trial.suggest_int(f'n_units_{i}', 20, 100,log=False))\n",
    "    clf = MLPClassifier(hidden_layer_sizes=tuple(layers),\n",
    "                                                activation='relu', \\\n",
    "                                                solver='adam', alpha=0.01, batch_size=32, \\\n",
    "                                                learning_rate_init=0.1, max_iter=500,random_state=42)\n",
    "    clf.fit(x_train_stat17_mlp_exp, np.ravel(y_train_stat17_mlp_exp))\n",
    "\n",
    "    return clf.score(x_val_stat17_mlp_exp, np.ravel(y_val_stat17_mlp_exp))\n",
    "\n",
    "study = optuna.create_study(direction='maximize')\n",
    "study.optimize(objective, n_trials=300)"
   ]
  },
  {
   "cell_type": "code",
   "execution_count": 428,
   "id": "a5798c9d",
   "metadata": {},
   "outputs": [
    {
     "name": "stdout",
     "output_type": "stream",
     "text": [
      "best params :  {'n_layers': 3, 'n_units_0': 22, 'n_units_1': 91, 'n_units_2': 99}\n",
      "훈련 세트 정확도: 0.833\n",
      "검증 세트 정확도: 0.787\n",
      "테스트 세트 정확도: 0.691\n"
     ]
    }
   ],
   "source": [
    "print(\"best params : \",study.best_params)\n",
    "mlp = MLPClassifier(hidden_layer_sizes = list(study.best_params.values())[1:],\n",
    "                    activation='relu', \\\n",
    "                    solver='adam', alpha=0.01, batch_size=32, \\\n",
    "                    learning_rate_init=0.1, max_iter=500,random_state=42)  # 객체 생성\n",
    "\n",
    "mlp.fit(x_train_stat17_mlp_exp, np.ravel(y_train_stat17_mlp_exp))    # 훈련하기\n",
    "\n",
    "print(\"훈련 세트 정확도: {:.3f}\".format(mlp.score(x_train_stat17_mlp_exp, np.ravel(y_train_stat17_mlp_exp) ) ) )\n",
    "print(\"검증 세트 정확도: {:.3f}\".format(mlp.score(x_val_stat17_mlp_exp, np.ravel(y_val_stat17_mlp_exp) ) ) )\n",
    "print(\"테스트 세트 정확도: {:.3f}\".format(mlp.score(x_test_stat17_mlp, np.ravel(y_test) ) ) )\n",
    "predicted = mlp.predict(x_test_stat17_mlp)"
   ]
  },
  {
   "cell_type": "code",
   "execution_count": 77,
   "id": "8f1fad6b",
   "metadata": {},
   "outputs": [
    {
     "name": "stdout",
     "output_type": "stream",
     "text": [
      "훈련 세트 정확도: 0.833\n",
      "검증 세트 정확도: 0.787\n",
      "테스트 세트 정확도: 0.691\n"
     ]
    }
   ],
   "source": [
    "## 파라미터 기록해서 사용하는 용도.\n",
    "stop()\n",
    "mlp = MLPClassifier(hidden_layer_sizes = [22,91,99],\n",
    "                    activation='relu', \\\n",
    "                    solver='adam', alpha=0.01, batch_size=32, \\\n",
    "                    learning_rate_init=0.1, max_iter=500,random_state=42)  # 객체 생성\n",
    "\n",
    "mlp.fit(x_train_stat17_mlp_exp, np.ravel(y_train_stat17_mlp_exp))    # 훈련하기\n",
    "\n",
    "print(\"훈련 세트 정확도: {:.3f}\".format(mlp.score(x_train_stat17_mlp_exp, np.ravel(y_train_stat17_mlp_exp) ) ) )\n",
    "print(\"검증 세트 정확도: {:.3f}\".format(mlp.score(x_val_stat17_mlp_exp, np.ravel(y_val_stat17_mlp_exp) ) ) )\n",
    "print(\"테스트 세트 정확도: {:.3f}\".format(mlp.score(x_test_stat17_mlp, np.ravel(y_test) ) ) )\n",
    "predicted = mlp.predict(x_test_stat17_mlp)"
   ]
  },
  {
   "cell_type": "code",
   "execution_count": 429,
   "id": "878c5d52",
   "metadata": {},
   "outputs": [
    {
     "data": {
      "image/png": "[encoded data removed]",
      "text/plain": [
       "<Figure size 1080x360 with 1 Axes>"
      ]
     },
     "metadata": {},
     "output_type": "display_data"
    }
   ],
   "source": [
    "#baseline - rf tree / roc curve\n",
    "from sklearn.metrics import roc_curve\n",
    "#레이블 1일때 예측 확률\n",
    "pred_positive_label=mlp.predict_proba(x_test_stat17_mlp)[:,1]\n",
    "fprs,tprs,thresholds = roc_curve(y_test,pred_positive_label)\n",
    "precisions,recalls,thresholds = roc_curve(y_test,pred_positive_label)\n",
    "\n",
    "\n",
    "plt.figure(figsize=(15,5))\n",
    "\n",
    "#diagonal\n",
    "plt.plot([0,1],[0,1],label='STR')\n",
    "\n",
    "#ROC\n",
    "\n",
    "plt.plot(fprs,tprs,label='ROC')\n",
    "plt.xlabel('FPR')\n",
    "plt.ylabel('TPR')\n",
    "plt.legend()\n",
    "plt.grid()\n",
    "plt.show()\n"
   ]
  },
  {
   "cell_type": "code",
   "execution_count": 430,
   "id": "99ae5092",
   "metadata": {},
   "outputs": [],
   "source": [
    "auc = roc_auc_score(y_test,pred_positive_label)\n",
    "accuracy = accuracy_score(y_true=y_test,y_pred=predicted)\n",
    "recall = recall_score(y_true=y_test, y_pred=predicted, pos_label=1)\n",
    "specificity = recall_score(y_true=y_test, y_pred=predicted, pos_label=0)\n",
    "f1 = f1_score(y_true=y_test, y_pred=predicted)\n",
    "\n",
    "\n",
    "names.append('mlp_17')\n",
    "aucs.append(auc)\n",
    "accs.append(accuracy)\n",
    "recalls_list.append(recall)\n",
    "specificitys.append(specificity)\n",
    "f1s.append(f1)\n"
   ]
  },
  {
   "cell_type": "code",
   "execution_count": 431,
   "id": "c33b5072",
   "metadata": {},
   "outputs": [],
   "source": [
    "test_mlp= pd.concat([pd.DataFrame(names),\n",
    "                     pd.DataFrame(aucs),\n",
    "                     pd.DataFrame(accs),\n",
    "                     pd.DataFrame(recalls_list),\n",
    "                     pd.DataFrame(specificitys),\n",
    "                     pd.DataFrame(f1s)\n",
    "                    ],axis=1)\n",
    "test_mlp.columns=['name','AUC','ACC','RECALL','SPECIFICITY','F1']"
   ]
  },
  {
   "cell_type": "code",
   "execution_count": 432,
   "id": "639759b7",
   "metadata": {},
   "outputs": [
    {
     "data": {
      "text/html": [
       "<div>\n",
       "<style scoped>\n",
       "    .dataframe tbody tr th:only-of-type {\n",
       "        vertical-align: middle;\n",
       "    }\n",
       "\n",
       "    .dataframe tbody tr th {\n",
       "        vertical-align: top;\n",
       "    }\n",
       "\n",
       "    .dataframe thead th {\n",
       "        text-align: right;\n",
       "    }\n",
       "</style>\n",
       "<table border=\"1\" class=\"dataframe\">\n",
       "  <thead>\n",
       "    <tr style=\"text-align: right;\">\n",
       "      <th></th>\n",
       "      <th>name</th>\n",
       "      <th>AUC</th>\n",
       "      <th>ACC</th>\n",
       "      <th>RECALL</th>\n",
       "      <th>SPECIFICITY</th>\n",
       "      <th>F1</th>\n",
       "    </tr>\n",
       "  </thead>\n",
       "  <tbody>\n",
       "    <tr>\n",
       "      <th>0</th>\n",
       "      <td>mlp_17</td>\n",
       "      <td>0.746039</td>\n",
       "      <td>0.691489</td>\n",
       "      <td>0.659574</td>\n",
       "      <td>0.723404</td>\n",
       "      <td>0.681319</td>\n",
       "    </tr>\n",
       "  </tbody>\n",
       "</table>\n",
       "</div>"
      ],
      "text/plain": [
       "     name       AUC       ACC    RECALL  SPECIFICITY        F1\n",
       "0  mlp_17  0.746039  0.691489  0.659574     0.723404  0.681319"
      ]
     },
     "execution_count": 432,
     "metadata": {},
     "output_type": "execute_result"
    }
   ],
   "source": [
    "test_mlp"
   ]
  },
  {
   "cell_type": "markdown",
   "id": "c91d6379",
   "metadata": {},
   "source": [
    "### 10 변수"
   ]
  },
  {
   "cell_type": "code",
   "execution_count": 78,
   "id": "a955bcc7",
   "metadata": {},
   "outputs": [
    {
     "name": "stdout",
     "output_type": "stream",
     "text": [
      "train :299 / valid : 75 \n"
     ]
    }
   ],
   "source": [
    "# train,valid 나누기\n",
    "# exp : 학습 중이란 뜻\n",
    "x_train_stat10_mlp_exp, x_val_stat10_mlp_exp,\\\n",
    "y_train_stat10_mlp_exp, y_val_stat10_mlp_exp = train_test_split(x_train_stat10_mlp,y_train,stratify=y_train,\\\n",
    "                                                  test_size=0.2,random_state=42)  # 훈련 데이터와 검증 데이터 분류\n",
    "print(\"train :{} / valid : {} \".format(y_train_stat10_mlp_exp.shape[0],y_val_stat10_mlp_exp.shape[0] ))"
   ]
  },
  {
   "cell_type": "code",
   "execution_count": 434,
   "id": "0c196049",
   "metadata": {
    "scrolled": true
   },
   "outputs": [],
   "source": [
    "optuna.logging.set_verbosity(optuna.logging.WARNING)\n",
    "def objective(trial):\n",
    "    n_layers = trial.suggest_int('n_layers', 1, 4,log=False)\n",
    "    layers = []\n",
    "    for i in range(n_layers):\n",
    "        layers.append(trial.suggest_int(f'n_units_{i}', 20, 100,log=False))\n",
    "    clf = MLPClassifier(hidden_layer_sizes=tuple(layers),\n",
    "                                                activation='relu', \\\n",
    "                                                solver='adam', alpha=0.01, batch_size=32, \\\n",
    "                                                learning_rate_init=0.1, max_iter=500,random_state=42)\n",
    "    clf.fit(x_train_stat10_mlp_exp, np.ravel(y_train_stat10_mlp_exp))\n",
    "\n",
    "    return clf.score(x_val_stat10_mlp_exp, np.ravel(y_val_stat10_mlp_exp))\n",
    "\n",
    "study = optuna.create_study(direction='maximize')\n",
    "study.optimize(objective, n_trials=300)"
   ]
  },
  {
   "cell_type": "code",
   "execution_count": 435,
   "id": "2b6fda4a",
   "metadata": {},
   "outputs": [
    {
     "name": "stdout",
     "output_type": "stream",
     "text": [
      "best params :  {'n_layers': 3, 'n_units_0': 35, 'n_units_1': 100, 'n_units_2': 57}\n",
      "훈련 세트 정확도: 0.739\n",
      "검증 세트 정확도: 0.813\n",
      "테스트 세트 정확도: 0.670\n"
     ]
    }
   ],
   "source": [
    "print(\"best params : \",study.best_params)\n",
    "mlp = MLPClassifier(hidden_layer_sizes = list(study.best_params.values())[1:],\n",
    "                    activation='relu', \\\n",
    "                    solver='adam', alpha=0.01, batch_size=32, \\\n",
    "                    learning_rate_init=0.1, max_iter=500,random_state=42)  # 객체 생성\n",
    "\n",
    "mlp.fit(x_train_stat10_mlp_exp, np.ravel(y_train_stat10_mlp_exp))    # 훈련하기\n",
    "\n",
    "print(\"훈련 세트 정확도: {:.3f}\".format(mlp.score(x_train_stat10_mlp_exp, np.ravel(y_train_stat10_mlp_exp) ) ) )\n",
    "print(\"검증 세트 정확도: {:.3f}\".format(mlp.score(x_val_stat10_mlp_exp, np.ravel(y_val_stat10_mlp_exp) ) ) )\n",
    "print(\"테스트 세트 정확도: {:.3f}\".format(mlp.score(x_test_stat10_mlp, np.ravel(y_test) ) ) )\n",
    "predicted = mlp.predict(x_test_stat10_mlp)"
   ]
  },
  {
   "cell_type": "code",
   "execution_count": 83,
   "id": "0d95e9f2",
   "metadata": {},
   "outputs": [
    {
     "name": "stdout",
     "output_type": "stream",
     "text": [
      "훈련 세트 정확도: 0.739\n",
      "검증 세트 정확도: 0.813\n",
      "테스트 세트 정확도: 0.670\n"
     ]
    }
   ],
   "source": [
    "## 파라미터 기록해서 사용하는 용도.\n",
    "#stop()\n",
    "mlp = MLPClassifier(hidden_layer_sizes = [35,100,57],\n",
    "                    activation='relu', \\\n",
    "                    solver='adam', alpha=0.01, batch_size=32, \\\n",
    "                    learning_rate_init=0.1, max_iter=500,random_state=42)  # 객체 생성\n",
    "\n",
    "mlp.fit(x_train_stat10_mlp_exp, np.ravel(y_train_stat10_mlp_exp))    # 훈련하기\n",
    "\n",
    "print(\"훈련 세트 정확도: {:.3f}\".format(mlp.score(x_train_stat10_mlp_exp, np.ravel(y_train_stat10_mlp_exp) ) ) )\n",
    "print(\"검증 세트 정확도: {:.3f}\".format(mlp.score(x_val_stat10_mlp_exp, np.ravel(y_val_stat10_mlp_exp) ) ) )\n",
    "print(\"테스트 세트 정확도: {:.3f}\".format(mlp.score(x_test_stat10_mlp, np.ravel(y_test) ) ) )\n",
    "predicted = mlp.predict(x_test_stat10_mlp)"
   ]
  },
  {
   "cell_type": "code",
   "execution_count": 84,
   "id": "1758fdbb",
   "metadata": {},
   "outputs": [
    {
     "data": {
      "image/png": "[encoded data removed]",
      "text/plain": [
       "<Figure size 1080x360 with 1 Axes>"
      ]
     },
     "metadata": {},
     "output_type": "display_data"
    }
   ],
   "source": [
    "#baseline - rf tree / roc curve\n",
    "from sklearn.metrics import roc_curve\n",
    "#레이블 1일때 예측 확률\n",
    "pred_positive_label=mlp.predict_proba(x_test_stat10_mlp)[:,1]\n",
    "fprs,tprs,thresholds = roc_curve(y_test,pred_positive_label)\n",
    "precisions,recalls,thresholds = roc_curve(y_test,pred_positive_label)\n",
    "\n",
    "\n",
    "plt.figure(figsize=(15,5))\n",
    "\n",
    "#diagonal\n",
    "plt.plot([0,1],[0,1],label='STR')\n",
    "\n",
    "#ROC\n",
    "\n",
    "plt.plot(fprs,tprs,label='ROC')\n",
    "plt.xlabel('FPR')\n",
    "plt.ylabel('TPR')\n",
    "plt.legend()\n",
    "plt.grid()\n",
    "plt.show()\n"
   ]
  },
  {
   "cell_type": "code",
   "execution_count": 85,
   "id": "eb5588d8",
   "metadata": {},
   "outputs": [],
   "source": [
    "auc = roc_auc_score(y_test,pred_positive_label)\n",
    "accuracy = accuracy_score(y_true=y_test,y_pred=predicted)\n",
    "recall = recall_score(y_true=y_test, y_pred=predicted, pos_label=1)\n",
    "specificity = recall_score(y_true=y_test, y_pred=predicted, pos_label=0)\n",
    "f1 = f1_score(y_true=y_test, y_pred=predicted)\n",
    "\n",
    "\n",
    "names.append('mlp_10')\n",
    "aucs.append(auc)\n",
    "accs.append(accuracy)\n",
    "recalls_list.append(recall)\n",
    "specificitys.append(specificity)\n",
    "f1s.append(f1)\n"
   ]
  },
  {
   "cell_type": "code",
   "execution_count": 86,
   "id": "1a93d22a",
   "metadata": {},
   "outputs": [],
   "source": [
    "test_mlp= pd.concat([pd.DataFrame(names),\n",
    "                     pd.DataFrame(aucs),\n",
    "                     pd.DataFrame(accs),\n",
    "                     pd.DataFrame(recalls_list),\n",
    "                     pd.DataFrame(specificitys),\n",
    "                     pd.DataFrame(f1s)\n",
    "                    ],axis=1)\n",
    "test_mlp.columns=['name','AUC','ACC','RECALL','SPECIFICITY','F1']"
   ]
  },
  {
   "cell_type": "code",
   "execution_count": 87,
   "id": "447ee6db",
   "metadata": {},
   "outputs": [
    {
     "data": {
      "text/html": [
       "<div>\n",
       "<style scoped>\n",
       "    .dataframe tbody tr th:only-of-type {\n",
       "        vertical-align: middle;\n",
       "    }\n",
       "\n",
       "    .dataframe tbody tr th {\n",
       "        vertical-align: top;\n",
       "    }\n",
       "\n",
       "    .dataframe thead th {\n",
       "        text-align: right;\n",
       "    }\n",
       "</style>\n",
       "<table border=\"1\" class=\"dataframe\">\n",
       "  <thead>\n",
       "    <tr style=\"text-align: right;\">\n",
       "      <th></th>\n",
       "      <th>name</th>\n",
       "      <th>AUC</th>\n",
       "      <th>ACC</th>\n",
       "      <th>RECALL</th>\n",
       "      <th>SPECIFICITY</th>\n",
       "      <th>F1</th>\n",
       "    </tr>\n",
       "  </thead>\n",
       "  <tbody>\n",
       "    <tr>\n",
       "      <th>0</th>\n",
       "      <td>mlp_10</td>\n",
       "      <td>0.752603</td>\n",
       "      <td>0.670213</td>\n",
       "      <td>0.617021</td>\n",
       "      <td>0.723404</td>\n",
       "      <td>0.651685</td>\n",
       "    </tr>\n",
       "  </tbody>\n",
       "</table>\n",
       "</div>"
      ],
      "text/plain": [
       "     name       AUC       ACC    RECALL  SPECIFICITY        F1\n",
       "0  mlp_10  0.752603  0.670213  0.617021     0.723404  0.651685"
      ]
     },
     "execution_count": 87,
     "metadata": {},
     "output_type": "execute_result"
    }
   ],
   "source": [
    "test_mlp"
   ]
  },
  {
   "cell_type": "markdown",
   "id": "a41544cc",
   "metadata": {},
   "source": [
    "#### recall threshold change"
   ]
  },
  {
   "cell_type": "code",
   "execution_count": 111,
   "id": "bd978f6a",
   "metadata": {},
   "outputs": [],
   "source": [
    "def plot_pr_curve(test_y, model_probs,clf_name):\n",
    "    # calculate the no skill line as the proportion of the positive class\n",
    "    no_skill = len(test_y[test_y==1]) / len(test_y)\n",
    "    # plot the no skill precision-recall curve\n",
    "    plt.plot([0, 1], [no_skill, no_skill], linestyle='--', label='No Skill')\n",
    "    # plot model precision-recall curve\n",
    "    precision, recall, _ = precision_recall_curve(test_y, model_probs)\n",
    "    plt.plot(recall, precision, marker='.', label=clf_name)\n",
    "    # axis labels\n",
    "    plt.xlabel('Recall')\n",
    "    plt.ylabel('Precision')\n",
    "    # show the legend\n",
    "    plt.legend()\n",
    "    # show the plot\n",
    "    plt.show()"
   ]
  },
  {
   "cell_type": "code",
   "execution_count": 120,
   "id": "f2e20adf",
   "metadata": {},
   "outputs": [
    {
     "name": "stdout",
     "output_type": "stream",
     "text": [
      "10\n",
      "Best Threshold=0.206022, F-Score=0.694\n"
     ]
    },
    {
     "name": "stderr",
     "output_type": "stream",
     "text": [
      "C:\\Users\\dlwhd\\miniconda3\\envs\\localtorch\\lib\\site-packages\\ipykernel_launcher.py:11: RuntimeWarning: invalid value encountered in true_divide\n",
      "  # This is added back by InteractiveShellApp.init_path()\n"
     ]
    },
    {
     "data": {
      "image/png": "[encoded data removed]",
      "text/plain": [
       "<Figure size 432x288 with 1 Axes>"
      ]
     },
     "metadata": {},
     "output_type": "display_data"
    }
   ],
   "source": [
    "\n",
    "# optimal threshold for precision-recall curve with logistic regression model\n",
    "from numpy import argmax\n",
    "from sklearn.metrics import precision_recall_curve\n",
    "# predict probabilities\n",
    "yhat = mlp.predict_proba(x_train_stat10_mlp)\n",
    "# keep probabilities for the positive outcome only\n",
    "yhat = yhat[:, 1]\n",
    "# calculate roc curves\n",
    "precision, recall, thresholds = precision_recall_curve(y_train, yhat)\n",
    "# convert to f score\n",
    "fscore = (2 * precision * recall) / (precision + recall)\n",
    "# locate the index of the largest f score\n",
    "print(np.where(recall > 0.9)[0][-1])\n",
    "ix = np.where(recall > 0.9)[0][-1]\n",
    "#ix = argmax(np.nan_to_num(recall))\n",
    "print('Best Threshold=%f, F-Score=%.3f' % (thresholds[ix], fscore[ix]))\n",
    "# plot the roc curve for the model\n",
    "plot_pr_curve(y_train, yhat,'MLP')\n"
   ]
  },
  {
   "cell_type": "code",
   "execution_count": 122,
   "id": "83ad3e5e",
   "metadata": {},
   "outputs": [],
   "source": [
    "\n",
    "# optimal threshold for precision-recall curve with logistic regression model\n",
    "from numpy import argmax\n",
    "from sklearn.metrics import precision_recall_curve\n",
    "# predict probabilities\n",
    "yhat = mlp.predict_proba(x_test_stat10_mlp)\n",
    "yhat = yhat[:, 1]\n",
    "# keep probabilities for the positive outcome only\n",
    "yhat[yhat>0.206022]=1\n",
    "yhat[yhat !=1] = 0\n"
   ]
  },
  {
   "cell_type": "code",
   "execution_count": 123,
   "id": "28595ec8",
   "metadata": {},
   "outputs": [
    {
     "data": {
      "text/html": [
       "<div>\n",
       "<style scoped>\n",
       "    .dataframe tbody tr th:only-of-type {\n",
       "        vertical-align: middle;\n",
       "    }\n",
       "\n",
       "    .dataframe tbody tr th {\n",
       "        vertical-align: top;\n",
       "    }\n",
       "\n",
       "    .dataframe thead th {\n",
       "        text-align: right;\n",
       "    }\n",
       "</style>\n",
       "<table border=\"1\" class=\"dataframe\">\n",
       "  <thead>\n",
       "    <tr style=\"text-align: right;\">\n",
       "      <th></th>\n",
       "      <th>0</th>\n",
       "    </tr>\n",
       "  </thead>\n",
       "  <tbody>\n",
       "    <tr>\n",
       "      <th>0</th>\n",
       "      <td>0.702128</td>\n",
       "    </tr>\n",
       "    <tr>\n",
       "      <th>1</th>\n",
       "      <td>0.744681</td>\n",
       "    </tr>\n",
       "    <tr>\n",
       "      <th>2</th>\n",
       "      <td>0.686275</td>\n",
       "    </tr>\n",
       "    <tr>\n",
       "      <th>3</th>\n",
       "      <td>0.659574</td>\n",
       "    </tr>\n",
       "    <tr>\n",
       "      <th>4</th>\n",
       "      <td>0.714286</td>\n",
       "    </tr>\n",
       "  </tbody>\n",
       "</table>\n",
       "</div>"
      ],
      "text/plain": [
       "          0\n",
       "0  0.702128\n",
       "1  0.744681\n",
       "2  0.686275\n",
       "3  0.659574\n",
       "4  0.714286"
      ]
     },
     "execution_count": 123,
     "metadata": {},
     "output_type": "execute_result"
    }
   ],
   "source": [
    "\n",
    "accuracy = [accuracy_score(y_true=y_test,y_pred=yhat),]\n",
    "recall = [recall_score(y_true=y_test, y_pred=yhat, pos_label=1),]\n",
    "precision = [precision_score(y_true=y_test, y_pred=yhat),]\n",
    "specificity = [recall_score(y_true=y_test, y_pred=yhat, pos_label=0),]\n",
    "f1 = [f1_score(y_true=y_test, y_pred=yhat),]\n",
    "pd.DataFrame([accuracy,recall,precision,specificity,f1])\n",
    "#print(accuracy, recall,precision,specificity, f1 )"
   ]
  },
  {
   "cell_type": "markdown",
   "id": "17c33cd7",
   "metadata": {},
   "source": [
    "### 15 변수"
   ]
  },
  {
   "cell_type": "code",
   "execution_count": 440,
   "id": "a875da13",
   "metadata": {},
   "outputs": [
    {
     "name": "stdout",
     "output_type": "stream",
     "text": [
      "train :299 / valid : 75 \n"
     ]
    }
   ],
   "source": [
    "# train,valid 나누기\n",
    "# exp : 학습 중이란 뜻\n",
    "x_train_stat15_mlp_exp, x_val_stat15_mlp_exp,\\\n",
    "y_train_stat15_mlp_exp, y_val_stat15_mlp_exp = train_test_split(x_train_stat15_mlp,y_train,stratify=y_train,\\\n",
    "                                                  test_size=0.2,random_state=42)  # 훈련 데이터와 검증 데이터 분류\n",
    "print(\"train :{} / valid : {} \".format(y_train_stat15_mlp_exp.shape[0],y_val_stat15_mlp_exp.shape[0] ))"
   ]
  },
  {
   "cell_type": "code",
   "execution_count": 441,
   "id": "3d325689",
   "metadata": {
    "scrolled": true
   },
   "outputs": [],
   "source": [
    "optuna.logging.set_verbosity(optuna.logging.WARNING)\n",
    "def objective(trial):\n",
    "    n_layers = trial.suggest_int('n_layers', 1, 4,log=False)\n",
    "    layers = []\n",
    "    for i in range(n_layers):\n",
    "        layers.append(trial.suggest_int(f'n_units_{i}', 20, 100,log=False))\n",
    "    clf = MLPClassifier(hidden_layer_sizes=tuple(layers),\n",
    "                                                activation='relu', \\\n",
    "                                                solver='adam', alpha=0.01, batch_size=32, \\\n",
    "                                                learning_rate_init=0.1, max_iter=500,random_state=42)\n",
    "    clf.fit(x_train_stat15_mlp_exp, np.ravel(y_train_stat15_mlp_exp))\n",
    "\n",
    "    return clf.score(x_val_stat15_mlp_exp, np.ravel(y_val_stat15_mlp_exp))\n",
    "\n",
    "study = optuna.create_study(direction='maximize')\n",
    "study.optimize(objective, n_trials=300)"
   ]
  },
  {
   "cell_type": "code",
   "execution_count": 442,
   "id": "61927e86",
   "metadata": {},
   "outputs": [
    {
     "name": "stdout",
     "output_type": "stream",
     "text": [
      "best params :  {'n_layers': 3, 'n_units_0': 48, 'n_units_1': 34, 'n_units_2': 51}\n",
      "훈련 세트 정확도: 0.779\n",
      "검증 세트 정확도: 0.773\n",
      "테스트 세트 정확도: 0.713\n"
     ]
    }
   ],
   "source": [
    "print(\"best params : \",study.best_params)\n",
    "mlp = MLPClassifier(hidden_layer_sizes = list(study.best_params.values())[1:],\n",
    "                    activation='relu', \\\n",
    "                    solver='adam', alpha=0.01, batch_size=32, \\\n",
    "                    learning_rate_init=0.1, max_iter=500,random_state=42)  # 객체 생성\n",
    "\n",
    "mlp.fit(x_train_stat15_mlp_exp, np.ravel(y_train_stat15_mlp_exp))    # 훈련하기\n",
    "\n",
    "print(\"훈련 세트 정확도: {:.3f}\".format(mlp.score(x_train_stat15_mlp_exp, np.ravel(y_train_stat15_mlp_exp) ) ) )\n",
    "print(\"검증 세트 정확도: {:.3f}\".format(mlp.score(x_val_stat15_mlp_exp, np.ravel(y_val_stat15_mlp_exp) ) ) )\n",
    "print(\"테스트 세트 정확도: {:.3f}\".format(mlp.score(x_test_stat15_mlp, np.ravel(y_test) ) ) )\n",
    "predicted = mlp.predict(x_test_stat15_mlp)"
   ]
  },
  {
   "cell_type": "code",
   "execution_count": 443,
   "id": "f958bb7d",
   "metadata": {},
   "outputs": [
    {
     "data": {
      "image/png": "[encoded data removed]",
      "text/plain": [
       "<Figure size 1080x360 with 1 Axes>"
      ]
     },
     "metadata": {},
     "output_type": "display_data"
    }
   ],
   "source": [
    "#baseline - rf tree / roc curve\n",
    "from sklearn.metrics import roc_curve\n",
    "#레이블 1일때 예측 확률\n",
    "pred_positive_label=mlp.predict_proba(x_test_stat15_mlp)[:,1]\n",
    "fprs,tprs,thresholds = roc_curve(y_test,pred_positive_label)\n",
    "precisions,recalls,thresholds = roc_curve(y_test,pred_positive_label)\n",
    "\n",
    "\n",
    "plt.figure(figsize=(15,5))\n",
    "\n",
    "#diagonal\n",
    "plt.plot([0,1],[0,1],label='STR')\n",
    "\n",
    "#ROC\n",
    "\n",
    "plt.plot(fprs,tprs,label='ROC')\n",
    "plt.xlabel('FPR')\n",
    "plt.ylabel('TPR')\n",
    "plt.legend()\n",
    "plt.grid()\n",
    "plt.show()\n"
   ]
  },
  {
   "cell_type": "code",
   "execution_count": 444,
   "id": "cc24e4bc",
   "metadata": {},
   "outputs": [],
   "source": [
    "auc = roc_auc_score(y_test,pred_positive_label)\n",
    "accuracy = accuracy_score(y_true=y_test,y_pred=predicted)\n",
    "recall = recall_score(y_true=y_test, y_pred=predicted, pos_label=1)\n",
    "specificity = recall_score(y_true=y_test, y_pred=predicted, pos_label=0)\n",
    "f1 = f1_score(y_true=y_test, y_pred=predicted)\n",
    "\n",
    "\n",
    "names.append('mlp_15')\n",
    "aucs.append(auc)\n",
    "accs.append(accuracy)\n",
    "recalls_list.append(recall)\n",
    "specificitys.append(specificity)\n",
    "f1s.append(f1)\n"
   ]
  },
  {
   "cell_type": "code",
   "execution_count": 445,
   "id": "3864c061",
   "metadata": {},
   "outputs": [],
   "source": [
    "test_mlp= pd.concat([pd.DataFrame(names),\n",
    "                     pd.DataFrame(aucs),\n",
    "                     pd.DataFrame(accs),\n",
    "                     pd.DataFrame(recalls_list),\n",
    "                     pd.DataFrame(specificitys),\n",
    "                     pd.DataFrame(f1s)\n",
    "                    ],axis=1)\n",
    "test_mlp.columns=['name','AUC','ACC','RECALL','SPECIFICITY','F1']"
   ]
  },
  {
   "cell_type": "code",
   "execution_count": 446,
   "id": "dafc592f",
   "metadata": {},
   "outputs": [
    {
     "data": {
      "text/html": [
       "<div>\n",
       "<style scoped>\n",
       "    .dataframe tbody tr th:only-of-type {\n",
       "        vertical-align: middle;\n",
       "    }\n",
       "\n",
       "    .dataframe tbody tr th {\n",
       "        vertical-align: top;\n",
       "    }\n",
       "\n",
       "    .dataframe thead th {\n",
       "        text-align: right;\n",
       "    }\n",
       "</style>\n",
       "<table border=\"1\" class=\"dataframe\">\n",
       "  <thead>\n",
       "    <tr style=\"text-align: right;\">\n",
       "      <th></th>\n",
       "      <th>name</th>\n",
       "      <th>AUC</th>\n",
       "      <th>ACC</th>\n",
       "      <th>RECALL</th>\n",
       "      <th>SPECIFICITY</th>\n",
       "      <th>F1</th>\n",
       "    </tr>\n",
       "  </thead>\n",
       "  <tbody>\n",
       "    <tr>\n",
       "      <th>1</th>\n",
       "      <td>mlp_10</td>\n",
       "      <td>0.752603</td>\n",
       "      <td>0.670213</td>\n",
       "      <td>0.617021</td>\n",
       "      <td>0.723404</td>\n",
       "      <td>0.651685</td>\n",
       "    </tr>\n",
       "    <tr>\n",
       "      <th>2</th>\n",
       "      <td>mlp_15</td>\n",
       "      <td>0.735401</td>\n",
       "      <td>0.712766</td>\n",
       "      <td>0.659574</td>\n",
       "      <td>0.765957</td>\n",
       "      <td>0.696629</td>\n",
       "    </tr>\n",
       "    <tr>\n",
       "      <th>0</th>\n",
       "      <td>mlp_17</td>\n",
       "      <td>0.746039</td>\n",
       "      <td>0.691489</td>\n",
       "      <td>0.659574</td>\n",
       "      <td>0.723404</td>\n",
       "      <td>0.681319</td>\n",
       "    </tr>\n",
       "  </tbody>\n",
       "</table>\n",
       "</div>"
      ],
      "text/plain": [
       "     name       AUC       ACC    RECALL  SPECIFICITY        F1\n",
       "1  mlp_10  0.752603  0.670213  0.617021     0.723404  0.651685\n",
       "2  mlp_15  0.735401  0.712766  0.659574     0.765957  0.696629\n",
       "0  mlp_17  0.746039  0.691489  0.659574     0.723404  0.681319"
      ]
     },
     "execution_count": 446,
     "metadata": {},
     "output_type": "execute_result"
    }
   ],
   "source": [
    "test_mlp.sort_values('name')"
   ]
  },
  {
   "cell_type": "markdown",
   "id": "08fb9486",
   "metadata": {},
   "source": [
    "## Ensemble"
   ]
  },
  {
   "cell_type": "code",
   "execution_count": 449,
   "id": "4f7aea9e",
   "metadata": {},
   "outputs": [
    {
     "data": {
      "text/html": [
       "<div>\n",
       "<style scoped>\n",
       "    .dataframe tbody tr th:only-of-type {\n",
       "        vertical-align: middle;\n",
       "    }\n",
       "\n",
       "    .dataframe tbody tr th {\n",
       "        vertical-align: top;\n",
       "    }\n",
       "\n",
       "    .dataframe thead th {\n",
       "        text-align: right;\n",
       "    }\n",
       "</style>\n",
       "<table border=\"1\" class=\"dataframe\">\n",
       "  <thead>\n",
       "    <tr style=\"text-align: right;\">\n",
       "      <th></th>\n",
       "      <th>name</th>\n",
       "      <th>AUC</th>\n",
       "      <th>ACC</th>\n",
       "      <th>RECALL</th>\n",
       "      <th>SPECIFICITY</th>\n",
       "      <th>F1</th>\n",
       "    </tr>\n",
       "  </thead>\n",
       "  <tbody>\n",
       "  </tbody>\n",
       "</table>\n",
       "</div>"
      ],
      "text/plain": [
       "Empty DataFrame\n",
       "Columns: [name, AUC, ACC, RECALL, SPECIFICITY, F1]\n",
       "Index: []"
      ]
     },
     "execution_count": 449,
     "metadata": {},
     "output_type": "execute_result"
    }
   ],
   "source": [
    "test_ensemble = pd.DataFrame(columns=['name','AUC','ACC','RECALL','SPECIFICITY','F1'])\n",
    "test_ensemble"
   ]
  },
  {
   "cell_type": "code",
   "execution_count": 450,
   "id": "d8da372c",
   "metadata": {},
   "outputs": [],
   "source": [
    "names=[]\n",
    "aucs=[]\n",
    "accs=[]\n",
    "recalls_list=[]\n",
    "specificitys=[]\n",
    "f1s=[]"
   ]
  },
  {
   "cell_type": "code",
   "execution_count": 451,
   "id": "470c5a94",
   "metadata": {},
   "outputs": [],
   "source": [
    "x_train_stat_ensemble = x_train.copy()\n",
    "x_test_stat_ensemble = x_test.copy()\n",
    "\n",
    "import statsmodels.api as sm\n",
    "\n",
    "numeric_cols=[]\n",
    "for idx,col in enumerate(x_train.columns):\n",
    "    col_type = x_train[col].dtype\n",
    "    if col_type.name !='category':\n",
    "        numeric_cols.append(col)\n",
    "\n",
    "scaler = StandardScaler()\n",
    "\n",
    "\n",
    "x_train_stat_ensemble[numeric_cols] = scaler.fit_transform(x_train_stat_ensemble[numeric_cols])\n",
    "x_test_stat_ensemble[numeric_cols] = scaler.transform(x_test_stat_ensemble[numeric_cols])\n",
    "\n",
    "\n"
   ]
  },
  {
   "cell_type": "code",
   "execution_count": 452,
   "id": "f072e1f6",
   "metadata": {},
   "outputs": [],
   "source": [
    "col_all = ['bed','Hsp-acq','3m-Ab','3m-Adm','1y-UTI','Hb',\n",
    "           'Foley','NR','iBT','sex','SaO2','Nursing','iDBP','pCO2',\n",
    "           'Plt','CV','PPIantacid']\n",
    "col10 = col_all[:10]\n",
    "col15 = col_all[:15]\n",
    "\n",
    "\n",
    "x_train_stat17_ensemble = x_train_stat_ensemble[col_all]\n",
    "x_test_stat17_ensemble = x_test_stat_ensemble[col_all]\n",
    "\n",
    "x_train_stat10_ensemble = x_train_stat_ensemble[col10]\n",
    "x_test_stat10_ensemble = x_test_stat_ensemble[col10]\n",
    "\n",
    "\n",
    "x_train_stat15_ensemble = x_train_stat_ensemble[col15]\n",
    "x_test_stat15_ensemble = x_test_stat_ensemble[col15]\n",
    "\n"
   ]
  },
  {
   "cell_type": "markdown",
   "id": "5bc146fb",
   "metadata": {},
   "source": [
    "### reduced(17)"
   ]
  },
  {
   "cell_type": "code",
   "execution_count": 453,
   "id": "cad5bf1d",
   "metadata": {},
   "outputs": [
    {
     "name": "stdout",
     "output_type": "stream",
     "text": [
      "VotingClassifier(estimators=[('gbc',\n",
      "                              GradientBoostingClassifier(learning_rate=0.02,\n",
      "                                                         n_estimators=20,\n",
      "                                                         random_state=42)),\n",
      "                             ('rfc',\n",
      "                              RandomForestClassifier(max_depth=3,\n",
      "                                                     random_state=42)),\n",
      "                             ('svc',\n",
      "                              SVC(C=0.1, probability=True, random_state=42)),\n",
      "                             ('lr', LogisticRegressionCV(random_state=42)),\n",
      "                             ('mlp',\n",
      "                              MLPClassifier(alpha=0.01, batch_size=32,\n",
      "                                            hidden_layer_sizes=(22, 91, 99),\n",
      "                                            learning_rate_init=0.1,\n",
      "                                            max_iter=500, random_state=42))],\n",
      "                 voting='soft')\n"
     ]
    }
   ],
   "source": [
    "# ensemble 할 model 정의\n",
    "models = [\n",
    "    ('gbc', GradientBoostingClassifier(learning_rate= 0.02,n_estimators=20,random_state=42 ) ),\n",
    "    ('rfc', RandomForestClassifier(n_estimators=100, max_depth= 3,random_state=42) ),\n",
    "    ('svc', svm.SVC(C=0.1,probability=True,random_state=42)),\n",
    "    ('lr', LogisticRegressionCV(random_state=42)),\n",
    "    ('mlp',MLPClassifier(hidden_layer_sizes=(22,91,99), activation='relu', \\\n",
    "                    solver='adam', alpha=0.01, batch_size=32, \\\n",
    "                    learning_rate_init=0.1, max_iter=500,random_state=42))\n",
    "]\n",
    "\n",
    "\n",
    "# soft vote\n",
    "soft_vote  = VotingClassifier(models, voting='soft')\n",
    "#soft_vote_cv = cross_validate(soft_vote, x_train_base_ensemble, np.ravel(y_train), cv=5)\n",
    "soft_vote.fit(x_train_stat17_ensemble, np.ravel(y_train))\n",
    "print(soft_vote)"
   ]
  },
  {
   "cell_type": "code",
   "execution_count": 454,
   "id": "fc299992",
   "metadata": {},
   "outputs": [
    {
     "data": {
      "image/png": "[encoded data removed]",
      "text/plain": [
       "<Figure size 1080x360 with 1 Axes>"
      ]
     },
     "metadata": {},
     "output_type": "display_data"
    }
   ],
   "source": [
    "predicted=soft_vote.predict(x_test_stat17_ensemble)\n",
    "\n",
    "#baseline - rf tree / roc curve\n",
    "from sklearn.metrics import roc_curve\n",
    "#레이블 1일때 예측 확률\n",
    "pred_positive_label = soft_vote.predict_proba(x_test_stat17_ensemble)[:,1]\n",
    "fprs,tprs,thresholds = roc_curve(y_test,pred_positive_label)\n",
    "precisions,recalls,thresholds = roc_curve(y_test,pred_positive_label)\n",
    "\n",
    "\n",
    "plt.figure(figsize=(15,5))\n",
    "\n",
    "#diagonal\n",
    "plt.plot([0,1],[0,1],label='STR')\n",
    "\n",
    "#ROC\n",
    "\n",
    "plt.plot(fprs,tprs,label='ROC')\n",
    "plt.xlabel('FPR')\n",
    "plt.ylabel('TPR')\n",
    "plt.legend()\n",
    "plt.grid()\n",
    "plt.show()\n",
    "\n"
   ]
  },
  {
   "cell_type": "code",
   "execution_count": 455,
   "id": "94b1b9bd",
   "metadata": {},
   "outputs": [],
   "source": [
    "auc = roc_auc_score(y_test,pred_positive_label)\n",
    "accuracy = accuracy_score(y_true=y_test,y_pred=predicted)\n",
    "recall = recall_score(y_true=y_test, y_pred=predicted, pos_label=1)\n",
    "specificity = recall_score(y_true=y_test, y_pred=predicted, pos_label=0)\n",
    "f1 = f1_score(y_true=y_test, y_pred=predicted)\n",
    "\n",
    "\n",
    "names.append('ensemble_17')\n",
    "aucs.append(auc)\n",
    "accs.append(accuracy)\n",
    "recalls_list.append(recall)\n",
    "specificitys.append(specificity)\n",
    "f1s.append(f1)\n"
   ]
  },
  {
   "cell_type": "code",
   "execution_count": 456,
   "id": "3185792e",
   "metadata": {},
   "outputs": [
    {
     "data": {
      "text/html": [
       "<div>\n",
       "<style scoped>\n",
       "    .dataframe tbody tr th:only-of-type {\n",
       "        vertical-align: middle;\n",
       "    }\n",
       "\n",
       "    .dataframe tbody tr th {\n",
       "        vertical-align: top;\n",
       "    }\n",
       "\n",
       "    .dataframe thead th {\n",
       "        text-align: right;\n",
       "    }\n",
       "</style>\n",
       "<table border=\"1\" class=\"dataframe\">\n",
       "  <thead>\n",
       "    <tr style=\"text-align: right;\">\n",
       "      <th></th>\n",
       "      <th>name</th>\n",
       "      <th>AUC</th>\n",
       "      <th>ACC</th>\n",
       "      <th>RECALL</th>\n",
       "      <th>SPECIFICITY</th>\n",
       "      <th>F1</th>\n",
       "    </tr>\n",
       "  </thead>\n",
       "  <tbody>\n",
       "    <tr>\n",
       "      <th>0</th>\n",
       "      <td>ensemble_17</td>\n",
       "      <td>0.786329</td>\n",
       "      <td>0.702128</td>\n",
       "      <td>0.638298</td>\n",
       "      <td>0.765957</td>\n",
       "      <td>0.681818</td>\n",
       "    </tr>\n",
       "  </tbody>\n",
       "</table>\n",
       "</div>"
      ],
      "text/plain": [
       "          name       AUC       ACC    RECALL  SPECIFICITY        F1\n",
       "0  ensemble_17  0.786329  0.702128  0.638298     0.765957  0.681818"
      ]
     },
     "execution_count": 456,
     "metadata": {},
     "output_type": "execute_result"
    }
   ],
   "source": [
    "test_ensemble= pd.concat([pd.DataFrame(names),\n",
    "                     pd.DataFrame(aucs),\n",
    "                     pd.DataFrame(accs),\n",
    "                     pd.DataFrame(recalls_list),\n",
    "                     pd.DataFrame(specificitys),\n",
    "                     pd.DataFrame(f1s)\n",
    "                    ],axis=1)\n",
    "test_ensemble.columns=['name','AUC','ACC','RECALL','SPECIFICITY','F1']\n",
    "test_ensemble"
   ]
  },
  {
   "cell_type": "markdown",
   "id": "af8b1628",
   "metadata": {},
   "source": [
    "### 10 변수"
   ]
  },
  {
   "cell_type": "code",
   "execution_count": 457,
   "id": "39d01a02",
   "metadata": {},
   "outputs": [
    {
     "name": "stdout",
     "output_type": "stream",
     "text": [
      "VotingClassifier(estimators=[('gbc',\n",
      "                              GradientBoostingClassifier(learning_rate=0.04,\n",
      "                                                         n_estimators=50,\n",
      "                                                         random_state=42)),\n",
      "                             ('rfc',\n",
      "                              RandomForestClassifier(max_depth=1,\n",
      "                                                     n_estimators=170,\n",
      "                                                     random_state=42)),\n",
      "                             ('svc',\n",
      "                              SVC(C=25, probability=True, random_state=42)),\n",
      "                             ('lr', LogisticRegressionCV(random_state=42)),\n",
      "                             ('mlp',\n",
      "                              MLPClassifier(alpha=0.01, batch_size=32,\n",
      "                                            hidden_layer_sizes=(35, 100, 57),\n",
      "                                            learning_rate_init=0.1,\n",
      "                                            max_iter=500, random_state=42))],\n",
      "                 voting='soft')\n"
     ]
    }
   ],
   "source": [
    "# ensemble 할 model 정의\n",
    "models = [\n",
    "    ('gbc', GradientBoostingClassifier(learning_rate= 0.04,n_estimators=50,random_state=42 ) ),\n",
    "    ('rfc', RandomForestClassifier(n_estimators=170, max_depth= 1,random_state=42) ),\n",
    "    ('svc', svm.SVC(C=25,probability=True,random_state=42)),\n",
    "    ('lr', LogisticRegressionCV(random_state=42)),\n",
    "    ('mlp',MLPClassifier(hidden_layer_sizes=(35,100,57), activation='relu', \\\n",
    "                    solver='adam', alpha=0.01, batch_size=32, \\\n",
    "                    learning_rate_init=0.1, max_iter=500,random_state=42))\n",
    "]\n",
    "\n",
    "\n",
    "# soft vote\n",
    "soft_vote  = VotingClassifier(models, voting='soft')\n",
    "#soft_vote_cv = cross_validate(soft_vote, x_train_base_ensemble, np.ravel(y_train), cv=5)\n",
    "soft_vote.fit(x_train_stat10_ensemble, np.ravel(y_train))\n",
    "print(soft_vote)"
   ]
  },
  {
   "cell_type": "code",
   "execution_count": 458,
   "id": "9896aab0",
   "metadata": {},
   "outputs": [
    {
     "data": {
      "image/png": "[encoded data removed]",
      "text/plain": [
       "<Figure size 1080x360 with 1 Axes>"
      ]
     },
     "metadata": {},
     "output_type": "display_data"
    }
   ],
   "source": [
    "predicted=soft_vote.predict(x_test_stat10_ensemble)\n",
    "\n",
    "#baseline - rf tree / roc curve\n",
    "from sklearn.metrics import roc_curve\n",
    "#레이블 1일때 예측 확률\n",
    "pred_positive_label = soft_vote.predict_proba(x_test_stat10_ensemble)[:,1]\n",
    "fprs,tprs,thresholds = roc_curve(y_test,pred_positive_label)\n",
    "precisions,recalls,thresholds = roc_curve(y_test,pred_positive_label)\n",
    "\n",
    "\n",
    "plt.figure(figsize=(15,5))\n",
    "\n",
    "#diagonal\n",
    "plt.plot([0,1],[0,1],label='STR')\n",
    "\n",
    "#ROC\n",
    "\n",
    "plt.plot(fprs,tprs,label='ROC')\n",
    "plt.xlabel('FPR')\n",
    "plt.ylabel('TPR')\n",
    "plt.legend()\n",
    "plt.grid()\n",
    "plt.show()\n",
    "\n"
   ]
  },
  {
   "cell_type": "code",
   "execution_count": 459,
   "id": "885546ff",
   "metadata": {},
   "outputs": [],
   "source": [
    "auc = roc_auc_score(y_test,pred_positive_label)\n",
    "accuracy = accuracy_score(y_true=y_test,y_pred=predicted)\n",
    "recall = recall_score(y_true=y_test, y_pred=predicted, pos_label=1)\n",
    "specificity = recall_score(y_true=y_test, y_pred=predicted, pos_label=0)\n",
    "f1 = f1_score(y_true=y_test, y_pred=predicted)\n",
    "\n",
    "\n",
    "names.append('ensemble_10')\n",
    "aucs.append(auc)\n",
    "accs.append(accuracy)\n",
    "recalls_list.append(recall)\n",
    "specificitys.append(specificity)\n",
    "f1s.append(f1)\n"
   ]
  },
  {
   "cell_type": "markdown",
   "id": "933d9b02",
   "metadata": {},
   "source": [
    "### 15 변수"
   ]
  },
  {
   "cell_type": "code",
   "execution_count": 460,
   "id": "1522fe8d",
   "metadata": {},
   "outputs": [
    {
     "name": "stdout",
     "output_type": "stream",
     "text": [
      "VotingClassifier(estimators=[('gbc',\n",
      "                              GradientBoostingClassifier(learning_rate=0.08,\n",
      "                                                         n_estimators=10,\n",
      "                                                         random_state=42)),\n",
      "                             ('rfc',\n",
      "                              RandomForestClassifier(max_depth=3,\n",
      "                                                     n_estimators=260,\n",
      "                                                     random_state=42)),\n",
      "                             ('svc',\n",
      "                              SVC(C=0.1, probability=True, random_state=42)),\n",
      "                             ('lr', LogisticRegressionCV(random_state=42)),\n",
      "                             ('mlp',\n",
      "                              MLPClassifier(alpha=0.01, batch_size=32,\n",
      "                                            hidden_layer_sizes=(48, 34, 51),\n",
      "                                            learning_rate_init=0.1,\n",
      "                                            max_iter=500, random_state=42))],\n",
      "                 voting='soft')\n"
     ]
    }
   ],
   "source": [
    "# ensemble 할 model 정의\n",
    "models = [\n",
    "    ('gbc', GradientBoostingClassifier(learning_rate= 0.08,n_estimators=10,random_state=42 ) ),\n",
    "    ('rfc', RandomForestClassifier(n_estimators=260, max_depth= 3,random_state=42) ),\n",
    "    ('svc', svm.SVC(C=0.1,probability=True,random_state=42)),\n",
    "    ('lr', LogisticRegressionCV(random_state=42)),\n",
    "    ('mlp',MLPClassifier(hidden_layer_sizes=(48,34,51), activation='relu', \\\n",
    "                    solver='adam', alpha=0.01, batch_size=32, \\\n",
    "                    learning_rate_init=0.1, max_iter=500,random_state=42))\n",
    "]\n",
    "\n",
    "\n",
    "# soft vote\n",
    "soft_vote  = VotingClassifier(models, voting='soft')\n",
    "#soft_vote_cv = cross_validate(soft_vote, x_train_base_ensemble, np.ravel(y_train), cv=5)\n",
    "soft_vote.fit(x_train_stat15_ensemble, np.ravel(y_train))\n",
    "print(soft_vote)"
   ]
  },
  {
   "cell_type": "code",
   "execution_count": 461,
   "id": "c4f30b3e",
   "metadata": {},
   "outputs": [
    {
     "data": {
      "image/png": "[encoded data removed]",
      "text/plain": [
       "<Figure size 1080x360 with 1 Axes>"
      ]
     },
     "metadata": {},
     "output_type": "display_data"
    }
   ],
   "source": [
    "predicted=soft_vote.predict(x_test_stat15_ensemble)\n",
    "\n",
    "#baseline - rf tree / roc curve\n",
    "from sklearn.metrics import roc_curve\n",
    "#레이블 1일때 예측 확률\n",
    "pred_positive_label = soft_vote.predict_proba(x_test_stat15_ensemble)[:,1]\n",
    "fprs,tprs,thresholds = roc_curve(y_test,pred_positive_label)\n",
    "precisions,recalls,thresholds = roc_curve(y_test,pred_positive_label)\n",
    "\n",
    "\n",
    "plt.figure(figsize=(15,5))\n",
    "\n",
    "#diagonal\n",
    "plt.plot([0,1],[0,1],label='STR')\n",
    "\n",
    "#ROC\n",
    "\n",
    "plt.plot(fprs,tprs,label='ROC')\n",
    "plt.xlabel('FPR')\n",
    "plt.ylabel('TPR')\n",
    "plt.legend()\n",
    "plt.grid()\n",
    "plt.show()\n",
    "\n"
   ]
  },
  {
   "cell_type": "code",
   "execution_count": 462,
   "id": "69ca4c49",
   "metadata": {},
   "outputs": [],
   "source": [
    "auc = roc_auc_score(y_test,pred_positive_label)\n",
    "accuracy = accuracy_score(y_true=y_test,y_pred=predicted)\n",
    "recall = recall_score(y_true=y_test, y_pred=predicted, pos_label=1)\n",
    "specificity = recall_score(y_true=y_test, y_pred=predicted, pos_label=0)\n",
    "f1 = f1_score(y_true=y_test, y_pred=predicted)\n",
    "\n",
    "\n",
    "names.append('ensemble_15')\n",
    "aucs.append(auc)\n",
    "accs.append(accuracy)\n",
    "recalls_list.append(recall)\n",
    "specificitys.append(specificity)\n",
    "f1s.append(f1)\n"
   ]
  },
  {
   "cell_type": "code",
   "execution_count": 463,
   "id": "b6eefdb2",
   "metadata": {},
   "outputs": [
    {
     "data": {
      "text/html": [
       "<div>\n",
       "<style scoped>\n",
       "    .dataframe tbody tr th:only-of-type {\n",
       "        vertical-align: middle;\n",
       "    }\n",
       "\n",
       "    .dataframe tbody tr th {\n",
       "        vertical-align: top;\n",
       "    }\n",
       "\n",
       "    .dataframe thead th {\n",
       "        text-align: right;\n",
       "    }\n",
       "</style>\n",
       "<table border=\"1\" class=\"dataframe\">\n",
       "  <thead>\n",
       "    <tr style=\"text-align: right;\">\n",
       "      <th></th>\n",
       "      <th>name</th>\n",
       "      <th>AUC</th>\n",
       "      <th>ACC</th>\n",
       "      <th>RECALL</th>\n",
       "      <th>SPECIFICITY</th>\n",
       "      <th>F1</th>\n",
       "    </tr>\n",
       "  </thead>\n",
       "  <tbody>\n",
       "    <tr>\n",
       "      <th>0</th>\n",
       "      <td>ensemble_17</td>\n",
       "      <td>0.786329</td>\n",
       "      <td>0.702128</td>\n",
       "      <td>0.638298</td>\n",
       "      <td>0.765957</td>\n",
       "      <td>0.681818</td>\n",
       "    </tr>\n",
       "    <tr>\n",
       "      <th>1</th>\n",
       "      <td>ensemble_10</td>\n",
       "      <td>0.749208</td>\n",
       "      <td>0.691489</td>\n",
       "      <td>0.617021</td>\n",
       "      <td>0.765957</td>\n",
       "      <td>0.666667</td>\n",
       "    </tr>\n",
       "    <tr>\n",
       "      <th>2</th>\n",
       "      <td>ensemble_15</td>\n",
       "      <td>0.770937</td>\n",
       "      <td>0.680851</td>\n",
       "      <td>0.595745</td>\n",
       "      <td>0.765957</td>\n",
       "      <td>0.651163</td>\n",
       "    </tr>\n",
       "  </tbody>\n",
       "</table>\n",
       "</div>"
      ],
      "text/plain": [
       "          name       AUC       ACC    RECALL  SPECIFICITY        F1\n",
       "0  ensemble_17  0.786329  0.702128  0.638298     0.765957  0.681818\n",
       "1  ensemble_10  0.749208  0.691489  0.617021     0.765957  0.666667\n",
       "2  ensemble_15  0.770937  0.680851  0.595745     0.765957  0.651163"
      ]
     },
     "execution_count": 463,
     "metadata": {},
     "output_type": "execute_result"
    }
   ],
   "source": [
    "test_ensemble= pd.concat([pd.DataFrame(names),\n",
    "                     pd.DataFrame(aucs),\n",
    "                     pd.DataFrame(accs),\n",
    "                     pd.DataFrame(recalls_list),\n",
    "                     pd.DataFrame(specificitys),\n",
    "                     pd.DataFrame(f1s)\n",
    "                    ],axis=1)\n",
    "test_ensemble.columns=['name','AUC','ACC','RECALL','SPECIFICITY','F1']\n",
    "test_ensemble"
   ]
  },
  {
   "cell_type": "code",
   "execution_count": 464,
   "id": "7a43586c",
   "metadata": {},
   "outputs": [
    {
     "data": {
      "text/html": [
       "<div>\n",
       "<style scoped>\n",
       "    .dataframe tbody tr th:only-of-type {\n",
       "        vertical-align: middle;\n",
       "    }\n",
       "\n",
       "    .dataframe tbody tr th {\n",
       "        vertical-align: top;\n",
       "    }\n",
       "\n",
       "    .dataframe thead th {\n",
       "        text-align: right;\n",
       "    }\n",
       "</style>\n",
       "<table border=\"1\" class=\"dataframe\">\n",
       "  <thead>\n",
       "    <tr style=\"text-align: right;\">\n",
       "      <th></th>\n",
       "      <th>name</th>\n",
       "      <th>AUC</th>\n",
       "      <th>ACC</th>\n",
       "      <th>RECALL</th>\n",
       "      <th>SPECIFICITY</th>\n",
       "      <th>F1</th>\n",
       "    </tr>\n",
       "  </thead>\n",
       "  <tbody>\n",
       "    <tr>\n",
       "      <th>1</th>\n",
       "      <td>ensemble_10</td>\n",
       "      <td>0.749208</td>\n",
       "      <td>0.691489</td>\n",
       "      <td>0.617021</td>\n",
       "      <td>0.765957</td>\n",
       "      <td>0.666667</td>\n",
       "    </tr>\n",
       "    <tr>\n",
       "      <th>2</th>\n",
       "      <td>ensemble_15</td>\n",
       "      <td>0.770937</td>\n",
       "      <td>0.680851</td>\n",
       "      <td>0.595745</td>\n",
       "      <td>0.765957</td>\n",
       "      <td>0.651163</td>\n",
       "    </tr>\n",
       "    <tr>\n",
       "      <th>0</th>\n",
       "      <td>ensemble_17</td>\n",
       "      <td>0.786329</td>\n",
       "      <td>0.702128</td>\n",
       "      <td>0.638298</td>\n",
       "      <td>0.765957</td>\n",
       "      <td>0.681818</td>\n",
       "    </tr>\n",
       "  </tbody>\n",
       "</table>\n",
       "</div>"
      ],
      "text/plain": [
       "          name       AUC       ACC    RECALL  SPECIFICITY        F1\n",
       "1  ensemble_10  0.749208  0.691489  0.617021     0.765957  0.666667\n",
       "2  ensemble_15  0.770937  0.680851  0.595745     0.765957  0.651163\n",
       "0  ensemble_17  0.786329  0.702128  0.638298     0.765957  0.681818"
      ]
     },
     "execution_count": 464,
     "metadata": {},
     "output_type": "execute_result"
    }
   ],
   "source": [
    "test_ensemble.sort_values('name')"
   ]
  },
  {
   "cell_type": "markdown",
   "id": "f4279e22",
   "metadata": {},
   "source": [
    "# 전체 결과"
   ]
  },
  {
   "cell_type": "code",
   "execution_count": 104,
   "id": "9b160f38",
   "metadata": {},
   "outputs": [
    {
     "data": {
      "text/html": [
       "<div>\n",
       "<style scoped>\n",
       "    .dataframe tbody tr th:only-of-type {\n",
       "        vertical-align: middle;\n",
       "    }\n",
       "\n",
       "    .dataframe tbody tr th {\n",
       "        vertical-align: top;\n",
       "    }\n",
       "\n",
       "    .dataframe thead th {\n",
       "        text-align: right;\n",
       "    }\n",
       "</style>\n",
       "<table border=\"1\" class=\"dataframe\">\n",
       "  <thead>\n",
       "    <tr style=\"text-align: right;\">\n",
       "      <th></th>\n",
       "      <th>name</th>\n",
       "      <th>AUC</th>\n",
       "      <th>ACC</th>\n",
       "      <th>RECALL</th>\n",
       "      <th>SPECIFICITY</th>\n",
       "      <th>F1</th>\n",
       "    </tr>\n",
       "  </thead>\n",
       "  <tbody>\n",
       "    <tr>\n",
       "      <th>1</th>\n",
       "      <td>logistic_10</td>\n",
       "      <td>0.724762</td>\n",
       "      <td>0.606383</td>\n",
       "      <td>0.702128</td>\n",
       "      <td>0.510638</td>\n",
       "      <td>0.640777</td>\n",
       "    </tr>\n",
       "    <tr>\n",
       "      <th>2</th>\n",
       "      <td>logistic_15</td>\n",
       "      <td>0.705297</td>\n",
       "      <td>0.638298</td>\n",
       "      <td>0.829787</td>\n",
       "      <td>0.446809</td>\n",
       "      <td>0.696429</td>\n",
       "    </tr>\n",
       "    <tr>\n",
       "      <th>0</th>\n",
       "      <td>logistic_17</td>\n",
       "      <td>0.689000</td>\n",
       "      <td>0.606383</td>\n",
       "      <td>0.744681</td>\n",
       "      <td>0.468085</td>\n",
       "      <td>0.654206</td>\n",
       "    </tr>\n",
       "  </tbody>\n",
       "</table>\n",
       "</div>"
      ],
      "text/plain": [
       "          name       AUC       ACC    RECALL  SPECIFICITY        F1\n",
       "1  logistic_10  0.724762  0.606383  0.702128     0.510638  0.640777\n",
       "2  logistic_15  0.705297  0.638298  0.829787     0.446809  0.696429\n",
       "0  logistic_17  0.689000  0.606383  0.744681     0.468085  0.654206"
      ]
     },
     "execution_count": 104,
     "metadata": {},
     "output_type": "execute_result"
    }
   ],
   "source": [
    "test_logistic.sort_values('name')"
   ]
  },
  {
   "cell_type": "code",
   "execution_count": 105,
   "id": "c622cf24",
   "metadata": {},
   "outputs": [
    {
     "data": {
      "text/html": [
       "<div>\n",
       "<style scoped>\n",
       "    .dataframe tbody tr th:only-of-type {\n",
       "        vertical-align: middle;\n",
       "    }\n",
       "\n",
       "    .dataframe tbody tr th {\n",
       "        vertical-align: top;\n",
       "    }\n",
       "\n",
       "    .dataframe thead th {\n",
       "        text-align: right;\n",
       "    }\n",
       "</style>\n",
       "<table border=\"1\" class=\"dataframe\">\n",
       "  <thead>\n",
       "    <tr style=\"text-align: right;\">\n",
       "      <th></th>\n",
       "      <th>name</th>\n",
       "      <th>AUC</th>\n",
       "      <th>ACC</th>\n",
       "      <th>RECALL</th>\n",
       "      <th>SPECIFICITY</th>\n",
       "      <th>F1</th>\n",
       "    </tr>\n",
       "  </thead>\n",
       "  <tbody>\n",
       "    <tr>\n",
       "      <th>1</th>\n",
       "      <td>svm_10</td>\n",
       "      <td>0.744681</td>\n",
       "      <td>0.744681</td>\n",
       "      <td>0.617021</td>\n",
       "      <td>0.872340</td>\n",
       "      <td>0.707317</td>\n",
       "    </tr>\n",
       "    <tr>\n",
       "      <th>2</th>\n",
       "      <td>svm_15</td>\n",
       "      <td>0.702128</td>\n",
       "      <td>0.702128</td>\n",
       "      <td>0.595745</td>\n",
       "      <td>0.808511</td>\n",
       "      <td>0.666667</td>\n",
       "    </tr>\n",
       "    <tr>\n",
       "      <th>0</th>\n",
       "      <td>svm_17</td>\n",
       "      <td>0.702128</td>\n",
       "      <td>0.702128</td>\n",
       "      <td>0.595745</td>\n",
       "      <td>0.808511</td>\n",
       "      <td>0.666667</td>\n",
       "    </tr>\n",
       "  </tbody>\n",
       "</table>\n",
       "</div>"
      ],
      "text/plain": [
       "     name       AUC       ACC    RECALL  SPECIFICITY        F1\n",
       "1  svm_10  0.744681  0.744681  0.617021     0.872340  0.707317\n",
       "2  svm_15  0.702128  0.702128  0.595745     0.808511  0.666667\n",
       "0  svm_17  0.702128  0.702128  0.595745     0.808511  0.666667"
      ]
     },
     "execution_count": 105,
     "metadata": {},
     "output_type": "execute_result"
    }
   ],
   "source": [
    "test_svm.sort_values('name')"
   ]
  },
  {
   "cell_type": "code",
   "execution_count": 106,
   "id": "b02c9234",
   "metadata": {},
   "outputs": [
    {
     "data": {
      "text/html": [
       "<div>\n",
       "<style scoped>\n",
       "    .dataframe tbody tr th:only-of-type {\n",
       "        vertical-align: middle;\n",
       "    }\n",
       "\n",
       "    .dataframe tbody tr th {\n",
       "        vertical-align: top;\n",
       "    }\n",
       "\n",
       "    .dataframe thead th {\n",
       "        text-align: right;\n",
       "    }\n",
       "</style>\n",
       "<table border=\"1\" class=\"dataframe\">\n",
       "  <thead>\n",
       "    <tr style=\"text-align: right;\">\n",
       "      <th></th>\n",
       "      <th>name</th>\n",
       "      <th>AUC</th>\n",
       "      <th>ACC</th>\n",
       "      <th>RECALL</th>\n",
       "      <th>SPECIFICITY</th>\n",
       "      <th>F1</th>\n",
       "    </tr>\n",
       "  </thead>\n",
       "  <tbody>\n",
       "    <tr>\n",
       "      <th>1</th>\n",
       "      <td>rf_10</td>\n",
       "      <td>0.670213</td>\n",
       "      <td>0.670213</td>\n",
       "      <td>0.553191</td>\n",
       "      <td>0.787234</td>\n",
       "      <td>0.626506</td>\n",
       "    </tr>\n",
       "    <tr>\n",
       "      <th>2</th>\n",
       "      <td>rf_15</td>\n",
       "      <td>0.659574</td>\n",
       "      <td>0.659574</td>\n",
       "      <td>0.595745</td>\n",
       "      <td>0.723404</td>\n",
       "      <td>0.636364</td>\n",
       "    </tr>\n",
       "    <tr>\n",
       "      <th>0</th>\n",
       "      <td>rf_17</td>\n",
       "      <td>0.680851</td>\n",
       "      <td>0.680851</td>\n",
       "      <td>0.617021</td>\n",
       "      <td>0.744681</td>\n",
       "      <td>0.659091</td>\n",
       "    </tr>\n",
       "  </tbody>\n",
       "</table>\n",
       "</div>"
      ],
      "text/plain": [
       "    name       AUC       ACC    RECALL  SPECIFICITY        F1\n",
       "1  rf_10  0.670213  0.670213  0.553191     0.787234  0.626506\n",
       "2  rf_15  0.659574  0.659574  0.595745     0.723404  0.636364\n",
       "0  rf_17  0.680851  0.680851  0.617021     0.744681  0.659091"
      ]
     },
     "execution_count": 106,
     "metadata": {},
     "output_type": "execute_result"
    }
   ],
   "source": [
    "test_rf.sort_values('name')"
   ]
  },
  {
   "cell_type": "code",
   "execution_count": 145,
   "id": "3774157c",
   "metadata": {},
   "outputs": [
    {
     "data": {
      "text/html": [
       "<div>\n",
       "<style scoped>\n",
       "    .dataframe tbody tr th:only-of-type {\n",
       "        vertical-align: middle;\n",
       "    }\n",
       "\n",
       "    .dataframe tbody tr th {\n",
       "        vertical-align: top;\n",
       "    }\n",
       "\n",
       "    .dataframe thead th {\n",
       "        text-align: right;\n",
       "    }\n",
       "</style>\n",
       "<table border=\"1\" class=\"dataframe\">\n",
       "  <thead>\n",
       "    <tr style=\"text-align: right;\">\n",
       "      <th></th>\n",
       "      <th>name</th>\n",
       "      <th>AUC</th>\n",
       "      <th>ACC</th>\n",
       "      <th>RECALL</th>\n",
       "      <th>SPECIFICITY</th>\n",
       "      <th>F1</th>\n",
       "    </tr>\n",
       "  </thead>\n",
       "  <tbody>\n",
       "    <tr>\n",
       "      <th>1</th>\n",
       "      <td>gbm_10</td>\n",
       "      <td>0.739022</td>\n",
       "      <td>0.702128</td>\n",
       "      <td>0.638298</td>\n",
       "      <td>0.765957</td>\n",
       "      <td>0.681818</td>\n",
       "    </tr>\n",
       "    <tr>\n",
       "      <th>2</th>\n",
       "      <td>gbm_15</td>\n",
       "      <td>0.753735</td>\n",
       "      <td>0.680851</td>\n",
       "      <td>0.595745</td>\n",
       "      <td>0.765957</td>\n",
       "      <td>0.651163</td>\n",
       "    </tr>\n",
       "    <tr>\n",
       "      <th>0</th>\n",
       "      <td>gbm_17</td>\n",
       "      <td>0.756677</td>\n",
       "      <td>0.712766</td>\n",
       "      <td>0.680851</td>\n",
       "      <td>0.744681</td>\n",
       "      <td>0.703297</td>\n",
       "    </tr>\n",
       "  </tbody>\n",
       "</table>\n",
       "</div>"
      ],
      "text/plain": [
       "     name       AUC       ACC    RECALL  SPECIFICITY        F1\n",
       "1  gbm_10  0.739022  0.702128  0.638298     0.765957  0.681818\n",
       "2  gbm_15  0.753735  0.680851  0.595745     0.765957  0.651163\n",
       "0  gbm_17  0.756677  0.712766  0.680851     0.744681  0.703297"
      ]
     },
     "execution_count": 145,
     "metadata": {},
     "output_type": "execute_result"
    }
   ],
   "source": [
    "test_gbm.sort_values('name')"
   ]
  },
  {
   "cell_type": "code",
   "execution_count": 465,
   "id": "b257af78",
   "metadata": {},
   "outputs": [
    {
     "data": {
      "text/html": [
       "<div>\n",
       "<style scoped>\n",
       "    .dataframe tbody tr th:only-of-type {\n",
       "        vertical-align: middle;\n",
       "    }\n",
       "\n",
       "    .dataframe tbody tr th {\n",
       "        vertical-align: top;\n",
       "    }\n",
       "\n",
       "    .dataframe thead th {\n",
       "        text-align: right;\n",
       "    }\n",
       "</style>\n",
       "<table border=\"1\" class=\"dataframe\">\n",
       "  <thead>\n",
       "    <tr style=\"text-align: right;\">\n",
       "      <th></th>\n",
       "      <th>name</th>\n",
       "      <th>AUC</th>\n",
       "      <th>ACC</th>\n",
       "      <th>RECALL</th>\n",
       "      <th>SPECIFICITY</th>\n",
       "      <th>F1</th>\n",
       "    </tr>\n",
       "  </thead>\n",
       "  <tbody>\n",
       "    <tr>\n",
       "      <th>1</th>\n",
       "      <td>mlp_10</td>\n",
       "      <td>0.752603</td>\n",
       "      <td>0.670213</td>\n",
       "      <td>0.617021</td>\n",
       "      <td>0.723404</td>\n",
       "      <td>0.651685</td>\n",
       "    </tr>\n",
       "    <tr>\n",
       "      <th>2</th>\n",
       "      <td>mlp_15</td>\n",
       "      <td>0.735401</td>\n",
       "      <td>0.712766</td>\n",
       "      <td>0.659574</td>\n",
       "      <td>0.765957</td>\n",
       "      <td>0.696629</td>\n",
       "    </tr>\n",
       "    <tr>\n",
       "      <th>0</th>\n",
       "      <td>mlp_17</td>\n",
       "      <td>0.746039</td>\n",
       "      <td>0.691489</td>\n",
       "      <td>0.659574</td>\n",
       "      <td>0.723404</td>\n",
       "      <td>0.681319</td>\n",
       "    </tr>\n",
       "  </tbody>\n",
       "</table>\n",
       "</div>"
      ],
      "text/plain": [
       "     name       AUC       ACC    RECALL  SPECIFICITY        F1\n",
       "1  mlp_10  0.752603  0.670213  0.617021     0.723404  0.651685\n",
       "2  mlp_15  0.735401  0.712766  0.659574     0.765957  0.696629\n",
       "0  mlp_17  0.746039  0.691489  0.659574     0.723404  0.681319"
      ]
     },
     "execution_count": 465,
     "metadata": {},
     "output_type": "execute_result"
    }
   ],
   "source": [
    "test_mlp.sort_values('name')"
   ]
  },
  {
   "cell_type": "code",
   "execution_count": 466,
   "id": "79a2cb82",
   "metadata": {},
   "outputs": [
    {
     "data": {
      "text/html": [
       "<div>\n",
       "<style scoped>\n",
       "    .dataframe tbody tr th:only-of-type {\n",
       "        vertical-align: middle;\n",
       "    }\n",
       "\n",
       "    .dataframe tbody tr th {\n",
       "        vertical-align: top;\n",
       "    }\n",
       "\n",
       "    .dataframe thead th {\n",
       "        text-align: right;\n",
       "    }\n",
       "</style>\n",
       "<table border=\"1\" class=\"dataframe\">\n",
       "  <thead>\n",
       "    <tr style=\"text-align: right;\">\n",
       "      <th></th>\n",
       "      <th>name</th>\n",
       "      <th>AUC</th>\n",
       "      <th>ACC</th>\n",
       "      <th>RECALL</th>\n",
       "      <th>SPECIFICITY</th>\n",
       "      <th>F1</th>\n",
       "    </tr>\n",
       "  </thead>\n",
       "  <tbody>\n",
       "    <tr>\n",
       "      <th>1</th>\n",
       "      <td>ensemble_10</td>\n",
       "      <td>0.749208</td>\n",
       "      <td>0.691489</td>\n",
       "      <td>0.617021</td>\n",
       "      <td>0.765957</td>\n",
       "      <td>0.666667</td>\n",
       "    </tr>\n",
       "    <tr>\n",
       "      <th>2</th>\n",
       "      <td>ensemble_15</td>\n",
       "      <td>0.770937</td>\n",
       "      <td>0.680851</td>\n",
       "      <td>0.595745</td>\n",
       "      <td>0.765957</td>\n",
       "      <td>0.651163</td>\n",
       "    </tr>\n",
       "    <tr>\n",
       "      <th>0</th>\n",
       "      <td>ensemble_17</td>\n",
       "      <td>0.786329</td>\n",
       "      <td>0.702128</td>\n",
       "      <td>0.638298</td>\n",
       "      <td>0.765957</td>\n",
       "      <td>0.681818</td>\n",
       "    </tr>\n",
       "  </tbody>\n",
       "</table>\n",
       "</div>"
      ],
      "text/plain": [
       "          name       AUC       ACC    RECALL  SPECIFICITY        F1\n",
       "1  ensemble_10  0.749208  0.691489  0.617021     0.765957  0.666667\n",
       "2  ensemble_15  0.770937  0.680851  0.595745     0.765957  0.651163\n",
       "0  ensemble_17  0.786329  0.702128  0.638298     0.765957  0.681818"
      ]
     },
     "execution_count": 466,
     "metadata": {},
     "output_type": "execute_result"
    }
   ],
   "source": [
    "test_ensemble.sort_values('name')"
   ]
  },
  {
   "cell_type": "code",
   "execution_count": null,
   "id": "4d45ab09",
   "metadata": {},
   "outputs": [],
   "source": [
    "stop...."
   ]
  },
  {
   "cell_type": "markdown",
   "id": "68f32f79",
   "metadata": {},
   "source": [
    "# metric"
   ]
  },
  {
   "cell_type": "code",
   "execution_count": null,
   "id": "1a7880e6",
   "metadata": {},
   "outputs": [],
   "source": [
    "def my_specificity(recall,acc):\n",
    "    d = recall*47\n",
    "    a = 94*acc-d\n",
    "    spec = a/47\n",
    "    return spec"
   ]
  },
  {
   "cell_type": "code",
   "execution_count": null,
   "id": "2943d055",
   "metadata": {},
   "outputs": [],
   "source": [
    "rf_recalls=[0.574,0.574,0.574,0.78,0.617,0.553,0.8,0.553,0.596,0.76,0.553,0.596]\n",
    "rf_accs=[0.6595,0.691,0.691,0.52,0.745,0.702,0.638,0.713,0.702,0.6489,0.713,0.7002]\n",
    "rf_specificty = []\n",
    "\n",
    "for i,recall in enumerate(rf_recalls):\n",
    "    rf_specificty.append(my_specificity(recall,rf_accs[i]))\n",
    "    print(my_specificity(recall,rf_accs[i]))"
   ]
  },
  {
   "cell_type": "code",
   "execution_count": null,
   "id": "a33d29a0",
   "metadata": {},
   "outputs": [],
   "source": [
    "stat_recalls=[0.574,0.574,0.574,0.7,0.617,0.553,0.83,0.59,0.596,0.74,0.596,0.617]\n",
    "stat_accs=[0.6595,0.691,0.691,0.606,0.745,0.67,0.638,0.702,0.66,0.606,0.702,0.681]\n",
    "stat_specificty=[]\n",
    "for i,recall in enumerate(stat_recalls):\n",
    "    stat_specificty.append(my_specificity(recall,stat_accs[i]))\n",
    "    print(my_specificity(recall,stat_accs[i]))"
   ]
  },
  {
   "cell_type": "code",
   "execution_count": null,
   "id": "4cc620d3",
   "metadata": {},
   "outputs": [],
   "source": [
    "rf_specificty"
   ]
  },
  {
   "cell_type": "code",
   "execution_count": null,
   "id": "86bfe681",
   "metadata": {},
   "outputs": [],
   "source": [
    "stat_specificty"
   ]
  },
  {
   "cell_type": "code",
   "execution_count": null,
   "id": "7ca92d50",
   "metadata": {},
   "outputs": [],
   "source": [
    "common_recalls=[0.766,0.553,0.596]\n",
    "common_accs=[0.627,0.713,0.702]\n",
    "\n",
    "for i,recall in enumerate(common_recalls):\n",
    "    print(my_specificity(recall,common_accs[i]))"
   ]
  },
  {
   "cell_type": "markdown",
   "id": "35b04dfe",
   "metadata": {},
   "source": [
    "# 머신러닝, 통계적 공통 변수"
   ]
  },
  {
   "cell_type": "code",
   "execution_count": null,
   "id": "b04c62da",
   "metadata": {},
   "outputs": [],
   "source": [
    "x_train"
   ]
  },
  {
   "cell_type": "code",
   "execution_count": null,
   "id": "b0568aa3",
   "metadata": {},
   "outputs": [],
   "source": [
    "x_test"
   ]
  },
  {
   "cell_type": "code",
   "execution_count": null,
   "id": "384811eb",
   "metadata": {},
   "outputs": [],
   "source": [
    "common_col = ['bed','Hsp-acq','3m-Ab','3m-Adm','1y-UTI','Hb','Foley','NR','sex','iDBP','pCO2','Plt','PPIantacid']\n",
    "x_train_common = x_train.copy()\n",
    "x_train_common = x_train_common[common_col]"
   ]
  },
  {
   "cell_type": "code",
   "execution_count": null,
   "id": "4aab5341",
   "metadata": {},
   "outputs": [],
   "source": [
    "x_test_common = x_test.copy()\n",
    "x_test_common = x_test_common[common_col]"
   ]
  },
  {
   "cell_type": "code",
   "execution_count": null,
   "id": "e0078e98",
   "metadata": {},
   "outputs": [],
   "source": [
    "x_train_common"
   ]
  },
  {
   "cell_type": "markdown",
   "id": "20356c3a",
   "metadata": {},
   "source": [
    "## random forest"
   ]
  },
  {
   "cell_type": "code",
   "execution_count": null,
   "id": "640f495f",
   "metadata": {},
   "outputs": [],
   "source": [
    "\n",
    "param_list = {\"n_estimators\": list(range(10, 500, 10)),\n",
    "              \"max_depth\": [1,2,3,4,5],}\n",
    "\n",
    "rf = RandomForestClassifier(random_state=1234,)\n",
    "\n",
    "rf_random_search = RandomizedSearchCV(\n",
    "        estimator=rf,\n",
    "        param_distributions = param_list,\n",
    "        n_iter = 50,\n",
    "        cv = 5,\n",
    "        scoring = 'accuracy',\n",
    "        n_jobs=4,)\n",
    "\n",
    "rf_random_search.fit(x_train_common, y_train['CIP'])\n"
   ]
  },
  {
   "cell_type": "code",
   "execution_count": null,
   "id": "d5796283",
   "metadata": {},
   "outputs": [],
   "source": [
    "print('best params : ' ,rf_random_search.best_params_)\n",
    "model_best=rf_random_search.best_estimator_"
   ]
  },
  {
   "cell_type": "code",
   "execution_count": null,
   "id": "ede09cfa",
   "metadata": {},
   "outputs": [],
   "source": [
    "model_best = RandomForestClassifier(n_estimators=160, max_depth=1,random_state=1234)\n",
    "model_best.fit(x_train_common, y_train['CIP'])"
   ]
  },
  {
   "cell_type": "code",
   "execution_count": null,
   "id": "e929f981",
   "metadata": {},
   "outputs": [],
   "source": [
    "from sklearn.metrics import accuracy_score\n",
    "\n",
    "predicted = model_best.predict(x_test_common)\n",
    "accuracy = accuracy_score(y_true=y_test,y_pred=predicted)\n",
    "recall = recall_score(y_true=y_test, y_pred=predicted, average=None)\n",
    "\n",
    "print(f'accuracy score: {accuracy:.3}')\n",
    "print(f'recall score: {recall[1]:.3}')\n"
   ]
  },
  {
   "cell_type": "code",
   "execution_count": null,
   "id": "b0b61b6c",
   "metadata": {},
   "outputs": [],
   "source": [
    "# roc curve\n",
    "from sklearn.metrics import roc_curve\n",
    "#레이블 1일때 예측 확률\n",
    "pred_positive_label=model_best.predict(x_test_common)\n",
    "fprs,tprs,thresholds = roc_curve(y_test,pred_positive_label)\n",
    "precisions,recalls,thresholds = roc_curve(y_test,pred_positive_label)\n",
    "\n",
    "\n",
    "plt.figure(figsize=(15,5))\n",
    "\n",
    "#diagonal\n",
    "plt.plot([0,1],[0,1],label='STR')\n",
    "\n",
    "#ROC\n",
    "\n",
    "plt.plot(fprs,tprs,label='ROC')\n",
    "plt.xlabel('FPR')\n",
    "plt.ylabel('TPR')\n",
    "plt.legend()\n",
    "plt.grid()\n",
    "plt.show()\n",
    "\n"
   ]
  },
  {
   "cell_type": "code",
   "execution_count": null,
   "id": "21759250",
   "metadata": {},
   "outputs": [],
   "source": [
    "# auc score\n",
    "\n",
    "from sklearn.metrics import roc_auc_score\n",
    "\n",
    "print('roc auc value {}'.format(roc_auc_score(y_test,pred_positive_label) ))\n",
    "\n"
   ]
  },
  {
   "cell_type": "markdown",
   "id": "f100de54",
   "metadata": {},
   "source": [
    "## svm"
   ]
  },
  {
   "cell_type": "code",
   "execution_count": null,
   "id": "7aae6dfd",
   "metadata": {},
   "outputs": [],
   "source": [
    "import sklearn.svm as svm\n",
    "import sklearn.metrics as mt\n",
    "from sklearn.model_selection import GridSearchCV\n",
    "# 테스트하고자 하는 파라미터 값들을 사전타입으로 정의\n",
    "\n",
    "svm_clf = svm.SVC(kernel = 'linear',random_state=1234)\n",
    "parameters = {'C': [0.001, 0.01, 0.1, 1, 10, 25, 50, 100]}\n",
    "\n",
    "grid_svm = GridSearchCV(svm_clf,param_grid = parameters, cv = 5)\n",
    "\n",
    "grid_svm.fit(x_train_common, y_train['CIP'])\n",
    "\n",
    "result = pd.DataFrame(grid_svm.cv_results_['params'])\n",
    "result['mean_test_score'] = grid_svm.cv_results_['mean_test_score']\n",
    "result.sort_values(by='mean_test_score', ascending=False)\n"
   ]
  },
  {
   "cell_type": "code",
   "execution_count": null,
   "id": "d68fab10",
   "metadata": {},
   "outputs": [],
   "source": [
    "\n",
    "print('best params : ' ,grid_svm.best_params_)\n",
    "model_best_svm = grid_svm.best_estimator_"
   ]
  },
  {
   "cell_type": "code",
   "execution_count": null,
   "id": "39418400",
   "metadata": {},
   "outputs": [],
   "source": [
    "model_best_svm = svm.SVC(C=0.1,kernel = 'linear',random_state=1234,probability=True)\n",
    "model_best_svm.fit(x_train_common, y_train['CIP'])"
   ]
  },
  {
   "cell_type": "code",
   "execution_count": null,
   "id": "14d3f7fa",
   "metadata": {},
   "outputs": [],
   "source": [
    "from sklearn.metrics import accuracy_score\n",
    "\n",
    "predicted = model_best_svm.predict(x_test_common)\n",
    "accuracy = accuracy_score(y_true=y_test,y_pred=predicted)\n",
    "recall = recall_score(y_true=y_test, y_pred=predicted, average=None)\n",
    "\n",
    "print(f'accuracy score: {accuracy:.3}')\n",
    "print(f'recall score: {recall[1]:.3}')"
   ]
  },
  {
   "cell_type": "code",
   "execution_count": null,
   "id": "7287948e",
   "metadata": {},
   "outputs": [],
   "source": [
    "# roc curve\n",
    "from sklearn.metrics import roc_curve\n",
    "#레이블 1일때 예측 확률\n",
    "pred_positive_label=model_best_svm.predict(x_test_common)\n",
    "fprs,tprs,thresholds = roc_curve(y_test,pred_positive_label)\n",
    "precisions,recalls,thresholds = roc_curve(y_test,pred_positive_label)\n",
    "\n",
    "\n",
    "plt.figure(figsize=(15,5))\n",
    "\n",
    "#diagonal\n",
    "plt.plot([0,1],[0,1],label='STR')\n",
    "\n",
    "#ROC\n",
    "\n",
    "plt.plot(fprs,tprs,label='ROC')\n",
    "plt.xlabel('FPR')\n",
    "plt.ylabel('TPR')\n",
    "plt.legend()\n",
    "plt.grid()\n",
    "plt.show()\n",
    "\n"
   ]
  },
  {
   "cell_type": "code",
   "execution_count": null,
   "id": "c27f3330",
   "metadata": {},
   "outputs": [],
   "source": [
    "# auc score\n",
    "\n",
    "from sklearn.metrics import roc_auc_score\n",
    "\n",
    "print('roc auc value {}'.format(roc_auc_score(y_test,pred_positive_label) ))\n",
    "\n"
   ]
  },
  {
   "cell_type": "markdown",
   "id": "6ff338d3",
   "metadata": {},
   "source": [
    "## logistic regression"
   ]
  },
  {
   "cell_type": "code",
   "execution_count": null,
   "id": "a315bcf3",
   "metadata": {},
   "outputs": [],
   "source": [
    "#표준화\n",
    "\n",
    "common_numeric_cols = ['Hb','iDBP','pCO2','Plt']\n",
    "\n",
    "scaler = StandardScaler()\n",
    "\n",
    "x_train_common_logistic = x_train_common.copy()\n",
    "x_test_common_logistic = x_test_common.copy()\n",
    "\n",
    "\n",
    "x_train_common_logistic[common_numeric_cols] = scaler.fit_transform(x_train_common_logistic[common_numeric_cols])\n",
    "x_test_common_logistic[common_numeric_cols] = scaler.transform(x_test_common_logistic[common_numeric_cols])\n",
    "\n",
    "\n"
   ]
  },
  {
   "cell_type": "code",
   "execution_count": null,
   "id": "b97919bb",
   "metadata": {},
   "outputs": [],
   "source": [
    "\n",
    "\n",
    "logit_mod = sm.Logit(y_train['CIP'], x_train_common_logistic)\n",
    "results = logit_mod.fit()\n",
    "\n",
    "#model_logistic = LogisticRegression( )\n",
    "#model_logistic.fit( x_train_base_logistic, y_train['CIP'] )\n",
    "#model_logistic.predict( x_test_base_logistic )\n",
    "\n",
    "predicted = results.predict(x_test_common_logistic)\n",
    "predicted1 = predicted \n",
    "print(predicted)\n",
    "predicted = (predicted>0.5).astype(int)\n",
    "\n",
    "\n",
    "print('common feature accuracy : ' ,accuracy_score(y_pred = predicted, y_true = y_test['CIP']))\n",
    "print('common feature recall : ' ,recall_score(y_pred = predicted, y_true = y_test['CIP'],average=None)[1] )\n"
   ]
  },
  {
   "cell_type": "code",
   "execution_count": null,
   "id": "e160eec3",
   "metadata": {},
   "outputs": [],
   "source": [
    "print(results.summary())"
   ]
  },
  {
   "cell_type": "code",
   "execution_count": null,
   "id": "b60b27ca",
   "metadata": {},
   "outputs": [],
   "source": [
    "print(classification_report(y_true=y_test['CIP'],y_pred=predicted) )"
   ]
  },
  {
   "cell_type": "code",
   "execution_count": null,
   "id": "95dcbfa8",
   "metadata": {},
   "outputs": [],
   "source": [
    "from sklearn.metrics import roc_curve\n",
    "#레이블 1일때 예측 확률\n",
    "pred_positive_label=results.predict(x_test_common_logistic)\n",
    "fprs,tprs,thresholds = roc_curve(y_test,pred_positive_label)\n",
    "precisions,recalls,thresholds = roc_curve(y_test,pred_positive_label)\n",
    "\n",
    "\n",
    "plt.figure(figsize=(15,5))\n",
    "\n",
    "#diagonal\n",
    "plt.plot([0,1],[0,1],label='STR')\n",
    "\n",
    "#ROC\n",
    "\n",
    "plt.plot(fprs,tprs,label='ROC')\n",
    "plt.xlabel('FPR')\n",
    "plt.ylabel('TPR')\n",
    "plt.legend()\n",
    "plt.grid()\n",
    "plt.show()\n"
   ]
  },
  {
   "cell_type": "code",
   "execution_count": null,
   "id": "8ebc45af",
   "metadata": {},
   "outputs": [],
   "source": [
    "    #baseline - rf tree / auc score\n",
    "from sklearn.metrics import roc_auc_score\n",
    "\n",
    "print('roc auc value {}'.format(roc_auc_score(y_test,pred_positive_label) ))"
   ]
  }
 ],
 "metadata": {
  "kernelspec": {
   "display_name": "Python 3 (ipykernel)",
   "language": "python",
   "name": "python3"
  },
  "language_info": {
   "codemirror_mode": {
    "name": "ipython",
    "version": 3
   },
   "file_extension": ".py",
   "mimetype": "text/x-python",
   "name": "python",
   "nbconvert_exporter": "python",
   "pygments_lexer": "ipython3",
   "version": "3.7.10"
  },
  "toc": {
   "base_numbering": 1,
   "nav_menu": {},
   "number_sections": true,
   "sideBar": true,
   "skip_h1_title": false,
   "title_cell": "Table of Contents",
   "title_sidebar": "Contents",
   "toc_cell": false,
   "toc_position": {
    "height": "calc(100% - 180px)",
    "left": "10px",
    "top": "150px",
    "width": "379.375px"
   },
   "toc_section_display": true,
   "toc_window_display": true
  }
 },
 "nbformat": 4,
 "nbformat_minor": 5
}
