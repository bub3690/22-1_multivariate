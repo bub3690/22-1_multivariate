{
 "cells": [
  {
   "cell_type": "markdown",
   "id": "2340a110",
   "metadata": {},
   "source": [
    "# 다변량 통계 과제1\n",
    "\n",
    "- 컴퓨터공학과 12171676 이종법\n",
    "- 언어: python / 문제풀이는 손으로 풀고 pdf 합치기했습니다.\n",
    "\n",
    "---"
   ]
  },
  {
   "cell_type": "code",
   "execution_count": 1,
   "id": "c0014f6d",
   "metadata": {},
   "outputs": [],
   "source": [
    "import matplotlib.pyplot as plt\n",
    "import numpy as np\n",
    "import pandas as pd\n",
    "import os\n",
    "from glob import glob\n",
    "import sys"
   ]
  },
  {
   "cell_type": "code",
   "execution_count": 2,
   "id": "e05d4921",
   "metadata": {},
   "outputs": [],
   "source": [
    "#시각화 패키지들\n",
    "import seaborn as sns\n",
    "import matplotlib.pyplot as plt\n",
    "%matplotlib inline\n",
    "\n",
    "plt.style.use(\"ggplot\")"
   ]
  },
  {
   "cell_type": "markdown",
   "id": "1e81df1e",
   "metadata": {},
   "source": [
    "# 문제 1."
   ]
  },
  {
   "cell_type": "markdown",
   "id": "6d3fa4f7",
   "metadata": {},
   "source": [
    "- (1) scatter plot 및 해석\n",
    "- (2) x_bar, 공분산 행렬, 상관계수 행렬"
   ]
  },
  {
   "cell_type": "code",
   "execution_count": 3,
   "id": "48893da9",
   "metadata": {},
   "outputs": [
    {
     "data": {
      "text/html": [
       "<div>\n",
       "<style scoped>\n",
       "    .dataframe tbody tr th:only-of-type {\n",
       "        vertical-align: middle;\n",
       "    }\n",
       "\n",
       "    .dataframe tbody tr th {\n",
       "        vertical-align: top;\n",
       "    }\n",
       "\n",
       "    .dataframe thead th {\n",
       "        text-align: right;\n",
       "    }\n",
       "</style>\n",
       "<table border=\"1\" class=\"dataframe\">\n",
       "  <thead>\n",
       "    <tr style=\"text-align: right;\">\n",
       "      <th></th>\n",
       "      <th>x1</th>\n",
       "      <th>x2</th>\n",
       "      <th>x3</th>\n",
       "    </tr>\n",
       "  </thead>\n",
       "  <tbody>\n",
       "    <tr>\n",
       "      <th>0</th>\n",
       "      <td>108.28</td>\n",
       "      <td>17.05</td>\n",
       "      <td>1484.10</td>\n",
       "    </tr>\n",
       "    <tr>\n",
       "      <th>1</th>\n",
       "      <td>152.36</td>\n",
       "      <td>16.59</td>\n",
       "      <td>750.33</td>\n",
       "    </tr>\n",
       "    <tr>\n",
       "      <th>2</th>\n",
       "      <td>95.04</td>\n",
       "      <td>10.91</td>\n",
       "      <td>766.42</td>\n",
       "    </tr>\n",
       "    <tr>\n",
       "      <th>3</th>\n",
       "      <td>65.45</td>\n",
       "      <td>14.14</td>\n",
       "      <td>1110.46</td>\n",
       "    </tr>\n",
       "    <tr>\n",
       "      <th>4</th>\n",
       "      <td>62.97</td>\n",
       "      <td>9.52</td>\n",
       "      <td>1031.29</td>\n",
       "    </tr>\n",
       "    <tr>\n",
       "      <th>5</th>\n",
       "      <td>263.99</td>\n",
       "      <td>25.33</td>\n",
       "      <td>195.26</td>\n",
       "    </tr>\n",
       "    <tr>\n",
       "      <th>6</th>\n",
       "      <td>265.19</td>\n",
       "      <td>18.54</td>\n",
       "      <td>193.83</td>\n",
       "    </tr>\n",
       "    <tr>\n",
       "      <th>7</th>\n",
       "      <td>285.06</td>\n",
       "      <td>15.73</td>\n",
       "      <td>191.11</td>\n",
       "    </tr>\n",
       "    <tr>\n",
       "      <th>8</th>\n",
       "      <td>92.01</td>\n",
       "      <td>8.10</td>\n",
       "      <td>1175.16</td>\n",
       "    </tr>\n",
       "    <tr>\n",
       "      <th>9</th>\n",
       "      <td>165.68</td>\n",
       "      <td>11.13</td>\n",
       "      <td>211.15</td>\n",
       "    </tr>\n",
       "  </tbody>\n",
       "</table>\n",
       "</div>"
      ],
      "text/plain": [
       "       x1     x2       x3\n",
       "0  108.28  17.05  1484.10\n",
       "1  152.36  16.59   750.33\n",
       "2   95.04  10.91   766.42\n",
       "3   65.45  14.14  1110.46\n",
       "4   62.97   9.52  1031.29\n",
       "5  263.99  25.33   195.26\n",
       "6  265.19  18.54   193.83\n",
       "7  285.06  15.73   191.11\n",
       "8   92.01   8.10  1175.16\n",
       "9  165.68  11.13   211.15"
      ]
     },
     "execution_count": 3,
     "metadata": {},
     "output_type": "execute_result"
    }
   ],
   "source": [
    "# 파일 불러오기\n",
    "X = pd.DataFrame( np.loadtxt('../data/P1-4.DAT', unpack = True).T,columns=['x1','x2','x3'] )\n",
    "X"
   ]
  },
  {
   "cell_type": "code",
   "execution_count": 4,
   "id": "b31140c4",
   "metadata": {},
   "outputs": [
    {
     "data": {
      "image/png": "[encoded data removed]",
      "text/plain": [
       "<Figure size 720x360 with 2 Axes>"
      ]
     },
     "metadata": {},
     "output_type": "display_data"
    }
   ],
   "source": [
    "\n",
    "plt.figure(figsize=(10,5))\n",
    "\n",
    "\n",
    "plt.subplot(1,2,1)\n",
    "\n",
    "plt.scatter(X['x1'],X['x2'])\n",
    "plt.xlabel(\"x1\")\n",
    "plt.ylabel(\"x2\")\n",
    "\n",
    "\n",
    "plt.subplot(1,2,2)\n",
    "\n",
    "plt.scatter(X['x1'],X['x3'])\n",
    "plt.xlabel(\"x1\")\n",
    "plt.ylabel(\"x3\")\n",
    "plt.show()\n"
   ]
  },
  {
   "cell_type": "markdown",
   "id": "93448178",
   "metadata": {},
   "source": [
    "x1 과 x2는 양의 상관관계를 가지고, x1과 x3는 음의 상관관계를 가진다."
   ]
  },
  {
   "cell_type": "code",
   "execution_count": 5,
   "id": "f8995fff",
   "metadata": {},
   "outputs": [
    {
     "name": "stdout",
     "output_type": "stream",
     "text": [
      "x_bar :  [155.603  14.704 710.911]\n"
     ]
    }
   ],
   "source": [
    "print(\"x_bar : \",np.array(X).mean(axis=0) )"
   ]
  },
  {
   "cell_type": "code",
   "execution_count": 6,
   "id": "1e8c568d",
   "metadata": {},
   "outputs": [
    {
     "name": "stdout",
     "output_type": "stream",
     "text": [
      "S_n(공분산 행렬) : \n",
      "              x1           x2             x3\n",
      "x1   7476.453246   303.618620  -35575.959570\n",
      "x2    303.618620    26.190316   -1053.827393\n",
      "x3 -35575.959570 -1053.827393  237054.269832\n"
     ]
    }
   ],
   "source": [
    "print(\"S_n(공분산 행렬) : \")\n",
    "print(X.cov())"
   ]
  },
  {
   "cell_type": "code",
   "execution_count": 7,
   "id": "db6d41d7",
   "metadata": {},
   "outputs": [
    {
     "name": "stdout",
     "output_type": "stream",
     "text": [
      "Sample Correlation R : \n",
      "          x1        x2        x3\n",
      "x1  1.000000  0.686136 -0.845055\n",
      "x2  0.686136  1.000000 -0.422937\n",
      "x3 -0.845055 -0.422937  1.000000\n"
     ]
    }
   ],
   "source": [
    "print(\"Sample Correlation R : \")\n",
    "print(X.corr())"
   ]
  },
  {
   "cell_type": "markdown",
   "id": "8692869f",
   "metadata": {},
   "source": [
    "# 문제 2\n",
    "\n",
    "- (1) Pairwise Scatter Plot\n",
    "- (2) x_bar, 공분산 행렬, 상관계수 행렬"
   ]
  },
  {
   "cell_type": "code",
   "execution_count": 8,
   "id": "2b7d6003",
   "metadata": {
    "scrolled": false
   },
   "outputs": [
    {
     "data": {
      "text/html": [
       "<div>\n",
       "<style scoped>\n",
       "    .dataframe tbody tr th:only-of-type {\n",
       "        vertical-align: middle;\n",
       "    }\n",
       "\n",
       "    .dataframe tbody tr th {\n",
       "        vertical-align: top;\n",
       "    }\n",
       "\n",
       "    .dataframe thead th {\n",
       "        text-align: right;\n",
       "    }\n",
       "</style>\n",
       "<table border=\"1\" class=\"dataframe\">\n",
       "  <thead>\n",
       "    <tr style=\"text-align: right;\">\n",
       "      <th></th>\n",
       "      <th>D.radius</th>\n",
       "      <th>Radius</th>\n",
       "      <th>D.humerus</th>\n",
       "      <th>Humerus</th>\n",
       "      <th>D.ulna</th>\n",
       "      <th>Ulna</th>\n",
       "    </tr>\n",
       "  </thead>\n",
       "  <tbody>\n",
       "    <tr>\n",
       "      <th>0</th>\n",
       "      <td>1.103</td>\n",
       "      <td>1.052</td>\n",
       "      <td>2.139</td>\n",
       "      <td>2.238</td>\n",
       "      <td>0.873</td>\n",
       "      <td>0.872</td>\n",
       "    </tr>\n",
       "    <tr>\n",
       "      <th>1</th>\n",
       "      <td>0.842</td>\n",
       "      <td>0.859</td>\n",
       "      <td>1.873</td>\n",
       "      <td>1.741</td>\n",
       "      <td>0.590</td>\n",
       "      <td>0.744</td>\n",
       "    </tr>\n",
       "    <tr>\n",
       "      <th>2</th>\n",
       "      <td>0.925</td>\n",
       "      <td>0.873</td>\n",
       "      <td>1.887</td>\n",
       "      <td>1.809</td>\n",
       "      <td>0.767</td>\n",
       "      <td>0.713</td>\n",
       "    </tr>\n",
       "    <tr>\n",
       "      <th>3</th>\n",
       "      <td>0.857</td>\n",
       "      <td>0.744</td>\n",
       "      <td>1.739</td>\n",
       "      <td>1.547</td>\n",
       "      <td>0.706</td>\n",
       "      <td>0.674</td>\n",
       "    </tr>\n",
       "    <tr>\n",
       "      <th>4</th>\n",
       "      <td>0.795</td>\n",
       "      <td>0.809</td>\n",
       "      <td>1.734</td>\n",
       "      <td>1.715</td>\n",
       "      <td>0.549</td>\n",
       "      <td>0.654</td>\n",
       "    </tr>\n",
       "    <tr>\n",
       "      <th>5</th>\n",
       "      <td>0.787</td>\n",
       "      <td>0.779</td>\n",
       "      <td>1.509</td>\n",
       "      <td>1.474</td>\n",
       "      <td>0.782</td>\n",
       "      <td>0.571</td>\n",
       "    </tr>\n",
       "    <tr>\n",
       "      <th>6</th>\n",
       "      <td>0.933</td>\n",
       "      <td>0.880</td>\n",
       "      <td>1.695</td>\n",
       "      <td>1.656</td>\n",
       "      <td>0.737</td>\n",
       "      <td>0.803</td>\n",
       "    </tr>\n",
       "    <tr>\n",
       "      <th>7</th>\n",
       "      <td>0.799</td>\n",
       "      <td>0.851</td>\n",
       "      <td>1.740</td>\n",
       "      <td>1.777</td>\n",
       "      <td>0.618</td>\n",
       "      <td>0.682</td>\n",
       "    </tr>\n",
       "    <tr>\n",
       "      <th>8</th>\n",
       "      <td>0.945</td>\n",
       "      <td>0.876</td>\n",
       "      <td>1.811</td>\n",
       "      <td>1.759</td>\n",
       "      <td>0.853</td>\n",
       "      <td>0.777</td>\n",
       "    </tr>\n",
       "    <tr>\n",
       "      <th>9</th>\n",
       "      <td>0.921</td>\n",
       "      <td>0.906</td>\n",
       "      <td>1.954</td>\n",
       "      <td>2.009</td>\n",
       "      <td>0.823</td>\n",
       "      <td>0.765</td>\n",
       "    </tr>\n",
       "    <tr>\n",
       "      <th>10</th>\n",
       "      <td>0.792</td>\n",
       "      <td>0.825</td>\n",
       "      <td>1.624</td>\n",
       "      <td>1.657</td>\n",
       "      <td>0.686</td>\n",
       "      <td>0.668</td>\n",
       "    </tr>\n",
       "    <tr>\n",
       "      <th>11</th>\n",
       "      <td>0.815</td>\n",
       "      <td>0.751</td>\n",
       "      <td>2.204</td>\n",
       "      <td>1.846</td>\n",
       "      <td>0.678</td>\n",
       "      <td>0.546</td>\n",
       "    </tr>\n",
       "    <tr>\n",
       "      <th>12</th>\n",
       "      <td>0.755</td>\n",
       "      <td>0.724</td>\n",
       "      <td>1.508</td>\n",
       "      <td>1.458</td>\n",
       "      <td>0.662</td>\n",
       "      <td>0.595</td>\n",
       "    </tr>\n",
       "    <tr>\n",
       "      <th>13</th>\n",
       "      <td>0.880</td>\n",
       "      <td>0.866</td>\n",
       "      <td>1.786</td>\n",
       "      <td>1.811</td>\n",
       "      <td>0.810</td>\n",
       "      <td>0.819</td>\n",
       "    </tr>\n",
       "    <tr>\n",
       "      <th>14</th>\n",
       "      <td>0.900</td>\n",
       "      <td>0.838</td>\n",
       "      <td>1.902</td>\n",
       "      <td>1.606</td>\n",
       "      <td>0.723</td>\n",
       "      <td>0.677</td>\n",
       "    </tr>\n",
       "    <tr>\n",
       "      <th>15</th>\n",
       "      <td>0.764</td>\n",
       "      <td>0.757</td>\n",
       "      <td>1.743</td>\n",
       "      <td>1.794</td>\n",
       "      <td>0.586</td>\n",
       "      <td>0.541</td>\n",
       "    </tr>\n",
       "    <tr>\n",
       "      <th>16</th>\n",
       "      <td>0.733</td>\n",
       "      <td>0.748</td>\n",
       "      <td>1.863</td>\n",
       "      <td>1.869</td>\n",
       "      <td>0.672</td>\n",
       "      <td>0.752</td>\n",
       "    </tr>\n",
       "    <tr>\n",
       "      <th>17</th>\n",
       "      <td>0.932</td>\n",
       "      <td>0.898</td>\n",
       "      <td>2.028</td>\n",
       "      <td>2.032</td>\n",
       "      <td>0.836</td>\n",
       "      <td>0.805</td>\n",
       "    </tr>\n",
       "    <tr>\n",
       "      <th>18</th>\n",
       "      <td>0.856</td>\n",
       "      <td>0.786</td>\n",
       "      <td>1.390</td>\n",
       "      <td>1.324</td>\n",
       "      <td>0.578</td>\n",
       "      <td>0.610</td>\n",
       "    </tr>\n",
       "    <tr>\n",
       "      <th>19</th>\n",
       "      <td>0.890</td>\n",
       "      <td>0.950</td>\n",
       "      <td>2.187</td>\n",
       "      <td>2.087</td>\n",
       "      <td>0.758</td>\n",
       "      <td>0.718</td>\n",
       "    </tr>\n",
       "    <tr>\n",
       "      <th>20</th>\n",
       "      <td>0.688</td>\n",
       "      <td>0.532</td>\n",
       "      <td>1.650</td>\n",
       "      <td>1.378</td>\n",
       "      <td>0.533</td>\n",
       "      <td>0.482</td>\n",
       "    </tr>\n",
       "    <tr>\n",
       "      <th>21</th>\n",
       "      <td>0.940</td>\n",
       "      <td>0.850</td>\n",
       "      <td>2.334</td>\n",
       "      <td>2.225</td>\n",
       "      <td>0.757</td>\n",
       "      <td>0.731</td>\n",
       "    </tr>\n",
       "    <tr>\n",
       "      <th>22</th>\n",
       "      <td>0.493</td>\n",
       "      <td>0.616</td>\n",
       "      <td>1.037</td>\n",
       "      <td>1.268</td>\n",
       "      <td>0.546</td>\n",
       "      <td>0.615</td>\n",
       "    </tr>\n",
       "    <tr>\n",
       "      <th>23</th>\n",
       "      <td>0.835</td>\n",
       "      <td>0.752</td>\n",
       "      <td>1.509</td>\n",
       "      <td>1.422</td>\n",
       "      <td>0.618</td>\n",
       "      <td>0.664</td>\n",
       "    </tr>\n",
       "    <tr>\n",
       "      <th>24</th>\n",
       "      <td>0.915</td>\n",
       "      <td>0.936</td>\n",
       "      <td>1.971</td>\n",
       "      <td>1.869</td>\n",
       "      <td>0.869</td>\n",
       "      <td>0.868</td>\n",
       "    </tr>\n",
       "  </tbody>\n",
       "</table>\n",
       "</div>"
      ],
      "text/plain": [
       "    D.radius  Radius  D.humerus  Humerus  D.ulna   Ulna\n",
       "0      1.103   1.052      2.139    2.238   0.873  0.872\n",
       "1      0.842   0.859      1.873    1.741   0.590  0.744\n",
       "2      0.925   0.873      1.887    1.809   0.767  0.713\n",
       "3      0.857   0.744      1.739    1.547   0.706  0.674\n",
       "4      0.795   0.809      1.734    1.715   0.549  0.654\n",
       "5      0.787   0.779      1.509    1.474   0.782  0.571\n",
       "6      0.933   0.880      1.695    1.656   0.737  0.803\n",
       "7      0.799   0.851      1.740    1.777   0.618  0.682\n",
       "8      0.945   0.876      1.811    1.759   0.853  0.777\n",
       "9      0.921   0.906      1.954    2.009   0.823  0.765\n",
       "10     0.792   0.825      1.624    1.657   0.686  0.668\n",
       "11     0.815   0.751      2.204    1.846   0.678  0.546\n",
       "12     0.755   0.724      1.508    1.458   0.662  0.595\n",
       "13     0.880   0.866      1.786    1.811   0.810  0.819\n",
       "14     0.900   0.838      1.902    1.606   0.723  0.677\n",
       "15     0.764   0.757      1.743    1.794   0.586  0.541\n",
       "16     0.733   0.748      1.863    1.869   0.672  0.752\n",
       "17     0.932   0.898      2.028    2.032   0.836  0.805\n",
       "18     0.856   0.786      1.390    1.324   0.578  0.610\n",
       "19     0.890   0.950      2.187    2.087   0.758  0.718\n",
       "20     0.688   0.532      1.650    1.378   0.533  0.482\n",
       "21     0.940   0.850      2.334    2.225   0.757  0.731\n",
       "22     0.493   0.616      1.037    1.268   0.546  0.615\n",
       "23     0.835   0.752      1.509    1.422   0.618  0.664\n",
       "24     0.915   0.936      1.971    1.869   0.869  0.868"
      ]
     },
     "execution_count": 8,
     "metadata": {},
     "output_type": "execute_result"
    }
   ],
   "source": [
    "# 파일 불러오기\n",
    "X = pd.DataFrame( np.loadtxt('../data/T1-8.DAT', unpack = True).T,columns=['D.radius','Radius','D.humerus','Humerus','D.ulna','Ulna'] )\n",
    "X"
   ]
  },
  {
   "cell_type": "code",
   "execution_count": 9,
   "id": "e0b0e80b",
   "metadata": {},
   "outputs": [
    {
     "data": {
      "text/plain": [
       "<seaborn.axisgrid.PairGrid at 0x20a4684b788>"
      ]
     },
     "execution_count": 9,
     "metadata": {},
     "output_type": "execute_result"
    },
    {
     "data": {
      "image/png": "[encoded data removed]",
      "text/plain": [
       "<Figure size 1080x1080 with 42 Axes>"
      ]
     },
     "metadata": {},
     "output_type": "display_data"
    }
   ],
   "source": [
    "sns.pairplot(X)"
   ]
  },
  {
   "cell_type": "markdown",
   "id": "0d61a268",
   "metadata": {},
   "source": [
    "RADIUS, HUMERUS , uLna 간에 모두 양의 상관관계를 보인다"
   ]
  },
  {
   "cell_type": "code",
   "execution_count": 10,
   "id": "e451ba67",
   "metadata": {},
   "outputs": [
    {
     "name": "stdout",
     "output_type": "stream",
     "text": [
      "x_bar :  [0.8438  0.81832 1.79268 1.73484 0.7044  0.69384]\n"
     ]
    }
   ],
   "source": [
    "print(\"x_bar : \",np.array(X).mean(axis=0) )"
   ]
  },
  {
   "cell_type": "code",
   "execution_count": 11,
   "id": "00cfcdd5",
   "metadata": {},
   "outputs": [
    {
     "name": "stdout",
     "output_type": "stream",
     "text": [
      "S_n(공분산 행렬) : \n",
      "           D.radius    Radius  D.humerus   Humerus    D.ulna      Ulna\n",
      "D.radius   0.013002  0.010378   0.022350  0.020086  0.009121  0.007958\n",
      "Radius     0.010378  0.011418   0.018535  0.021100  0.008530  0.008909\n",
      "D.humerus  0.022350  0.018535   0.080357  0.066776  0.016837  0.012847\n",
      "Humerus    0.020086  0.021100   0.066776  0.069484  0.017735  0.016794\n",
      "D.ulna     0.009121  0.008530   0.016837  0.017735  0.011568  0.008071\n",
      "Ulna       0.007958  0.008909   0.012847  0.016794  0.008071  0.010599\n"
     ]
    }
   ],
   "source": [
    "print(\"S_n(공분산 행렬) : \")\n",
    "print(X.cov())"
   ]
  },
  {
   "cell_type": "code",
   "execution_count": 12,
   "id": "91806c8c",
   "metadata": {},
   "outputs": [
    {
     "name": "stdout",
     "output_type": "stream",
     "text": [
      "Sample Correlation R : \n",
      "           D.radius    Radius  D.humerus   Humerus    D.ulna      Ulna\n",
      "D.radius   1.000000  0.851807   0.691459  0.668258  0.743693  0.677894\n",
      "Radius     0.851807  1.000000   0.611916  0.749093  0.742178  0.809798\n",
      "D.humerus  0.691459  0.611916   1.000000  0.893646  0.552222  0.440205\n",
      "Humerus    0.668258  0.749093   0.893646  1.000000  0.625550  0.618820\n",
      "D.ulna     0.743693  0.742178   0.552222  0.625550  1.000000  0.728892\n",
      "Ulna       0.677894  0.809798   0.440205  0.618820  0.728892  1.000000\n"
     ]
    }
   ],
   "source": [
    "print(\"Sample Correlation R : \")\n",
    "print(X.corr())"
   ]
  },
  {
   "cell_type": "markdown",
   "id": "f4423250",
   "metadata": {},
   "source": [
    "# 문제 3.\n",
    "\n",
    "-  (a) scatter plot과 r\n",
    "-  (b) 세 개의 outlier 제거와, r\n",
    "-  (c) m^2 로 바뀔시 상관계수와 그 이유"
   ]
  },
  {
   "cell_type": "code",
   "execution_count": 4,
   "id": "7dd0f3c9",
   "metadata": {},
   "outputs": [
    {
     "data": {
      "text/html": [
       "<div>\n",
       "<style scoped>\n",
       "    .dataframe tbody tr th:only-of-type {\n",
       "        vertical-align: middle;\n",
       "    }\n",
       "\n",
       "    .dataframe tbody tr th {\n",
       "        vertical-align: top;\n",
       "    }\n",
       "\n",
       "    .dataframe thead th {\n",
       "        text-align: right;\n",
       "    }\n",
       "</style>\n",
       "<table border=\"1\" class=\"dataframe\">\n",
       "  <thead>\n",
       "    <tr style=\"text-align: right;\">\n",
       "      <th></th>\n",
       "      <th>millions</th>\n",
       "      <th>acres</th>\n",
       "    </tr>\n",
       "  </thead>\n",
       "  <tbody>\n",
       "    <tr>\n",
       "      <th>0</th>\n",
       "      <td>47.4</td>\n",
       "      <td>2.05</td>\n",
       "    </tr>\n",
       "    <tr>\n",
       "      <th>1</th>\n",
       "      <td>35.8</td>\n",
       "      <td>1.02</td>\n",
       "    </tr>\n",
       "    <tr>\n",
       "      <th>2</th>\n",
       "      <td>32.9</td>\n",
       "      <td>2.53</td>\n",
       "    </tr>\n",
       "    <tr>\n",
       "      <th>3</th>\n",
       "      <td>1508.5</td>\n",
       "      <td>1.23</td>\n",
       "    </tr>\n",
       "    <tr>\n",
       "      <th>4</th>\n",
       "      <td>1217.4</td>\n",
       "      <td>4.40</td>\n",
       "    </tr>\n",
       "    <tr>\n",
       "      <th>5</th>\n",
       "      <td>310.0</td>\n",
       "      <td>2.46</td>\n",
       "    </tr>\n",
       "    <tr>\n",
       "      <th>6</th>\n",
       "      <td>521.8</td>\n",
       "      <td>9.19</td>\n",
       "    </tr>\n",
       "    <tr>\n",
       "      <th>7</th>\n",
       "      <td>5.6</td>\n",
       "      <td>1.34</td>\n",
       "    </tr>\n",
       "    <tr>\n",
       "      <th>8</th>\n",
       "      <td>922.7</td>\n",
       "      <td>3.14</td>\n",
       "    </tr>\n",
       "    <tr>\n",
       "      <th>9</th>\n",
       "      <td>235.6</td>\n",
       "      <td>1.17</td>\n",
       "    </tr>\n",
       "    <tr>\n",
       "      <th>10</th>\n",
       "      <td>265.8</td>\n",
       "      <td>2.80</td>\n",
       "    </tr>\n",
       "    <tr>\n",
       "      <th>11</th>\n",
       "      <td>199.0</td>\n",
       "      <td>1.09</td>\n",
       "    </tr>\n",
       "    <tr>\n",
       "      <th>12</th>\n",
       "      <td>2219.8</td>\n",
       "      <td>2.84</td>\n",
       "    </tr>\n",
       "    <tr>\n",
       "      <th>13</th>\n",
       "      <td>761.3</td>\n",
       "      <td>3.30</td>\n",
       "    </tr>\n",
       "    <tr>\n",
       "      <th>14</th>\n",
       "      <td>146.6</td>\n",
       "      <td>2.59</td>\n",
       "    </tr>\n",
       "  </tbody>\n",
       "</table>\n",
       "</div>"
      ],
      "text/plain": [
       "    millions  acres\n",
       "0       47.4   2.05\n",
       "1       35.8   1.02\n",
       "2       32.9   2.53\n",
       "3     1508.5   1.23\n",
       "4     1217.4   4.40\n",
       "5      310.0   2.46\n",
       "6      521.8   9.19\n",
       "7        5.6   1.34\n",
       "8      922.7   3.14\n",
       "9      235.6   1.17\n",
       "10     265.8   2.80\n",
       "11     199.0   1.09\n",
       "12    2219.8   2.84\n",
       "13     761.3   3.30\n",
       "14     146.6   2.59"
      ]
     },
     "execution_count": 4,
     "metadata": {},
     "output_type": "execute_result"
    }
   ],
   "source": [
    "# 파일 불러오기\n",
    "X = pd.DataFrame( np.loadtxt('../data/T1-11.DAT', unpack = True).T,columns=['millions','acres'] )\n",
    "X"
   ]
  },
  {
   "cell_type": "code",
   "execution_count": 5,
   "id": "f49b82d1",
   "metadata": {
    "scrolled": false
   },
   "outputs": [
    {
     "data": {
      "text/plain": [
       "Text(0, 0.5, 'acres')"
      ]
     },
     "execution_count": 5,
     "metadata": {},
     "output_type": "execute_result"
    },
    {
     "data": {
      "image/png": "[encoded data removed]",
      "text/plain": [
       "<Figure size 432x288 with 1 Axes>"
      ]
     },
     "metadata": {},
     "output_type": "display_data"
    }
   ],
   "source": [
    "plt.scatter(X['millions'],X['acres'])\n",
    "plt.xlabel(\"millions\")\n",
    "plt.ylabel(\"acres\")\n"
   ]
  },
  {
   "cell_type": "code",
   "execution_count": 6,
   "id": "6b1cfa4e",
   "metadata": {},
   "outputs": [
    {
     "name": "stdout",
     "output_type": "stream",
     "text": [
      "상관계수 :  0.1725274227916501\n"
     ]
    }
   ],
   "source": [
    "r=X.corr()[\"acres\"][0]\n",
    "print(\"상관계수 : \",r)\n",
    "#이상치 때문에 상관계수가 낮은것으로 생각된다.\n",
    "#scatter plot에서는 outlier 1개, leverage 2개로 관측됨."
   ]
  },
  {
   "cell_type": "markdown",
   "id": "3be79e5b",
   "metadata": {},
   "source": [
    "- outlier 제거와 r"
   ]
  },
  {
   "cell_type": "code",
   "execution_count": 7,
   "id": "c6f590c4",
   "metadata": {},
   "outputs": [
    {
     "data": {
      "text/plain": [
       "{'whiskers': [<matplotlib.lines.Line2D at 0x2f91f6f0448>,\n",
       "  <matplotlib.lines.Line2D at 0x2f91f6f0c08>],\n",
       " 'caps': [<matplotlib.lines.Line2D at 0x2f91f6f0388>,\n",
       "  <matplotlib.lines.Line2D at 0x2f91f6b3fc8>],\n",
       " 'boxes': [<matplotlib.lines.Line2D at 0x2f91f6e9ac8>],\n",
       " 'medians': [<matplotlib.lines.Line2D at 0x2f91f69ed88>],\n",
       " 'fliers': [<matplotlib.lines.Line2D at 0x2f91f6f05c8>],\n",
       " 'means': []}"
      ]
     },
     "execution_count": 7,
     "metadata": {},
     "output_type": "execute_result"
    },
    {
     "data": {
      "image/png": "[encoded data removed]",
      "text/plain": [
       "<Figure size 432x288 with 2 Axes>"
      ]
     },
     "metadata": {},
     "output_type": "display_data"
    }
   ],
   "source": [
    "plt.subplot(1,2,1)\n",
    "plt.boxplot(X['millions'])\n",
    "plt.subplot(1,2,2)\n",
    "plt.boxplot(X['acres'])"
   ]
  },
  {
   "cell_type": "code",
   "execution_count": 8,
   "id": "e35eaec2",
   "metadata": {},
   "outputs": [
    {
     "data": {
      "text/html": [
       "<div>\n",
       "<style scoped>\n",
       "    .dataframe tbody tr th:only-of-type {\n",
       "        vertical-align: middle;\n",
       "    }\n",
       "\n",
       "    .dataframe tbody tr th {\n",
       "        vertical-align: top;\n",
       "    }\n",
       "\n",
       "    .dataframe thead th {\n",
       "        text-align: right;\n",
       "    }\n",
       "</style>\n",
       "<table border=\"1\" class=\"dataframe\">\n",
       "  <thead>\n",
       "    <tr style=\"text-align: right;\">\n",
       "      <th></th>\n",
       "      <th>millions</th>\n",
       "      <th>acres</th>\n",
       "    </tr>\n",
       "  </thead>\n",
       "  <tbody>\n",
       "    <tr>\n",
       "      <th>3</th>\n",
       "      <td>1508.5</td>\n",
       "      <td>1.23</td>\n",
       "    </tr>\n",
       "    <tr>\n",
       "      <th>6</th>\n",
       "      <td>521.8</td>\n",
       "      <td>9.19</td>\n",
       "    </tr>\n",
       "    <tr>\n",
       "      <th>12</th>\n",
       "      <td>2219.8</td>\n",
       "      <td>2.84</td>\n",
       "    </tr>\n",
       "  </tbody>\n",
       "</table>\n",
       "</div>"
      ],
      "text/plain": [
       "    millions  acres\n",
       "3     1508.5   1.23\n",
       "6      521.8   9.19\n",
       "12    2219.8   2.84"
      ]
     },
     "execution_count": 8,
     "metadata": {},
     "output_type": "execute_result"
    }
   ],
   "source": [
    "term1= X['millions']>1500\n",
    "term2 =X['acres']>5\n",
    "\n",
    "X[ term1 | term2]\n",
    "#outlier 3개"
   ]
  },
  {
   "cell_type": "code",
   "execution_count": 9,
   "id": "353072c7",
   "metadata": {},
   "outputs": [
    {
     "data": {
      "text/plain": [
       "Text(0, 0.5, 'acres')"
      ]
     },
     "execution_count": 9,
     "metadata": {},
     "output_type": "execute_result"
    },
    {
     "data": {
      "image/png": "[encoded data removed]",
      "text/plain": [
       "<Figure size 432x288 with 1 Axes>"
      ]
     },
     "metadata": {},
     "output_type": "display_data"
    }
   ],
   "source": [
    "X=X.loc[(X['millions']<1500) & (X['acres']<5) ]\n",
    "X=X.reset_index(drop=True)\n",
    "plt.scatter(X['millions'],X['acres'])\n",
    "plt.xlabel(\"millions\")\n",
    "plt.ylabel(\"acres\")"
   ]
  },
  {
   "cell_type": "code",
   "execution_count": 10,
   "id": "bc9ffecd",
   "metadata": {},
   "outputs": [
    {
     "name": "stdout",
     "output_type": "stream",
     "text": [
      "outlier가 없는 상관계수 r :  0.8024842602787746\n"
     ]
    }
   ],
   "source": [
    "r=X.corr()['acres'][0]\n",
    "print(\"outlier가 없는 상관계수 r : \",r)"
   ]
  },
  {
   "attachments": {
    "image.png": {
     "image/png": "[encoded data removed]"
    }
   },
   "cell_type": "markdown",
   "id": "f85e927b",
   "metadata": {},
   "source": [
    "- acres^2 시 상관계수\n",
    "\n",
    "![image.png](attachment:image.png)\n",
    "\n",
    "상관계수는 scale(단위)에는 불변하다.\n",
    "\n",
    "scale은 서로 상쇄돼기 때문이다.\n",
    "\n",
    "acres와 m^2이 서로간에 상수를 곱하여 변환이 된다면, 상쇄될 것이다.\n",
    "\n",
    "그래서, 변하지 않을 것으로 생각된다.\n"
   ]
  },
  {
   "cell_type": "code",
   "execution_count": 20,
   "id": "ce68e58e",
   "metadata": {},
   "outputs": [
    {
     "name": "stdout",
     "output_type": "stream",
     "text": [
      "데이터 변환시 상관계수 r :  0.8024842602787746\n"
     ]
    }
   ],
   "source": [
    "X['acres']=X['acres']*4046.9\n",
    "r=X.corr()['acres'][0]\n",
    "print(\"데이터 변환시 상관계수 r : \",r)"
   ]
  },
  {
   "cell_type": "markdown",
   "id": "3418e581",
   "metadata": {},
   "source": [
    "결과 변하지 않았다."
   ]
  },
  {
   "cell_type": "markdown",
   "id": "fd1c26c6",
   "metadata": {},
   "source": [
    "### 문제 4번 부터는 손풀이"
   ]
  }
 ],
 "metadata": {
  "kernelspec": {
   "display_name": "Python 3 (ipykernel)",
   "language": "python",
   "name": "python3"
  },
  "language_info": {
   "codemirror_mode": {
    "name": "ipython",
    "version": 3
   },
   "file_extension": ".py",
   "mimetype": "text/x-python",
   "name": "python",
   "nbconvert_exporter": "python",
   "pygments_lexer": "ipython3",
   "version": "3.7.10"
  }
 },
 "nbformat": 4,
 "nbformat_minor": 5
}
