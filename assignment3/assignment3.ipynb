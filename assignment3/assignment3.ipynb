{
 "cells": [
  {
   "cell_type": "markdown",
   "id": "1a65fa04",
   "metadata": {},
   "source": [
    "# 과제3\n",
    "\n",
    "## 12171676 이종법 컴퓨터공학과\n",
    "\n"
   ]
  },
  {
   "cell_type": "code",
   "execution_count": 1,
   "id": "f2fbcf91",
   "metadata": {},
   "outputs": [],
   "source": [
    "import matplotlib.pyplot as plt\n",
    "import numpy as np\n",
    "import pandas as pd\n",
    "import os\n",
    "from glob import glob\n",
    "import sys\n",
    "\n",
    "import scipy.stats as stats # qqplot에 사용"
   ]
  },
  {
   "cell_type": "code",
   "execution_count": 2,
   "id": "4a3372a0",
   "metadata": {},
   "outputs": [],
   "source": [
    "#시각화 패키지들\n",
    "import seaborn as sns\n",
    "import matplotlib.pyplot as plt\n",
    "%matplotlib inline\n",
    "\n",
    "plt.style.use(\"ggplot\")"
   ]
  },
  {
   "cell_type": "code",
   "execution_count": 5,
   "id": "9087c391",
   "metadata": {},
   "outputs": [
    {
     "data": {
      "text/html": [
       "<div>\n",
       "<style scoped>\n",
       "    .dataframe tbody tr th:only-of-type {\n",
       "        vertical-align: middle;\n",
       "    }\n",
       "\n",
       "    .dataframe tbody tr th {\n",
       "        vertical-align: top;\n",
       "    }\n",
       "\n",
       "    .dataframe thead th {\n",
       "        text-align: right;\n",
       "    }\n",
       "</style>\n",
       "<table border=\"1\" class=\"dataframe\">\n",
       "  <thead>\n",
       "    <tr style=\"text-align: right;\">\n",
       "      <th></th>\n",
       "      <th>x1</th>\n",
       "      <th>x2</th>\n",
       "      <th>x3</th>\n",
       "      <th>x4</th>\n",
       "      <th>x5</th>\n",
       "      <th>x6</th>\n",
       "      <th>x7</th>\n",
       "    </tr>\n",
       "  </thead>\n",
       "  <tbody>\n",
       "    <tr>\n",
       "      <th>0</th>\n",
       "      <td>8.0</td>\n",
       "      <td>98.0</td>\n",
       "      <td>7.0</td>\n",
       "      <td>2.0</td>\n",
       "      <td>12.0</td>\n",
       "      <td>8.0</td>\n",
       "      <td>2.0</td>\n",
       "    </tr>\n",
       "    <tr>\n",
       "      <th>1</th>\n",
       "      <td>7.0</td>\n",
       "      <td>107.0</td>\n",
       "      <td>4.0</td>\n",
       "      <td>3.0</td>\n",
       "      <td>9.0</td>\n",
       "      <td>5.0</td>\n",
       "      <td>3.0</td>\n",
       "    </tr>\n",
       "    <tr>\n",
       "      <th>2</th>\n",
       "      <td>7.0</td>\n",
       "      <td>103.0</td>\n",
       "      <td>4.0</td>\n",
       "      <td>3.0</td>\n",
       "      <td>5.0</td>\n",
       "      <td>6.0</td>\n",
       "      <td>3.0</td>\n",
       "    </tr>\n",
       "    <tr>\n",
       "      <th>3</th>\n",
       "      <td>10.0</td>\n",
       "      <td>88.0</td>\n",
       "      <td>5.0</td>\n",
       "      <td>2.0</td>\n",
       "      <td>8.0</td>\n",
       "      <td>15.0</td>\n",
       "      <td>4.0</td>\n",
       "    </tr>\n",
       "    <tr>\n",
       "      <th>4</th>\n",
       "      <td>6.0</td>\n",
       "      <td>91.0</td>\n",
       "      <td>4.0</td>\n",
       "      <td>2.0</td>\n",
       "      <td>8.0</td>\n",
       "      <td>10.0</td>\n",
       "      <td>3.0</td>\n",
       "    </tr>\n",
       "  </tbody>\n",
       "</table>\n",
       "</div>"
      ],
      "text/plain": [
       "     x1     x2   x3   x4    x5    x6   x7\n",
       "0   8.0   98.0  7.0  2.0  12.0   8.0  2.0\n",
       "1   7.0  107.0  4.0  3.0   9.0   5.0  3.0\n",
       "2   7.0  103.0  4.0  3.0   5.0   6.0  3.0\n",
       "3  10.0   88.0  5.0  2.0   8.0  15.0  4.0\n",
       "4   6.0   91.0  4.0  2.0   8.0  10.0  3.0"
      ]
     },
     "execution_count": 5,
     "metadata": {},
     "output_type": "execute_result"
    }
   ],
   "source": [
    "X = pd.DataFrame( np.loadtxt('../data/T1-5.DAT', unpack = True).T,columns=['x1','x2','x3','x4','x5','x6','x7'] )\n",
    "X.head()"
   ]
  },
  {
   "cell_type": "markdown",
   "id": "618db162",
   "metadata": {},
   "source": [
    "# 문제 1\n",
    "\n",
    "- T1-5 자료에서 PCA 수행\n",
    "\n",
    "```\n",
    "x1 : wind, x2 : solar, x3: CO, x4:NO, x5:NO2, X6:NO2, X7:HC\n",
    "\n",
    "```"
   ]
  },
  {
   "cell_type": "markdown",
   "id": "1a949730",
   "metadata": {},
   "source": [
    "## 1-a.\n",
    "\n",
    "x_bar 와 S를 구하고, 눈에 띄는 변수 설명 "
   ]
  },
  {
   "cell_type": "code",
   "execution_count": 29,
   "id": "42c5aafa",
   "metadata": {},
   "outputs": [
    {
     "name": "stdout",
     "output_type": "stream",
     "text": [
      "표본 평균 :\n",
      " x1     7.500000\n",
      "x2    73.857143\n",
      "x3     4.547619\n",
      "x4     2.190476\n",
      "x5    10.047619\n",
      "x6     9.404762\n",
      "x7     3.095238\n",
      "dtype: float64\n",
      "표본 공분산 :\n",
      "           x1          x2        x3        x4         x5         x6        x7\n",
      "x1  2.500000   -2.780488 -0.378049 -0.463415  -0.585366  -2.231707  0.170732\n",
      "x2 -2.780488  300.515679  3.909408 -1.386760   6.763066  30.790941  0.623693\n",
      "x3 -0.378049    3.909408  1.522067  0.673635   2.314750   2.821719  0.141696\n",
      "x4 -0.463415   -1.386760  0.673635  1.182346   1.088269  -0.810685  0.176539\n",
      "x5 -0.585366    6.763066  2.314750  1.088269  11.363531   3.126597  1.044135\n",
      "x6 -2.231707   30.790941  2.821719 -0.810685   3.126597  30.978513  0.594657\n",
      "x7  0.170732    0.623693  0.141696  0.176539   1.044135   0.594657  0.478513\n"
     ]
    }
   ],
   "source": [
    "x_bar = X.mean(axis=0)\n",
    "x_s = X.cov()\n",
    "print('표본 평균 :\\n',x_bar)\n",
    "print(\"표본 공분산 :\\n\",x_s)"
   ]
  },
  {
   "cell_type": "markdown",
   "id": "8e8fdd9b",
   "metadata": {},
   "source": [
    "x2의 평균 및 분산이 매우 큰것을 관측 할 수 있다. 단위가 다른 것과 크게 다른것으로 생각된다.\n",
    "\n",
    "그 다음으로는  X6,X5도 비교적 큰것을 확인할 수 있다."
   ]
  },
  {
   "cell_type": "markdown",
   "id": "aa8c8700",
   "metadata": {},
   "source": [
    "## 1-b.\n",
    "\n",
    "S를 이용하여 주성분 분석을하고, 전체 분산의 95% 이상을 설명하는 최소 주성분 갯수를 누적비율을 이용해 찾고 과정 설명.\n"
   ]
  },
  {
   "cell_type": "code",
   "execution_count": 30,
   "id": "152cddab",
   "metadata": {},
   "outputs": [
    {
     "name": "stdout",
     "output_type": "stream",
     "text": [
      "2개의 주성분을 사용하여, 분산 설명 비율:  0.9540751366856778\n"
     ]
    },
    {
     "data": {
      "image/png": "[encoded data removed]",
      "text/plain": [
       "<Figure size 432x288 with 1 Axes>"
      ]
     },
     "metadata": {},
     "output_type": "display_data"
    }
   ],
   "source": [
    "eig_vals,eig_vecs =np.linalg.eig(x_s)\n",
    "print(\"2개의 주성분을 사용하여, 분산 설명 비율: \", np.sum(eig_vals[0:2])/np.sum(eig_vals))\n",
    "\n",
    "PCA=X.dot(eig_vecs[0:2].T)\n",
    "\n",
    "plt.scatter(PCA.iloc[:,0],PCA.iloc[:,1])\n",
    "plt.show()"
   ]
  },
  {
   "cell_type": "markdown",
   "id": "e81e012e",
   "metadata": {},
   "source": [
    "과정.\n",
    "1. 표본 공분산에서, spectral decomposition 했을때, eigen vector들이 PC Direction이다.\n",
    "2. eigen value의 누적비율을 통해 분산을 설명하는 비율을 찾을 수 있다. 여기서는 주성분 2개를 사용하면, 95%이상을 설명할 수 있다.\n",
    "3. PC direction * X 가 주성분이 된다.\n"
   ]
  },
  {
   "cell_type": "markdown",
   "id": "f8db849a",
   "metadata": {},
   "source": [
    "## 1-c.\n",
    "\n",
    "표본상관행렬 R을 이용하여 주성분분석. 1,2번 주성분 설명. \n"
   ]
  },
  {
   "cell_type": "code",
   "execution_count": 36,
   "id": "613fdcae",
   "metadata": {},
   "outputs": [
    {
     "name": "stdout",
     "output_type": "stream",
     "text": [
      "PC 1,2 Directions :\n",
      " [[ 0.23682109 -0.24146701  0.27844514 -0.64347435  0.22357922 -0.56053441\n",
      "   0.17271949]\n",
      " [-0.20556654 -0.01126548 -0.52661387 -0.22446898  0.00570085  0.15613432\n",
      "   0.7781366 ]]\n"
     ]
    },
    {
     "data": {
      "image/png": "[encoded data removed]",
      "text/plain": [
       "<Figure size 432x288 with 1 Axes>"
      ]
     },
     "metadata": {},
     "output_type": "display_data"
    }
   ],
   "source": [
    "x_R = X.corr()\n",
    "eig_vals,eig_vecs =np.linalg.eig(x_R)\n",
    "\n",
    "print('PC 1,2 Directions :\\n',eig_vecs[0:2])\n",
    "\n",
    "PCA=X.dot(eig_vecs[0:2].T)\n",
    "\n",
    "plt.scatter(PCA.iloc[:,0],PCA.iloc[:,1])\n",
    "plt.show()"
   ]
  },
  {
   "cell_type": "markdown",
   "id": "52d80438",
   "metadata": {},
   "source": [
    "First PC Y1 :\n",
    "```\n",
    "0.23682109 * X1 -0.24146701 * X2 + 0.27844514 * X3 -0.64347435 * X4 + 0.22357922 * X5 -0.56053441 * X6 + 0.17271949 * X7\n",
    "```\n",
    "Y1은  (X1+X3+X5+X7)과 (X2+X4+X6)의 차를 뜻한다. \n"
   ]
  },
  {
   "cell_type": "markdown",
   "id": "466ad4d0",
   "metadata": {},
   "source": [
    "Second PC Y2 :\n",
    "```\n",
    "-0.20556654*X1 -0.01126548*X2 -0.52661387*X3 -0.22446898*X4 + 0.00570085*X5 + 0.15613432*X6 + 0.7781366*X7\n",
    "```\n",
    "\n",
    "Y2는 (X5+X6+X7)과 (X1,X2,X3,X4)의 차를 뜻한다.\n"
   ]
  },
  {
   "cell_type": "markdown",
   "id": "e58c7e48",
   "metadata": {},
   "source": [
    "## 1-d.\n",
    "\n",
    "표본상관행렬 R을 이용하여 주성분분석. 첫 3개의 주성분으로 분산 비율 설명. S를 이용했을 때와 차이 설명\n",
    "\n",
    "\n"
   ]
  },
  {
   "cell_type": "code",
   "execution_count": 43,
   "id": "5f45df30",
   "metadata": {},
   "outputs": [
    {
     "name": "stdout",
     "output_type": "stream",
     "text": [
      "3개의 주성분을 사용하여, 분산 설명 비율:  0.5540974651908922\n"
     ]
    }
   ],
   "source": [
    "x_R = X.corr()\n",
    "eig_vals,eig_vecs =np.linalg.eig(x_R)\n",
    "\n",
    "print(\"3개의 주성분을 사용하여, 분산 설명 비율: \", np.sum(eig_vals[0:3])/7)\n"
   ]
  },
  {
   "cell_type": "markdown",
   "id": "75776d77",
   "metadata": {},
   "source": [
    "S를 이용해서 구했을때와 다르다. 이유는, R을 이용한 주성분분석은 표준화된 데이터에서 공분산을 이용해 분석하는것과 같기 때문이다."
   ]
  },
  {
   "cell_type": "code",
   "execution_count": null,
   "id": "b5a2d9ce",
   "metadata": {},
   "outputs": [],
   "source": []
  }
 ],
 "metadata": {
  "kernelspec": {
   "display_name": "Python 3 (ipykernel)",
   "language": "python",
   "name": "python3"
  },
  "language_info": {
   "codemirror_mode": {
    "name": "ipython",
    "version": 3
   },
   "file_extension": ".py",
   "mimetype": "text/x-python",
   "name": "python",
   "nbconvert_exporter": "python",
   "pygments_lexer": "ipython3",
   "version": "3.7.10"
  },
  "toc": {
   "base_numbering": 1,
   "nav_menu": {},
   "number_sections": true,
   "sideBar": true,
   "skip_h1_title": false,
   "title_cell": "Table of Contents",
   "title_sidebar": "Contents",
   "toc_cell": false,
   "toc_position": {},
   "toc_section_display": true,
   "toc_window_display": false
  }
 },
 "nbformat": 4,
 "nbformat_minor": 5
}
